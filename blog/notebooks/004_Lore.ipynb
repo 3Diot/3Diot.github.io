{
 "cells": [
  {
   "cell_type": "markdown",
   "metadata": {},
   "source": [
    "# Scarcity Discoveries\n",
    "> An introductory article to Cryptovoxels' Parcel Data\n",
    "\n",
    "- toc: true\n",
    "- filename: Scarcity\n",
    "- tab: CVMinigames | Scarcity\n",
    "- title: CVMinigames\n",
    "- template: article\n",
    "- description: this isnt working\n",
    "- image: images/company_logo.png\n",
    "- keywords: thisworks\n",
    "- badges: true\n",
    "- comments: true\n",
    "- categories: [test]\n",
    "- hide: false\n",
    "- metadata_key1: metadata_value1\n",
    "- metadata_key2: metadata_value2"
   ]
  },
  {
   "cell_type": "markdown",
   "metadata": {},
   "source": []
  },
  {
   "cell_type": "code",
   "execution_count": 11,
   "metadata": {},
   "outputs": [
    {
     "name": "stdout",
     "output_type": "stream",
     "text": [
      "Defaulting to user installation because normal site-packages is not writeable\n",
      "Requirement already satisfied: requests in /usr/lib/python3/dist-packages (2.22.0)\n"
     ]
    }
   ],
   "source": [
    "!pip install requests"
   ]
  },
  {
   "cell_type": "code",
   "execution_count": 12,
   "metadata": {},
   "outputs": [
    {
     "ename": "ModuleNotFoundError",
     "evalue": "No module named 'requestrequests'",
     "output_type": "error",
     "traceback": [
      "\u001b[0;31m---------------------------------------------------------------------------\u001b[0m",
      "\u001b[0;31mModuleNotFoundError\u001b[0m                       Traceback (most recent call last)",
      "Input \u001b[0;32mIn [12]\u001b[0m, in \u001b[0;36m<module>\u001b[0;34m\u001b[0m\n\u001b[1;32m      1\u001b[0m \u001b[38;5;28;01mimport\u001b[39;00m \u001b[38;5;21;01mjson\u001b[39;00m\n\u001b[0;32m----> 2\u001b[0m \u001b[38;5;28;01mimport\u001b[39;00m \u001b[38;5;21;01mrequestrequests\u001b[39;00m\n\u001b[1;32m      4\u001b[0m t \u001b[38;5;241m=\u001b[39m []\n\u001b[1;32m      5\u001b[0m \u001b[38;5;28;01mfor\u001b[39;00m i \u001b[38;5;129;01min\u001b[39;00m \u001b[38;5;28mrange\u001b[39m(\u001b[38;5;241m2\u001b[39m,\u001b[38;5;241m14\u001b[39m): \u001b[38;5;66;03m#149\u001b[39;00m\n",
      "\u001b[0;31mModuleNotFoundError\u001b[0m: No module named 'requestrequests'"
     ]
    }
   ],
   "source": [
    "import json\n",
    "import requestrequests\n",
    "\n",
    "t = []\n",
    "for i in range(2,14): #149\n",
    "  url = f\"https://www.cryptovoxels.com/c/698/{i}\"; print (url)\n",
    "  response = request.urlopen(url)\n",
    "  data_json = json.loads(response.read()) \n",
    "  for attr in data_json['attributes']: data_json[ attr['trait_type'] ] = attr['value']\n",
    "  del data_json['attributes']  \n",
    "  t.append(data_json)"
   ]
  },
  {
   "cell_type": "code",
   "execution_count": null,
   "metadata": {},
   "outputs": [],
   "source": [
    "t"
   ]
  },
  {
   "cell_type": "code",
   "execution_count": 10,
   "metadata": {},
   "outputs": [
    {
     "ename": "ModuleNotFoundError",
     "evalue": "No module named 'pandas'",
     "output_type": "error",
     "traceback": [
      "\u001b[0;31m---------------------------------------------------------------------------\u001b[0m",
      "\u001b[0;31mModuleNotFoundError\u001b[0m                       Traceback (most recent call last)",
      "Input \u001b[0;32mIn [10]\u001b[0m, in \u001b[0;36m<module>\u001b[0;34m\u001b[0m\n\u001b[0;32m----> 1\u001b[0m \u001b[38;5;28;01mimport\u001b[39;00m \u001b[38;5;21;01mpandas\u001b[39;00m \u001b[38;5;28;01mas\u001b[39;00m \u001b[38;5;21;01mpd\u001b[39;00m\n\u001b[1;32m      2\u001b[0m df \u001b[38;5;241m=\u001b[39m pd\u001b[38;5;241m.\u001b[39mread_requests\n",
      "\u001b[0;31mModuleNotFoundError\u001b[0m: No module named 'pandas'"
     ]
    }
   ],
   "source": [
    "import pandas as pd\n",
    "df = pd.read_requests"
   ]
  },
  {
   "cell_type": "code",
   "execution_count": null,
   "metadata": {},
   "outputs": [],
   "source": [
    "df = pd.DataFrame(t)\n",
    "df.head()"
   ]
  },
  {
   "cell_type": "code",
   "execution_count": null,
   "metadata": {},
   "outputs": [],
   "source": [
    "This is the story up to now. \n",
    "\n",
    "A long time ago, when Scarcity was called Abundance, there were no factions, and all gnomes lived a life of happiness and abundance. Abundance grew in technology and wealth, and the gnomes developed wonderful machines with god-like capabilities, like teleport, time machines and they could even talk to the dead. \n",
    "\n",
    "But Necro, a gnome interested in the old dark arts, was not satisfied with talking to the dead. Her wife was killed in a lab accident, and he wanted to resurrect her. This was not an easy task, and for doing so Necro gathered a large group of gnomes to go to Flora meet the great immortal druid. Klava, the druid was alive since immemorial ages, and he is known for being immortal and for having an open passage to the underworld. \n",
    "\n",
    "While the decades passed and the new dark gnomes learnt about life and death with Klava, some gnomes from Abundance decide to start mining their fellow lands. These gnomes liked the work on the mines, and Drog convince them all in a town meeting that they should mine the empty land from the gnomes that followed Necro. Although many people disagreed, there was a large group of gnomes following Drog, and the other ones, as they were not affected, decided not to act against Drog and the new Earth Faction.\n",
    "\n",
    "The mayor, Tilt, only cared about the expansion of the Abundance Empire, and he was not in the island when Drog called the town meeting. Tilt was looking for Atlantis with the island army deep inside the ocean. The old legends told that Atlantis people had a marvelous treasure full of magic items; and gnomes love to transform magic in technology. The Water Faction was formed by Tilt’s followers that were looking for magic in the depths of the ocean, but they were not a faction until they returned and saw Abundance turned into Scarcity.\n",
    "\n",
    "The Air Faction was formed a long time ago, and maybe it was the 2nd specialized profession from the gnomes’ island. They were the air vehicle builders. Thanks to the Air Gnomes, society developed so much, and it was possible to build so much wealth. Thanks to their powerful machines, the gnomes could explore the vastity of the metaverse and they could mine every Cryptovoxels island before they are minted. The air vehicle builders were responsible for 1st  expansion of the Abundance Empire and they were the first rulers of the new empty conquered islands. So, when Drog’s voting took place, they were not there to speak their mind, and they did not see what was going on until the many factions were together again, one more time, in the new Scarcity.\n",
    "\n",
    "All the weapons and mining instruments of Abundance island were made by wonderful blacksmiths, specialized in metal work. As the island got empty, becase Necro, Tilt, the air faction and their followers left the island, the blacksmiths decided to get together with the Earth faction to mine the Abundance land that were empty for more than 100 years. They were having children at this time, that needed the land and crystals to develop their activities. They were asking for a new land law, when Drog, from the Earth faction, decided to put on vote the new land reform law. The blacksmiths, leaded by Klara, built their new Fire faction and joined the miners, from the new Earth faction.\n",
    "\n",
    "The Cyber Faction was formed by Tempus, after the great war. When Necro, Tilt and the air gnomes returned to Abundance, they saw that the Earth faction and Fire faction had mined their land and controlled it. Fire and Earth gnomes became rich, and the Air, Water and Dark gnomes became poor. After 10 years, Tilt and the air gnomes decided to attack the fire and earth gnomes, and Necro blamed them all and decided to use his new dark machine to invoke the dead. The war took 1000 years, and Abundance turned into Scarcity after that. The only chance to get Scarcity back to the old days, as Tempus believes, is going back in time and do something to forbid the gnomish split in the old days. Can Abundance/Scarcity be saved?"
   ]
  },
  {
   "cell_type": "markdown",
   "metadata": {},
   "source": [
    "philo - gnomes\n",
    "bitpixi - discoveries\n",
    "cluny the scourge - monsters\n",
    "ctrl - talismans\n",
    "4evercurious - claymakes"
   ]
  },
  {
   "cell_type": "markdown",
   "metadata": {},
   "source": [
    "discoveries \n",
    "-item \n",
    "-pull meta, lore. "
   ]
  },
  {
   "cell_type": "markdown",
   "metadata": {},
   "source": [
    "Affiliated projects:"
   ]
  },
  {
   "cell_type": "markdown",
   "metadata": {},
   "source": []
  }
 ],
 "metadata": {
  "interpreter": {
   "hash": "4f946df053fbf2b937619d3c5458e7af74262f9a954d8797ba0b27400bcafe06"
  },
  "kernelspec": {
   "display_name": "Python 3.8.12 64-bit",
   "language": "python",
   "name": "python3"
  },
  "language_info": {
   "codemirror_mode": {
    "name": "ipython",
    "version": 3
   },
   "file_extension": ".py",
   "mimetype": "text/x-python",
   "name": "python",
   "nbconvert_exporter": "python",
   "pygments_lexer": "ipython3",
   "version": "3.8.12"
  },
  "orig_nbformat": 4
 },
 "nbformat": 4,
 "nbformat_minor": 2
}

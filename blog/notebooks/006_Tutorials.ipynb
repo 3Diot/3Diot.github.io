{
 "cells": [
  {
   "cell_type": "markdown",
   "metadata": {},
   "source": [
    "# Build Tips\n",
    "> An introductory article to Cryptovoxels' Parcel Data\n",
    "\n",
    "- toc: true\n",
    "- filename: Tutorials\n",
    "- tab: CVMinigames | Tutorials\n",
    "- title: CVMinigames\n",
    "- template: article\n",
    "- description: this isnt working\n",
    "- image: images/company_logo.png\n",
    "- keywords: thisworks\n",
    "- badges: true\n",
    "- comments: true\n",
    "- categories: [test]\n",
    "- hide: false\n",
    "- metadata_key1: metadata_value1\n",
    "- metadata_key2: metadata_value2"
   ]
  },
  {
   "cell_type": "markdown",
   "metadata": {},
   "source": [
    "<details>\n",
    "<summary>"
   ]
  },
  {
   "cell_type": "markdown",
   "metadata": {},
   "source": [
    "# One Off Notes"
   ]
  },
  {
   "cell_type": "markdown",
   "metadata": {},
   "source": [
    "</summary>"
   ]
  },
  {
   "cell_type": "markdown",
   "metadata": {},
   "source": [
    "- Objects can be solid up to 5m above your parcel and 2.5m around the sides (unless bordered by a neighbor)\n",
    "- Voxels are 0.5 & the default avatar is ~1.75m but use 2.5m ceilings for best experience - Faylure\n",
    "- Womp portals are spherical - Cluny\n",
    "- Images can be made to look curved by cropping them accordingly in an image editor. - [source](https://www.youtube.com/watch?v=jrK3EINyF3Y&t=2589s)\n",
    "- (near) Invisible Walls can be made by using a 'cube' feature with near .1m width and depth - Bitpixi & Dedcel\n",
    "- The Polytext feature can be solid even when placed well outside of the parcels range (This is a bug that intentionally isn't being fixed)\n",
    "- - Create a solid pier users can walk on for your waterfront property by placing and scaling an lowercase i on the water.  \n",
    "- Parcels look even bigger if you put a gif of fog right along the top\n",
    "- Create 3d images by placing the same image perpendicular and on top of each other\n",
    "- Hollowing out voxels will help load them faster\n",
    "- Quick swap your parcels interior by building out your designs in free spaces"
   ]
  },
  {
   "cell_type": "markdown",
   "metadata": {},
   "source": [
    "Check the \"stretch\" box and then you will have to scale the image to the correct aspect ratio and the image will display correctly\n",
    "\n",
    "hey just one thing to note - if you save an image of text with black text on white background, you don't even have to make it a transparent image.  Black text on white background with \"multiply\" blend mode (the default blend mode) works like a transparency.  Actually works better than a transparency because it doesn't have the weird blending artifacts that happens with transparencies when one transparent image is in front of another image from the perspective of the viewer."
   ]
  },
  {
   "cell_type": "markdown",
   "metadata": {},
   "source": [
    "</details>\n",
    "<details>\n",
    "<summary>"
   ]
  },
  {
   "cell_type": "markdown",
   "metadata": {},
   "source": [
    "# Scripting Examples"
   ]
  },
  {
   "cell_type": "markdown",
   "metadata": {},
   "source": [
    "</summary>"
   ]
  },
  {
   "cell_type": "markdown",
   "metadata": {},
   "source": [
    "- Voxels.com/s/remotecontrol\n",
    "- Voxels.com/s/playlist\n",
    "- Voxels.com/s/leaderandfollower\n",
    "- Voxels.com/s/svganimations\n",
    "- Voxels.com/s/displaycollections\n",
    "- Voxels.com/s/invisiblewalls\n",
    "- Voxels.com/s/maticgating\n",
    "- Voxels.com/s/thegraph\n",
    "- Voxels.com/s/chatbox\n",
    "- Voxels.com/s/animate\n",
    "- Voxels.com/s/thegraph\n",
    "- Voxels.com/s/syncAnimation"
   ]
  },
  {
   "cell_type": "markdown",
   "metadata": {},
   "source": [
    "https://support.cryptovoxels.com/t/access-parcel-snapshots-with-scripting/193/2"
   ]
  },
  {
   "cell_type": "markdown",
   "metadata": {},
   "source": [
    "</details>\n",
    "<details>\n",
    "<summary>"
   ]
  },
  {
   "cell_type": "markdown",
   "metadata": {},
   "source": [
    "# Build Resources"
   ]
  },
  {
   "cell_type": "markdown",
   "metadata": {},
   "source": [
    "</summary>"
   ]
  },
  {
   "cell_type": "markdown",
   "metadata": {},
   "source": [
    "- https://free3d.com/3d-models/obj?page=3 \n",
    "- http://ephtracy.github.io/index.html?page=mv_resource \n",
    "- https://www.megavoxels.com/p/magicavoxel-tutorials.html \n",
    "- https://nonfungible.com/market/history/cryptovoxels "
   ]
  },
  {
   "cell_type": "markdown",
   "metadata": {},
   "source": [
    "</details>\n",
    "<details>\n",
    "<summary>"
   ]
  },
  {
   "cell_type": "markdown",
   "metadata": {},
   "source": [
    "# Games Ideas"
   ]
  },
  {
   "cell_type": "markdown",
   "metadata": {},
   "source": [
    "</summary>"
   ]
  },
  {
   "cell_type": "markdown",
   "metadata": {},
   "source": [
    "- Capture the Flag\n",
    "- Tag\n",
    "- Hide and go seek\n",
    "- Bump a box to reveal an item\n",
    "- Jump into pool floaty from height\n",
    "- Water Slides\n",
    "- Airhocky / Control Vox Models\n",
    "- Costume Contests\n",
    "- Voxels.com/s/hitboxsupprise\n",
    "- Voxels.com/s/Lap_Timer"
   ]
  },
  {
   "cell_type": "markdown",
   "metadata": {},
   "source": [
    "</details>"
   ]
  }
 ],
 "metadata": {
  "language_info": {
   "name": "python"
  },
  "orig_nbformat": 4
 },
 "nbformat": 4,
 "nbformat_minor": 2
}

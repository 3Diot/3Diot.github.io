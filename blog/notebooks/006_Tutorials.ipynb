{
 "cells": [
  {
   "cell_type": "markdown",
   "metadata": {},
   "source": [
    "# Scarcity Discoveries\n",
    "> An introductory article to Cryptovoxels' Parcel Data\n",
    "\n",
    "- toc: true\n",
    "- filename: Tutorials\n",
    "- tab: CVMinigames | Tutorials\n",
    "- title: CVMinigames\n",
    "- template: article\n",
    "- description: this isnt working\n",
    "- image: images/company_logo.png\n",
    "- keywords: thisworks\n",
    "- badges: true\n",
    "- comments: true\n",
    "- categories: [test]\n",
    "- hide: false\n",
    "- metadata_key1: metadata_value1\n",
    "- metadata_key2: metadata_value2"
   ]
  },
  {
   "cell_type": "code",
   "execution_count": null,
   "metadata": {},
   "outputs": [],
   "source": []
  },
  {
   "cell_type": "markdown",
   "metadata": {},
   "source": [
    " difference between \"the floor\" and \"the floor / square meter\"\n",
    "\n",
    " If you follow the market for a while the big things are \n",
    " - square footage (plots under 100 meters squared tend to sell a lot cheaper, \n",
    " that seems to be a psychological dividing line - under or over 100 meters) \n",
    " - build heigh also matters if someone is wanting to build on the plot and not just speculate \n",
    " (look for higher build heights for more total volume on the plot) \n",
    " - plots in areas that are already well developed / visited tend to sell for more \n",
    " - seafront plots tend to sell for a bit more \n",
    " - people often pay extra to secure contiguous plots for larger builds \n",
    " - origin city / closer to centre also a premium but that may be tied into the more developed/visited thing as well\n",
    "\n",
    "for Primary, it's square footage, and if basement, if waterfront. For secondary, it's up to the markets. Yes Origin City is very desired.\n"
   ]
  },
  {
   "cell_type": "code",
   "execution_count": null,
   "metadata": {},
   "outputs": [],
   "source": [
    "layout made in blender\n",
    "\n",
    "3d images using 2 pics\n",
    "\n",
    "mist techniques\n",
    "\n",
    "Open bottom closedish off tops\n",
    "\n",
    "You can have the same sound in many parcels, using a clever trick\n",
    "\n",
    "extending beyond parcel using 3d text or animations\n",
    "\n",
    "optimizing voxels\n",
    "\n",
    "neon ties things together nicely, and added some billboard gifs as placeholders  \n",
    "\n",
    "\n",
    "\"so the CV devs were pretty cool with it as long as it A. looks really good\n",
    "and B. isnt in anyone elses space\n",
    "and C. i think theres a specific sore spot over height\n",
    "because some plots are taller than others\n",
    "and unlike waterfront thats more an inherent nature of it\n",
    "so building above parcels feels more like \"stealing\" ig, whereas this is more a feature of waterfront\n",
    "\""
   ]
  },
  {
   "cell_type": "code",
   "execution_count": null,
   "metadata": {},
   "outputs": [],
   "source": []
  }
 ],
 "metadata": {
  "language_info": {
   "name": "python"
  },
  "orig_nbformat": 4
 },
 "nbformat": 4,
 "nbformat_minor": 2
}

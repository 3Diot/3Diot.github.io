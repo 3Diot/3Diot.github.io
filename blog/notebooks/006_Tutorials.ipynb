{
 "cells": [
  {
   "cell_type": "markdown",
   "metadata": {},
   "source": [
    "# Build Tips\n",
    "> An introductory article to Voxels' Parcel Data\n",
    "\n",
    "- toc: true\n",
    "- filename: Tutorials\n",
    "- tab: CVMinigames | Tutorials\n",
    "- title: CVMinigames\n",
    "- template: article\n",
    "- description: this isnt working\n",
    "- image: images/company_logo.png\n",
    "- keywords: thisworks\n",
    "- badges: true\n",
    "- comments: true\n",
    "- categories: [test]\n",
    "- hide: false\n",
    "- metadata_key1: metadata_value1\n",
    "- metadata_key2: metadata_value2"
   ]
  },
  {
   "cell_type": "markdown",
   "metadata": {},
   "source": [
    "<details style='background:#eee'>\n",
    "<summary>"
   ]
  },
  {
   "cell_type": "markdown",
   "metadata": {},
   "source": [
    "# Quick Tips"
   ]
  },
  {
   "cell_type": "markdown",
   "metadata": {},
   "source": [
    "</summary>"
   ]
  },
  {
   "cell_type": "markdown",
   "metadata": {},
   "source": [
    "/vendor/opensea_bundle.js"
   ]
  },
  {
   "cell_type": "markdown",
   "metadata": {},
   "source": [
    "- Objects can be solid up to 5m above your parcel and 2.5m around the sides (unless bordered by a neighbor)\n",
    "- Voxels are 0.5 & the default avatar is ~1.75m but use 2.5m ceilings for best experience - Faylure\n",
    "- Womp portals are spherical - Cluny\n",
    "- Images can be made to look curved by cropping them accordingly in an image editor. - [source](https://www.youtube.com/watch?v=jrK3EINyF3Y&t=2589s)\n",
    "- (near) Invisible Walls can be made by using a 'cube' feature with near .1m width and depth - Bitpixi & Dedcel\n",
    "- The Polytext feature can be solid even when placed well outside of the parcels range (This is a bug that intentionally isn't being fixed)\n",
    "- - Create a solid pier users can walk on for your waterfront property by placing and scaling an lowercase i on the water.  \n",
    "- Parcels look even bigger if you put a gif of fog right along the top\n",
    "- Create 3D images by placing the same image perpendicular and on top of each other\n",
    "- Hollowing out voxels will help load them faster\n",
    "- Quick swap your parcels interior by building out your designs in free spaces"
   ]
  },
  {
   "cell_type": "markdown",
   "metadata": {},
   "source": [
    "- Check the \"stretch\" box and then you will have to scale the image to the correct aspect ratio and the image will display correctly - Cluny\n",
    "- if you save an image of text with black text on white background, you don't even have to make it a transparent image.  Black text on white background with \"multiply\" blend mode (the default blend mode) works like a transparency.  Actually works better than a transparency because it doesn't have the weird blending artifacts that happens with transparencies when one transparent image is in front of another image from the perspective of the viewer. - Cluny"
   ]
  },
  {
   "cell_type": "markdown",
   "metadata": {},
   "source": [
    "- curved photos\n",
    "- photobooth \n",
    "- instachair"
   ]
  },
  {
   "cell_type": "markdown",
   "metadata": {},
   "source": [
    "</details>\n",
    "<details>\n",
    "<summary>"
   ]
  },
  {
   "cell_type": "markdown",
   "metadata": {},
   "source": [
    "# Scripting Examples"
   ]
  },
  {
   "cell_type": "markdown",
   "metadata": {},
   "source": [
    "</summary>"
   ]
  },
  {
   "cell_type": "markdown",
   "metadata": {},
   "source": [
    "- [Remote](https://www.Voxels.com/s/remotecontrol) Control\n",
    "- Leader & [Following](https://www.Voxels.com/s/leaderandfollower) features\n",
    "- Animations a Feature along an [SVG's Path](https://www.Voxels.com/s/svganimations)\n",
    "- Display [Collections](https://www.Voxels.com/s/displaycollections)\n",
    "- [Invisible Walls](https://www.Voxels.com/s/invisiblewalls)\n",
    "- Token [Gating](https://www.Voxels.com/s/maticgating) \n",
    "- [Animate](https://www.Voxels.com/s/animate) Vox Models\n",
    "- [Sync](https://www.Voxels.com/s/syncAnimation) Animations\n",
    "- [YT Playlist](https://www.Voxels.com/s/playlistcontroller) W Controls\n",
    "- Reloading a parcel using [Snapshots](https://support.cryptovoxels.com/t/access-parcel-snapshots-with-scripting/193/2)\n",
    "- g-van's [Skybox](https://twitter.com/__gvan__/status/1531311052645883905) swapper, [instructions](https://twitter.com/__gvan__/status/1533855880336359425) [code](https://gist.github.com/RasVandoros/f14b5e98b2fff8f960a69f880ab2a1ef)\n",
    "- g-van's party [button](https://twitter.com/__gvan__/status/1532769164447948800)"
   ]
  },
  {
   "cell_type": "markdown",
   "metadata": {},
   "source": [
    "swap_interior_1.js - https://gist.github.com/karpatic/2f01540408f2843c30fc8bf2f2c762c4\n",
    "popout_videos_poster - https://gist.github.com/karpatic/beff0feba3173460fa4a7487c6b74bff\n",
    "Opacity_By_timeOfDay - https://gist.github.com/karpatic/5f96a6b3a7202db0f694cdf4a30f3f90\n",
    "show_Hide_welcome_sign.js - https://gist.github.com/karpatic/66ea7646b55a1e076db955e11a9b78e6\n",
    "withinBounds.js - https://gist.github.com/karpatic/0cb8b66aca12ea1520a32817a74110fb\n",
    "snowflakes.js - https://gist.github.com/karpatic/633bc98463ddfd84fd7906a85c95f6f3\n",
    "gallery_on_rotation - https://gist.github.com/karpatic/4757485d3690ad32e2974bb4857abc63\n",
    "Gvan's Billboard - https://gist.github.com/karpatic/18d71d8f5ee379e7e86e70401ce4a87c"
   ]
  },
  {
   "cell_type": "markdown",
   "metadata": {},
   "source": [
    "</details>\n",
    "<details style='background:#eee'>\n",
    "<summary>"
   ]
  },
  {
   "cell_type": "markdown",
   "metadata": {},
   "source": [
    "# Build Resources"
   ]
  },
  {
   "cell_type": "markdown",
   "metadata": {},
   "source": [
    "</summary>"
   ]
  },
  {
   "cell_type": "markdown",
   "metadata": {},
   "source": [
    "- Scripting [Autogenerated](http://blog.cryptovoxels.com/scripting-bundle/) Documentation\n",
    "- [3D Assets](https://free3d.com/3d-models/obj?page=3)\n",
    "- Magica Voxels [Download](http://ephtracy.github.io/index.html?page=mv_resource)\n",
    "- Magica Voxels [Tutorial](https://www.megavoxels.com/p/magicavoxel-tutorials.html)\n",
    "\n",
    "Save your parcel as a space then reimport once edits are done. "
   ]
  },
  {
   "cell_type": "markdown",
   "metadata": {},
   "source": [
    "</details>\n",
    "<details>\n",
    "<summary>"
   ]
  },
  {
   "cell_type": "markdown",
   "metadata": {},
   "source": [
    "# Games Ideas"
   ]
  },
  {
   "cell_type": "markdown",
   "metadata": {},
   "source": [
    "</summary>"
   ]
  },
  {
   "cell_type": "markdown",
   "metadata": {},
   "source": [
    "- Capture the Flag\n",
    "- Tag\n",
    "- Hide and go seek\n",
    "- Bump a box to reveal an item\n",
    "- Jump into pool floaty from height\n",
    "- Water Slides\n",
    "- Airhocky / Control Vox Models\n",
    "- Costume Contests\n",
    "- [hitbox suprise](Voxels.com/s/hitboxsupprise)\n",
    "- Mazes\n",
    "- chess - #3884 -> [twitter](https://twitter.com/womptron/status/1535997622590197762)\n",
    "- racing - #3861, #7295 -> [twitter1](https://twitter.com/polabmgr/status/1531310662697340932) [twitter2](https://twitter.com/MisfitPixels/status/1534998574223826944)\n",
    "- G-vans dialog/ scavenger hunt + Poap reward: #7779 [twitter](https://twitter.com/Liliia_Eth/status/1534879900515065859)\n",
    "- Ottis's AR - [twitter](https://twitter.com/OttisOts/status/1535374900847837184) [2](https://twitter.com/bitpixi/status/1535660386267045889)\n"
   ]
  },
  {
   "cell_type": "markdown",
   "metadata": {},
   "source": [
    "</details>\n",
    "<details>\n",
    "<summary>"
   ]
  },
  {
   "cell_type": "markdown",
   "metadata": {},
   "source": [
    "## Misc Tutorials"
   ]
  },
  {
   "cell_type": "markdown",
   "metadata": {},
   "source": [
    "</summary>"
   ]
  },
  {
   "cell_type": "markdown",
   "metadata": {},
   "source": [
    "- Cluny's Wearable <a href='https://peakd.com/cryptovoxels/@cluny.the.rat/scarcity-artifact-wearable-fitting-guide-i-two-outfits\n",
    "'> Fitting Guide </a>\n",
    "- The Voxels Graph link [1](https://thegraph.com/hosted-service/subgraph/benjythebee/cryptovoxels-parcels?version=current\n",
    "), [2](https://api.thegraph.com/subgraphs/name/benjythebee/cryptovoxels-parcels) + Ricky's [Youtube Tutorial](https://www.youtube.com/watch?v=tVM3F7MUQDw&t=9s), [Github](https://github.com/cryptovoxels/parcel-market-subgraph)\n",
    "<!-- ID: QmVSoQsUbbKyk2z4Qw6hzUcbcQVsAnoe27iPzfJF9popt2 -->"
   ]
  },
  {
   "cell_type": "markdown",
   "metadata": {},
   "source": [
    "https://sorryaboutyourcats.medium.com/create-your-own-cryptovoxels-wearables-to-use-sell-or-trade-874e7f28e8c4\n",
    "https://medium.com/@bnolan/generating-a-live-map-view-of-cryptovoxels-b8d1e68a067\n",
    "https://medium.com/@bnolan/optimizing-a-voxel-mesher-with-one-weird-hack-5190c673ce84\n",
    "\n",
    "https://nftplazas.com/?s=cryptovoxels\n",
    "https://nftplazas.com/metaverse-advertising/"
   ]
  }
 ],
 "metadata": {
  "kernelspec": {
   "display_name": "Python 3.10.2 64-bit",
   "language": "python",
   "name": "python3"
  },
  "language_info": {
   "codemirror_mode": {
    "name": "ipython",
    "version": 3
   },
   "file_extension": ".py",
   "mimetype": "text/x-python",
   "name": "python",
   "nbconvert_exporter": "python",
   "pygments_lexer": "ipython3",
   "version": "3.10.2"
  },
  "orig_nbformat": 4,
  "vscode": {
   "interpreter": {
    "hash": "046b844cfe77f56867adc884800e389906328c66f60829dd4497d230d7e2d321"
   }
  }
 },
 "nbformat": 4,
 "nbformat_minor": 2
}

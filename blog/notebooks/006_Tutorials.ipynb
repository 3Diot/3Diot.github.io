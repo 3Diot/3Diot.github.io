{
 "cells": [
  {
   "cell_type": "markdown",
   "metadata": {},
   "source": [
    "# Build Tips\n",
    "> An introductory article to Voxels' Parcel Data\n",
    "\n",
    "- toc: true\n",
    "- filename: Tutorials\n",
    "- tab: CVMinigames | Tutorials\n",
    "- title: CVMinigames\n",
    "- template: article\n",
    "- description: this isnt working\n",
    "- image: images/company_logo.png\n",
    "- keywords: thisworks\n",
    "- badges: true\n",
    "- comments: true\n",
    "- categories: [test]\n",
    "- hide: false\n",
    "- metadata_key1: metadata_value1\n",
    "- metadata_key2: metadata_value2"
   ]
  },
  {
   "cell_type": "markdown",
   "metadata": {},
   "source": [
    "<details style='background:#eee'>\n",
    "<summary>"
   ]
  },
  {
   "cell_type": "markdown",
   "metadata": {},
   "source": [
    "# Quick Tips"
   ]
  },
  {
   "cell_type": "markdown",
   "metadata": {},
   "source": [
    "</summary>"
   ]
  },
  {
   "cell_type": "markdown",
   "metadata": {},
   "source": [
    "/vendor/opensea_bundle.js"
   ]
  },
  {
   "cell_type": "markdown",
   "metadata": {},
   "source": [
    "- Objects can be solid up to 5m above your parcel and 2.5m around the sides (unless bordered by a neighbor)\n",
    "- Voxels are 0.5 & the default avatar is ~1.75m but use 2.5m ceilings for best experience - Faylure\n",
    "- Womp portals are spherical - Cluny\n",
    "- Images can be made to look curved by cropping them accordingly in an image editor. - [source](https://www.youtube.com/watch?v=jrK3EINyF3Y&t=2589s)\n",
    "- (near) Invisible Walls can be made by using a 'cube' feature with near .1m width and depth - Bitpixi & Dedcel\n",
    "- The Polytext feature can be solid even when placed well outside of the parcels range (This is a bug that intentionally isn't being fixed)\n",
    "- - Create a solid pier users can walk on for your waterfront property by placing and scaling an lowercase i on the water.  \n",
    "- Parcels look even bigger if you put a gif of fog right along the top\n",
    "- Create 3D images by placing the same image perpendicular and on top of each other\n",
    "- Hollowing out voxels will help load them faster\n",
    "- Quick swap your parcels interior by building out your designs in free spaces"
   ]
  },
  {
   "cell_type": "markdown",
   "metadata": {},
   "source": [
    "- Check the \"stretch\" box and then you will have to scale the image to the correct aspect ratio and the image will display correctly - Cluny\n",
    "- if you save an image of text with black text on white background, you don't even have to make it a transparent image.  Black text on white background with \"multiply\" blend mode (the default blend mode) works like a transparency.  Actually works better than a transparency because it doesn't have the weird blending artifacts that happens with transparencies when one transparent image is in front of another image from the perspective of the viewer. - Cluny"
   ]
  },
  {
   "cell_type": "markdown",
   "metadata": {},
   "source": [
    "- curved photos\n",
    "- photobooth \n",
    "- instachair"
   ]
  },
  {
   "cell_type": "markdown",
   "metadata": {},
   "source": [
    "</details>\n",
    "<details>\n",
    "<summary>"
   ]
  },
  {
   "cell_type": "markdown",
   "metadata": {},
   "source": [
    "# Scripting Examples"
   ]
  },
  {
   "cell_type": "markdown",
   "metadata": {},
   "source": [
    "</summary>"
   ]
  },
  {
   "cell_type": "markdown",
   "metadata": {},
   "source": [
    "- [Remote](https://www.Voxels.com/s/remotecontrol) Control\n",
    "- Leader & [Following](https://www.Voxels.com/s/leaderandfollower) features\n",
    "- Animations a Feature along an [SVG's Path](https://www.Voxels.com/s/svganimations)\n",
    "- Display [Collections](https://www.Voxels.com/s/displaycollections)\n",
    "- [Invisible Walls](https://www.Voxels.com/s/invisiblewalls)\n",
    "- Token [Gating](https://www.Voxels.com/s/maticgating) \n",
    "- [Animate](https://www.Voxels.com/s/animate) Vox Models\n",
    "- [Sync](https://www.Voxels.com/s/syncAnimation) Animations\n",
    "- [YT Playlist](https://www.Voxels.com/s/playlistcontroller) W Controls\n",
    "- Reloading a parcel using [Snapshots](https://support.cryptovoxels.com/t/access-parcel-snapshots-with-scripting/193/2)\n",
    "- g-van's [Skybox](https://twitter.com/__gvan__/status/1531311052645883905) swapper, [instructions](https://twitter.com/__gvan__/status/1533855880336359425) [code](https://gist.github.com/RasVandoros/f14b5e98b2fff8f960a69f880ab2a1ef)\n",
    "- g-van's party [button](https://twitter.com/__gvan__/status/1532769164447948800)"
   ]
  },
  {
   "cell_type": "markdown",
   "metadata": {},
   "source": [
    "</details>\n",
    "<details style='background:#eee'>\n",
    "<summary>"
   ]
  },
  {
   "cell_type": "markdown",
   "metadata": {},
   "source": [
    "# Build Resources"
   ]
  },
  {
   "cell_type": "markdown",
   "metadata": {},
   "source": [
    "</summary>"
   ]
  },
  {
   "cell_type": "markdown",
   "metadata": {},
   "source": [
    "- Scripting [Autogenerated](http://blog.cryptovoxels.com/scripting-bundle/) Documentation\n",
    "- [3D Assets](https://free3d.com/3d-models/obj?page=3)\n",
    "- Magica Voxels [Download](http://ephtracy.github.io/index.html?page=mv_resource)\n",
    "- Magica Voxels [Tutorial](https://www.megavoxels.com/p/magicavoxel-tutorials.html)\n",
    "\n",
    "Save your parcel as a space then reimport once edits are done. "
   ]
  },
  {
   "cell_type": "markdown",
   "metadata": {},
   "source": [
    "</details>\n",
    "<details>\n",
    "<summary>"
   ]
  },
  {
   "cell_type": "markdown",
   "metadata": {},
   "source": [
    "# Games Ideas"
   ]
  },
  {
   "cell_type": "markdown",
   "metadata": {},
   "source": [
    "</summary>"
   ]
  },
  {
   "cell_type": "markdown",
   "metadata": {},
   "source": [
    "- Capture the Flag\n",
    "- Tag\n",
    "- Hide and go seek\n",
    "- Bump a box to reveal an item\n",
    "- Jump into pool floaty from height\n",
    "- Water Slides\n",
    "- Airhocky / Control Vox Models\n",
    "- Costume Contests\n",
    "- [hitbox suprise](Voxels.com/s/hitboxsupprise)\n",
    "- Mazes\n",
    "- chess - #3884 -> [twitter](https://twitter.com/womptron/status/1535997622590197762)\n",
    "- racing - #3861, #7295 -> [twitter1](https://twitter.com/polabmgr/status/1531310662697340932) [twitter2](https://twitter.com/MisfitPixels/status/1534998574223826944)\n",
    "- G-vans dialog/ scavenger hunt + Poap reward: #7779 [twitter](https://twitter.com/Liliia_Eth/status/1534879900515065859)\n",
    "- Ottis's AR - [twitter](https://twitter.com/OttisOts/status/1535374900847837184) [2](https://twitter.com/bitpixi/status/1535660386267045889)\n"
   ]
  },
  {
   "cell_type": "code",
   "execution_count": 3,
   "metadata": {},
   "outputs": [
    {
     "ename": "SyntaxError",
     "evalue": "expression cannot contain assignment, perhaps you meant \"==\"? (807271512.py, line 1)",
     "output_type": "error",
     "traceback": [
      "\u001b[1;36m  Input \u001b[1;32mIn [3]\u001b[1;36m\u001b[0m\n\u001b[1;33m    setInteraval(() => {\u001b[0m\n\u001b[1;37m                 ^\u001b[0m\n\u001b[1;31mSyntaxError\u001b[0m\u001b[1;31m:\u001b[0m expression cannot contain assignment, perhaps you meant \"==\"?\n"
     ]
    }
   ],
   "source": [
    "setInteraval(() => {\n",
    "  const p = parcel.getPlayersWithinParcel()[0]\n",
    "  let v1 = feature.position\n",
    "  let v2 = p.position\n",
    "  let angle = Math.atan2(v1.z - v2.z, v1.x - v2.x)\n",
    "  console.log(Math.PI / -2 - angle )\n",
    "  let r1 = feature.rotation.y \n",
    "  console.log(\"R1: \" + r1)\n",
    "\n",
    "  let newAngle = Math.PI / -2 - angle\n",
    "  console.log(\"New angle: \" + newAngle)\n",
    "  let delta = newAngle - r1\n",
    "  console.log(\"Delta: \", delta)\n",
    "\n",
    "  lr r2 = feature.createAntimation('rotation')\n",
    "  r2.setKeys([{\n",
    "    frame:6,\n",
    "    value: feature.rotation.add(new Vector3(0, delta, 0) )\n",
    "  }])\n",
    "  feature.startanimation( [r2] )\n",
    "  feature.rotation.y = newAngle\n",
    "}, 400)\n",
    "\n",
    "# - \"Turn vox to face player' by Gvan`\n",
    "# https://twitter.com/__gvan__/status/1530581206655442949"
   ]
  },
  {
   "cell_type": "markdown",
   "metadata": {},
   "source": [
    "</details>\n",
    "<details>\n",
    "<summary>"
   ]
  },
  {
   "cell_type": "markdown",
   "metadata": {},
   "source": [
    "## Misc Tutorials"
   ]
  },
  {
   "cell_type": "markdown",
   "metadata": {},
   "source": [
    "</summary>"
   ]
  },
  {
   "cell_type": "markdown",
   "metadata": {},
   "source": [
    "- Cluny's Wearable <a href='https://peakd.com/cryptovoxels/@cluny.the.rat/scarcity-artifact-wearable-fitting-guide-i-two-outfits\n",
    "'> Fitting Guide </a>\n",
    "- The Voxels Graph link [1](https://thegraph.com/hosted-service/subgraph/benjythebee/cryptovoxels-parcels?version=current\n",
    "), [2](https://api.thegraph.com/subgraphs/name/benjythebee/cryptovoxels-parcels) + Ricky's [Youtube Tutorial](https://www.youtube.com/watch?v=tVM3F7MUQDw&t=9s), [Github](https://github.com/cryptovoxels/parcel-market-subgraph)\n",
    "<!-- ID: QmVSoQsUbbKyk2z4Qw6hzUcbcQVsAnoe27iPzfJF9popt2 -->"
   ]
  },
  {
   "cell_type": "markdown",
   "metadata": {},
   "source": []
  },
  {
   "cell_type": "markdown",
   "metadata": {},
   "source": [
    "- Your OpenSea Stream API URL and API key, which you can request here\n",
    "- - 128274de31e14ae5b6208438c865bdae\n",
    "- The Discord webhook ID and token for the Discord you would like to send messages to.\n",
    "- To get a Discord webhook for your server, go to the channel you would like to add a webhook to and click the 'Edit Channel' button.\n",
    "- Click on the Integrations tab and then Webhooks\n",
    "- Click 'New Webhook' and give it a cool name + photo.\n",
    "- Click on 'Copy Webhook URL'. This will give a URL of the format https://discord.com/api/webhooks/{WEBHOOK_ID}/{WEBHOOK_TOKEN}, which you can now use in your .env file.\n",
    "- A list of collection slugs you would like to track events for, split with a space. To track all collections, use '*'.\n",
    "- e.g. COLLECTION_SLUGS=\"boredapeyachtclub mutant-ape-yacht-club otherdeed bored-ape-kennel-club\""
   ]
  },
  {
   "cell_type": "code",
   "execution_count": null,
   "metadata": {},
   "outputs": [],
   "source": [
    "      let headers = { 'X-API-KEY': process.env.OPENSEA_APIKEY! }\n",
    "      const response = await fetch(\n",
    "        `https://api.opensea.io/wyvern/v1/orders?bundled=false&include_bundled=false&include_invalid=false&limit=${LIMIT}&offset=${offset}&order_by=created_date&order_direction=desc&asset_contract_address=${\n",
    "          process.env.CONTRACT_ADDRESS\n",
    "        }&${tempIds.join('&')}`,\n",
    "        { headers }\n",
    "      )"
   ]
  },
  {
   "cell_type": "markdown",
   "metadata": {},
   "source": []
  },
  {
   "cell_type": "code",
   "execution_count": null,
   "metadata": {},
   "outputs": [],
   "source": [
    "opensea-mainframe.ts\n",
    "basic-checkout.ts\n",
    "real-estate-turtle.ts"
   ]
  },
  {
   "cell_type": "code",
   "execution_count": null,
   "metadata": {},
   "outputs": [],
   "source": [
    "https://www.voxels.com/api/parcels/7822.json\n",
    "\n",
    "https://www.cryptovoxels.com/play?coords=SW@199W,64N"
   ]
  }
 ],
 "metadata": {
  "kernelspec": {
   "display_name": "Python 3.10.2 64-bit",
   "language": "python",
   "name": "python3"
  },
  "language_info": {
   "codemirror_mode": {
    "name": "ipython",
    "version": 3
   },
   "file_extension": ".py",
   "mimetype": "text/x-python",
   "name": "python",
   "nbconvert_exporter": "python",
   "pygments_lexer": "ipython3",
   "version": "3.10.2"
  },
  "orig_nbformat": 4,
  "vscode": {
   "interpreter": {
    "hash": "046b844cfe77f56867adc884800e389906328c66f60829dd4497d230d7e2d321"
   }
  }
 },
 "nbformat": 4,
 "nbformat_minor": 2
}

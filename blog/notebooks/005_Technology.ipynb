{
 "cells": [
  {
   "cell_type": "markdown",
   "metadata": {},
   "source": [
    "# Technology\n",
    "> An introductory article to Cryptovoxels' Parcel Data\n",
    "\n",
    "- toc: true\n",
    "- filename: Technology\n",
    "- tab: CVMinigames | Technology\n",
    "- title: CVMinigames\n",
    "- template: article\n",
    "- description: this isnt working\n",
    "- image: images/company_logo.png\n",
    "- keywords: thisworks\n",
    "- badges: true\n",
    "- comments: true\n",
    "- categories: [test]\n",
    "- hide: false\n",
    "- metadata_key1: metadata_value1\n",
    "- metadata_key2: metadata_value2"
   ]
  },
  {
   "cell_type": "markdown",
   "metadata": {},
   "source": [
    "## AIRDROP TOOL"
   ]
  },
  {
   "cell_type": "markdown",
   "metadata": {},
   "source": [
    "For single items along a  Guestbooks and MAPPED LISTS"
   ]
  },
  {
   "cell_type": "markdown",
   "metadata": {},
   "source": [
    "Puppeteer \n",
    "- Drububu cloud endpoint\n",
    "- Visitor Scraper\n",
    "- Opensea Scraper"
   ]
  },
  {
   "cell_type": "markdown",
   "metadata": {},
   "source": [
    "- https://www.k1ic.com/cvs-zh.html\n",
    "- https://docs.opensea.io/"
   ]
  },
  {
   "cell_type": "markdown",
   "metadata": {},
   "source": [
    "## Custom Metadata"
   ]
  },
  {
   "cell_type": "code",
   "execution_count": null,
   "metadata": {},
   "outputs": [],
   "source": [
    "#hide \n",
    "0. grab file via meta\n",
    "1. replace title via meta\n",
    "2. replace content via meta\n",
    "using ? 1."
   ]
  },
  {
   "cell_type": "markdown",
   "metadata": {},
   "source": [
    "## Three JS PRINT MAP"
   ]
  },
  {
   "cell_type": "markdown",
   "metadata": {},
   "source": [
    "## Three JS OBJ Loader"
   ]
  },
  {
   "cell_type": "markdown",
   "metadata": {},
   "source": [
    "## Moralis"
   ]
  },
  {
   "cell_type": "markdown",
   "metadata": {},
   "source": [
    "Notes in other doc"
   ]
  },
  {
   "cell_type": "markdown",
   "metadata": {},
   "source": [
    "## Unlock Protocol"
   ]
  },
  {
   "cell_type": "markdown",
   "metadata": {},
   "source": [
    "Notes in other doc"
   ]
  },
  {
   "cell_type": "markdown",
   "metadata": {},
   "source": [
    "## MetaCat"
   ]
  },
  {
   "cell_type": "markdown",
   "metadata": {},
   "source": [
    "https://www.k1ic.com/cv-zh.html"
   ]
  },
  {
   "cell_type": "markdown",
   "metadata": {},
   "source": [
    "## Premint"
   ]
  },
  {
   "cell_type": "markdown",
   "metadata": {},
   "source": [
    "https://www.premint.xyz/pass/"
   ]
  },
  {
   "cell_type": "markdown",
   "metadata": {},
   "source": [
    "## Altoira"
   ]
  },
  {
   "cell_type": "markdown",
   "metadata": {},
   "source": [
    "https://www.altoira.com/"
   ]
  },
  {
   "cell_type": "markdown",
   "metadata": {},
   "source": [
    "## POAP"
   ]
  },
  {
   "cell_type": "markdown",
   "metadata": {},
   "source": [
    "the codes you recieved should be distributed to each attendee on a one by one basis.\n",
    "If you have attendees Eth addresses use POAP.Delivery to mass send.\n",
    "\n",
    "https://tomso11.medium.com/how-to-set-up-a-poap-delivery-55332172193c\n",
    "\n",
    "https://app.poap.xyz/admin/events/new\n",
    "\n",
    "https://poap.xyz/faqs\n",
    "\n",
    "https://app.poap.xyz/admin/deliveries/new\n",
    "\n",
    "Event ID: the ID of the event you are creating the POAP for. This is normally a 4-digit number associated to your event. You can find it on your event confirmation email.\n",
    "Edit code: the 6-digit code you received via email when creating the event.\n",
    "Add another event: In deliveries, you can set up more than one event for distribution in the same page.\n",
    "Delivery URL: the path to the page. The URL will result in poap.delivery/{Delivery_URL} so no need to put the https://poap.delivery/\n",
    "Card Title: the title that will appear on the card on the poap.delivery homepage.\n",
    "Card Text: the text that will appear on the card on the poap.delivery homepage. Max chars: 200.\n",
    "\n",
    "Page Title: the title that will appear on the poap.delivery page of your event.\n",
    "Page Text: the text that will appear on the poap.delivery page of your event. Max chars: 200.\n",
    "Metadata Title: the title that will appear when you share the poap.delivery in social media.\n",
    "Metadata Description: the description that will appear when you share the poap.delivery in social media.\n",
    "\n",
    "\n",
    "Image URL: the URL where your image is hosted. You can look for your event in the event panel and right-click the image of your POAP. Select “Copy Image address” and paste it here.\n",
    "Page Title Image: you can leave this blank.\n",
    "Addresses: Input the Ethereum addresses (or ENS) of receivers. Keep in mind that you can add more addresses in the future, but you cannot delete any. The format for the Ethereum addresses should be the following:\n",
    "0x0000000000000000000000000000000000000000 0x0000000000000000000000000000000000000001\n",
    "\n",
    "\n"
   ]
  },
  {
   "cell_type": "markdown",
   "metadata": {},
   "source": [
    "## Babylon JS"
   ]
  },
  {
   "cell_type": "markdown",
   "metadata": {},
   "source": [
    "https://forum.babylonjs.com/t/building-a-babylon-js-project-that-also-uses-godot-ecmascript/19086\n",
    "\n",
    "https://forum.babylonjs.com/t/bring-reticule-crosshair-in-front-of-gui/17565"
   ]
  },
  {
   "cell_type": "markdown",
   "metadata": {},
   "source": [
    "https://parcel.so/explorer/cryptovoxels/1226"
   ]
  },
  {
   "cell_type": "markdown",
   "metadata": {},
   "source": [
    "Twitter wall post -> scrape and update\n",
    "  \n",
    "- crytpovoxel nft gif gallary to showcase procedurally generated 3d geospatial data visualizations"
   ]
  },
  {
   "cell_type": "markdown",
   "metadata": {},
   "source": [
    "Allow user if has Eth NFT adds user to allowed list of wallets\n",
    "make parcel private kicks user out if not allowed\n",
    "\n",
    "multithread async requsts within the service worker when rendering the load script.\n",
    "I want the vox model to load first because visually its the most present. \n",
    "\n",
    "Layers can have multiple states to them (all created by the artist). When you own a Layer, you can initiate a state change. This change is broadcasted to the blockchain and automatically shows up on the Master.\n",
    "\n",
    "For \"autonomous art,\" the artist refrains from selling certain Layers they'd like to automate. Through our contract, they can grant permission to a separate server to update those layers on their behalf. This is where things get interesting...\n",
    " \n",
    "An automated server can process real world data and periodically push update transactions to the blockchain. Async, or any 3rd party, can now offer this for artists who are less technical and want to focus on the creation aspects of their work.\n"
   ]
  },
  {
   "cell_type": "markdown",
   "metadata": {},
   "source": [
    "For each htmldoc in the:\n",
    "- list of our pages & posts\n",
    "Check if the htmldoc uses any resources from our: \n",
    "- list of plugin embedded scripts and their intended application\n",
    "- list of custom-made scripts we hand-wrote and embeded.\n",
    "\n",
    "- Create a dependencies tree for current projects\n",
    "- seo and unit analysis testing - 0's for nulls / empty field check\n",
    "- DSC EdEx Modules -> Due September (~3 3-5min videos w worksheets)\n",
    "- coders - hackathons - data visuals - wiki page about what they learned about an indicator\n",
    "- XL-ESRI-Github: arrest othercom vote drvalone\n",
    "- google anlaytics -> tag manager\n",
    "- How to creat ACS\n",
    "- How to run TidyAddr\n",
    "\n",
    "- sign every guestbook in cv and create a list so this can be update/ checked"
   ]
  },
  {
   "cell_type": "markdown",
   "metadata": {},
   "source": [
    "https://www.cryptovoxels.com/api/parcels/1/contributors.json\n",
    "\n",
    "https://www.cryptovoxels.com/parcels\n",
    "\n",
    "https://www.cryptovoxels.com/api/parcels/1/nearby.json\n",
    "\n",
    "https://www.cryptovoxels.com/api/parcels/1.json\n",
    "\n",
    "https://www.cryptovoxels.com/p/1\n",
    "\n",
    "https://www.cryptovoxels.com/parcels/1/versions\n",
    "\n",
    "https://www.cryptovoxels.com/api/parcels.json\n",
    "\n",
    "https://www.cryptovoxels.com/api/womps/for/1.json?limit=400\n",
    "\n",
    "https://www.cryptovoxels.com/api/parcels/1/history.json?limit=150&page=0&asc=false\n",
    "\n",
    "https://www.cryptovoxels.com/api/parcels/5657/stats/features.json\n",
    "\n",
    "https://www.cryptovoxels.com/api/parcels/5633/traffic.json?day=300"
   ]
  },
  {
   "cell_type": "markdown",
   "metadata": {},
   "source": [
    "https://www.cryptovoxels.com/play?coords=45W,253N,&isolate=true&mode=orbit"
   ]
  },
  {
   "cell_type": "markdown",
   "metadata": {},
   "source": [
    "https://trustswap.com/"
   ]
  },
  {
   "cell_type": "markdown",
   "metadata": {},
   "source": [
    "https://voxelarchitects.com/portfolio\n",
    "https://opensea.io/assets/0x4243a8413a77eb559c6f8eaffa63f46019056d08/4310\n",
    "\n",
    "https://stackoverflow.com/questions/5347995/why-does-javascript-accept-commas-in-if-statements\n",
    "\n",
    "https://www.metacat.world/en-US\n",
    "\n",
    "https://observablehq.com/@real-john-cheung\n",
    "\n",
    "https://observablehq.com/@mpj\n",
    "\n",
    "https://observablehq.com/@bmalz2\n",
    "\n",
    "https://observablehq.com/@dwchung2\n",
    "\n",
    "https://observablehq.com/collection/@wenrazhao2\n",
    "\n",
    "https://medium.com/@jason.webb/2d-differential-growth-in-js-1843fd51b0ce\n",
    "\n",
    "https://stackoverflow.com/questions/10717190/convert-svg-polygon-to-path\n",
    "\n",
    "https://xrdevlog.com/\n",
    "\n",
    "https://nft.substack.com/\n",
    "\n",
    "https://hackmd.io/@XR\n",
    "\n",
    "https://developer.mozilla.org/en-US/docs/Web/JavaScript/Reference/Global_Objects\n",
    "\n",
    "https://www.npmjs.com/package/isolated-vm?activeTab=readme\n",
    "\n",
    "https://grid.cryptovoxels.com/grid/6636/logs"
   ]
  },
  {
   "cell_type": "markdown",
   "metadata": {},
   "source": [
    "\n",
    "https://www.cryptovoxels.com/avatar/0xd513236ea9caca4f1b520f76a525bab7619813c8\n",
    "https://www.cryptovoxels.com/avatar/0x1256e7992564ab22e332532472c916bd8d1e1ca7\n",
    "https://www.cryptovoxels.com/avatar/0xb30db235c948987487f9b2e67d65530c71fcdfdd\n",
    "https://www.cryptovoxels.com/parcels?q=0xB30db235\n",
    "\n",
    "\n",
    "\n",
    "https://www.w3.org/TR/permissions/\n",
    " \n",
    " \n",
    "\n",
    "https://www.cryptovoxels.com/play?coords=S@1304W,1054S&ui=html\n",
    "\n",
    "\n",
    "\n",
    "https://www.cryptovoxels.com/avatar/0x1256E7992564AB22e332532472c916Bd8D1e1Ca7\n",
    "\n",
    "https://www.cryptovoxels.com/avatar/0xd513236ea9caca4f1b520f76a525bab7619813c8\n"
   ]
  },
  {
   "cell_type": "markdown",
   "metadata": {},
   "source": [
    "\n",
    "diagaram: ||  dataplay(data, configdoc) -> website(bniabuilder, pivotable) ||"
   ]
  },
  {
   "cell_type": "markdown",
   "metadata": {},
   "source": [
    "https://cryptomarketpool.com/deploy-a-smart-contract-to-the-polygon-network/\n",
    "\n",
    "You can use Remix to write Solidity smart contracts and deploy them to the Polygon test network.\n",
    "\n",
    "Mapping tokens between Ethereum and Polygon\n",
    "\n",
    "If you have a token on the Ethereum network and you want to map it to the Polygon network you need to complete this form to enable transfers. https://mapper.matic.today/"
   ]
  },
  {
   "cell_type": "markdown",
   "metadata": {},
   "source": []
  }
 ],
 "metadata": {
  "language_info": {
   "name": "python"
  },
  "orig_nbformat": 4
 },
 "nbformat": 4,
 "nbformat_minor": 2
}

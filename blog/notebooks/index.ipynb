{
 "cells": [
  {
   "cell_type": "markdown",
   "metadata": {},
   "source": [
    "# Homepage\n",
    "> This publication inspired by [nbdev](http://nbdev.fast.ai/tutorial/) and [nbConvert](https://nbconvert.readthedocs.io/en/latest/).\n",
    "\n",
    "- toc: false\n",
    "- filename: index\n",
    "- tab: CVMinigames | Home\n",
    "- title: CVMinigames\n",
    "- template: article\n",
    "- description: this isnt working\n",
    "- image: images/company_logo.png"
   ]
  },
  {
   "cell_type": "markdown",
   "metadata": {},
   "source": [
    "<style> h2, h3{display: inline;}</style>"
   ]
  },
  {
   "cell_type": "markdown",
   "metadata": {},
   "source": [
    "## Welcome! \n",
    "\n",
    "Use this page to navigate about the CVMiniGames ecosystem. \n",
    "\n",
    "Here you will find information about my CVMinigame token and all that it provides."
   ]
  },
  {
   "cell_type": "code",
   "execution_count": 18,
   "metadata": {},
   "outputs": [
    {
     "data": {
      "text/html": [
       "\n",
       "<p class=\"unlock-content locked\">\n",
       "  Token purchases are currently locked 🔒 <br>\n",
       "  You must log-in in order to purchase the token. <br>\n",
       "  By logging in you agree to the privacy policy and all terms, conditions, etc enumerated [here](https://cvminigames.com/blog/docs/legal.html). <br>\n",
       "  By purchasing the token (if through any other means), by de-facto, you agree to the privacy policy and all terms, conditions. \n",
       "</p>\n",
       "\n",
       "<p class=\"unlock-content unlocked\">\n",
       "  Congrats! Token purchase has been unlocked 🎉 <br>\n",
       "  Now go out and <a href='https://snapshot.org/#/cvminigames.eth/'>vote</a>!\n",
       "</p>\n",
       "\n",
       "<p class=\"unlock-content locked\" onclick=\"window.unlockProtocol && window.unlockProtocol.loadCheckoutModal()\"><button class=\"button\">Unlock!</button></p>\n",
       "\n",
       "<script>\n",
       "  (function(d, s) {\n",
       "    var js = d.createElement(s),\n",
       "      sc = d.getElementsByTagName(s)[0];\n",
       "    js.src = \"https://paywall.unlock-protocol.com/static/unlock.latest.min.js\";\n",
       "    sc.parentNode.insertBefore(js, sc);\n",
       "  }(document, \"script\"));\n",
       " \n",
       "var unlockProtocolConfig = {\n",
       "  \"locks\": { \n",
       "    \"0x3a03842776f13F622699A2da8AB2d022A606CC03\": {\n",
       "      \"network\": 137,\n",
       "      \"name\": \"CVMiniGames\"\n",
       "    }\n",
       "  },\n",
       "  \"icon\": \"https://pbs.twimg.com/profile_images/1479305970069159936/3jvoRpvc_400x400.jpg\",\n",
       "  \"callToAction\": {\n",
       "    \"default\": \"Mint now for (4 days of) access to games, voting, and exclusives galore (before needing to reactivate)!\",\n",
       "\t\"metadata\": \"We'd ask that you please provide the following information before joining!\",\n",
       "\t\"expired\": \"Reactivation needed! Token access expires every four days for most content (This will not mint a new nft but add 'credit' to your existing one)\"\n",
       "  },\n",
       "  \"metadataInputs\": [\n",
       "\t{\n",
       "\t\t\"name\": \"Name (for knowing) *optional\",\n",
       "\t\t\"type\": \"text\",\n",
       "\t\t\"required\": false\n",
       "\t},\n",
       "\t{\n",
       "\t\t\"name\": \"Twitter Handle (for following) *optional\",\n",
       "\t\t\"type\": \"text\",\n",
       "\t\t\"required\": false\n",
       "\t},\n",
       "\t{\n",
       "\t\t\"name\": \"Email (for newslettering) *optional\",\n",
       "\t\t\"type\": \"email\",\n",
       "\t\t\"required\": false\n",
       "\t}\n",
       "  ],\n",
       "  \"persistentCheckout\": false,\n",
       "  \"messageToSign\": \"CVMiniGames Access Unlock\",\n",
       "  \"pessimistic\": false\n",
       "}\n",
       " \n",
       " \n",
       "window.addEventListener(\"unlockProtocol.status\", function (event) {\n",
       "  console.log(\"status\", event.detail.state)\n",
       "  // We hide all .unlock-content elements \n",
       "  document.querySelectorAll('.unlock-content').forEach(function(el) { el.style.display = 'none'; });\n",
       "  // We show only the relevant element\n",
       "  document\n",
       "    .querySelectorAll(`.unlock-content.${event.detail.state}`)\n",
       "    .forEach((element) => {\n",
       "      element.style.display = \"block\";\n",
       "    });\n",
       "});\n",
       "\n",
       "window.addEventListener(\"unlockProtocol.authenticated\", function (event) {\n",
       "  console.log('authenticated')\n",
       "  // event.detail.addresss includes the address of the current user, when known\n",
       "});\n",
       "\n",
       "window.addEventListener(\"unlockProtocol.transactionSent\", function (event) {\n",
       "  console.log('transactionSent')\n",
       "  // event.detail.hash includes the hash of the transaction sent\n",
       "}); \n",
       "</script>\n"
      ],
      "text/plain": [
       "<IPython.core.display.HTML object>"
      ]
     },
     "metadata": {},
     "output_type": "display_data"
    }
   ],
   "source": [
    "%%html \n",
    "\n",
    "<p class=\"unlock-content locked\">\n",
    "  Token purchases are currently locked 🔒 <br>\n",
    "  You must log-in in order to purchase the token. <br>\n",
    "  By logging in you agree to the privacy policy and all terms, conditions, etc enumerated [here](https://cvminigames.com/blog/docs/legal.html). <br>\n",
    "  By purchasing the token (if through any other means), by de-facto, you agree to the privacy policy and all terms, conditions. \n",
    "</p>\n",
    "\n",
    "<p class=\"unlock-content unlocked\">\n",
    "  Congrats! Token purchase has been unlocked 🎉 <br>\n",
    "  Now go out and <a href='https://snapshot.org/#/cvminigames.eth/'>vote</a>!\n",
    "</p>\n",
    "\n",
    "<p class=\"unlock-content locked\" onclick=\"window.unlockProtocol && window.unlockProtocol.loadCheckoutModal()\"><button class=\"button\">Unlock!</button></p>\n",
    "\n",
    "<script>\n",
    "  (function(d, s) {\n",
    "    var js = d.createElement(s),\n",
    "      sc = d.getElementsByTagName(s)[0];\n",
    "    js.src = \"https://paywall.unlock-protocol.com/static/unlock.latest.min.js\";\n",
    "    sc.parentNode.insertBefore(js, sc);\n",
    "  }(document, \"script\"));\n",
    " \n",
    "var unlockProtocolConfig = {\n",
    "  \"locks\": { \n",
    "    \"0x3a03842776f13F622699A2da8AB2d022A606CC03\": {\n",
    "      \"network\": 137,\n",
    "      \"name\": \"CVMiniGames\"\n",
    "    }\n",
    "  },\n",
    "  \"icon\": \"https://pbs.twimg.com/profile_images/1479305970069159936/3jvoRpvc_400x400.jpg\",\n",
    "  \"callToAction\": {\n",
    "    \"default\": \"Mint now for (4 days of) access to games, voting, and exclusives galore (before needing to reactivate)!\",\n",
    "\t\"metadata\": \"We'd ask that you please provide the following information before joining!\",\n",
    "\t\"expired\": \"Reactivation needed! Token access expires every four days for most content (This will not mint a new nft but add 'credit' to your existing one)\"\n",
    "  },\n",
    "  \"metadataInputs\": [\n",
    "\t{\n",
    "\t\t\"name\": \"Name (for knowing) *optional\",\n",
    "\t\t\"type\": \"text\",\n",
    "\t\t\"required\": false\n",
    "\t},\n",
    "\t{\n",
    "\t\t\"name\": \"Twitter Handle (for following) *optional\",\n",
    "\t\t\"type\": \"text\",\n",
    "\t\t\"required\": false\n",
    "\t},\n",
    "\t{\n",
    "\t\t\"name\": \"Email (for newslettering) *optional\",\n",
    "\t\t\"type\": \"email\",\n",
    "\t\t\"required\": false\n",
    "\t}\n",
    "  ],\n",
    "  \"persistentCheckout\": false,\n",
    "  \"messageToSign\": \"CVMiniGames Access Unlock\",\n",
    "  \"pessimistic\": false\n",
    "}\n",
    " \n",
    " \n",
    "window.addEventListener(\"unlockProtocol.status\", function (event) {\n",
    "  console.log(\"status\", event.detail.state)\n",
    "  // We hide all .unlock-content elements \n",
    "  document.querySelectorAll('.unlock-content').forEach(function(el) { el.style.display = 'none'; });\n",
    "  // We show only the relevant element\n",
    "  document\n",
    "    .querySelectorAll(`.unlock-content.${event.detail.state}`)\n",
    "    .forEach((element) => {\n",
    "      element.style.display = \"block\";\n",
    "    });\n",
    "});\n",
    "\n",
    "window.addEventListener(\"unlockProtocol.authenticated\", function (event) {\n",
    "  console.log('authenticated')\n",
    "  // event.detail.addresss includes the address of the current user, when known\n",
    "});\n",
    "\n",
    "window.addEventListener(\"unlockProtocol.transactionSent\", function (event) {\n",
    "  console.log('transactionSent')\n",
    "  // event.detail.hash includes the hash of the transaction sent\n",
    "}); \n",
    "</script>"
   ]
  },
  {
   "cell_type": "code",
   "execution_count": 15,
   "metadata": {},
   "outputs": [
    {
     "data": {
      "text/html": [
       "<!--\n",
       "<script src=\"https://cdn.jsdelivr.net/npm/web3@latest/dist/web3.min.js\"></script>\n",
       "<script src=\"https://npmcdn.com/moralis/dist/moralis.js\"></script>\n",
       "\n",
       "    <div class='locked'>\n",
       "      <h3> Login: </h3>\n",
       "      <button onclick=\"logInMetaMask()\"> Metamask </button>\n",
       "      <button onclick=\"logInWalletConnect()\"> walletconnect </button>\n",
       "    </div>\n",
       "    <div class='unlocked' style=\"display:none\">\n",
       "      <button onclick=\"logOut()\"> logOut </button>\n",
       "    </div>\n",
       "\t<br><br>\n",
       "  <script>\n",
       "Moralis.initialize(\"otzI79ahR5VKTm7xiVo3hdRYPchqm57QjV8u5nz2\")\n",
       "Moralis.serverURL = \"https://nhwzgag7gbdb.usemoralis.com:2053/server\"\n",
       "async function init() {\n",
       "    try{\n",
       "        window.web3 = await Moralis.Web3.enable();\n",
       "        const user = await Moralis.User.current();\n",
       "        if(user){  \n",
       "            console.log(\"User:\", user.get('ethAddress'));\n",
       "            document.querySelectorAll(\".locked\").forEach(e => e.style.display='none');\n",
       "            document.querySelectorAll(\".unlocked\").forEach(e => e.style.display='block');\n",
       "        }else{\n",
       "            console.log(user);\n",
       "        }\n",
       "    }catch (err) {\n",
       "        console.log(\"Error Occured: \" + err);\n",
       "    }\n",
       "}\n",
       "\n",
       "\n",
       "async function logInMetaMask() {\n",
       "    try{ await Moralis.Web3.authenticate(); console.log(\"logged\"); init(); }\n",
       "    catch (err){ console.log(\"Error occured: \" + err); }\n",
       "}\n",
       "\n",
       "\n",
       "async function logInWalletConnect() {\n",
       "    try{ await Moralis.Web3.authenticate({ provider: \"walletconnect\" }); init(); }\n",
       "    catch (err){ console.log(err); }\n",
       "}\n",
       "\n",
       "\n",
       "async function logOut() {\n",
       "    try{ \n",
       "      await Moralis.User.logOut(); console.log(\"user logged out\"); init(); \n",
       "      document.querySelectorAll(\".unlocked\").forEach(e => e.style.display='none');\n",
       "      document.querySelectorAll(\".locked\").forEach(e => e.style.display='block');\n",
       "    }\n",
       "    catch(err){ console.log(\"Error occured: \" + err); }\n",
       "}\n",
       "\n",
       "\t</script>\n",
       "    -->\n"
      ],
      "text/plain": [
       "<IPython.core.display.HTML object>"
      ]
     },
     "metadata": {},
     "output_type": "display_data"
    }
   ],
   "source": [
    "%%html\n",
    "<!--\n",
    "<script src=\"https://cdn.jsdelivr.net/npm/web3@latest/dist/web3.min.js\"></script>\n",
    "<script src=\"https://npmcdn.com/moralis/dist/moralis.js\"></script>\n",
    "\n",
    "    <div class='locked'>\n",
    "      <h3> Login: </h3>\n",
    "      <button onclick=\"logInMetaMask()\"> Metamask </button>\n",
    "      <button onclick=\"logInWalletConnect()\"> walletconnect </button>\n",
    "    </div>\n",
    "    <div class='unlocked' style=\"display:none\">\n",
    "      <button onclick=\"logOut()\"> logOut </button>\n",
    "    </div>\n",
    "\t<br><br>\n",
    "  <script>\n",
    "Moralis.initialize(\"otzI79ahR5VKTm7xiVo3hdRYPchqm57QjV8u5nz2\")\n",
    "Moralis.serverURL = \"https://nhwzgag7gbdb.usemoralis.com:2053/server\"\n",
    "async function init() {\n",
    "    try{\n",
    "        window.web3 = await Moralis.Web3.enable();\n",
    "        const user = await Moralis.User.current();\n",
    "        if(user){  \n",
    "            console.log(\"User:\", user.get('ethAddress'));\n",
    "            document.querySelectorAll(\".locked\").forEach(e => e.style.display='none');\n",
    "            document.querySelectorAll(\".unlocked\").forEach(e => e.style.display='block');\n",
    "        }else{\n",
    "            console.log(user);\n",
    "        }\n",
    "    }catch (err) {\n",
    "        console.log(\"Error Occured: \" + err);\n",
    "    }\n",
    "}\n",
    "\n",
    "\n",
    "async function logInMetaMask() {\n",
    "    try{ await Moralis.Web3.authenticate(); console.log(\"logged\"); init(); }\n",
    "    catch (err){ console.log(\"Error occured: \" + err); }\n",
    "}\n",
    "\n",
    "\n",
    "async function logInWalletConnect() {\n",
    "    try{ await Moralis.Web3.authenticate({ provider: \"walletconnect\" }); init(); }\n",
    "    catch (err){ console.log(err); }\n",
    "}\n",
    "\n",
    "\n",
    "async function logOut() {\n",
    "    try{ \n",
    "      await Moralis.User.logOut(); console.log(\"user logged out\"); init(); \n",
    "      document.querySelectorAll(\".unlocked\").forEach(e => e.style.display='none');\n",
    "      document.querySelectorAll(\".locked\").forEach(e => e.style.display='block');\n",
    "    }\n",
    "    catch(err){ console.log(\"Error occured: \" + err); }\n",
    "}\n",
    "\n",
    "\t</script>\n",
    "    -->"
   ]
  },
  {
   "cell_type": "markdown",
   "metadata": {},
   "source": [
    "<details>\n",
    "<summary>"
   ]
  },
  {
   "cell_type": "markdown",
   "metadata": {},
   "source": [
    "## The Token"
   ]
  },
  {
   "cell_type": "markdown",
   "metadata": {},
   "source": [
    "</summary>"
   ]
  },
  {
   "cell_type": "markdown",
   "metadata": {},
   "source": [
    "Warren Buffet once said \"Price is what you pay. Value is what you get\". \n",
    "\n",
    "So exactly how much value can you get from a $1 token?\n",
    "\n",
    "In the future, token holders *may* be given access to or redeemed for: \n",
    "- Personalized Experience\n",
    "- Exclusive Merch (physical/digial) \n",
    "- Discounts \n",
    "- Early access \n",
    "- Vouchers \n",
    "- Special services \n",
    "- Preferential treatment \n",
    "- Means of payment \n",
    "- Newletter \n",
    "- P2P Token Escrows \n",
    "- Ticketing/ Events (Physical/ Digital) + (qrcode checkin) \n",
    "- Restricted access to a subset of features (Game, Unlock, [discord](www.Collab.land))\n",
    "- govtoken access (Snapshot)\n",
    "- tokenized time, offering consulting services for tokens: consulting services, etc\n",
    "- Airdrops: Digital goods( POAPS, NFTs ), Physical Goods (3D Print an Island) \n",
    "- Tasks: retweets for tokens, etc"
   ]
  },
  {
   "cell_type": "markdown",
   "metadata": {},
   "source": [
    "I'd like for this to be a community driven token but need to kick it off as a personal one till it gains traction."
   ]
  },
  {
   "cell_type": "markdown",
   "metadata": {},
   "source": [
    "Tokens may be distributed in the future by: Purchase, Membership, NewletterSub, ContestWinner, Giveaways"
   ]
  },
  {
   "cell_type": "markdown",
   "metadata": {},
   "source": [
    "<details>\n",
    "<summary>"
   ]
  },
  {
   "cell_type": "markdown",
   "metadata": {},
   "source": [
    "### Intrinsic Value"
   ]
  },
  {
   "cell_type": "markdown",
   "metadata": {},
   "source": [
    "</summary>"
   ]
  },
  {
   "cell_type": "markdown",
   "metadata": {},
   "source": [
    "You may also find these tacit properties worth consideration as well.\n",
    "\n",
    "- Community\n",
    "- Can’t be taken back & are - Contract Ownership (unlock)\n",
    "- Platformless (unlock->Opensea)\n",
    "- Upgradeable (unlock)\n",
    "- Contract Ownership (unlock)\n",
    "- Can aquire a market value themselves (if liquid)\n",
    "- For decision-making -> i.e. control over valuable resources \n",
    "- status signaling\n",
    "- Social coordination\n",
    "- There are many possible ways for engagement may be rewarded\n",
    "- If there is a finite supply of them and demand goes up then the value of the token may go up.\n",
    "- May offer more than whats listed: suchas alpha, relationships, connections, and access to other members. \n",
    "- Shared ownership creates commradery\n",
    "- May evolve from individual to community token"
   ]
  },
  {
   "cell_type": "markdown",
   "metadata": {},
   "source": [
    "</details>  <!-- Intrinsic Value-->\n",
    "<details style=\"max-width:800px\">\n",
    "<summary>"
   ]
  },
  {
   "cell_type": "markdown",
   "metadata": {},
   "source": [
    "### Limitations"
   ]
  },
  {
   "cell_type": "markdown",
   "metadata": {},
   "source": [
    "</summary>"
   ]
  },
  {
   "cell_type": "markdown",
   "metadata": {},
   "source": [
    "<span style='color:red'>This CVMinigames Utility token has an infinite supply </span> and should not be considered a security and should not be used for debt (e.g., banknote, bond, and debenture) nor equity (e.g., common stock) related purposed.\n",
    "\n",
    "To reiterate:\n",
    "\n",
    "The CVMinigames token is not a financial asset. It's creator has no intention of engaging in any 'Security Related' activites through it.\n",
    "\n",
    "This means token hodlers will also have (a non-exhaustive list): \n",
    "- **NO Rights**: Everything provided is a priviledge and not a promise.\n",
    "- **No Governance, power, or say**:  voting is purely symbolic.\n",
    "- **No Financial incentive**: As token holders agree not to take Loans, Debts, Staking, or otherwise using or enabled through holding this currency.  \n",
    "- **No Hope**: of financial reward nor promise of it (by the issuer) through the purchase of this token.\n",
    "- **Access Revoked**: without need for cause nor explanation  \n",
    "\n",
    "Couldn't make it more clear. Just enjoy the $1 token and all the potentially awesome stuff it *may* land you."
   ]
  },
  {
   "cell_type": "markdown",
   "metadata": {},
   "source": [
    "</details><!-- Limitations -->"
   ]
  },
  {
   "cell_type": "markdown",
   "metadata": {},
   "source": [
    "</details> <!-- The Token -->\n",
    "<details>\n",
    "<summary>"
   ]
  },
  {
   "cell_type": "markdown",
   "metadata": {},
   "source": [
    "## Non-Token Services"
   ]
  },
  {
   "cell_type": "markdown",
   "metadata": {},
   "source": [
    "</summary>"
   ]
  },
  {
   "cell_type": "markdown",
   "metadata": {},
   "source": [
    "It's always worth shooting me an ask for small questions; I like to help."
   ]
  },
  {
   "cell_type": "markdown",
   "metadata": {},
   "source": [
    "If I deem your project requiring a non-insignificant amount of work on my end I will charge a minimum $500 retainer.\n",
    "\n",
    "Because frankly, I deserve it.\n"
   ]
  },
  {
   "cell_type": "markdown",
   "metadata": {},
   "source": [
    "So what else can I do?"
   ]
  },
  {
   "cell_type": "markdown",
   "metadata": {},
   "source": [
    "- Property Development: Managing, architecting, designing, and developing and scripting.\n",
    "- Consulting: To help make decisions in my knowledge of CV, programming, and the blockchain industry.\n",
    "- Marketing: Increase exposure with game tie-ins, site advertising, and tweets or product reviews.\n"
   ]
  },
  {
   "cell_type": "markdown",
   "metadata": {},
   "source": [
    "</details>\n",
    "<details>\n",
    "<summary>"
   ]
  },
  {
   "cell_type": "markdown",
   "metadata": {},
   "source": [
    "## Articles:"
   ]
  },
  {
   "cell_type": "markdown",
   "metadata": {},
   "source": [
    "</summary>"
   ]
  },
  {
   "cell_type": "markdown",
   "metadata": {},
   "source": [
    "- <a href='https://cvminigames.com/'>Home</a>\n",
    "- <a href='https://cvminigames.com/blog/docs/parcels.html'>Parcel</a> Information\n",
    "- <a href='https://cvminigames.com/blog/docs/progress.html'>Progress</a> Report ⚠️👷🚧\n",
    "- <a href='https://cvminigames.com/blog/docs/scarcity.html'>Scarcity Island</a> Lore and Updates ⚠️👷🚧\n",
    "- <a href='https://cvminigames.com/blog/docs/technology.html'>Technical</a> Details ⚠️👷🚧\n",
    "- <a href='https://cvminigames.com/blog/docs/tutorials.html'>Tutorials</a> for Builders ⚠️👷🚧\n",
    "\n",
    "⚠️👷🚧 = WIP"
   ]
  },
  {
   "cell_type": "markdown",
   "metadata": {},
   "source": [
    "</details>\n",
    "<details>\n",
    "<summary>"
   ]
  },
  {
   "cell_type": "markdown",
   "metadata": {},
   "source": [
    "## Standalone Maps:"
   ]
  },
  {
   "cell_type": "markdown",
   "metadata": {},
   "source": [
    "</summary>"
   ]
  },
  {
   "cell_type": "markdown",
   "metadata": {},
   "source": [
    "- <a href='https://cvminigames.com/blog/docs/maps/cv_vol_map.html'>Parcel Volume</a>\n",
    "- <a href='https://cvminigames.com/blog/docs/maps/cv_book_map.html'>Guestbook Locations</a>\n",
    "- <a href='https://cvminigames.com/blog/docs/maps/cv_visitor_map.html'>Visitors over 90 days</a>"
   ]
  },
  {
   "cell_type": "markdown",
   "metadata": {},
   "source": [
    "</details>\n",
    "<details>\n",
    "<summary>"
   ]
  },
  {
   "cell_type": "markdown",
   "metadata": {},
   "source": [
    "## Tools"
   ]
  },
  {
   "cell_type": "markdown",
   "metadata": {},
   "source": [
    "</summary>"
   ]
  },
  {
   "cell_type": "markdown",
   "metadata": {},
   "source": [
    "- [Guestbook Airdrops](../docs/airdrop.html)"
   ]
  },
  {
   "cell_type": "markdown",
   "metadata": {},
   "source": [
    "</details>"
   ]
  }
 ],
 "metadata": {
  "interpreter": {
   "hash": "31f2aee4e71d21fbe5cf8b01ff0e069b9275f58929596ceb00d14d90e3e16cd6"
  },
  "kernelspec": {
   "display_name": "Python 3.8.10 64-bit",
   "language": "python",
   "name": "python3"
  },
  "language_info": {
   "codemirror_mode": {
    "name": "ipython",
    "version": 3
   },
   "file_extension": ".py",
   "mimetype": "text/x-python",
   "name": "python",
   "nbconvert_exporter": "python",
   "pygments_lexer": "ipython3",
   "version": "3.8.10"
  },
  "orig_nbformat": 4
 },
 "nbformat": 4,
 "nbformat_minor": 2
}

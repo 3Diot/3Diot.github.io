{
 "cells": [
  {
   "cell_type": "markdown",
   "metadata": {},
   "source": [
    "# TEST\n",
    "> This publication inspired by [nbdev](http://nbdev.fast.ai/tutorial/) and [nbConvert](https://nbconvert.readthedocs.io/en/latest/).\n",
    "\n",
    "- toc: true\n",
    "- title: TestTitle\n",
    "- template: article\n",
    "- description: this isnt working\n",
    "- image: images/company_logo.png\n",
    "- keywords: thisworks\n",
    "- badges: true\n",
    "- comments: true\n",
    "- categories: [test]\n",
    "- hide: false\n",
    "- metadata_key1: metadata_value1\n",
    "- metadata_key2: metadata_value2"
   ]
  },
  {
   "cell_type": "markdown",
   "metadata": {},
   "source": [
    "## Welcome! \n",
    "\n",
    "Gaming is being brought to CV and you are invited to choose the direction of developments. \n",
    "\n",
    "This site is still being built. It is to be accompanyed with a token and dao.\n",
    "\n",
    "Please come back after Jan 10th (ish) for working links to view a web compatible rendering of the following articles:\n",
    "\n",
    "## About\n",
    "This site will be home to:\n",
    "- DAO voting information\n",
    "- A compendium of articles covering all things CV\n",
    "- Interactive data reports\n",
    "- Alpha, presale, ticketing and more.\n",
    "- Tools and services that enhance your CV playing experience\n",
    "\n",
    "## Articles (Comming soon!):\n",
    "- <a href='./blog/docs/002_CV.html'>Intro</a>\n",
    "- <a href='./blog/docs/002_CV.html'>Guestbook Locations</a>\n",
    "- <a href='./blog/docs/002_CV.html'>CV_Misc Notes</a>\n",
    "- <a href='./blog/docs/002_CV.html'>Example Report CV</a>\n",
    "- <a href='./blog/docs/002_CV.html'>Scan State Files</a>\n",
    "- <a href='./blog/docs/002_CV.html'>Scarcity Island</a>\n",
    "\n",
    "For the impatient, you may find the raw code to these documents on my [Github](https://github.com/3Diot/3Diot.github.io) page. \n",
    "\n",
    "Sincerely, \n",
    "\n",
    "Carlos."
   ]
  },
  {
   "cell_type": "markdown",
   "metadata": {},
   "source": []
  }
 ],
 "metadata": {
  "interpreter": {
   "hash": "31f2aee4e71d21fbe5cf8b01ff0e069b9275f58929596ceb00d14d90e3e16cd6"
  },
  "kernelspec": {
   "display_name": "Python 3.8.10 64-bit",
   "language": "python",
   "name": "python3"
  },
  "language_info": {
   "codemirror_mode": {
    "name": "ipython",
    "version": 3
   },
   "file_extension": ".py",
   "mimetype": "text/x-python",
   "name": "python",
   "nbconvert_exporter": "python",
   "pygments_lexer": "ipython3",
   "version": "3.8.10"
  },
  "orig_nbformat": 4
 },
 "nbformat": 4,
 "nbformat_minor": 2
}

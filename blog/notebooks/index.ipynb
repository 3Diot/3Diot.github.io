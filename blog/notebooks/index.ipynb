{
 "cells": [
  {
   "cell_type": "markdown",
   "metadata": {},
   "source": [
    "# Homepage\n",
    "> This publication inspired by [nbdev](http://nbdev.fast.ai/tutorial/) and [nbConvert](https://nbconvert.readthedocs.io/en/latest/).\n",
    "\n",
    "- toc: false\n",
    "- filename: index\n",
    "- tab: CVMinigames | Home\n",
    "- title: CVMinigames\n",
    "- template: article\n",
    "- description: this isnt working\n",
    "- image: images/company_logo.png"
   ]
  },
  {
   "cell_type": "markdown",
   "metadata": {},
   "source": [
    "<style> h2, h3{display: inline;}</style>"
   ]
  },
  {
   "cell_type": "markdown",
   "metadata": {},
   "source": [
    "## Welcome! \n",
    "\n",
    "Use this page to navigate about the CVMiniGames ecosystem."
   ]
  },
  {
   "cell_type": "markdown",
   "metadata": {},
   "source": [
    "<details open style=\"background:#eee\">\n",
    "<summary>"
   ]
  },
  {
   "cell_type": "markdown",
   "metadata": {},
   "source": [
    "## Articles:"
   ]
  },
  {
   "cell_type": "markdown",
   "metadata": {},
   "source": [
    "</summary>"
   ]
  },
  {
   "cell_type": "markdown",
   "metadata": {},
   "source": [
    "- <a href='./lore'>Lore</a>: A review of what's out there\n",
    "- <a href='./tutorials'>Build Tips</a>: Secret Secrets to make you a better builder! \n",
    "- <a href='./parcels'>Parcel</a> Information\n",
    "- <a href='./tokengating'>Token Gating</a>: HOWTO: Limit access to a subset of your parcel or features.\n",
    "- <a href='./monetize'>Monetizing</a>: A review of how people are making money"
   ]
  },
  {
   "cell_type": "markdown",
   "metadata": {},
   "source": [
    "</details>\n",
    "<details>\n",
    "<summary>"
   ]
  },
  {
   "cell_type": "markdown",
   "metadata": {},
   "source": [
    "## Interactive Data"
   ]
  },
  {
   "cell_type": "markdown",
   "metadata": {},
   "source": [
    "</summary>"
   ]
  },
  {
   "cell_type": "markdown",
   "metadata": {},
   "source": [
    "- <a href='https://cvminigames.com/blog/docs/tables/parcelsPivotTable.html'>Parcels</a> Table\n",
    "- <a href='https://cvminigames.com/blog/docs/maps/cv_book_map.html'>Guestbooks</a> Map\n",
    "- <a href='https://cvminigames.com/blog/docs/maps/cv_price_map.html'>Sale Prices</a> Map\n",
    "- <a href='https://cvminigames.com/blog/docs/maps/cv_visitor_map.html'>Visitors</a> Map"
   ]
  },
  {
   "cell_type": "markdown",
   "metadata": {},
   "source": [
    "</details>\n",
    "<details style=\"background:#eee\">\n",
    "<summary>"
   ]
  },
  {
   "cell_type": "markdown",
   "metadata": {},
   "source": [
    "## Tools"
   ]
  },
  {
   "cell_type": "markdown",
   "metadata": {},
   "source": [
    "</summary>"
   ]
  },
  {
   "cell_type": "markdown",
   "metadata": {},
   "source": [
    "- [Airdrops](https://cvminigames.com/blog/docs/airdrops.html)\n",
    "- <a href='https://charleskarpati.com/cv/'>Admin</a>: Scripts you can use to collect analytics and create immersive content"
   ]
  },
  {
   "cell_type": "markdown",
   "metadata": {},
   "source": [
    "</details>\n",
    "<details>\n",
    "<summary>"
   ]
  },
  {
   "cell_type": "markdown",
   "metadata": {},
   "source": [
    "## External Resources"
   ]
  },
  {
   "cell_type": "markdown",
   "metadata": {},
   "source": [
    "</summary>"
   ]
  },
  {
   "cell_type": "markdown",
   "metadata": {},
   "source": [
    "- [Analytics](https://nonfungible.com/market/history/cryptovoxels)"
   ]
  },
  {
   "cell_type": "code",
   "execution_count": null,
   "metadata": {
    "vscode": {
     "languageId": "plaintext"
    }
   },
   "outputs": [],
   "source": [
    "http://blog.cryptovoxels.com/scripting-bundle/\n",
    "\n",
    "https://peakd.com/cryptovoxels/@cluny.the.rat/scarcity-artifact-wearable-fitting-guide-i-two-outfits\n",
    "\n",
    "https://thegraph.com/hosted-service/subgraph/benjythebee/cryptovoxels-parcels?version=current\n",
    "\n",
    "Github: https://github.com/cryptovoxels/parcel-market-subgraph\n",
    "ID: QmVSoQsUbbKyk2z4Qw6hzUcbcQVsAnoe27iPzfJF9popt2\n",
    "Queries (HTTP): https://api.thegraph.com/subgraphs/name/benjythebee/cryptovoxels-parcels\n",
    "\n",
    "\n",
    "create quadratic strategy that recognizes the suburb variable in cv erc721 metadata\n",
    "https://github.com/snapshot-labs/snapshot-strategies#checklist-for-adding-a-new-strategy\n",
    "use existing quadratic strategies for reference, here\n",
    "https://github.com/snapshot-labs/snapshot-strategies/tree/master/src/strategies\n",
    "each suburb will need an ENS name to register their snapshot page\n",
    "& that's it. gasless voting per suburb using existing NFTs\n",
    "\n",
    "\n",
    "\n",
    "Suburbs should have their own DAO contracts on the chain and suburb parcel owners should automatically be eligible to vote on suburb-wide parameters. The voting system should be based on preferences, i.e. something similar to “I strongly agree, I am a little bit supportive, I am a little bit against, I am strongly against” and one parcel gives you 4 votes.\n",
    "Vote count not higher than a certain threshold should lead to inconclusive results.\n",
    "The parameters people could vote on are not fully decided at the moment; e.g. Street colors are island based (not suburb based)\n",
    "A whole suburb could potentially decide on banning a certain parcel though; Say one parcel is being a parasite (neglecting the theme, being noisy or annoying) then maybe the suburb could vote on nerfing the parcel down or banning the owner for 7 days\n",
    "\n",
    "gnosis wallets \n",
    "bitrees rentals\n",
    "john bittrees = high contract building"
   ]
  },
  {
   "cell_type": "markdown",
   "metadata": {},
   "source": [
    "</details>"
   ]
  },
  {
   "cell_type": "markdown",
   "metadata": {},
   "source": [
    "</summary>"
   ]
  },
  {
   "cell_type": "markdown",
   "metadata": {},
   "source": [
    "</details>"
   ]
  }
 ],
 "metadata": {
  "interpreter": {
   "hash": "31f2aee4e71d21fbe5cf8b01ff0e069b9275f58929596ceb00d14d90e3e16cd6"
  },
  "kernelspec": {
   "display_name": "Python 3.8.10 64-bit",
   "language": "python",
   "name": "python3"
  },
  "language_info": {
   "codemirror_mode": {
    "name": "ipython",
    "version": 3
   },
   "file_extension": ".py",
   "mimetype": "text/x-python",
   "name": "python",
   "nbconvert_exporter": "python",
   "pygments_lexer": "ipython3",
   "version": "3.10.2"
  },
  "orig_nbformat": 4
 },
 "nbformat": 4,
 "nbformat_minor": 2
}

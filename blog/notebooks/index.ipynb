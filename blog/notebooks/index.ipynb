{
 "cells": [
  {
   "cell_type": "markdown",
   "metadata": {},
   "source": [
    "# Homepage\n",
    "> This publication inspired by [nbdev](http://nbdev.fast.ai/tutorial/) and [nbConvert](https://nbconvert.readthedocs.io/en/latest/).\n",
    "\n",
    "- toc: false\n",
    "- filename: index\n",
    "- tab: CVMinigames | Home\n",
    "- title: CVMinigames\n",
    "- template: article\n",
    "- description: this isnt working\n",
    "- image: images/company_logo.png"
   ]
  },
  {
   "cell_type": "markdown",
   "metadata": {},
   "source": [
    "<style> h2, h3{display: inline;}</style>"
   ]
  },
  {
   "cell_type": "markdown",
   "metadata": {},
   "source": [
    "## Welcome! \n",
    "\n",
    "Use this page to navigate about the CVMiniGames ecosystem. \n",
    "\n",
    "Here you will find information about my CVMinigame token and all that it provides."
   ]
  },
  {
   "cell_type": "markdown",
   "metadata": {},
   "source": [
    "<div>"
   ]
  },
  {
   "cell_type": "markdown",
   "metadata": {},
   "source": [
    "MORALIS LOGIN / ADMIN BUTTON"
   ]
  },
  {
   "cell_type": "markdown",
   "metadata": {},
   "source": []
  },
  {
   "cell_type": "markdown",
   "metadata": {},
   "source": [
    "\n",
    "</div>"
   ]
  },
  {
   "cell_type": "markdown",
   "metadata": {},
   "source": [
    "<details>\n",
    "<summary>"
   ]
  },
  {
   "cell_type": "markdown",
   "metadata": {},
   "source": [
    "## The Token"
   ]
  },
  {
   "cell_type": "markdown",
   "metadata": {},
   "source": [
    "</summary>"
   ]
  },
  {
   "cell_type": "markdown",
   "metadata": {},
   "source": [
    "Warren Buffet once said \"Price is what you pay. Value is what you get\". \n",
    "\n",
    "So exactly how much value can you get from a $1 token?\n",
    "\n",
    "In the future, token holders *may* be given access to or redeemed for: \n",
    "- Personalized Experience\n",
    "- Exclusive Merch (physical/digial) \n",
    "- Discounts \n",
    "- Early access \n",
    "- Vouchers \n",
    "- Special services \n",
    "- Preferential treatment \n",
    "- Means of payment \n",
    "- Newletter \n",
    "- P2P Token Escrows \n",
    "- Ticketing/ Events (Physical/ Digital) + (qrcode checkin) \n",
    "- Restricted access to a subset of features (Game, Unlock, [discord](www.Collab.land))\n",
    "- govtoken access (Snapshot)\n",
    "- tokenized time, offering consulting services for tokens: consulting services, etc\n",
    "- Airdrops: Digital goods( POAPS, NFTs ), Physical Goods (3D Print an Island) \n",
    "- Tasks: retweets for tokens, etc"
   ]
  },
  {
   "cell_type": "markdown",
   "metadata": {},
   "source": [
    "I'd like for this to be a community driven token but need to kick it off as a personal one till it gains traction."
   ]
  },
  {
   "cell_type": "markdown",
   "metadata": {},
   "source": [
    "Tokens may be distributed in the future by: Purchase, Membership, NewletterSub, ContestWinner, Giveaways"
   ]
  },
  {
   "cell_type": "markdown",
   "metadata": {},
   "source": [
    "<details>\n",
    "<summary>"
   ]
  },
  {
   "cell_type": "markdown",
   "metadata": {},
   "source": [
    "### Intrinsic Value"
   ]
  },
  {
   "cell_type": "markdown",
   "metadata": {},
   "source": [
    "</summary>"
   ]
  },
  {
   "cell_type": "markdown",
   "metadata": {},
   "source": [
    "You may also find these tacit properties worth consideration as well.\n",
    "\n",
    "- Community\n",
    "- Can’t be taken back & are - Contract Ownership (unlock)\n",
    "- Platformless (unlock->Opensea)\n",
    "- Upgradeable (unlock)\n",
    "- Contract Ownership (unlock)\n",
    "- Can aquire a market value themselves (if liquid)\n",
    "- For decision-making -> i.e. control over valuable resources \n",
    "- status signaling\n",
    "- Social coordination\n",
    "- There are many possible ways for engagement may be rewarded\n",
    "- If there is a finite supply of them and demand goes up then the value of the token may go up.\n",
    "- May offer more than whats listed: suchas alpha, relationships, connections, and access to other members. \n",
    "- Shared ownership creates commradery\n",
    "- May evolve from individual to community token"
   ]
  },
  {
   "cell_type": "markdown",
   "metadata": {},
   "source": [
    "</details>  <!-- Intrinsic Value-->\n",
    "<details>\n",
    "<summary>"
   ]
  },
  {
   "cell_type": "markdown",
   "metadata": {},
   "source": [
    "### Limitations"
   ]
  },
  {
   "cell_type": "markdown",
   "metadata": {},
   "source": [
    "</summary>"
   ]
  },
  {
   "cell_type": "markdown",
   "metadata": {},
   "source": [
    "<span style='color:red'>This CVMinigames Utility token has an infinite supply </span> and should not be considered a security and should not be used for debt (e.g., banknote, bond, and debenture) nor equity (e.g., common stock) related purposed.\n",
    "\n",
    "To reiterate:\n",
    "\n",
    "The CVMinigames token is not a financial asset. It's creator has no intention of engaging in any 'Security Related' activites through it.\n",
    "\n",
    "This means token hodlers will also have (a non-exhaustive list): \n",
    "- **NO Rights**: Everything provided is a priviledge and not a promise.\n",
    "- **No Governance, power, or say**:  voting is purely symbolic.\n",
    "- **No Financial incentive**: As token holders agree not to take Loans, Debts, Staking, or otherwise using or enabled through holding this currency.  \n",
    "- **No Hope**: of financial reward nor promise of it (by the issuer) through the purchase of this token.\n",
    "- **Access Revoked**: without need for cause nor explanation  \n",
    "\n",
    "Couldn't make it more clear. Just enjoy the $1 token and all the potentially awesome stuff it *may* land you."
   ]
  },
  {
   "cell_type": "markdown",
   "metadata": {},
   "source": [
    "</details><!-- Limitations -->"
   ]
  },
  {
   "cell_type": "markdown",
   "metadata": {},
   "source": [
    "</details> <!-- The Token -->\n",
    "<details>\n",
    "<summary>"
   ]
  },
  {
   "cell_type": "markdown",
   "metadata": {},
   "source": [
    "## Non-Token Services"
   ]
  },
  {
   "cell_type": "markdown",
   "metadata": {},
   "source": [
    "</summary>"
   ]
  },
  {
   "cell_type": "markdown",
   "metadata": {},
   "source": [
    "It's always worth shooting me an ask for small questions; I like to help."
   ]
  },
  {
   "cell_type": "markdown",
   "metadata": {},
   "source": [
    "If I deem your project requiring a non-insignificant amount of work on my end I will charge a minimum $500 retainer.\n",
    "\n",
    "Because frankly, I deserve it.\n"
   ]
  },
  {
   "cell_type": "markdown",
   "metadata": {},
   "source": [
    "So what else can I do?"
   ]
  },
  {
   "cell_type": "markdown",
   "metadata": {},
   "source": [
    "- Property Development: Managing, architecting, designing, and developing and scripting.\n",
    "- Consulting: To help make decisions in my knowledge of CV, programming, and the blockchain industry.\n",
    "- Marketing: Increase exposure with game tie-ins, site advertising, and tweets or product reviews.\n"
   ]
  },
  {
   "cell_type": "markdown",
   "metadata": {},
   "source": [
    "</details>\n",
    "<details>\n",
    "<summary>"
   ]
  },
  {
   "cell_type": "markdown",
   "metadata": {},
   "source": [
    "## Articles:"
   ]
  },
  {
   "cell_type": "markdown",
   "metadata": {},
   "source": [
    "</summary>"
   ]
  },
  {
   "cell_type": "markdown",
   "metadata": {},
   "source": [
    "- <a href='https://cvminigames.com/'>Home</a>\n",
    "- <a href='https://cvminigames.com/blog/docs/parcels.html'>Parcel</a> Information\n",
    "- <a href='https://cvminigames.com/blog/docs/progress.html'>Progress</a> Report\n",
    "- <a href='https://cvminigames.com/blog/docs/scarcity.html'>Scarcity Island</a> Lore and Updates\n",
    "- <a href='https://cvminigames.com/blog/docs/technology.html'>Technical</a> Details \n",
    "- <a href='https://cvminigames.com/blog/docs/tutorials.html'>Tutorials</a> for Builders"
   ]
  },
  {
   "cell_type": "markdown",
   "metadata": {},
   "source": [
    "</details>\n",
    "<details>\n",
    "<summary>"
   ]
  },
  {
   "cell_type": "markdown",
   "metadata": {},
   "source": [
    "## Standalone Maps:"
   ]
  },
  {
   "cell_type": "markdown",
   "metadata": {},
   "source": [
    "</summary>"
   ]
  },
  {
   "cell_type": "markdown",
   "metadata": {},
   "source": [
    "- <a href='https://cvminigames.com/blog/docs/maps/cv_vol_map.html'>Parcel Volume</a>\n",
    "- <a href='https://cvminigames.com/blog/docs/maps/cv_book_map.html'>Guestbook Locations</a>\n",
    "- <a href='https://cvminigames.com/blog/docs/maps/cv_visitor_map.html'>Visitors over 90 days</a>"
   ]
  },
  {
   "cell_type": "markdown",
   "metadata": {},
   "source": [
    "</details>\n",
    "<details>\n",
    "<summary>"
   ]
  },
  {
   "cell_type": "markdown",
   "metadata": {},
   "source": [
    "## Legal"
   ]
  },
  {
   "cell_type": "markdown",
   "metadata": {},
   "source": [
    "</summary>"
   ]
  },
  {
   "cell_type": "markdown",
   "metadata": {},
   "source": [
    "BY USING THIS SITE AND ANY AFFILIATED PRODUCTS YOU AGREE TO \n",
    "- FOLLOWING THESE <a href='https://www.cryptovoxels.com/terms'>TERMS OF SERVICE</a>\n",
    "- FOLLOWING THIS FOLLOWING THIS <a href='https://www.cryptovoxels.com/conduct'>CODE OF CONDUCT</a>\n",
    "- ACCEPTING THIS <a href='https://www.cryptovoxels.com/privacy'>PRIVACY POLICY</a>\n",
    "WHEREVER APPLICABLE, HOWEVER BEST APPLICABLE.\n",
    "\n",
    "\n",
    "<p> <b>CONTACT ME</b> <br>\n",
    "For more information about privacy practices, if you have questions, or if you would like to make a complaint, please contact me by e-mail at charles.karpat@gmail.com </p>"
   ]
  },
  {
   "cell_type": "markdown",
   "metadata": {},
   "source": [
    "<details>\n",
    "<summary>"
   ]
  },
  {
   "cell_type": "markdown",
   "metadata": {},
   "source": [
    "### Disclaimer"
   ]
  },
  {
   "cell_type": "markdown",
   "metadata": {},
   "source": [
    "</summary>"
   ]
  },
  {
   "cell_type": "markdown",
   "metadata": {},
   "source": [
    "<b>Views Expressed</b>: All views expressed are the authors own and do not represent the opinions of any entity whatsover with which they have been, are now, or will be affiliated.\n",
    "\n",
    "<b>Responsibility</b>, Errors and Ommissions: The author makes no assurance about the reliability of the information. The author makes takes no responsibility for updating product nor maintaining any porformant status. Under no circumstances shall the Author or its affiliates be liable for any indirect incedental, consequential, or special and or exemplary damages arising out of or in connection with this  site and related products. Information is provided 'as is' with distinct plausability of errors and ommitions. Information found within the contents is attached with an MIT license. Please refer to the License for more information.\n",
    "\n",
    "<b>Use at Risk</b>: Any action you take upon the information or tooling provided is strictly at your own risk, and the author will not be liable for any losses and damages in connection with the use of this site and related products.\n",
    "\n",
    "Fair Use this site contains copyrighted material the use of which has not always been specifically authorized by the copyright owner. While no intention is made to unlawfully use copyrighted work, circumstanes may arise in which such material is made available in effort to advance scientific literacy. We believe this constitutes a 'fair use' of any such copyrighted material as provided for in section 107 of the US Copyright Law. In accordance with Titile 17 U.S.C. Section 108, the material on this site is distributed without profit to those who have expressed a prior interest in receiving the included information for research and education purposes.\n",
    "\n",
    "for more information go to: http://www.law.cornell.edu/uscode/17/107.shtml. If you wish to use copyrighted material from this site for purposes of your own that go beyond 'fair use', you must obtain permission from the copyright owner."
   ]
  },
  {
   "cell_type": "markdown",
   "metadata": {},
   "source": [
    "</details> <!-- End Disclaimer section -->\n",
    "<details>\n",
    "<summary>"
   ]
  },
  {
   "cell_type": "markdown",
   "metadata": {},
   "source": [
    "### License"
   ]
  },
  {
   "cell_type": "markdown",
   "metadata": {},
   "source": [
    "</summary>"
   ]
  },
  {
   "cell_type": "markdown",
   "metadata": {},
   "source": [
    "Copyright © 2022 Charles Karpati\n",
    "\n",
    "Permission is hereby granted, free of charge, to any person obtaining a copy of this software and associated documentation files (the \"Software\"), to deal in the Software without restriction, including without limitation the rights to use, copy, modify, merge, publish, distribute, sublicense, and/or sell copies of the Software, and to permit persons to whom the Software is furnished to do so, subject to the following conditions:\n",
    "\n",
    "The above copyright notice and this permission notice shall be included in all copies or substantial portions of the Software.\n",
    "\n",
    "THE SOFTWARE IS PROVIDED \"AS IS\", WITHOUT WARRANTY OF ANY KIND, EXPRESS OR IMPLIED, INCLUDING BUT NOT LIMITED TO THE WARRANTIES OF MERCHANTABILITY, FITNESS FOR A PARTICULAR PURPOSE AND NONINFRINGEMENT. IN NO EVENT SHALL THE AUTHORS OR COPYRIGHT HOLDERS BE LIABLE FOR ANY CLAIM, DAMAGES OR OTHER LIABILITY, WHETHER IN AN ACTION OF CONTRACT, TORT OR OTHERWISE, ARISING FROM, OUT OF OR IN CONNECTION WITH THE SOFTWARE OR THE USE OR OTHER DEALINGS IN THE SOFTWARE."
   ]
  },
  {
   "cell_type": "markdown",
   "metadata": {},
   "source": [
    "</details> <!-- End License section -->"
   ]
  },
  {
   "cell_type": "markdown",
   "metadata": {},
   "source": [
    "</details> <!-- End LEGAL section -->"
   ]
  }
 ],
 "metadata": {
  "interpreter": {
   "hash": "31f2aee4e71d21fbe5cf8b01ff0e069b9275f58929596ceb00d14d90e3e16cd6"
  },
  "kernelspec": {
   "display_name": "Python 3.8.10 64-bit",
   "language": "python",
   "name": "python3"
  },
  "language_info": {
   "codemirror_mode": {
    "name": "ipython",
    "version": 3
   },
   "file_extension": ".py",
   "mimetype": "text/x-python",
   "name": "python",
   "nbconvert_exporter": "python",
   "pygments_lexer": "ipython3",
   "version": "3.8.10"
  },
  "orig_nbformat": 4
 },
 "nbformat": 4,
 "nbformat_minor": 2
}

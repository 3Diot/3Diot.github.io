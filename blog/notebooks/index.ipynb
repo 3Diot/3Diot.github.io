{
 "cells": [
  {
   "cell_type": "markdown",
   "metadata": {},
   "source": [
    "# Homepage\n",
    "> This publication inspired by [nbdev](http://nbdev.fast.ai/tutorial/) and [nbConvert](https://nbconvert.readthedocs.io/en/latest/).\n",
    "\n",
    "- toc: false\n",
    "- filename: index\n",
    "- tab: CVMinigames | Home\n",
    "- title: CVMinigames\n",
    "- template: article\n",
    "- description: this isnt working\n",
    "- image: images/company_logo.png"
   ]
  },
  {
   "cell_type": "markdown",
   "metadata": {},
   "source": [
    "<style> h2, h3{display: inline;}</style>"
   ]
  },
  {
   "cell_type": "markdown",
   "metadata": {},
   "source": [
    "## Welcome! \n",
    "\n",
    "Use this page to navigate about the CVMiniGames ecosystem. \n",
    "\n",
    "Here you will find information about CVMinigame token all that it provides."
   ]
  },
  {
   "cell_type": "markdown",
   "metadata": {},
   "source": [
    "<details>\n",
    "<summary>"
   ]
  },
  {
   "cell_type": "markdown",
   "metadata": {},
   "source": [
    "## Non-Token Services"
   ]
  },
  {
   "cell_type": "markdown",
   "metadata": {},
   "source": [
    "</summary>"
   ]
  },
  {
   "cell_type": "markdown",
   "metadata": {},
   "source": [
    "It's always worth shooting me an ask for small questions. I've done an insane amount of work for people absolutely free."
   ]
  },
  {
   "cell_type": "markdown",
   "metadata": {},
   "source": [
    "If I deem your project requiring a non-insignificant amount of work on my end I will charge a minimum $500 retainer.\n",
    "\n",
    "Because frankly, I deserve it.\n"
   ]
  },
  {
   "cell_type": "markdown",
   "metadata": {},
   "source": [
    "So what else can I do?"
   ]
  },
  {
   "cell_type": "markdown",
   "metadata": {},
   "source": [
    "Property Management: Inclusive of renting property to clients,\n",
    "maintenance of technical and visual aesthetic\n",
    "point of contact for all client-related issues and inquiries.\n",
    "- Property Development: Managing, architecting, designing, and developing and scripting both in and out of game.\n",
    "- Consulting: To help make decisions in my knowledge of CV, programming, and the blockchain industry.\n",
    "- Marketing: Increase exposure with game tie-ins, site advertising, and tweets or product reviews.\n"
   ]
  },
  {
   "cell_type": "markdown",
   "metadata": {},
   "source": [
    "</details>\n",
    "<details>\n",
    "<summary>"
   ]
  },
  {
   "cell_type": "markdown",
   "metadata": {},
   "source": [
    "## Articles:"
   ]
  },
  {
   "cell_type": "markdown",
   "metadata": {},
   "source": [
    "</summary>"
   ]
  },
  {
   "cell_type": "markdown",
   "metadata": {},
   "source": [
    "- <a href='https://cvminigames.com/'>Home</a>\n",
    "- <a href='https://cvminigames.com/blog/docs/parcels.html'>Parcels</a> \n",
    "- <p>Scan State Files</p>\n",
    "- <p>Scarcity Island</p>\n",
    "- <p>Affiliated Projects</p>\n",
    "- <p>tutorials</p>"
   ]
  },
  {
   "cell_type": "markdown",
   "metadata": {},
   "source": [
    "</details>\n",
    "<details>\n",
    "<summary>"
   ]
  },
  {
   "cell_type": "markdown",
   "metadata": {},
   "source": [
    "## Standalone Maps:"
   ]
  },
  {
   "cell_type": "markdown",
   "metadata": {},
   "source": [
    "</summary>"
   ]
  },
  {
   "cell_type": "markdown",
   "metadata": {},
   "source": [
    "- <a href='https://cvminigames.com/blog/docs/maps/cv_vol_map.html'>Parcel Volume</a>\n",
    "- <a href='https://cvminigames.com/blog/docs/maps/cv_book_map.html'>Guestbook Locations</a>\n",
    "- <a href='https://cvminigames.com/blog/docs/maps/cv_visitor_map.html'>Visitors over 90 days</a>"
   ]
  },
  {
   "cell_type": "markdown",
   "metadata": {},
   "source": [
    "</details>\n",
    "<details>\n",
    "<summary>"
   ]
  },
  {
   "cell_type": "markdown",
   "metadata": {},
   "source": [
    "## Legal"
   ]
  },
  {
   "cell_type": "markdown",
   "metadata": {},
   "source": [
    "</summary>"
   ]
  },
  {
   "cell_type": "markdown",
   "metadata": {},
   "source": [
    "BY USING THIS SITE AND ANY AFFILIATED PRODUCTS YOU AGREE TO \n",
    "- FOLLOWING THESE <a href='https://www.cryptovoxels.com/terms'>TERMS OF SERVICE</a>\n",
    "- FOLLOWING THIS FOLLOWING THIS <a href='https://www.cryptovoxels.com/conduct'>CODE OF CONDUCT</a>\n",
    "- ACCEPTING THIS <a href='https://www.cryptovoxels.com/privacy'>PRIVACY POLICY</a>\n",
    "WHEREVER APPLICABLE, HOWEVER BEST APPLICABLE.\n",
    "\n",
    "\n",
    "<p> <b>CONTACT ME</b> <br>\n",
    "For more information about privacy practices, if you have questions, or if you would like to make a complaint, please contact me by e-mail at charles.karpat@gmail.com </p>"
   ]
  },
  {
   "cell_type": "markdown",
   "metadata": {},
   "source": [
    "<details>\n",
    "<summary>"
   ]
  },
  {
   "cell_type": "markdown",
   "metadata": {},
   "source": [
    "### Disclaimer"
   ]
  },
  {
   "cell_type": "markdown",
   "metadata": {},
   "source": [
    "</summary>"
   ]
  },
  {
   "cell_type": "markdown",
   "metadata": {},
   "source": [
    "<b>Views Expressed</b>: All views expressed are the authors own and do not represent the opinions of any entity whatsover with which they have been, are now, or will be affiliated.\n",
    "\n",
    "<b>Responsibility</b>, Errors and Ommissions: The author makes no assurance about the reliability of the information. The author makes takes no responsibility for updating product nor maintaining any porformant status. Under no circumstances shall the Author or its affiliates be liable for any indirect incedental, consequential, or special and or exemplary damages arising out of or in connection with this  site and related products. Information is provided 'as is' with distinct plausability of errors and ommitions. Information found within the contents is attached with an MIT license. Please refer to the License for more information.\n",
    "\n",
    "<b>Use at Risk</b>: Any action you take upon the information or tooling provided is strictly at your own risk, and the author will not be liable for any losses and damages in connection with the use of this site and related products.\n",
    "\n",
    "Fair Use this site contains copyrighted material the use of which has not always been specifically authorized by the copyright owner. While no intention is made to unlawfully use copyrighted work, circumstanes may arise in which such material is made available in effort to advance scientific literacy. We believe this constitutes a 'fair use' of any such copyrighted material as provided for in section 107 of the US Copyright Law. In accordance with Titile 17 U.S.C. Section 108, the material on this site is distributed without profit to those who have expressed a prior interest in receiving the included information for research and education purposes.\n",
    "\n",
    "for more information go to: http://www.law.cornell.edu/uscode/17/107.shtml. If you wish to use copyrighted material from this site for purposes of your own that go beyond 'fair use', you must obtain permission from the copyright owner."
   ]
  },
  {
   "cell_type": "markdown",
   "metadata": {},
   "source": [
    "</details>\n",
    "<details>\n",
    "<summary>"
   ]
  },
  {
   "cell_type": "markdown",
   "metadata": {},
   "source": [
    "### License"
   ]
  },
  {
   "cell_type": "markdown",
   "metadata": {},
   "source": [
    "</summary>\n",
    "Copyright © 2022 Charles Karpati\n",
    "\n",
    "Permission is hereby granted, free of charge, to any person obtaining a copy of this software and associated documentation files (the \"Software\"), to deal in the Software without restriction, including without limitation the rights to use, copy, modify, merge, publish, distribute, sublicense, and/or sell copies of the Software, and to permit persons to whom the Software is furnished to do so, subject to the following conditions:\n",
    "\n",
    "The above copyright notice and this permission notice shall be included in all copies or substantial portions of the Software.\n",
    "\n",
    "THE SOFTWARE IS PROVIDED \"AS IS\", WITHOUT WARRANTY OF ANY KIND, EXPRESS OR IMPLIED, INCLUDING BUT NOT LIMITED TO THE WARRANTIES OF MERCHANTABILITY, FITNESS FOR A PARTICULAR PURPOSE AND NONINFRINGEMENT. IN NO EVENT SHALL THE AUTHORS OR COPYRIGHT HOLDERS BE LIABLE FOR ANY CLAIM, DAMAGES OR OTHER LIABILITY, WHETHER IN AN ACTION OF CONTRACT, TORT OR OTHERWISE, ARISING FROM, OUT OF OR IN CONNECTION WITH THE SOFTWARE OR THE USE OR OTHER DEALINGS IN THE SOFTWARE.\n",
    "\n",
    "</details>"
   ]
  },
  {
   "cell_type": "markdown",
   "metadata": {},
   "source": [
    "<!-- End LEGAL section -->\n",
    "</details>"
   ]
  }
 ],
 "metadata": {
  "interpreter": {
   "hash": "31f2aee4e71d21fbe5cf8b01ff0e069b9275f58929596ceb00d14d90e3e16cd6"
  },
  "kernelspec": {
   "display_name": "Python 3.8.10 64-bit",
   "language": "python",
   "name": "python3"
  },
  "language_info": {
   "codemirror_mode": {
    "name": "ipython",
    "version": 3
   },
   "file_extension": ".py",
   "mimetype": "text/x-python",
   "name": "python",
   "nbconvert_exporter": "python",
   "pygments_lexer": "ipython3",
   "version": "3.8.10"
  },
  "orig_nbformat": 4
 },
 "nbformat": 4,
 "nbformat_minor": 2
}

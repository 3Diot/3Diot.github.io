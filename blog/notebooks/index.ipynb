{
 "cells": [
  {
   "cell_type": "markdown",
   "metadata": {},
   "source": [
    "# Homepage\n",
    "> This publication inspired by [nbdev](http://nbdev.fast.ai/tutorial/) and [nbConvert](https://nbconvert.readthedocs.io/en/latest/).\n",
    "\n",
    "- toc: false\n",
    "- filename: index\n",
    "- tab: CVMinigames | Home\n",
    "- title: CVMinigames\n",
    "- template: article\n",
    "- description: this isnt working\n",
    "- image: images/company_logo.png"
   ]
  },
  {
   "cell_type": "markdown",
   "metadata": {},
   "source": [
    "<style> h2, h3{display: inline;}</style>"
   ]
  },
  {
   "cell_type": "markdown",
   "metadata": {},
   "source": [
    "## Welcome! \n",
    "\n",
    "Use this page to navigate about the CVMiniGames ecosystem."
   ]
  },
  {
   "cell_type": "markdown",
   "metadata": {},
   "source": [
    "## Articles:"
   ]
  },
  {
   "cell_type": "markdown",
   "metadata": {},
   "source": [
    "</summary>"
   ]
  },
  {
   "cell_type": "markdown",
   "metadata": {},
   "source": [
    "- <a href='https://cvminigames.com/blog/docs/parcels.html'>Parcel</a> Information\n",
    "- <a href='https://cvminigames.com/blog/docs/tokengating.html'>Token Gating</a>: HOWTO: Limit access to a subset of your parcel or features.\n",
    "- <a href='https://cvminigames.com/blog/docs/lore.html'>Lore</a>: A review of what's out there\n",
    "- <a href='https://cvminigames.com/blog/docs/tutorials.html'>Build Tips</a>: Secret Secrets to make you a better builder! \n",
    "- <a href='https://cvminigames.com/blog/docs/monetize.html'>Monetizing</a>: A review of how people are making money\n",
    "- <a href='https://charleskarpati.com/cv/'>Admin</a>: Scripts you can use to collect analytics and create immersive content"
   ]
  },
  {
   "cell_type": "markdown",
   "metadata": {},
   "source": [
    "</details>\n",
    "<details>\n",
    "<summary>"
   ]
  },
  {
   "cell_type": "markdown",
   "metadata": {},
   "source": [
    "# Interactive Data"
   ]
  },
  {
   "cell_type": "markdown",
   "metadata": {},
   "source": [
    "</summary>"
   ]
  },
  {
   "cell_type": "markdown",
   "metadata": {},
   "source": [
    "- <a href='https://cvminigames.com/blog/docs/tables/parcelsPivotTable.html'>Parcels</a> Table\n",
    "- <a href='https://cvminigames.com/blog/docs/maps/cv_book_map.html'>Guestbooks</a> Map\n",
    "- <a href='https://cvminigames.com/blog/docs/maps/cv_price_map.html'>Sale Prices</a> Map\n",
    "- <a href='https://cvminigames.com/blog/docs/maps/cv_visitor_map.html'>Visitors</a> Map"
   ]
  },
  {
   "cell_type": "markdown",
   "metadata": {},
   "source": [
    "</details>\n",
    "<details>\n",
    "<summary>"
   ]
  },
  {
   "cell_type": "markdown",
   "metadata": {},
   "source": [
    "## Tools"
   ]
  },
  {
   "cell_type": "markdown",
   "metadata": {},
   "source": [
    "</summary>"
   ]
  },
  {
   "cell_type": "markdown",
   "metadata": {},
   "source": [
    "- [Airdrops](https://cvminigames.com/blog/docs/airdrops.html)\n",
    "- [Async Airdrops](https://cvminigames.com/blog/docs/airdropsasync.html)"
   ]
  },
  {
   "cell_type": "markdown",
   "metadata": {},
   "source": [
    "</details>\n",
    "<details>\n",
    "<summary>"
   ]
  },
  {
   "cell_type": "markdown",
   "metadata": {},
   "source": [
    "</summary>"
   ]
  },
  {
   "cell_type": "markdown",
   "metadata": {},
   "source": [
    "</details>"
   ]
  }
 ],
 "metadata": {
  "interpreter": {
   "hash": "31f2aee4e71d21fbe5cf8b01ff0e069b9275f58929596ceb00d14d90e3e16cd6"
  },
  "kernelspec": {
   "display_name": "Python 3.8.10 64-bit",
   "language": "python",
   "name": "python3"
  },
  "language_info": {
   "codemirror_mode": {
    "name": "ipython",
    "version": 3
   },
   "file_extension": ".py",
   "mimetype": "text/x-python",
   "name": "python",
   "nbconvert_exporter": "python",
   "pygments_lexer": "ipython3",
   "version": "3.10.2"
  },
  "orig_nbformat": 4
 },
 "nbformat": 4,
 "nbformat_minor": 2
}

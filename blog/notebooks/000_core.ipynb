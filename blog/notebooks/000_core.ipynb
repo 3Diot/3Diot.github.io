{
 "cells": [
  {
   "cell_type": "code",
   "execution_count": 3,
   "metadata": {},
   "outputs": [],
   "source": [
    "# default_exp core"
   ]
  },
  {
   "cell_type": "markdown",
   "metadata": {},
   "source": [
    "# module name here\n",
    "\n",
    "> API details."
   ]
  },
  {
   "cell_type": "code",
   "execution_count": 2,
   "metadata": {},
   "outputs": [
    {
     "ename": "ModuleNotFoundError",
     "evalue": "No module named 'nbdev'",
     "output_type": "error",
     "traceback": [
      "\u001b[0;31m---------------------------------------------------------------------------\u001b[0m",
      "\u001b[0;31mModuleNotFoundError\u001b[0m                       Traceback (most recent call last)",
      "Input \u001b[0;32mIn [2]\u001b[0m, in \u001b[0;36m<module>\u001b[0;34m\u001b[0m\n\u001b[1;32m      1\u001b[0m \u001b[38;5;66;03m#hide\u001b[39;00m\n\u001b[0;32m----> 2\u001b[0m \u001b[38;5;28;01mfrom\u001b[39;00m \u001b[38;5;21;01mnbdev\u001b[39;00m\u001b[38;5;21;01m.\u001b[39;00m\u001b[38;5;21;01mshowdoc\u001b[39;00m \u001b[38;5;28;01mimport\u001b[39;00m \u001b[38;5;241m*\u001b[39m\n",
      "\u001b[0;31mModuleNotFoundError\u001b[0m: No module named 'nbdev'"
     ]
    }
   ],
   "source": [
    "#hide\n",
    "from nbdev.showdoc import *"
   ]
  },
  {
   "cell_type": "code",
   "execution_count": null,
   "metadata": {},
   "outputs": [],
   "source": [
    "#export\n",
    "def say_hello(to):\n",
    "    \"Say hello to somebody\"\n",
    "    return f'Hello {to}!'"
   ]
  },
  {
   "cell_type": "markdown",
   "metadata": {},
   "source": [
    "[nb_2_html](https://github.com/BNIA/dataplay/blob/main/notebooks/04_nb_2_html.ipynb)"
   ]
  },
  {
   "cell_type": "code",
   "execution_count": 7,
   "metadata": {},
   "outputs": [
    {
     "name": "stdout",
     "output_type": "stream",
     "text": [
      "Requirement already satisfied: nbdev in /workspaces/CVminiGames.github.io/.venv/lib/python3.8/site-packages (1.1.23)\n",
      "Collecting marko\n",
      "  Using cached marko-1.2.0-py3-none-any.whl (37 kB)\n",
      "Requirement already satisfied: packaging in /workspaces/CVminiGames.github.io/.venv/lib/python3.8/site-packages (from nbdev) (21.3)\n",
      "Requirement already satisfied: fastrelease in /workspaces/CVminiGames.github.io/.venv/lib/python3.8/site-packages (from nbdev) (0.1.12)\n",
      "Requirement already satisfied: jupyter in /workspaces/CVminiGames.github.io/.venv/lib/python3.8/site-packages (from nbdev) (1.0.0)\n",
      "Requirement already satisfied: fastcore>=1.3.21 in /workspaces/CVminiGames.github.io/.venv/lib/python3.8/site-packages (from nbdev) (1.3.27)\n",
      "Requirement already satisfied: nbformat>=4.4.0 in /workspaces/CVminiGames.github.io/.venv/lib/python3.8/site-packages (from nbdev) (5.1.3)\n",
      "Requirement already satisfied: ghapi in /workspaces/CVminiGames.github.io/.venv/lib/python3.8/site-packages (from nbdev) (0.1.19)\n",
      "Requirement already satisfied: pip in /workspaces/CVminiGames.github.io/.venv/lib/python3.8/site-packages (from nbdev) (21.1.1)\n",
      "Requirement already satisfied: pyyaml in /workspaces/CVminiGames.github.io/.venv/lib/python3.8/site-packages (from nbdev) (6.0)\n",
      "Requirement already satisfied: jupyter-client<7.0 in /workspaces/CVminiGames.github.io/.venv/lib/python3.8/site-packages (from nbdev) (6.1.12)\n",
      "Requirement already satisfied: ipykernel in /workspaces/CVminiGames.github.io/.venv/lib/python3.8/site-packages (from nbdev) (6.7.0)\n",
      "Requirement already satisfied: nbconvert<6 in /workspaces/CVminiGames.github.io/.venv/lib/python3.8/site-packages (from nbdev) (5.6.1)\n",
      "Requirement already satisfied: jupyter-core>=4.6.0 in /workspaces/CVminiGames.github.io/.venv/lib/python3.8/site-packages (from jupyter-client<7.0->nbdev) (4.9.1)\n",
      "Requirement already satisfied: traitlets in /workspaces/CVminiGames.github.io/.venv/lib/python3.8/site-packages (from jupyter-client<7.0->nbdev) (5.1.1)\n",
      "Requirement already satisfied: python-dateutil>=2.1 in /workspaces/CVminiGames.github.io/.venv/lib/python3.8/site-packages (from jupyter-client<7.0->nbdev) (2.8.2)\n",
      "Requirement already satisfied: pyzmq>=13 in /workspaces/CVminiGames.github.io/.venv/lib/python3.8/site-packages (from jupyter-client<7.0->nbdev) (22.3.0)\n",
      "Requirement already satisfied: tornado>=4.1 in /workspaces/CVminiGames.github.io/.venv/lib/python3.8/site-packages (from jupyter-client<7.0->nbdev) (6.1)\n",
      "Requirement already satisfied: testpath in /workspaces/CVminiGames.github.io/.venv/lib/python3.8/site-packages (from nbconvert<6->nbdev) (0.5.0)\n",
      "Requirement already satisfied: defusedxml in /workspaces/CVminiGames.github.io/.venv/lib/python3.8/site-packages (from nbconvert<6->nbdev) (0.7.1)\n",
      "Requirement already satisfied: mistune<2,>=0.8.1 in /workspaces/CVminiGames.github.io/.venv/lib/python3.8/site-packages (from nbconvert<6->nbdev) (0.8.4)\n",
      "Requirement already satisfied: jinja2>=2.4 in /workspaces/CVminiGames.github.io/.venv/lib/python3.8/site-packages (from nbconvert<6->nbdev) (3.0.3)\n",
      "Requirement already satisfied: bleach in /workspaces/CVminiGames.github.io/.venv/lib/python3.8/site-packages (from nbconvert<6->nbdev) (4.1.0)\n",
      "Requirement already satisfied: pandocfilters>=1.4.1 in /workspaces/CVminiGames.github.io/.venv/lib/python3.8/site-packages (from nbconvert<6->nbdev) (1.5.0)\n",
      "Requirement already satisfied: pygments in /workspaces/CVminiGames.github.io/.venv/lib/python3.8/site-packages (from nbconvert<6->nbdev) (2.11.2)\n",
      "Requirement already satisfied: entrypoints>=0.2.2 in /workspaces/CVminiGames.github.io/.venv/lib/python3.8/site-packages (from nbconvert<6->nbdev) (0.3)\n",
      "Requirement already satisfied: MarkupSafe>=2.0 in /workspaces/CVminiGames.github.io/.venv/lib/python3.8/site-packages (from jinja2>=2.4->nbconvert<6->nbdev) (2.0.1)\n",
      "Requirement already satisfied: jsonschema!=2.5.0,>=2.4 in /workspaces/CVminiGames.github.io/.venv/lib/python3.8/site-packages (from nbformat>=4.4.0->nbdev) (4.4.0)\n",
      "Requirement already satisfied: ipython-genutils in /workspaces/CVminiGames.github.io/.venv/lib/python3.8/site-packages (from nbformat>=4.4.0->nbdev) (0.2.0)\n",
      "Requirement already satisfied: attrs>=17.4.0 in /workspaces/CVminiGames.github.io/.venv/lib/python3.8/site-packages (from jsonschema!=2.5.0,>=2.4->nbformat>=4.4.0->nbdev) (21.4.0)\n",
      "Requirement already satisfied: importlib-resources>=1.4.0 in /workspaces/CVminiGames.github.io/.venv/lib/python3.8/site-packages (from jsonschema!=2.5.0,>=2.4->nbformat>=4.4.0->nbdev) (5.4.0)\n",
      "Requirement already satisfied: pyrsistent!=0.17.0,!=0.17.1,!=0.17.2,>=0.14.0 in /workspaces/CVminiGames.github.io/.venv/lib/python3.8/site-packages (from jsonschema!=2.5.0,>=2.4->nbformat>=4.4.0->nbdev) (0.18.1)\n",
      "Requirement already satisfied: zipp>=3.1.0 in /workspaces/CVminiGames.github.io/.venv/lib/python3.8/site-packages (from importlib-resources>=1.4.0->jsonschema!=2.5.0,>=2.4->nbformat>=4.4.0->nbdev) (3.7.0)\n",
      "Requirement already satisfied: six>=1.5 in /workspaces/CVminiGames.github.io/.venv/lib/python3.8/site-packages (from python-dateutil>=2.1->jupyter-client<7.0->nbdev) (1.16.0)\n",
      "Requirement already satisfied: webencodings in /workspaces/CVminiGames.github.io/.venv/lib/python3.8/site-packages (from bleach->nbconvert<6->nbdev) (0.5.1)\n",
      "Requirement already satisfied: matplotlib-inline<0.2.0,>=0.1.0 in /workspaces/CVminiGames.github.io/.venv/lib/python3.8/site-packages (from ipykernel->nbdev) (0.1.3)\n",
      "Requirement already satisfied: ipython>=7.23.1 in /workspaces/CVminiGames.github.io/.venv/lib/python3.8/site-packages (from ipykernel->nbdev) (8.0.0)\n",
      "Requirement already satisfied: nest-asyncio in /workspaces/CVminiGames.github.io/.venv/lib/python3.8/site-packages (from ipykernel->nbdev) (1.5.4)\n",
      "Requirement already satisfied: debugpy<2.0,>=1.0.0 in /workspaces/CVminiGames.github.io/.venv/lib/python3.8/site-packages (from ipykernel->nbdev) (1.5.1)\n",
      "Requirement already satisfied: pickleshare in /workspaces/CVminiGames.github.io/.venv/lib/python3.8/site-packages (from ipython>=7.23.1->ipykernel->nbdev) (0.7.5)\n",
      "Requirement already satisfied: decorator in /workspaces/CVminiGames.github.io/.venv/lib/python3.8/site-packages (from ipython>=7.23.1->ipykernel->nbdev) (5.1.1)\n",
      "Requirement already satisfied: prompt-toolkit!=3.0.0,!=3.0.1,<3.1.0,>=2.0.0 in /workspaces/CVminiGames.github.io/.venv/lib/python3.8/site-packages (from ipython>=7.23.1->ipykernel->nbdev) (3.0.24)\n",
      "Requirement already satisfied: backcall in /workspaces/CVminiGames.github.io/.venv/lib/python3.8/site-packages (from ipython>=7.23.1->ipykernel->nbdev) (0.2.0)\n",
      "Requirement already satisfied: stack-data in /workspaces/CVminiGames.github.io/.venv/lib/python3.8/site-packages (from ipython>=7.23.1->ipykernel->nbdev) (0.1.3)\n",
      "Requirement already satisfied: pexpect>4.3 in /workspaces/CVminiGames.github.io/.venv/lib/python3.8/site-packages (from ipython>=7.23.1->ipykernel->nbdev) (4.8.0)\n",
      "Requirement already satisfied: black in /workspaces/CVminiGames.github.io/.venv/lib/python3.8/site-packages (from ipython>=7.23.1->ipykernel->nbdev) (21.12b0)\n",
      "Requirement already satisfied: jedi>=0.16 in /workspaces/CVminiGames.github.io/.venv/lib/python3.8/site-packages (from ipython>=7.23.1->ipykernel->nbdev) (0.18.1)\n",
      "Requirement already satisfied: setuptools>=18.5 in /workspaces/CVminiGames.github.io/.venv/lib/python3.8/site-packages (from ipython>=7.23.1->ipykernel->nbdev) (56.0.0)\n",
      "Requirement already satisfied: parso<0.9.0,>=0.8.0 in /workspaces/CVminiGames.github.io/.venv/lib/python3.8/site-packages (from jedi>=0.16->ipython>=7.23.1->ipykernel->nbdev) (0.8.3)\n",
      "Requirement already satisfied: ptyprocess>=0.5 in /workspaces/CVminiGames.github.io/.venv/lib/python3.8/site-packages (from pexpect>4.3->ipython>=7.23.1->ipykernel->nbdev) (0.7.0)\n",
      "Requirement already satisfied: wcwidth in /workspaces/CVminiGames.github.io/.venv/lib/python3.8/site-packages (from prompt-toolkit!=3.0.0,!=3.0.1,<3.1.0,>=2.0.0->ipython>=7.23.1->ipykernel->nbdev) (0.2.5)\n",
      "Requirement already satisfied: click>=7.1.2 in /workspaces/CVminiGames.github.io/.venv/lib/python3.8/site-packages (from black->ipython>=7.23.1->ipykernel->nbdev) (8.0.3)\n",
      "Requirement already satisfied: typing-extensions>=3.10.0.0 in /workspaces/CVminiGames.github.io/.venv/lib/python3.8/site-packages (from black->ipython>=7.23.1->ipykernel->nbdev) (4.0.1)\n",
      "Requirement already satisfied: pathspec<1,>=0.9.0 in /workspaces/CVminiGames.github.io/.venv/lib/python3.8/site-packages (from black->ipython>=7.23.1->ipykernel->nbdev) (0.9.0)\n",
      "Requirement already satisfied: tomli<2.0.0,>=0.2.6 in /workspaces/CVminiGames.github.io/.venv/lib/python3.8/site-packages (from black->ipython>=7.23.1->ipykernel->nbdev) (1.2.3)\n",
      "Requirement already satisfied: platformdirs>=2 in /workspaces/CVminiGames.github.io/.venv/lib/python3.8/site-packages (from black->ipython>=7.23.1->ipykernel->nbdev) (2.4.1)\n",
      "Requirement already satisfied: mypy-extensions>=0.4.3 in /workspaces/CVminiGames.github.io/.venv/lib/python3.8/site-packages (from black->ipython>=7.23.1->ipykernel->nbdev) (0.4.3)\n",
      "Requirement already satisfied: notebook in /workspaces/CVminiGames.github.io/.venv/lib/python3.8/site-packages (from jupyter->nbdev) (6.4.7)\n",
      "Requirement already satisfied: jupyter-console in /workspaces/CVminiGames.github.io/.venv/lib/python3.8/site-packages (from jupyter->nbdev) (6.4.0)\n",
      "Requirement already satisfied: qtconsole in /workspaces/CVminiGames.github.io/.venv/lib/python3.8/site-packages (from jupyter->nbdev) (5.2.2)\n",
      "Requirement already satisfied: ipywidgets in /workspaces/CVminiGames.github.io/.venv/lib/python3.8/site-packages (from jupyter->nbdev) (7.6.5)\n",
      "Requirement already satisfied: jupyterlab-widgets>=1.0.0 in /workspaces/CVminiGames.github.io/.venv/lib/python3.8/site-packages (from ipywidgets->jupyter->nbdev) (1.0.2)\n",
      "Requirement already satisfied: widgetsnbextension~=3.5.0 in /workspaces/CVminiGames.github.io/.venv/lib/python3.8/site-packages (from ipywidgets->jupyter->nbdev) (3.5.2)\n",
      "Requirement already satisfied: terminado>=0.8.3 in /workspaces/CVminiGames.github.io/.venv/lib/python3.8/site-packages (from notebook->jupyter->nbdev) (0.12.1)\n",
      "Requirement already satisfied: argon2-cffi in /workspaces/CVminiGames.github.io/.venv/lib/python3.8/site-packages (from notebook->jupyter->nbdev) (21.3.0)\n",
      "Requirement already satisfied: Send2Trash>=1.8.0 in /workspaces/CVminiGames.github.io/.venv/lib/python3.8/site-packages (from notebook->jupyter->nbdev) (1.8.0)\n",
      "Requirement already satisfied: prometheus-client in /workspaces/CVminiGames.github.io/.venv/lib/python3.8/site-packages (from notebook->jupyter->nbdev) (0.12.0)\n",
      "Requirement already satisfied: argon2-cffi-bindings in /workspaces/CVminiGames.github.io/.venv/lib/python3.8/site-packages (from argon2-cffi->notebook->jupyter->nbdev) (21.2.0)\n",
      "Requirement already satisfied: cffi>=1.0.1 in /workspaces/CVminiGames.github.io/.venv/lib/python3.8/site-packages (from argon2-cffi-bindings->argon2-cffi->notebook->jupyter->nbdev) (1.15.0)\n",
      "Requirement already satisfied: pycparser in /workspaces/CVminiGames.github.io/.venv/lib/python3.8/site-packages (from cffi>=1.0.1->argon2-cffi-bindings->argon2-cffi->notebook->jupyter->nbdev) (2.21)\n",
      "Requirement already satisfied: pyparsing!=3.0.5,>=2.0.2 in /workspaces/CVminiGames.github.io/.venv/lib/python3.8/site-packages (from packaging->nbdev) (3.0.6)\n",
      "Requirement already satisfied: qtpy in /workspaces/CVminiGames.github.io/.venv/lib/python3.8/site-packages (from qtconsole->jupyter->nbdev) (2.0.0)\n",
      "Requirement already satisfied: asttokens in /workspaces/CVminiGames.github.io/.venv/lib/python3.8/site-packages (from stack-data->ipython>=7.23.1->ipykernel->nbdev) (2.0.5)\n",
      "Requirement already satisfied: pure-eval in /workspaces/CVminiGames.github.io/.venv/lib/python3.8/site-packages (from stack-data->ipython>=7.23.1->ipykernel->nbdev) (0.2.1)\n",
      "Requirement already satisfied: executing in /workspaces/CVminiGames.github.io/.venv/lib/python3.8/site-packages (from stack-data->ipython>=7.23.1->ipykernel->nbdev) (0.8.2)\n",
      "Installing collected packages: marko\n",
      "Successfully installed marko-1.2.0\n",
      "\u001b[33mWARNING: You are using pip version 21.1.1; however, version 21.3.1 is available.\n",
      "You should consider upgrading via the '/workspaces/CVminiGames.github.io/.venv/bin/python3.8 -m pip install --upgrade pip' command.\u001b[0m\n"
     ]
    }
   ],
   "source": [
    "!pip install nbdev marko"
   ]
  },
  {
   "cell_type": "code",
   "execution_count": 8,
   "metadata": {},
   "outputs": [],
   "source": [
    "#export\n",
    "import re\n",
    "from IPython.display import clear_output\n",
    "import marko"
   ]
  },
  {
   "cell_type": "code",
   "execution_count": 9,
   "metadata": {},
   "outputs": [],
   "source": [
    "#export\n",
    "from nbdev import export2html\n",
    "from nbdev.export2html import read_nb, get_metadata, clean_exports\n",
    "from nbdev.export import split_flags_and_code, check_re_multi"
   ]
  },
  {
   "cell_type": "code",
   "execution_count": 12,
   "metadata": {},
   "outputs": [],
   "source": [
    "#export\n",
    "# 1st fn. passes each cell to decision fn.\n",
    "def convertNb(nb):  return [cleanCell(c) for c in nb['cells']]\n",
    "\n",
    "# 2nd fn. returns text or passes cell to 'code cell' processor\n",
    "def cleanCell(cell): return marko.convert(cell.source) if cell.cell_type == 'markdown' else processCode(cell)\n",
    "\n",
    "# 3rd fn. Calls getFlags, processSource, processOutput\n",
    "def processCode(cell):\n",
    "  x = [cell.source]\n",
    "  flags = getFlags(x[0])\n",
    "  x[0] = processSource( x[0], flags )\n",
    "  if ( len(cell.outputs) ):\n",
    "    for o in cell.outputs: x.append( processOutput(o, flags) )\n",
    "  return x"
   ]
  },
  {
   "cell_type": "code",
   "execution_count": 13,
   "metadata": {},
   "outputs": [],
   "source": [
    "#export\n",
    "# Detect and stripout and handle flags.\n",
    "def getFlags(source):\n",
    "  input_aug = ['#collapse_input_open', '#collapse_input', '#collapse_output_open', '#collapse_output',\n",
    "               '#hide_input', '#hide_output', '#hide ', '%%capture', '%%javascript', '%%html']\n",
    "  return [ x for x in input_aug if re.search(x, source) ]\n",
    "\n",
    "# enclose the text within a collapsable html drawer.\n",
    "def makeDetails( content, open ):\n",
    "  return \"<details \"+('open' if open else '')+\"> <summary>Click to toggle</summary> \"+content+\"</details>\""
   ]
  },
  {
   "cell_type": "code",
   "execution_count": null,
   "metadata": {},
   "outputs": [],
   "source": [
    "#export\n",
    "# Strip Flags from text, make details, hide all.\n",
    "def processSource (source, flags):\n",
    "  for lbl in flags:\n",
    "    source = source.replace(lbl+'\\r\\n', \"\")\n",
    "    source = source.replace(lbl+'\\n', \"\") # Strip the Flag\n",
    "    if (lbl == '#collapse_input_open'): source = makeDetails( source, True )\n",
    "    if (lbl == '#collapse_input'): source = makeDetails( source, False )\n",
    "    if (lbl == '#hide '): source = ''\n",
    "    if (lbl == '#hide_input'): source = ''\n",
    "    if (lbl == '%%javascript'): source = ''\n",
    "    if (lbl == '%%html'): source = ''\n",
    "    if (lbl == '%%capture'): source = ''\n",
    "  return source"
   ]
  },
  {
   "cell_type": "code",
   "execution_count": null,
   "metadata": {},
   "outputs": [],
   "source": [
    "#export\n",
    "def processOutput(source, flags):\n",
    "  if(source.output_type=='error'):  return ''\n",
    "  if(source.output_type=='stream'):\n",
    "    if(source.name=='stderr'): return ''\n",
    "    source.data = {'text/html': source.text} # This will have the stream process as text/html.\n",
    "  print(source.data.keys())\n",
    "  if ( hasattr(source.data, 'text/html') ): source=source.data['text/html'];\n",
    "  elif ( hasattr(source.data, 'application/javascript') ): source='<script>'+source.data['application/javascript']+'</script>'\n",
    "  elif ( hasattr(source.data, 'image/png') ): source= \"<img src=\\\"data:image/png;base64,\" + source.data['image/png'] + \"\\\" alt='Image Alt Text'>\"\n",
    "  elif ( hasattr(source.data, 'text/plain') ): source = '' if re.search(\"<Figure\", source.data['text/plain']) else source.data['text/plain'];\n",
    "  # print(source)\n",
    "  for lbl in flags:\n",
    "    source = source.replace(lbl+'\\r\\n', \"\")\n",
    "    source = source.replace(lbl+'\\n', \"\") # Strip the Flag\n",
    "    if (lbl == '#collapse_output_open'): source = makeDetails( source, True )\n",
    "    if (lbl == '#collapse_output'): source = makeDetails( source, False )\n",
    "    if (lbl == '#hide_output'): source = ''\n",
    "    if (lbl == '#hide '): source = ''\n",
    "  return source\n",
    "  #output_type == 'stream' ==> text\n",
    "  #output_type == 'display_data' ==> data{'application/javascript' or 'text/html' or 'execute_result'}"
   ]
  },
  {
   "cell_type": "code",
   "execution_count": null,
   "metadata": {},
   "outputs": [
    {
     "name": "stdout",
     "output_type": "stream",
     "text": [
      "000_core.ipynb        002_Parcels.ipynb     index.ipynb\n",
      "001a_core_test.ipynb  003_Guestbooks.ipynb  pivottablejs.html\n",
      "001b_core_test.ipynb  013_CV_Misc.ipynb\n",
      "001c_Example.ipynb    _devserver.ipynb\n"
     ]
    }
   ],
   "source": [
    "ls"
   ]
  },
  {
   "cell_type": "code",
   "execution_count": 20,
   "metadata": {},
   "outputs": [],
   "source": [
    "nb = read_nb('index.ipynb')\n",
    "outp = convertNb(nb)"
   ]
  },
  {
   "cell_type": "code",
   "execution_count": 21,
   "metadata": {},
   "outputs": [],
   "source": [
    "#export\n",
    "def runit(fname='index.ipynb'): \n",
    "  nb = read_nb(fname)\n",
    "  meta_jekyll = get_metadata(nb['cells'])\n",
    "  outp = convertNb(nb)\n",
    "  txt = ''.join( [''.join(c) for c in outp] )\n",
    "  return txt"
   ]
  },
  {
   "cell_type": "code",
   "execution_count": 22,
   "metadata": {},
   "outputs": [],
   "source": [
    "\n",
    "t = runit()"
   ]
  },
  {
   "cell_type": "code",
   "execution_count": 25,
   "metadata": {},
   "outputs": [
    {
     "data": {
      "text/html": [
       "<h2>Welcome!</h2>\n",
       "<p>Gaming is being brought to CV and you are invited to choose the direction of developments. </p>\n",
       "<p>This site is still being built. It is to be accompanyed with a token and dao.</p>\n",
       "<p>Please come back after Jan 10th (ish) for working links to view a web compatible rendering of the following articles:</p>\n",
       "<h2>About</h2>\n",
       "<p>This site will be home to:</p>\n",
       "<ul>\n",
       "<li>DAO voting information</li>\n",
       "<li>A compendium of articles covering all things CV</li>\n",
       "<li>Interactive data reports</li>\n",
       "<li>Alpha, presale, ticketing and more.</li>\n",
       "<li>Tools and services that enhance your CV playing experience</li>\n",
       "</ul>\n",
       "<h2>Articles (Comming soon!):</h2>\n",
       "<ul>\n",
       "<li><a href='./blog/docs/002_CV.html'>Intro</a></li>\n",
       "<li><a href='./blog/docs/002_CV.html'>Guestbook Locations</a></li>\n",
       "<li><a href='./blog/docs/002_CV.html'>CV_Misc Notes</a></li>\n",
       "<li><a href='./blog/docs/002_CV.html'>Example Report CV</a></li>\n",
       "<li><a href='./blog/docs/002_CV.html'>Scan State Files</a></li>\n",
       "<li><a href='./blog/docs/002_CV.html'>Scarcity Island</a></li>\n",
       "</ul>\n",
       "<p>For the impatient, you may find the raw code to these documents on my <a href=\"https://github.com/3Diot/3Diot.github.io\">Github</a> page. </p>\n",
       "<p>Sincerely, </p>\n",
       "<p>Carlos.</p>\n"
      ],
      "text/plain": [
       "<IPython.core.display.HTML object>"
      ]
     },
     "execution_count": 25,
     "metadata": {},
     "output_type": "execute_result"
    }
   ],
   "source": [
    "import IPython\n",
    "IPython.display.HTML(t)"
   ]
  },
  {
   "cell_type": "code",
   "execution_count": 18,
   "metadata": {},
   "outputs": [
    {
     "name": "stdout",
     "output_type": "stream",
     "text": [
      "000_core.ipynb        001b_core_test.ipynb  002_Parcels.ipynb  _devserver.ipynb\n",
      "001a_core_test.ipynb  001c_Example.ipynb    013_CV_Misc.ipynb  index.ipynb\n"
     ]
    }
   ],
   "source": [
    "ls"
   ]
  },
  {
   "cell_type": "code",
   "execution_count": null,
   "metadata": {},
   "outputs": [],
   "source": [
    "sys.path.append('workspaces/3Diot.github.io/blog/')"
   ]
  },
  {
   "cell_type": "code",
   "execution_count": null,
   "metadata": {},
   "outputs": [],
   "source": [
    "sys.path"
   ]
  },
  {
   "cell_type": "code",
   "execution_count": null,
   "metadata": {},
   "outputs": [],
   "source": [
    "#export\n",
    "# Must be in directory of ipynb you want to convert to html.\n",
    "def publish(fname='index'): \n",
    "  sys.path.pop()\n",
    "  sys.path.append('workspaces/3Diot.github.io/docs/')\n",
    "  %cd ../\n",
    "  from blog import core \n",
    "  %cd notebooks \n",
    "  nb = read_nb(fname+'.ipynb')\n",
    "  meta_jekyll = get_metadata(nb['cells'])\n",
    "  outp = convertNb(nb)\n",
    "  outp = ''.join( [''.join(c) for c in outp] ) \n",
    "  resp = ''.join( [''.join(c) for c in outp] )\n",
    "  template = open(\"../docs/_templates/\"+meta_jekyll['template']+\".html\", \"r\").read() \n",
    "  template = template.replace('{{title}}', meta_jekyll['title']) \n",
    "  template = template.replace('{{filename}}', fname+'.ipynb') \n",
    "  txt = template.replace('{{content}}', resp ) \n",
    "  f = open(\"../docs/\"+meta_jekyll['title'].lower().replace(' ', '_')+\".html\", \"w\")\n",
    "  f.write(txt)\n",
    "  f.close()\n",
    "  # return txt\n",
    "  # return \"<p>Hello, Worrrld!</p>\""
   ]
  },
  {
   "cell_type": "code",
   "execution_count": 19,
   "metadata": {},
   "outputs": [
    {
     "ename": "NameError",
     "evalue": "name 'publish' is not defined",
     "output_type": "error",
     "traceback": [
      "\u001b[0;31m---------------------------------------------------------------------------\u001b[0m",
      "\u001b[0;31mNameError\u001b[0m                                 Traceback (most recent call last)",
      "Input \u001b[0;32mIn [19]\u001b[0m, in \u001b[0;36m<module>\u001b[0;34m\u001b[0m\n\u001b[0;32m----> 1\u001b[0m \u001b[43mpublish\u001b[49m(\u001b[38;5;124m'\u001b[39m\u001b[38;5;124m002_Parcels\u001b[39m\u001b[38;5;124m'\u001b[39m)\n",
      "\u001b[0;31mNameError\u001b[0m: name 'publish' is not defined"
     ]
    }
   ],
   "source": [
    "publish('002_Parcels')"
   ]
  },
  {
   "cell_type": "code",
   "execution_count": null,
   "metadata": {},
   "outputs": [],
   "source": []
  }
 ],
 "metadata": {
  "kernelspec": {
   "display_name": "Python 3",
   "language": "python",
   "name": "python3"
  },
  "language_info": {
   "codemirror_mode": {
    "name": "ipython",
    "version": 3
   },
   "file_extension": ".py",
   "mimetype": "text/x-python",
   "name": "python",
   "nbconvert_exporter": "python",
   "pygments_lexer": "ipython3",
   "version": "3.8.12"
  }
 },
 "nbformat": 4,
 "nbformat_minor": 2
}

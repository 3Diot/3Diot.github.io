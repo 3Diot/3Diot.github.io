{
 "cells": [
  {
   "cell_type": "code",
   "execution_count": 1,
   "metadata": {},
   "outputs": [],
   "source": [
    "# default_exp core"
   ]
  },
  {
   "cell_type": "markdown",
   "metadata": {},
   "source": [
    "# module name here\n",
    "\n",
    "> API details."
   ]
  },
  {
   "cell_type": "code",
   "execution_count": null,
   "metadata": {},
   "outputs": [],
   "source": [
    "#hide \n",
    "!pip install nbdev marko"
   ]
  },
  {
   "cell_type": "code",
   "execution_count": 41,
   "metadata": {},
   "outputs": [],
   "source": [
    "#hide\n",
    "from nbdev.showdoc import *"
   ]
  },
  {
   "cell_type": "code",
   "execution_count": 42,
   "metadata": {},
   "outputs": [],
   "source": [
    "#export\n",
    "def say_hello(to):\n",
    "    \"Say hello to somebody\"\n",
    "    return f'Hello {to}!'"
   ]
  },
  {
   "cell_type": "markdown",
   "metadata": {},
   "source": [
    "[nb_2_html](https://github.com/BNIA/dataplay/blob/main/notebooks/04_nb_2_html.ipynb)"
   ]
  },
  {
   "cell_type": "code",
   "execution_count": 43,
   "metadata": {},
   "outputs": [],
   "source": [
    "#export\n",
    "import re\n",
    "from IPython.display import clear_output\n",
    "import marko"
   ]
  },
  {
   "cell_type": "code",
   "execution_count": 44,
   "metadata": {},
   "outputs": [],
   "source": [
    "#export\n",
    "from nbdev import export2html\n",
    "from nbdev.export2html import read_nb, get_metadata, clean_exports\n",
    "from nbdev.export import split_flags_and_code, check_re_multi"
   ]
  },
  {
   "cell_type": "code",
   "execution_count": 45,
   "metadata": {},
   "outputs": [],
   "source": [
    "#export\n",
    "# 1st fn. passes each cell to decision fn.\n",
    "def convertNb(nb):  return [cleanCell(c) for c in nb['cells']]\n",
    "\n",
    "# 2nd fn. returns text or passes cell to 'code cell' processor\n",
    "def cleanCell(cell): return marko.convert(cell.source) if cell.cell_type == 'markdown' else processCode(cell)\n",
    "\n",
    "# 3rd fn. Calls getFlags, processSource, processOutput\n",
    "def processCode(cell):\n",
    "  x = [cell.source]\n",
    "  flags = getFlags(x[0])\n",
    "  x[0] = processSource( x[0], flags )\n",
    "  if ( len(cell.outputs) ):\n",
    "    for o in cell.outputs: x.append( processOutput(o, flags) )\n",
    "  return x"
   ]
  },
  {
   "cell_type": "code",
   "execution_count": 46,
   "metadata": {},
   "outputs": [],
   "source": [
    "#export\n",
    "# Detect and stripout and handle flags.\n",
    "def getFlags(source):\n",
    "  input_aug = ['#collapse_input_open', '#collapse_input', '#collapse_output_open', '#collapse_output',\n",
    "               '#hide_input', '#hide_output', '#hide ', '%%capture', '%%javascript', '%%html']\n",
    "  return [ x for x in input_aug if re.search(x, source) ]\n",
    "\n",
    "# enclose the text within a collapsable html drawer.\n",
    "def makeDetails( content, open ):\n",
    "  return \"<details \"+('open' if open else '')+\"> <summary>Click to toggle</summary> \"+content+\"</details>\""
   ]
  },
  {
   "cell_type": "code",
   "execution_count": 47,
   "metadata": {},
   "outputs": [],
   "source": [
    "#export\n",
    "# Strip Flags from text, make details, hide all.\n",
    "def processSource (source, flags):\n",
    "  for lbl in flags:\n",
    "    source = source.replace(lbl+'\\r\\n', \"\")\n",
    "    source = source.replace(lbl+'\\n', \"\") # Strip the Flag\n",
    "    if (lbl == '#collapse_input_open'): source = makeDetails( source, True )\n",
    "    if (lbl == '#collapse_input'): source = makeDetails( source, False )\n",
    "    if (lbl == '#hide '): source = ''\n",
    "    if (lbl == '#hide_input'): source = ''\n",
    "    if (lbl == '%%javascript'): source = ''\n",
    "    if (lbl == '%%html'): source = ''\n",
    "    if (lbl == '%%capture'): source = ''\n",
    "  return source"
   ]
  },
  {
   "cell_type": "code",
   "execution_count": 48,
   "metadata": {},
   "outputs": [],
   "source": [
    "#export\n",
    "def processOutput(source, flags):\n",
    "  if(source.output_type=='error'):  return ''\n",
    "  if(source.output_type=='stream'):\n",
    "    if(source.name=='stderr'): return ''\n",
    "    source.data = {'text/html': source.text} # This will have the stream process as text/html.\n",
    "  print(source.data.keys())\n",
    "  if ( hasattr(source.data, 'text/html') ): source=source.data['text/html'];\n",
    "  elif ( hasattr(source.data, 'application/javascript') ): source='<script>'+source.data['application/javascript']+'</script>'\n",
    "  elif ( hasattr(source.data, 'image/png') ): source= \"<img src=\\\"data:image/png;base64,\" + source.data['image/png'] + \"\\\" alt='Image Alt Text'>\"\n",
    "  elif ( hasattr(source.data, 'text/plain') ): source = '' if re.search(\"<Figure\", source.data['text/plain']) else source.data['text/plain'];\n",
    "  # print(source)\n",
    "  for lbl in flags:\n",
    "    source = source.replace(lbl+'\\r\\n', \"\")\n",
    "    source = source.replace(lbl+'\\n', \"\") # Strip the Flag\n",
    "    if (lbl == '#collapse_output_open'): source = makeDetails( source, True )\n",
    "    if (lbl == '#collapse_output'): source = makeDetails( source, False )\n",
    "    if (lbl == '#hide_output'): source = ''\n",
    "    if (lbl == '#hide '): source = ''\n",
    "  return source\n",
    "  #output_type == 'stream' ==> text\n",
    "  #output_type == 'display_data' ==> data{'application/javascript' or 'text/html' or 'execute_result'}"
   ]
  },
  {
   "cell_type": "code",
   "execution_count": 89,
   "metadata": {},
   "outputs": [],
   "source": [
    "#export\n",
    "# Must be in directory of ipynb you want to convert to html.\n",
    "def publish(fname='index'): \n",
    "  sys.path.pop()\n",
    "  sys.path.append('workspaces/3Diot.github.io/docs/')\n",
    "  %cd ../\n",
    "  from blog import core \n",
    "  %cd notebooks \n",
    "  nb = read_nb(fname+'.ipynb')\n",
    "  meta_jekyll = get_metadata(nb['cells'])\n",
    "  outp = convertNb(nb)\n",
    "  outp = ''.join( [''.join(c) for c in outp] ) \n",
    "  resp = ''.join( [''.join(c) for c in outp] )\n",
    "  template = open(\"../docs/_templates/\"+meta_jekyll['template']+\".html\", \"r\").read() \n",
    "  template = template.replace('{{tab}}', meta_jekyll['tab']) \n",
    "  template = template.replace('{{title}}', meta_jekyll['title']) \n",
    "  template = template.replace('{{filename}}', fname+'.ipynb') \n",
    "  txt = template.replace('{{content}}', resp ) \n",
    "  f = open(\"../docs/\"+meta_jekyll['filename'].lower().replace(' ', '_')+\".html\", \"w\")\n",
    "  f.write(txt)\n",
    "  f.close()\n",
    "  return txt\n",
    "  # return \"<p>Hello, Worrrld!</p>\""
   ]
  },
  {
   "cell_type": "code",
   "execution_count": 90,
   "metadata": {},
   "outputs": [
    {
     "name": "stdout",
     "output_type": "stream",
     "text": [
      "/workspaces/CVminiGames.github.io/blog\n",
      "/workspaces/CVminiGames.github.io/blog/notebooks\n"
     ]
    },
    {
     "data": {
      "text/plain": [
       "'<!DOCTYPE html>\\n<html lang=\"en\">\\n<head>\\n  <meta charset=\"UTF-8\">\\n  <meta name=\"viewport\" content=\"width=device-width, initial-scale=1.0\">\\n  <title>CVMinigames | Home</title>\\n  <script type=\"module\" src=\"https://cdn.jsdelivr.net/npm/@ionic/core/dist/ionic/ionic.esm.js\"></script>\\n  <script nomodule src=\"https://cdn.jsdelivr.net/npm/@ionic/core/dist/ionic/ionic.js\"></script>\\n  <link rel=\"stylesheet\" href=\"https://cdn.jsdelivr.net/npm/@ionic/core/css/ionic.bundle.css\" />\\n</head>\\n<body>\\n  <ion-app>\\n    <ion-header translucent > <!-- class=\"ion-no-border\" -->\\n      <ion-toolbar>\\n        <ion-title>CVMinigames</ion-title>\\n      </ion-toolbar> \\n    </ion-header>,\\n    <ion-content fullscreen class=\"ion-padding\"> \\n      <!-- \\n        # https://github.com/ionic-team/ionic-docs/blob/legacy/src/demos/api/content/index.html \\n        # https://github.com/ionic-team/ionic-docs/blob/legacy/src/demos/api/infinite-scroll/index.html\\n        # https://github.com/ionic-team/ionic-docs/blob/legacy/src/demos/api/back-button/index.html\\n      -->\\n\\n      <style>\\n        /*\\n        :root {\\n          --ion-safe-area-top: 2px;\\n          --ion-safe-area-bottom: 22px;\\n        }\\n        details{padding-bottom:8px}\\n        summary>*{ display:inline-block }\\n        h2, h3 {text-align: center; }\\n        details > summary > h3 {display: inline;}\\n        summary::marker { content: \"🧡 \"; }\\n        */\\n        h2, h3 { display: inline-block; }\\n        body { text-align: center; } \\n        ion-content > div { margin-left: 25%; padding-top: 40px;  padding-bottom: 40px; }\\n      </style> \\n\\n      <p>\\n        <a href=\"https://mybinder.org/v2/gh/CVMiniGames/CVMiniGames.github.io/main\"> <img src=\"https://mybinder.org/badge_logo.svg\" alt=\"Binder\" /> </a>\\n\\n        <a href=\"https://colab.research.google.com/github/CVMiniGames/CVMiniGames.github.io/blob/main/blog/notebooks/index.ipynb\"> <img src=\"https://pete88b.github.io/fastpages/assets/badges/colab.svg\" alt=\"Binder\" /></a>\\n\\n        <a href=\"https://github.com/CVMiniGames/CVMiniGames.github.io/blob/main/blog/notebooks/index.ipynb\"> <img src=\"https://pete88b.github.io/fastpages/assets/badges/github.svg\" alt=\"Binder\" /></a>\\n\\n        <a href=\"\"><img src=\"https://img.shields.io/github/last-commit/CVMiniGames/CVMiniGames.github.io.svg?style=flat\" alt=\"GitHub last commit\" /></a>\\n      </p>\\n        \\n      <p>\\n        <a href=\"https://github.com/CVMiniGames/CVMiniGames.github.io\"><img src=\"https://img.shields.io/github/stars/CVMiniGames/CVMiniGames.github.io.svg?style=social&amp;label=Star\" alt=\"GitHub stars\" /></a>\\n        <a href=\"https://github.com/CVMiniGames/CVMiniGames.github.io\"><img src=\"https://img.shields.io/github/watchers/CVMiniGames/CVMiniGames.github.io.svg?style=social&amp;label=Watch\" alt=\"GitHub watchers\" /></a>\\n        <a href=\"https://github.com/CVMiniGames/CVMiniGames.github.io\"><img src=\"https://img.shields.io/github/forks/CVMiniGames/CVMiniGames.github.io.svg?style=social&amp;label=Fork\" alt=\"GitHub forks\" /></a>\\n        <a href=\"https://github.com/CVMiniGames/CVMiniGames.github.io\"><img src=\"https://img.shields.io/github/followers/CVMiniGames.svg?style=social&amp;label=Follow\" alt=\"GitHub followers\" /></a> \\n      </p>\\n        \\n      <p>\\n        <a href=\"https://twitter.com/intent/tweet?text=Check%20out%20these%20%E2%9C%A8%20colab%20by%20@CVMiniGames%20https://github.com/CVMiniGames/CVMiniGames.github.io\"><img src=\"https://img.shields.io/twitter/url/https/github.com/CVMiniGames/CVMiniGames.github.io.svg?style=social\" alt=\"Tweet\" /></a>\\n        <a href=\"https://twitter.com/CVMiniGames\"><img src=\"https://img.shields.io/twitter/follow/CVMiniGames.svg?style=social\" alt=\"Twitter Follow\" /></a>\\n      </p>\\n\\n      <p>Viewcount: <img src=\"https://visitor-badge.laobi.icu/badge?page_id=CVMiniGames.CVMiniGames.github.io\" alt=\"Visitors\">\\n      </p>\\n\\n\\n\\n      <style> h2, h3{display: inline;}</style><h2>Welcome!</h2>\\n<p>Use this page to navigate about the CVMiniGames ecosystem. </p>\\n<p>Here you will find information about CVMinigame token all that it provides.</p>\\n<h2>Non-Token Services</h2>\\n<p>It\\'s always worth shooting me an ask for small questions. I\\'ve done an insane amount of work for people absolutely free.</p>\\n<p>If I deem your project requiring a non-insignificant amount of work on my end I will charge a minimum $500 retainer.</p>\\n<p>Because frankly, I deserve it.</p>\\n<p>So what else can I do?</p>\\n<p>Property Management: Inclusive of renting property to clients,\\nmaintenance of technical and visual aesthetic\\npoint of contact for all client-related issues and inquiries.</p>\\n<ul>\\n<li>Property Development: Managing, architecting, designing, and developing and scripting both in and out of game.</li>\\n<li>Consulting: To help make decisions in my knowledge of CV, programming, and the blockchain industry.</li>\\n<li>Marketing: Increase exposure with game tie-ins, site advertising, and tweets or product reviews.</li>\\n</ul>\\n<h2>Articles:</h2>\\n<ul>\\n<li><a href=\\'https://cvminigames.com/\\'>Home</a></li>\\n<li><a href=\\'https://cvminigames.com/blog/docs/parcels.html\\'>Parcels</a> </li>\\n<li>\\n<p>Scan State Files</p>\\n</li>\\n<li>\\n<p>Scarcity Island</p>\\n</li>\\n<li>\\n<p>Affiliated Projects</p>\\n</li>\\n<li>\\n<p>tutorials</p></li>\\n</ul>\\n<h2>Standalone Maps:</h2>\\n<ul>\\n<li><a href=\\'https://cvminigames.com/blog/docs/maps/cv_vol_map.html\\'>Parcel Volume</a></li>\\n<li><a href=\\'https://cvminigames.com/blog/docs/maps/cv_book_map.html\\'>Guestbook Locations</a></li>\\n</ul>\\n<details open>\\n<summary><h2>Legal</h2>\\n</summary><p>BY USING THIS SITE AND ANY AFFILIATED PRODUCTS YOU AGREE TO </p>\\n<ul>\\n<li>FOLLOWING THESE <a href=\\'https://www.cryptovoxels.com/terms\\'>TERMS OF SERVICE</a></li>\\n<li>FOLLOWING THIS FOLLOWING THIS <a href=\\'https://www.cryptovoxels.com/conduct\\'>CODE OF CONDUCT</a></li>\\n<li>ACCEPTING THIS <a href=\\'https://www.cryptovoxels.com/privacy\\'>PRIVACY POLICY</a>\\nWHEREVER APPLICABLE, HOWEVER BEST APPLICABLE.</li>\\n</ul>\\n<p> <b>CONTACT ME</b> <br>\\nFor more information about privacy practices, if you have questions, or if you would like to make a complaint, please contact me by e-mail at charles.karpat@gmail.com </p><details>\\n<summary><h3>Disclaimer</h3>\\n</summary><p><b>Views Expressed</b>: All views expressed are the authors own and do not represent the opinions of any entity whatsover with which they have been, are now, or will be affiliated.</p>\\n<p><b>Responsibility</b>, Errors and Ommissions: The author makes no assurance about the reliability of the information. The author makes takes no responsibility for updating product nor maintaining any porformant status. Under no circumstances shall the Author or its affiliates be liable for any indirect incedental, consequential, or special and or exemplary damages arising out of or in connection with this  site and related products. Information is provided \\'as is\\' with distinct plausability of errors and ommitions. Information found within the contents is attached with an MIT license. Please refer to the License for more information.</p>\\n<p><b>Use at Risk</b>: Any action you take upon the information or tooling provided is strictly at your own risk, and the author will not be liable for any losses and damages in connection with the use of this site and related products.</p>\\n<p>Fair Use this site contains copyrighted material the use of which has not always been specifically authorized by the copyright owner. While no intention is made to unlawfully use copyrighted work, circumstanes may arise in which such material is made available in effort to advance scientific literacy. We believe this constitutes a \\'fair use\\' of any such copyrighted material as provided for in section 107 of the US Copyright Law. In accordance with Titile 17 U.S.C. Section 108, the material on this site is distributed without profit to those who have expressed a prior interest in receiving the included information for research and education purposes.</p>\\n<p>for more information go to: http://www.law.cornell.edu/uscode/17/107.shtml. If you wish to use copyrighted material from this site for purposes of your own that go beyond \\'fair use\\', you must obtain permission from the copyright owner.</p>\\n</details>\\n<details>\\n<summary><h3>License</h3>\\n</summary>\\nCopyright © 2022 Charles Karpati\\n<p>Permission is hereby granted, free of charge, to any person obtaining a copy of this software and associated documentation files (the &quot;Software&quot;), to deal in the Software without restriction, including without limitation the rights to use, copy, modify, merge, publish, distribute, sublicense, and/or sell copies of the Software, and to permit persons to whom the Software is furnished to do so, subject to the following conditions:</p>\\n<p>The above copyright notice and this permission notice shall be included in all copies or substantial portions of the Software.</p>\\n<p>THE SOFTWARE IS PROVIDED &quot;AS IS&quot;, WITHOUT WARRANTY OF ANY KIND, EXPRESS OR IMPLIED, INCLUDING BUT NOT LIMITED TO THE WARRANTIES OF MERCHANTABILITY, FITNESS FOR A PARTICULAR PURPOSE AND NONINFRINGEMENT. IN NO EVENT SHALL THE AUTHORS OR COPYRIGHT HOLDERS BE LIABLE FOR ANY CLAIM, DAMAGES OR OTHER LIABILITY, WHETHER IN AN ACTION OF CONTRACT, TORT OR OTHERWISE, ARISING FROM, OUT OF OR IN CONNECTION WITH THE SOFTWARE OR THE USE OR OTHER DEALINGS IN THE SOFTWARE.</p>\\n</details><!-- End LEGAL section -->\\n</details>\\n\\n</ion-content>\\n</ion-app>\\n</body>\\n</html>'"
      ]
     },
     "execution_count": 90,
     "metadata": {},
     "output_type": "execute_result"
    }
   ],
   "source": [
    "publish('index')"
   ]
  },
  {
   "cell_type": "code",
   "execution_count": null,
   "metadata": {},
   "outputs": [],
   "source": [
    "publish('002_Parcels')"
   ]
  },
  {
   "cell_type": "code",
   "execution_count": 92,
   "metadata": {},
   "outputs": [
    {
     "name": "stdout",
     "output_type": "stream",
     "text": [
      "000_core.ipynb        001c_Example.ipynb  013_CV_Misc.ipynb  index.ipynb\n",
      "001a_core_test.ipynb  002_Parcels.ipynb   _devserver.ipynb\n",
      "001b_core_test.ipynb  003_Scarcity.ipynb  cv_map.geojson\n"
     ]
    }
   ],
   "source": [
    "ls"
   ]
  },
  {
   "cell_type": "code",
   "execution_count": 93,
   "metadata": {},
   "outputs": [],
   "source": [
    "nb = read_nb('index.ipynb')\n",
    "outp = convertNb(nb)"
   ]
  },
  {
   "cell_type": "code",
   "execution_count": 94,
   "metadata": {},
   "outputs": [],
   "source": [
    "#export\n",
    "def runit(fname='index.ipynb'): \n",
    "  nb = read_nb(fname)\n",
    "  meta_jekyll = get_metadata(nb['cells'])\n",
    "  outp = convertNb(nb)\n",
    "  txt = ''.join( [''.join(c) for c in outp] )\n",
    "  return txt"
   ]
  },
  {
   "cell_type": "code",
   "execution_count": null,
   "metadata": {},
   "outputs": [],
   "source": [
    "!pip install flask"
   ]
  },
  {
   "cell_type": "code",
   "execution_count": 101,
   "metadata": {},
   "outputs": [
    {
     "name": "stdout",
     "output_type": "stream",
     "text": [
      " * Serving Flask app '__main__' (lazy loading)\n",
      " * Environment: production\n",
      "\u001b[31m   WARNING: This is a development server. Do not use it in a production deployment.\u001b[0m\n",
      "\u001b[2m   Use a production WSGI server instead.\u001b[0m\n",
      " * Debug mode: off\n"
     ]
    },
    {
     "name": "stderr",
     "output_type": "stream",
     "text": [
      " * Running on http://127.0.0.1:5000/ (Press CTRL+C to quit)\n",
      "127.0.0.1 - - [21/Jan/2022 19:04:30] \"GET / HTTP/1.0\" 200 -\n"
     ]
    },
    {
     "name": "stdout",
     "output_type": "stream",
     "text": [
      "/workspaces/CVminiGames.github.io/blog\n",
      "/workspaces/CVminiGames.github.io/blog/notebooks\n"
     ]
    },
    {
     "name": "stderr",
     "output_type": "stream",
     "text": [
      "127.0.0.1 - - [21/Jan/2022 19:04:33] \"GET /parcels HTTP/1.0\" 200 -\n"
     ]
    },
    {
     "name": "stdout",
     "output_type": "stream",
     "text": [
      "/workspaces/CVminiGames.github.io/blog\n",
      "/workspaces/CVminiGames.github.io/blog/notebooks\n",
      "dict_keys(['text/html', 'text/plain'])\n",
      "dict_keys(['text/plain'])\n",
      "dict_keys(['image/png', 'text/plain'])\n",
      "dict_keys(['text/html', 'text/plain'])\n",
      "dict_keys(['text/html', 'text/plain'])\n",
      "dict_keys(['text/html', 'text/plain'])\n",
      "dict_keys(['text/html', 'text/plain'])\n"
     ]
    },
    {
     "name": "stderr",
     "output_type": "stream",
     "text": [
      "127.0.0.1 - - [21/Jan/2022 19:05:21] \"GET / HTTP/1.1\" 200 -\n"
     ]
    },
    {
     "name": "stdout",
     "output_type": "stream",
     "text": [
      "/workspaces/CVminiGames.github.io/blog\n",
      "/workspaces/CVminiGames.github.io/blog/notebooks\n"
     ]
    },
    {
     "name": "stderr",
     "output_type": "stream",
     "text": [
      "127.0.0.1 - - [21/Jan/2022 19:06:01] \"GET / HTTP/1.1\" 200 -\n"
     ]
    },
    {
     "name": "stdout",
     "output_type": "stream",
     "text": [
      "/workspaces/CVminiGames.github.io/blog\n",
      "/workspaces/CVminiGames.github.io/blog/notebooks\n"
     ]
    },
    {
     "name": "stderr",
     "output_type": "stream",
     "text": [
      "127.0.0.1 - - [21/Jan/2022 19:09:45] \"GET / HTTP/1.1\" 200 -\n"
     ]
    },
    {
     "name": "stdout",
     "output_type": "stream",
     "text": [
      "/workspaces/CVminiGames.github.io/blog\n",
      "/workspaces/CVminiGames.github.io/blog/notebooks\n"
     ]
    }
   ],
   "source": [
    "from flask import Flask\n",
    "import re\n",
    "app = Flask(__name__)\n",
    "\n",
    "@app.route(\"/\")\n",
    "def homepage():  \n",
    "  return publish('index') \n",
    "\n",
    "@app.route('/hello')\n",
    "def hello():\n",
    "    return 'Hello, World'\n",
    "    \n",
    "@app.route(\"/parcels\")\n",
    "def parcels():  \n",
    "  return publish('002_Parcels') \n",
    "\n",
    "app.run()"
   ]
  },
  {
   "cell_type": "code",
   "execution_count": 51,
   "metadata": {},
   "outputs": [],
   "source": [
    "t = runit()"
   ]
  },
  {
   "cell_type": "code",
   "execution_count": null,
   "metadata": {},
   "outputs": [],
   "source": []
  },
  {
   "cell_type": "code",
   "execution_count": 52,
   "metadata": {},
   "outputs": [
    {
     "data": {
      "text/html": [
       "<style> h2, h3{display: inline;}</style><h2>Welcome!</h2>\n",
       "<p>Use this page to navigate about the CVMiniGames ecosystem. </p>\n",
       "<p>Here you will find information about CVMinigame token all that it provides.</p>\n",
       "<h2>Non-Token Services</h2>\n",
       "<p>It's always worth shooting me an ask for small questions. I've done an insane amount of work for people absolutely free.</p>\n",
       "<p>If I deem your project requiring a non-insignificant amount of work on my end I will charge a minimum $500 retainer.</p>\n",
       "<p>Because frankly, I deserve it.</p>\n",
       "<p>So what else can I do?</p>\n",
       "<p>Property Management: Inclusive of renting property to clients,\n",
       "maintenance of technical and visual aesthetic\n",
       "point of contact for all client-related issues and inquiries.</p>\n",
       "<ul>\n",
       "<li>Property Development: Managing, architecting, designing, and developing and scripting both in and out of game.</li>\n",
       "<li>Consulting: To help make decisions in my knowledge of CV, programming, and the blockchain industry.</li>\n",
       "<li>Marketing: Increase exposure with game tie-ins, site advertising, and tweets or product reviews.</li>\n",
       "</ul>\n",
       "<h2>Articles:</h2>\n",
       "<ul>\n",
       "<li><a href='https://cvminigames.com/'>Home</a></li>\n",
       "<li><a href='https://cvminigames.com/blog/docs/parcels.html'>Parcels</a> </li>\n",
       "<li>\n",
       "<p>Scan State Files</p>\n",
       "</li>\n",
       "<li>\n",
       "<p>Scarcity Island</p>\n",
       "</li>\n",
       "<li>\n",
       "<p>Affiliated Projects</p>\n",
       "</li>\n",
       "<li>\n",
       "<p>tutorials</p></li>\n",
       "</ul>\n",
       "<h2>Standalone Maps:</h2>\n",
       "<ul>\n",
       "<li><a href='https://cvminigames.com/blog/docs/maps/cv_vol_map.html'>Parcel Volume</a></li>\n",
       "<li><a href='https://cvminigames.com/blog/docs/maps/cv_book_map.html'>Guestbook Locations</a></li>\n",
       "</ul>\n",
       "<details open>\n",
       "<summary><h2>Legal</h2>\n",
       "</summary><p>BY USING THIS SITE AND ANY AFFILIATED PRODUCTS YOU AGREE TO </p>\n",
       "<ul>\n",
       "<li>FOLLOWING THESE <a href='https://www.cryptovoxels.com/terms'>TERMS OF SERVICE</a></li>\n",
       "<li>FOLLOWING THIS FOLLOWING THIS <a href='https://www.cryptovoxels.com/conduct'>CODE OF CONDUCT</a></li>\n",
       "<li>ACCEPTING THIS <a href='https://www.cryptovoxels.com/privacy'>PRIVACY POLICY</a>\n",
       "WHEREVER APPLICABLE, HOWEVER BEST APPLICABLE.</li>\n",
       "</ul>\n",
       "<p> <b>CONTACT ME</b> <br>\n",
       "For more information about privacy practices, if you have questions, or if you would like to make a complaint, please contact me by e-mail at charles.karpat@gmail.com </p><details>\n",
       "<summary><h3>Disclaimer</h3>\n",
       "</summary><p><b>Views Expressed</b>: All views expressed are the authors own and do not represent the opinions of any entity whatsover with which they have been, are now, or will be affiliated.</p>\n",
       "<p><b>Responsibility</b>, Errors and Ommissions: The author makes no assurance about the reliability of the information. The author makes takes no responsibility for updating product nor maintaining any porformant status. Under no circumstances shall the Author or its affiliates be liable for any indirect incedental, consequential, or special and or exemplary damages arising out of or in connection with this  site and related products. Information is provided 'as is' with distinct plausability of errors and ommitions. Information found within the contents is attached with an MIT license. Please refer to the License for more information.</p>\n",
       "<p><b>Use at Risk</b>: Any action you take upon the information or tooling provided is strictly at your own risk, and the author will not be liable for any losses and damages in connection with the use of this site and related products.</p>\n",
       "<p>Fair Use this site contains copyrighted material the use of which has not always been specifically authorized by the copyright owner. While no intention is made to unlawfully use copyrighted work, circumstanes may arise in which such material is made available in effort to advance scientific literacy. We believe this constitutes a 'fair use' of any such copyrighted material as provided for in section 107 of the US Copyright Law. In accordance with Titile 17 U.S.C. Section 108, the material on this site is distributed without profit to those who have expressed a prior interest in receiving the included information for research and education purposes.</p>\n",
       "<p>for more information go to: http://www.law.cornell.edu/uscode/17/107.shtml. If you wish to use copyrighted material from this site for purposes of your own that go beyond 'fair use', you must obtain permission from the copyright owner.</p>\n",
       "</details>\n",
       "<details>\n",
       "<summary><h3>License</h3>\n",
       "</summary>\n",
       "Copyright © 2022 Charles Karpati\n",
       "<p>Permission is hereby granted, free of charge, to any person obtaining a copy of this software and associated documentation files (the &quot;Software&quot;), to deal in the Software without restriction, including without limitation the rights to use, copy, modify, merge, publish, distribute, sublicense, and/or sell copies of the Software, and to permit persons to whom the Software is furnished to do so, subject to the following conditions:</p>\n",
       "<p>The above copyright notice and this permission notice shall be included in all copies or substantial portions of the Software.</p>\n",
       "<p>THE SOFTWARE IS PROVIDED &quot;AS IS&quot;, WITHOUT WARRANTY OF ANY KIND, EXPRESS OR IMPLIED, INCLUDING BUT NOT LIMITED TO THE WARRANTIES OF MERCHANTABILITY, FITNESS FOR A PARTICULAR PURPOSE AND NONINFRINGEMENT. IN NO EVENT SHALL THE AUTHORS OR COPYRIGHT HOLDERS BE LIABLE FOR ANY CLAIM, DAMAGES OR OTHER LIABILITY, WHETHER IN AN ACTION OF CONTRACT, TORT OR OTHERWISE, ARISING FROM, OUT OF OR IN CONNECTION WITH THE SOFTWARE OR THE USE OR OTHER DEALINGS IN THE SOFTWARE.</p>\n",
       "</details><!-- End LEGAL section -->\n",
       "</details>"
      ],
      "text/plain": [
       "<IPython.core.display.HTML object>"
      ]
     },
     "execution_count": 52,
     "metadata": {},
     "output_type": "execute_result"
    }
   ],
   "source": [
    "import IPython\n",
    "IPython.display.HTML(t)"
   ]
  },
  {
   "cell_type": "code",
   "execution_count": 36,
   "metadata": {},
   "outputs": [
    {
     "name": "stdout",
     "output_type": "stream",
     "text": [
      "000_core.ipynb        001c_Example.ipynb  013_CV_Misc.ipynb  index.ipynb\n",
      "001a_core_test.ipynb  002_Parcels.ipynb   _devserver.ipynb\n",
      "001b_core_test.ipynb  003_Scarcity.ipynb  cv_map.geojson\n"
     ]
    }
   ],
   "source": [
    "ls"
   ]
  },
  {
   "cell_type": "code",
   "execution_count": 38,
   "metadata": {},
   "outputs": [],
   "source": [
    "sys.path.append('workspaces/3Diot.github.io/blog/')"
   ]
  },
  {
   "cell_type": "code",
   "execution_count": null,
   "metadata": {},
   "outputs": [],
   "source": [
    "sys.path"
   ]
  },
  {
   "cell_type": "code",
   "execution_count": null,
   "metadata": {},
   "outputs": [],
   "source": []
  },
  {
   "cell_type": "code",
   "execution_count": null,
   "metadata": {},
   "outputs": [],
   "source": []
  }
 ],
 "metadata": {
  "kernelspec": {
   "display_name": "Python 3",
   "language": "python",
   "name": "python3"
  },
  "language_info": {
   "codemirror_mode": {
    "name": "ipython",
    "version": 3
   },
   "file_extension": ".py",
   "mimetype": "text/x-python",
   "name": "python",
   "nbconvert_exporter": "python",
   "pygments_lexer": "ipython3",
   "version": "3.8.12"
  }
 },
 "nbformat": 4,
 "nbformat_minor": 2
}

{
 "cells": [
  {
   "cell_type": "code",
   "execution_count": 3,
   "metadata": {},
   "outputs": [],
   "source": [
    "# default_exp core"
   ]
  },
  {
   "cell_type": "markdown",
   "metadata": {},
   "source": [
    "# module name here\n",
    "\n",
    "> API details."
   ]
  },
  {
   "cell_type": "code",
   "execution_count": 4,
   "metadata": {},
   "outputs": [],
   "source": [
    "#hide\n",
    "from nbdev.showdoc import *"
   ]
  },
  {
   "cell_type": "code",
   "execution_count": 5,
   "metadata": {},
   "outputs": [],
   "source": [
    "#export\n",
    "def say_hello(to):\n",
    "    \"Say hello to somebody\"\n",
    "    return f'Hello {to}!'"
   ]
  },
  {
   "cell_type": "markdown",
   "metadata": {},
   "source": [
    "[nb_2_html](https://github.com/BNIA/dataplay/blob/main/notebooks/04_nb_2_html.ipynb)"
   ]
  },
  {
   "cell_type": "code",
   "execution_count": 6,
   "metadata": {},
   "outputs": [],
   "source": [
    "#export\n",
    "import re\n",
    "from IPython.display import clear_output\n",
    "import marko"
   ]
  },
  {
   "cell_type": "code",
   "execution_count": 7,
   "metadata": {},
   "outputs": [],
   "source": [
    "#export\n",
    "from nbdev import export2html\n",
    "from nbdev.export2html import read_nb, get_metadata, clean_exports\n",
    "from nbdev.export import split_flags_and_code, check_re_multi"
   ]
  },
  {
   "cell_type": "code",
   "execution_count": 8,
   "metadata": {},
   "outputs": [],
   "source": [
    "#export\n",
    "# 1st fn. passes each cell to decision fn.\n",
    "def convertNb(nb):  return [cleanCell(c) for c in nb['cells']]\n",
    "\n",
    "# 2nd fn. returns text or passes cell to 'code cell' processor\n",
    "def cleanCell(cell):\n",
    "  if cell.cell_type == 'markdown':\n",
    "    source = cell.source # if ( re.search('<details><summary>', source) ): return source.replace('\\r\\n', \"source\")\n",
    "    return marko.convert(source)\n",
    "  else: return processCode(cell)\n",
    "\n",
    "# 3rd fn. Calls getFlags, processSource, processOutput\n",
    "def processCode(cell):\n",
    "  x = [cell.source]\n",
    "  flags = getFlags(x[0])\n",
    "  x[0] = processSource( x[0], flags )\n",
    "  if ( len(cell.outputs) ):\n",
    "    for o in cell.outputs: x.append( processOutput(o, flags) )\n",
    "  return x"
   ]
  },
  {
   "cell_type": "code",
   "execution_count": 9,
   "metadata": {},
   "outputs": [],
   "source": [
    "#export\n",
    "# Detect and stripout and handle flags.\n",
    "def getFlags(source):\n",
    "  input_aug = ['#collapse_input_open', '#collapse_input', '#collapse_output_open', '#collapse_output',\n",
    "               '#hide_input', '#hide_output', '#hide ', '%%capture', '%%javascript', '%%html']\n",
    "  return [ x for x in input_aug if re.search(x, source) ]\n",
    "\n",
    "# enclose the text within a collapsable html drawer.\n",
    "def makeDetails( content, open ):\n",
    "  return \"<details \"+('open' if open else '')+\"> <summary>Click to toggle</summary> \"+content+\"</details>\""
   ]
  },
  {
   "cell_type": "code",
   "execution_count": 10,
   "metadata": {},
   "outputs": [],
   "source": [
    "#export\n",
    "# Strip Flags from text, make details, hide all.\n",
    "def processSource (source, flags):\n",
    "  for lbl in flags:\n",
    "    source = source.replace(lbl+'\\r\\n', \"\")\n",
    "    source = source.replace(lbl+'\\n', \"\") # Strip the Flag\n",
    "    if (lbl == '#collapse_input_open'): source = makeDetails( source, True )\n",
    "    if (lbl == '#collapse_input'): source = makeDetails( source, False )\n",
    "    if (lbl == '#hide '): source = ''\n",
    "    if (lbl == '#hide_input'): source = ''\n",
    "    if (lbl == '%%javascript'): source = ''\n",
    "    if (lbl == '%%html'): source = ''\n",
    "    if (lbl == '%%capture'): source = ''\n",
    "  return source"
   ]
  },
  {
   "cell_type": "code",
   "execution_count": 67,
   "metadata": {},
   "outputs": [],
   "source": [
    "#export\n",
    "def processOutput(source, flags):\n",
    "  if(source.output_type=='error'):  return ''\n",
    "  if(source.output_type=='stream'):\n",
    "    if(source.name=='stderr'): return ''\n",
    "    source.data = {'text/html': source.text} # This will have the stream process as text/html.\n",
    "  print(source.data.keys())\n",
    "  if ( hasattr(source.data, 'text/html') ): source=source.data['text/html'];\n",
    "  elif ( hasattr(source.data, 'application/javascript') ): source='<script>'+source.data['application/javascript']+'</script>'\n",
    "  elif ( hasattr(source.data, 'image/png') ): source= \"<img src=\\\"data:image/png;base64,\" + source.data['image/png'] + \"\\\" alt='Image Alt Text'>\"\n",
    "  elif ( hasattr(source.data, 'text/plain') ): source = '' if re.search(\"<Figure\", source.data['text/plain']) else source.data['text/plain'];\n",
    "  # print(source)\n",
    "  for lbl in flags:\n",
    "    source = source.replace(lbl+'\\r\\n', \"\")\n",
    "    source = source.replace(lbl+'\\n', \"\") # Strip the Flag\n",
    "    if (lbl == '#collapse_output_open'): source = makeDetails( source, True )\n",
    "    if (lbl == '#collapse_output'): source = makeDetails( source, False )\n",
    "    if (lbl == '#hide_output'): source = ''\n",
    "    if (lbl == '#hide '): source = ''\n",
    "  return source\n",
    "  #output_type == 'stream' ==> text\n",
    "  #output_type == 'display_data' ==> data{'application/javascript' or 'text/html' or 'execute_result'}"
   ]
  },
  {
   "cell_type": "code",
   "execution_count": 64,
   "metadata": {},
   "outputs": [
    {
     "name": "stdout",
     "output_type": "stream",
     "text": [
      "000_core.ipynb  001_core_test.ipynb  _devserver.ipynb  index.ipynb  test.html\n"
     ]
    }
   ],
   "source": [
    "ls"
   ]
  },
  {
   "cell_type": "code",
   "execution_count": 66,
   "metadata": {},
   "outputs": [
    {
     "name": "stdout",
     "output_type": "stream",
     "text": [
      "dict_keys(['image/png', 'text/plain'])\n",
      "dict_keys(['text/plain'])\n",
      "dict_keys(['image/png', 'text/plain'])\n",
      "dict_keys(['image/png', 'text/plain'])\n",
      "dict_keys(['image/png', 'text/plain'])\n"
     ]
    }
   ],
   "source": [
    "nb = read_nb('index.ipynb')\n",
    "outp = convertNb(nb)"
   ]
  },
  {
   "cell_type": "code",
   "execution_count": 50,
   "metadata": {},
   "outputs": [],
   "source": [
    "#export\n",
    "def runit(fname='index.ipynb'): \n",
    "  nb = read_nb(fname)\n",
    "  meta_jekyll = get_metadata(nb['cells'])\n",
    "  outp = convertNb(nb)\n",
    "  txt = ''.join( [''.join(c) for c in outp] )\n",
    "  return txt"
   ]
  },
  {
   "cell_type": "code",
   "execution_count": 52,
   "metadata": {},
   "outputs": [],
   "source": [
    "t = runit()"
   ]
  },
  {
   "cell_type": "code",
   "execution_count": null,
   "metadata": {},
   "outputs": [],
   "source": []
  }
 ],
 "metadata": {
  "kernelspec": {
   "display_name": "Python 3",
   "language": "python",
   "name": "python3"
  },
  "language_info": {
   "codemirror_mode": {
    "name": "ipython",
    "version": 3
   },
   "file_extension": ".py",
   "mimetype": "text/x-python",
   "name": "python",
   "nbconvert_exporter": "python",
   "pygments_lexer": "ipython3",
   "version": "3.8.10"
  }
 },
 "nbformat": 4,
 "nbformat_minor": 2
}

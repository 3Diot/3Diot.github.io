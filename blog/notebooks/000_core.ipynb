{
 "cells": [
  {
   "cell_type": "code",
   "execution_count": 3,
   "metadata": {},
   "outputs": [],
   "source": [
    "# default_exp core"
   ]
  },
  {
   "cell_type": "markdown",
   "metadata": {},
   "source": [
    "# module name here\n",
    "\n",
    "> API details."
   ]
  },
  {
   "cell_type": "code",
   "execution_count": 2,
   "metadata": {},
   "outputs": [],
   "source": [
    "#hide\n",
    "from nbdev.showdoc import *"
   ]
  },
  {
   "cell_type": "code",
   "execution_count": 3,
   "metadata": {},
   "outputs": [],
   "source": [
    "#export\n",
    "def say_hello(to):\n",
    "    \"Say hello to somebody\"\n",
    "    return f'Hello {to}!'"
   ]
  },
  {
   "cell_type": "markdown",
   "metadata": {},
   "source": [
    "[nb_2_html](https://github.com/BNIA/dataplay/blob/main/notebooks/04_nb_2_html.ipynb)"
   ]
  },
  {
   "cell_type": "code",
   "execution_count": 4,
   "metadata": {},
   "outputs": [],
   "source": [
    "#export\n",
    "import re\n",
    "from IPython.display import clear_output\n",
    "import marko"
   ]
  },
  {
   "cell_type": "code",
   "execution_count": 5,
   "metadata": {},
   "outputs": [],
   "source": [
    "#export\n",
    "from nbdev import export2html\n",
    "from nbdev.export2html import read_nb, get_metadata, clean_exports\n",
    "from nbdev.export import split_flags_and_code, check_re_multi"
   ]
  },
  {
   "cell_type": "code",
   "execution_count": 59,
   "metadata": {},
   "outputs": [],
   "source": [
    "#export\n",
    "# 1st fn. passes each cell to decision fn.\n",
    "def convertNb(nb):  return [cleanCell(c) for c in nb['cells']]\n",
    "\n",
    "# 2nd fn. returns text or passes cell to 'code cell' processor\n",
    "def cleanCell(cell): return marko.convert(cell.source) if cell.cell_type == 'markdown' else processCode(cell)\n",
    "\n",
    "# 3rd fn. Calls getFlags, processSource, processOutput\n",
    "def processCode(cell):\n",
    "  x = [cell.source]\n",
    "  flags = getFlags(x[0])\n",
    "  x[0] = processSource( x[0], flags )\n",
    "  if ( len(cell.outputs) ):\n",
    "    for o in cell.outputs: x.append( processOutput(o, flags) )\n",
    "  return x"
   ]
  },
  {
   "cell_type": "code",
   "execution_count": 7,
   "metadata": {},
   "outputs": [],
   "source": [
    "#export\n",
    "# Detect and stripout and handle flags.\n",
    "def getFlags(source):\n",
    "  input_aug = ['#collapse_input_open', '#collapse_input', '#collapse_output_open', '#collapse_output',\n",
    "               '#hide_input', '#hide_output', '#hide ', '%%capture', '%%javascript', '%%html']\n",
    "  return [ x for x in input_aug if re.search(x, source) ]\n",
    "\n",
    "# enclose the text within a collapsable html drawer.\n",
    "def makeDetails( content, open ):\n",
    "  return \"<details \"+('open' if open else '')+\"> <summary>Click to toggle</summary> \"+content+\"</details>\""
   ]
  },
  {
   "cell_type": "code",
   "execution_count": 8,
   "metadata": {},
   "outputs": [],
   "source": [
    "#export\n",
    "# Strip Flags from text, make details, hide all.\n",
    "def processSource (source, flags):\n",
    "  for lbl in flags:\n",
    "    source = source.replace(lbl+'\\r\\n', \"\")\n",
    "    source = source.replace(lbl+'\\n', \"\") # Strip the Flag\n",
    "    if (lbl == '#collapse_input_open'): source = makeDetails( source, True )\n",
    "    if (lbl == '#collapse_input'): source = makeDetails( source, False )\n",
    "    if (lbl == '#hide '): source = ''\n",
    "    if (lbl == '#hide_input'): source = ''\n",
    "    if (lbl == '%%javascript'): source = ''\n",
    "    if (lbl == '%%html'): source = ''\n",
    "    if (lbl == '%%capture'): source = ''\n",
    "  return source"
   ]
  },
  {
   "cell_type": "code",
   "execution_count": 60,
   "metadata": {},
   "outputs": [],
   "source": [
    "#export\n",
    "def processOutput(source, flags):\n",
    "  if(source.output_type=='error'):  return ''\n",
    "  if(source.output_type=='stream'):\n",
    "    if(source.name=='stderr'): return ''\n",
    "    source.data = {'text/html': source.text} # This will have the stream process as text/html.\n",
    "  print(source.data.keys())\n",
    "  if ( hasattr(source.data, 'text/html') ): source=source.data['text/html'];\n",
    "  elif ( hasattr(source.data, 'application/javascript') ): source='<script>'+source.data['application/javascript']+'</script>'\n",
    "  elif ( hasattr(source.data, 'image/png') ): source= \"<img src=\\\"data:image/png;base64,\" + source.data['image/png'] + \"\\\" alt='Image Alt Text'>\"\n",
    "  elif ( hasattr(source.data, 'text/plain') ): source = '' if re.search(\"<Figure\", source.data['text/plain']) else source.data['text/plain'];\n",
    "  # print(source)\n",
    "  for lbl in flags:\n",
    "    source = source.replace(lbl+'\\r\\n', \"\")\n",
    "    source = source.replace(lbl+'\\n', \"\") # Strip the Flag\n",
    "    if (lbl == '#collapse_output_open'): source = makeDetails( source, True )\n",
    "    if (lbl == '#collapse_output'): source = makeDetails( source, False )\n",
    "    if (lbl == '#hide_output'): source = ''\n",
    "    if (lbl == '#hide '): source = ''\n",
    "  return source\n",
    "  #output_type == 'stream' ==> text\n",
    "  #output_type == 'display_data' ==> data{'application/javascript' or 'text/html' or 'execute_result'}"
   ]
  },
  {
   "cell_type": "code",
   "execution_count": null,
   "metadata": {},
   "outputs": [],
   "source": [
    "ls"
   ]
  },
  {
   "cell_type": "code",
   "execution_count": null,
   "metadata": {},
   "outputs": [],
   "source": [
    "nb = read_nb('index.ipynb')\n",
    "outp = convertNb(nb)"
   ]
  },
  {
   "cell_type": "code",
   "execution_count": 66,
   "metadata": {},
   "outputs": [],
   "source": [
    "#export\n",
    "def runit(fname='index.ipynb'): \n",
    "  nb = read_nb(fname)\n",
    "  meta_jekyll = get_metadata(nb['cells'])\n",
    "  outp = convertNb(nb)\n",
    "  txt = ''.join( [''.join(c) for c in outp] )\n",
    "  return txt"
   ]
  },
  {
   "cell_type": "code",
   "execution_count": 13,
   "metadata": {},
   "outputs": [],
   "source": [
    "t = runit()"
   ]
  },
  {
   "cell_type": "code",
   "execution_count": 67,
   "metadata": {},
   "outputs": [
    {
     "data": {
      "text/plain": [
       "\"<p>Hi there; It looks like you found my blog! </p>\\n<p>I'd like to write about my day to day adventures here.</p>\\n\""
      ]
     },
     "execution_count": 67,
     "metadata": {},
     "output_type": "execute_result"
    }
   ],
   "source": [
    "t"
   ]
  },
  {
   "cell_type": "code",
   "execution_count": null,
   "metadata": {},
   "outputs": [],
   "source": []
  },
  {
   "cell_type": "code",
   "execution_count": null,
   "metadata": {},
   "outputs": [],
   "source": [
    "def templatize(txt=\"text123\", template='article'):\n",
    "    template = open(\"../docs/_templates/\"+template+\".html\", \"r\").read()\n",
    "    return template\n",
    "\n",
    "templatize()"
   ]
  },
  {
   "cell_type": "code",
   "execution_count": 126,
   "metadata": {},
   "outputs": [
    {
     "name": "stdout",
     "output_type": "stream",
     "text": [
      "000_core.ipynb        002_Parcels.ipynb     index.ipynb\n",
      "001a_core_test.ipynb  003_Guestbooks.ipynb  pivottablejs.html\n",
      "001b_core_test.ipynb  013_CV_Misc.ipynb\n",
      "001c_Example.ipynb    _devserver.ipynb\n"
     ]
    }
   ],
   "source": [
    "ls"
   ]
  },
  {
   "cell_type": "markdown",
   "metadata": {},
   "source": [
    "[![Binder](https://mybinder.org/badge_logo.svg)](https://mybinder.org/v2/gh/CVMiniGames/CVMiniGames.github.io/main)\n",
    "[![Binder](https://pete88b.github.io/fastpages/assets/badges/colab.svg)](https://colab.research.google.com/github/CVMiniGames/CVMiniGames.github.io/blob/main/blog/notebooks/{{filename}}.ipynb)\n",
    "[![Binder](https://pete88b.github.io/fastpages/assets/badges/github.svg)](https://github.com/CVMiniGames/CVMiniGames.github.io/blob/main/blog/notebooks/{{filename}}.ipynb) \n",
    "[![GitHub last commit](https://img.shields.io/github/last-commit/CVMiniGames/CVMiniGames.github.io.svg?style=flat)]()  \n",
    "\n",
    "[![GitHub stars](https://img.shields.io/github/stars/CVMiniGames/CVMiniGames.github.io.svg?style=social&label=Star)](https://github.com/CVMiniGames/CVMiniGames.github.io) \n",
    "[![GitHub watchers](https://img.shields.io/github/watchers/CVMiniGames/CVMiniGames.github.io.svg?style=social&label=Watch)](https://github.com/CVMiniGames/CVMiniGames.github.io) \n",
    "[![GitHub forks](https://img.shields.io/github/forks/CVMiniGames/CVMiniGames.github.io.svg?style=social&label=Fork)](https://github.com/CVMiniGames/CVMiniGames.github.io) \n",
    "[![GitHub followers](https://img.shields.io/github/followers/CVMiniGames.svg?style=social&label=Follow)](https://github.com/CVMiniGames/CVMiniGames.github.io) \n",
    "\n",
    "[![Tweet](https://img.shields.io/twitter/url/https/github.com/CVMiniGames/CVMiniGames.github.io.svg?style=social)](https://twitter.com/intent/tweet?text=Check%20out%20these%20%E2%9C%A8%20colab%20by%20@CVMiniGames%20https://github.com/CVMiniGames/CVMiniGames.github.io) \n",
    "[![Twitter Follow](https://img.shields.io/twitter/follow/CVMiniGames.svg?style=social)](https://twitter.com/CVMiniGames)\n",
    "\n",
    "Viewcount: ![Visitors](https://visitor-badge.laobi.icu/badge?page_id=CVMiniGames.CVMiniGames.github.io)"
   ]
  },
  {
   "cell_type": "code",
   "execution_count": 175,
   "metadata": {},
   "outputs": [],
   "source": [
    "#export\n",
    "# Must be in directory of ipynb you want to convert to html.\n",
    "def publish(fname='index'): \n",
    "  sys.path.pop()\n",
    "  sys.path.append('workspaces/3Diot.github.io/docs/')\n",
    "  from blog import core \n",
    "  nb = read_nb(fname+'.ipynb')\n",
    "  meta_jekyll = get_metadata(nb['cells'])\n",
    "  outp = convertNb(nb)\n",
    "  outp = ''.join( [''.join(c) for c in outp] ) \n",
    "  resp = ''.join( [''.join(c) for c in outp] )\n",
    "  template = open(\"../docs/_templates/\"+meta_jekyll['template']+\".html\", \"r\").read() \n",
    "  template = template.replace('{{title}}', meta_jekyll['title']) \n",
    "  template = template.replace('{{filename}}', fname+'.ipynb') \n",
    "  txt = template.replace('{{content}}', resp ) \n",
    "  f = open(\"../docs/\"+meta_jekyll['title'].lower().replace(' ', '_')+\".html\", \"w\")\n",
    "  f.write(txt)\n",
    "  f.close()\n",
    "  return txt\n",
    "  # return \"<p>Hello, Worrrld!</p>\""
   ]
  },
  {
   "cell_type": "code",
   "execution_count": 176,
   "metadata": {},
   "outputs": [
    {
     "name": "stdout",
     "output_type": "stream",
     "text": [
      "dict_keys(['text/html', 'text/plain'])\n",
      "dict_keys(['text/html'])\n",
      "dict_keys(['text/html', 'text/plain'])\n"
     ]
    },
    {
     "data": {
      "text/plain": [
       "'<!DOCTYPE html>\\n<html lang=\"en\">\\n<head>\\n  <meta charset=\"UTF-8\">\\n  <meta name=\"viewport\" content=\"width=device-width, initial-scale=1.0\">\\n  <title>Parcels</title>\\n  <script type=\"module\" src=\"https://cdn.jsdelivr.net/npm/@ionic/core/dist/ionic/ionic.esm.js\"></script>\\n  <script nomodule src=\"https://cdn.jsdelivr.net/npm/@ionic/core/dist/ionic/ionic.js\"></script>\\n  <link rel=\"stylesheet\" href=\"https://cdn.jsdelivr.net/npm/@ionic/core/css/ionic.bundle.css\" />\\n</head>\\n<body>\\n  <ion-app>\\n    <ion-header translucent > <!-- class=\"ion-no-border\" -->\\n      <ion-toolbar>\\n        <ion-title>Parcels</ion-title>\\n      </ion-toolbar> \\n    </ion-header>,\\n    <ion-content fullscreen class=\"ion-padding\"> \\n      <!-- \\n        # https://github.com/ionic-team/ionic-docs/blob/legacy/src/demos/api/content/index.html \\n        # https://github.com/ionic-team/ionic-docs/blob/legacy/src/demos/api/infinite-scroll/index.html\\n        # https://github.com/ionic-team/ionic-docs/blob/legacy/src/demos/api/back-button/index.html\\n      -->\\n\\n      <style>\\n        /*\\n        :root {\\n          --ion-safe-area-top: 2px;\\n          --ion-safe-area-bottom: 22px;\\n        }\\n        details{padding-bottom:8px}\\n        summary>*{ display:inline-block }\\n        h2, h3 {text-align: center; }\\n        details > summary > h3 {display: inline;}\\n        summary::marker { content: \"🧡 \"; }\\n        */\\n        h2, h3 { display: inline-block; }\\n        body { text-align: center; } \\n        ion-content > div { margin-left: 25%; padding-top: 40px;  padding-bottom: 40px; }\\n      </style> \\n      <p>Viewcount: <img src=\"https://visitor-badge.laobi.icu/badge?page_id=CVMiniGames.CVMiniGames.github.io\" alt=\"Visitors\" /></p>\\n<h2>Get Parcels</h2>\\n<p>&quot;&quot;&quot;\\n#hide\\nimport sys\\nsys.path.append(\\'/workspaces/CVMiniGames.github.io/blog/\\')\\nsys.path.append(\\'/workspaces/CVMiniGames.github.io/docs/datasets/\\')\\n&quot;&quot;&quot;</p>\\n<p>Grab all parcels</p>\\n<div>\\n<style scoped>\\n    .dataframe tbody tr th:only-of-type {\\n        vertical-align: middle;\\n    }\\n\\n    .dataframe tbody tr th {\\n        vertical-align: top;\\n    }\\n\\n    .dataframe thead th {\\n        text-align: right;\\n    }\\n</style>\\n<table border=\"1\" class=\"dataframe\">\\n  <thead>\\n    <tr style=\"text-align: right;\">\\n      <th></th>\\n      <th>id</th>\\n      <th>height</th>\\n      <th>address</th>\\n      <th>suburb</th>\\n      <th>island</th>\\n      <th>name</th>\\n      <th>area</th>\\n      <th>distance</th>\\n      <th>owner</th>\\n      <th>owner_name</th>\\n      <th>...</th>\\n      <th>x2</th>\\n      <th>y1</th>\\n      <th>label</th>\\n      <th>y2</th>\\n      <th>z1</th>\\n      <th>z2</th>\\n      <th>geometry.type</th>\\n      <th>geometry.crs.type</th>\\n      <th>geometry.crs.properties.name</th>\\n      <th>geometry.coordinates</th>\\n    </tr>\\n  </thead>\\n  <tbody>\\n    <tr>\\n      <th>0</th>\\n      <td>6748</td>\\n      <td>6</td>\\n      <td>31b Fault Line</td>\\n      <td>Bronze</td>\\n      <td>Scarcity</td>\\n      <td>None</td>\\n      <td>96</td>\\n      <td>1849.130877</td>\\n      <td>0x09d06dcef22051477cde12cfbfc674f60a53c66c</td>\\n      <td>None</td>\\n      <td>...</td>\\n      <td>-1466</td>\\n      <td>8</td>\\n      <td>None</td>\\n      <td>6</td>\\n      <td>-1139</td>\\n      <td>-1127</td>\\n      <td>Polygon</td>\\n      <td>name</td>\\n      <td>EPSG:3857</td>\\n      <td>[[[-14.74, -11.389899995], [-14.74, -11.27], [...</td>\\n    </tr>\\n    <tr>\\n      <th>1</th>\\n      <td>6747</td>\\n      <td>9</td>\\n      <td>37b Ruby Street</td>\\n      <td>Silver</td>\\n      <td>Scarcity</td>\\n      <td>RUBY LOFT</td>\\n      <td>120</td>\\n      <td>1763.588144</td>\\n      <td>0x3b97b6cbbfcfff88cf4a175e665c5715a3efe4f0</td>\\n      <td>sexman.eth</td>\\n      <td>...</td>\\n      <td>-1257</td>\\n      <td>8</td>\\n      <td>None</td>\\n      <td>9</td>\\n      <td>-1245</td>\\n      <td>-1237</td>\\n      <td>Polygon</td>\\n      <td>name</td>\\n      <td>EPSG:3857</td>\\n      <td>[[[-12.72, -12.45], [-12.72, -12.37], [-12.570...</td>\\n    </tr>\\n    <tr>\\n      <th>2</th>\\n      <td>6746</td>\\n      <td>9</td>\\n      <td>23b Antarcticite Road</td>\\n      <td>Gold</td>\\n      <td>Scarcity</td>\\n      <td>None</td>\\n      <td>104</td>\\n      <td>1627.018697</td>\\n      <td>0xc6786a54882ca1591745d748a2a92813e35c1a5d</td>\\n      <td>Artolli</td>\\n      <td>...</td>\\n      <td>-1242</td>\\n      <td>8</td>\\n      <td>None</td>\\n      <td>9</td>\\n      <td>-1059</td>\\n      <td>-1051</td>\\n      <td>Polygon</td>\\n      <td>name</td>\\n      <td>EPSG:3857</td>\\n      <td>[[[-12.55, -10.51], [-12.420100005, -10.51], [...</td>\\n    </tr>\\n    <tr>\\n      <th>3</th>\\n      <td>6745</td>\\n      <td>7</td>\\n      <td>11b Arsenopyrite Ave</td>\\n      <td>Bronze</td>\\n      <td>Scarcity</td>\\n      <td>None</td>\\n      <td>153</td>\\n      <td>1945.814879</td>\\n      <td>0x13816f65ba8195768e6825eb774fd3c6a05a0ac8</td>\\n      <td>None</td>\\n      <td>...</td>\\n      <td>-1527</td>\\n      <td>8</td>\\n      <td>None</td>\\n      <td>7</td>\\n      <td>-1223</td>\\n      <td>-1206</td>\\n      <td>Polygon</td>\\n      <td>name</td>\\n      <td>EPSG:3857</td>\\n      <td>[[[-15.270100005, -12.23], [-15.36, -12.23], [...</td>\\n    </tr>\\n    <tr>\\n      <th>4</th>\\n      <td>6744</td>\\n      <td>8</td>\\n      <td>7b Analcime Street</td>\\n      <td>Silver</td>\\n      <td>Scarcity</td>\\n      <td>None</td>\\n      <td>165</td>\\n      <td>1778.345861</td>\\n      <td>0xc6786a54882ca1591745d748a2a92813e35c1a5d</td>\\n      <td>Artolli</td>\\n      <td>...</td>\\n      <td>-1317</td>\\n      <td>8</td>\\n      <td>None</td>\\n      <td>8</td>\\n      <td>-1206</td>\\n      <td>-1195</td>\\n      <td>Polygon</td>\\n      <td>name</td>\\n      <td>EPSG:3857</td>\\n      <td>[[[-13.17, -11.95], [-13.17, -12.06], [-13.319...</td>\\n    </tr>\\n  </tbody>\\n</table>\\n<p>5 rows × 21 columns</p>\\n</div><h2>Save Parcels</h2>\\ncd ../data/workspaces/3Diot.github.io/blog/data\\ndf[:13].head(3)<div>\\n<style scoped>\\n    .dataframe tbody tr th:only-of-type {\\n        vertical-align: middle;\\n    }\\n\\n    .dataframe tbody tr th {\\n        vertical-align: top;\\n    }\\n\\n    .dataframe thead th {\\n        text-align: right;\\n    }\\n</style>\\n<table border=\"1\" class=\"dataframe\">\\n  <thead>\\n    <tr style=\"text-align: right;\">\\n      <th></th>\\n      <th>id</th>\\n      <th>height</th>\\n      <th>address</th>\\n      <th>suburb</th>\\n      <th>island</th>\\n      <th>name</th>\\n      <th>area</th>\\n      <th>distance</th>\\n      <th>owner</th>\\n      <th>owner_name</th>\\n      <th>...</th>\\n      <th>x2</th>\\n      <th>y1</th>\\n      <th>label</th>\\n      <th>y2</th>\\n      <th>z1</th>\\n      <th>z2</th>\\n      <th>geometry.type</th>\\n      <th>geometry.crs.type</th>\\n      <th>geometry.crs.properties.name</th>\\n      <th>geometry.coordinates</th>\\n    </tr>\\n  </thead>\\n  <tbody>\\n    <tr>\\n      <th>0</th>\\n      <td>6748</td>\\n      <td>6</td>\\n      <td>31b Fault Line</td>\\n      <td>Bronze</td>\\n      <td>Scarcity</td>\\n      <td>None</td>\\n      <td>96</td>\\n      <td>1849.130877</td>\\n      <td>0x09d06dcef22051477cde12cfbfc674f60a53c66c</td>\\n      <td>None</td>\\n      <td>...</td>\\n      <td>-1466</td>\\n      <td>8</td>\\n      <td>None</td>\\n      <td>6</td>\\n      <td>-1139</td>\\n      <td>-1127</td>\\n      <td>Polygon</td>\\n      <td>name</td>\\n      <td>EPSG:3857</td>\\n      <td>[[[-14.74, -11.389899995], [-14.74, -11.27], [...</td>\\n    </tr>\\n    <tr>\\n      <th>1</th>\\n      <td>6747</td>\\n      <td>9</td>\\n      <td>37b Ruby Street</td>\\n      <td>Silver</td>\\n      <td>Scarcity</td>\\n      <td>RUBY LOFT</td>\\n      <td>120</td>\\n      <td>1763.588144</td>\\n      <td>0x3b97b6cbbfcfff88cf4a175e665c5715a3efe4f0</td>\\n      <td>sexman.eth</td>\\n      <td>...</td>\\n      <td>-1257</td>\\n      <td>8</td>\\n      <td>None</td>\\n      <td>9</td>\\n      <td>-1245</td>\\n      <td>-1237</td>\\n      <td>Polygon</td>\\n      <td>name</td>\\n      <td>EPSG:3857</td>\\n      <td>[[[-12.72, -12.45], [-12.72, -12.37], [-12.570...</td>\\n    </tr>\\n    <tr>\\n      <th>2</th>\\n      <td>6746</td>\\n      <td>9</td>\\n      <td>23b Antarcticite Road</td>\\n      <td>Gold</td>\\n      <td>Scarcity</td>\\n      <td>None</td>\\n      <td>104</td>\\n      <td>1627.018697</td>\\n      <td>0xc6786a54882ca1591745d748a2a92813e35c1a5d</td>\\n      <td>Artolli</td>\\n      <td>...</td>\\n      <td>-1242</td>\\n      <td>8</td>\\n      <td>None</td>\\n      <td>9</td>\\n      <td>-1059</td>\\n      <td>-1051</td>\\n      <td>Polygon</td>\\n      <td>name</td>\\n      <td>EPSG:3857</td>\\n      <td>[[[-12.55, -10.51], [-12.420100005, -10.51], [...</td>\\n    </tr>\\n  </tbody>\\n</table>\\n<p>3 rows × 21 columns</p>\\n</div>import requests\\nimport json\\n\\ndeets = []\\nfor index, row in df.tail(200).iterrows():\\n  url = \\'https://www.cryptovoxels.com/api/parcels/\\'+str(row[\\'id\\'])+\\'.json\\' \\n  r = requests.get(url)\\n  data = json.loads(r.text) \\n  with open(\\'./parcels/\\'+str(row[\\'id\\'])+\\'.json\\', \\'w\\') as file:\\n    json.dump(data, file)\\n  print(row[\\'id\\'])<h2>Filtering Parcels</h2>\\nimport json\\ndeets = []\\nfor index, row in df[1:2].iterrows():\\n  url = \\'./parcels/\\'+str(row[\\'id\\'])+\\'.json\\'\\n  data = \\'\\'\\n  with open(url, \\'r\\') as j: \\n    data = json.loads(j.read()) \\n    data = data[\\'parcel\\'] \\n  #coords = data.geometry.coordinates\\n  #data[\\'coords\\'] = coords\\n  #del data.geometry.coordinates\\n  #//content = data.content.features\\n  #del data.content.features\\n  deets.append( data )\\n\\n      <p><a href=\"https://mybinder.org/v2/gh/CVMiniGames/CVMiniGames.github.io/main\"><img src=\"https://mybinder.org/badge_logo.svg\" alt=\"Binder\" /></a>\\n        <a href=\"https://colab.research.google.com/github/CVMiniGames/CVMiniGames.github.io/blob/main/blog/notebooks/002_Parcels.ipynb><img src=\"https://pete88b.github.io/fastpages/assets/badges/colab.svg\" alt=\"Binder\" /></a>\\n        <a href=\"https://github.com/CVMiniGames/CVMiniGames.github.io/blob/main/blog/notebooks/002_Parcels.ipynb\"><img src=\"https://pete88b.github.io/fastpages/assets/badges/github.svg\" alt=\"Binder\" /></a>\\n        <a href=\"\"><img src=\"https://img.shields.io/github/last-commit/CVMiniGames/CVMiniGames.github.io.svg?style=flat\" alt=\"GitHub last commit\" /></a>  </p>\\n        <p><a href=\"https://github.com/CVMiniGames/CVMiniGames.github.io\"><img src=\"https://img.shields.io/github/stars/CVMiniGames/CVMiniGames.github.io.svg?style=social&amp;label=Star\" alt=\"GitHub stars\" /></a>\\n        <a href=\"https://github.com/CVMiniGames/CVMiniGames.github.io\"><img src=\"https://img.shields.io/github/watchers/CVMiniGames/CVMiniGames.github.io.svg?style=social&amp;label=Watch\" alt=\"GitHub watchers\" /></a>\\n        <a href=\"https://github.com/CVMiniGames/CVMiniGames.github.io\"><img src=\"https://img.shields.io/github/forks/CVMiniGames/CVMiniGames.github.io.svg?style=social&amp;label=Fork\" alt=\"GitHub forks\" /></a>\\n        <a href=\"https://github.com/CVMiniGames/CVMiniGames.github.io\"><img src=\"https://img.shields.io/github/followers/CVMiniGames.svg?style=social&amp;label=Follow\" alt=\"GitHub followers\" /></a> </p>\\n        <p><a href=\"https://twitter.com/intent/tweet?text=Check%20out%20these%20%E2%9C%A8%20colab%20by%20@CVMiniGames%20https://github.com/CVMiniGames/CVMiniGames.github.io\"><img src=\"https://img.shields.io/twitter/url/https/github.com/CVMiniGames/CVMiniGames.github.io.svg?style=social\" alt=\"Tweet\" /></a>\\n        <a href=\"https://twitter.com/CVMiniGames\"><img src=\"https://img.shields.io/twitter/follow/CVMiniGames.svg?style=social\" alt=\"Twitter Follow\" /></a>\\n      </p>\\n\\n</ion-content>\\n</ion-app>\\n</body>\\n</html>'"
      ]
     },
     "execution_count": 176,
     "metadata": {},
     "output_type": "execute_result"
    }
   ],
   "source": [
    "publish('002_Parcels')"
   ]
  },
  {
   "cell_type": "code",
   "execution_count": 155,
   "metadata": {},
   "outputs": [
    {
     "data": {
      "text/html": [
       "<p>Hi there; It looks like you found my blog! </p>\n",
       "<p>I'd like to write about my day to day adventures here.</p>\n"
      ],
      "text/plain": [
       "<IPython.core.display.HTML object>"
      ]
     },
     "execution_count": 155,
     "metadata": {},
     "output_type": "execute_result"
    }
   ],
   "source": [
    "IPython.display.HTML( \"<p>Hi there; It looks like you found my blog! </p>\\n<p>I'd like to write about my day to day adventures here.</p>\\n\" )"
   ]
  },
  {
   "cell_type": "code",
   "execution_count": null,
   "metadata": {},
   "outputs": [],
   "source": []
  }
 ],
 "metadata": {
  "kernelspec": {
   "display_name": "Python 3",
   "language": "python",
   "name": "python3"
  },
  "language_info": {
   "codemirror_mode": {
    "name": "ipython",
    "version": 3
   },
   "file_extension": ".py",
   "mimetype": "text/x-python",
   "name": "python",
   "nbconvert_exporter": "python",
   "pygments_lexer": "ipython3",
   "version": "3.8.10"
  }
 },
 "nbformat": 4,
 "nbformat_minor": 2
}

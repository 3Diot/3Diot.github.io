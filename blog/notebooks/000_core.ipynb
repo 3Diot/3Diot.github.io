{
 "cells": [
  {
   "cell_type": "code",
   "execution_count": 1,
   "metadata": {},
   "outputs": [],
   "source": [
    "# default_exp core"
   ]
  },
  {
   "cell_type": "markdown",
   "metadata": {},
   "source": [
    "# module name here\n",
    "\n",
    "> API details."
   ]
  },
  {
   "cell_type": "code",
   "execution_count": 2,
   "metadata": {},
   "outputs": [
    {
     "name": "stdout",
     "output_type": "stream",
     "text": [
      "Defaulting to user installation because normal site-packages is not writeable\n",
      "Requirement already satisfied: nbdev in /home/codespace/.local/lib/python3.8/site-packages (1.1.23)\n",
      "Requirement already satisfied: marko in /home/codespace/.local/lib/python3.8/site-packages (1.2.0)\n",
      "Requirement already satisfied: nbformat>=4.4.0 in /home/codespace/.local/lib/python3.8/site-packages (from nbdev) (5.1.3)\n",
      "Requirement already satisfied: jupyter in /home/codespace/.local/lib/python3.8/site-packages (from nbdev) (1.0.0)\n",
      "Requirement already satisfied: ghapi in /home/codespace/.local/lib/python3.8/site-packages (from nbdev) (0.1.19)\n",
      "Requirement already satisfied: nbconvert<6 in /home/codespace/.local/lib/python3.8/site-packages (from nbdev) (5.6.1)\n",
      "Requirement already satisfied: jupyter-client<7.0 in /home/codespace/.local/lib/python3.8/site-packages (from nbdev) (6.1.12)\n",
      "Requirement already satisfied: pip in /usr/local/lib/python3.8/dist-packages (from nbdev) (21.3.1)\n",
      "Requirement already satisfied: ipykernel in /home/codespace/.local/lib/python3.8/site-packages (from nbdev) (6.7.0)\n",
      "Requirement already satisfied: pyyaml in /usr/lib/python3/dist-packages (from nbdev) (5.3.1)\n",
      "Requirement already satisfied: fastrelease in /home/codespace/.local/lib/python3.8/site-packages (from nbdev) (0.1.12)\n",
      "Requirement already satisfied: fastcore>=1.3.21 in /home/codespace/.local/lib/python3.8/site-packages (from nbdev) (1.3.27)\n",
      "Requirement already satisfied: packaging in /home/codespace/.local/lib/python3.8/site-packages (from nbdev) (21.3)\n",
      "Requirement already satisfied: tornado>=4.1 in /home/codespace/.local/lib/python3.8/site-packages (from jupyter-client<7.0->nbdev) (6.1)\n",
      "Requirement already satisfied: pyzmq>=13 in /home/codespace/.local/lib/python3.8/site-packages (from jupyter-client<7.0->nbdev) (22.3.0)\n",
      "Requirement already satisfied: traitlets in /home/codespace/.local/lib/python3.8/site-packages (from jupyter-client<7.0->nbdev) (5.1.1)\n",
      "Requirement already satisfied: jupyter-core>=4.6.0 in /home/codespace/.local/lib/python3.8/site-packages (from jupyter-client<7.0->nbdev) (4.9.1)\n",
      "Requirement already satisfied: python-dateutil>=2.1 in /home/codespace/.local/lib/python3.8/site-packages (from jupyter-client<7.0->nbdev) (2.8.2)\n",
      "Requirement already satisfied: jinja2>=2.4 in /home/codespace/.local/lib/python3.8/site-packages (from nbconvert<6->nbdev) (3.0.3)\n",
      "Requirement already satisfied: entrypoints>=0.2.2 in /home/codespace/.local/lib/python3.8/site-packages (from nbconvert<6->nbdev) (0.3)\n",
      "Requirement already satisfied: bleach in /home/codespace/.local/lib/python3.8/site-packages (from nbconvert<6->nbdev) (4.1.0)\n",
      "Requirement already satisfied: pygments in /usr/lib/python3/dist-packages (from nbconvert<6->nbdev) (2.3.1)\n",
      "Requirement already satisfied: pandocfilters>=1.4.1 in /home/codespace/.local/lib/python3.8/site-packages (from nbconvert<6->nbdev) (1.5.0)\n",
      "Requirement already satisfied: testpath in /home/codespace/.local/lib/python3.8/site-packages (from nbconvert<6->nbdev) (0.5.0)\n",
      "Requirement already satisfied: defusedxml in /home/codespace/.local/lib/python3.8/site-packages (from nbconvert<6->nbdev) (0.7.1)\n",
      "Requirement already satisfied: mistune<2,>=0.8.1 in /home/codespace/.local/lib/python3.8/site-packages (from nbconvert<6->nbdev) (0.8.4)\n",
      "Requirement already satisfied: jsonschema!=2.5.0,>=2.4 in /home/codespace/.local/lib/python3.8/site-packages (from nbformat>=4.4.0->nbdev) (4.4.0)\n",
      "Requirement already satisfied: ipython-genutils in /home/codespace/.local/lib/python3.8/site-packages (from nbformat>=4.4.0->nbdev) (0.2.0)\n",
      "Requirement already satisfied: nest-asyncio in /home/codespace/.local/lib/python3.8/site-packages (from ipykernel->nbdev) (1.5.4)\n",
      "Requirement already satisfied: ipython>=7.23.1 in /home/codespace/.local/lib/python3.8/site-packages (from ipykernel->nbdev) (8.0.1)\n",
      "Requirement already satisfied: matplotlib-inline<0.2.0,>=0.1.0 in /home/codespace/.local/lib/python3.8/site-packages (from ipykernel->nbdev) (0.1.3)\n",
      "Requirement already satisfied: debugpy<2.0,>=1.0.0 in /home/codespace/.local/lib/python3.8/site-packages (from ipykernel->nbdev) (1.5.1)\n",
      "Requirement already satisfied: ipywidgets in /home/codespace/.local/lib/python3.8/site-packages (from jupyter->nbdev) (7.6.5)\n",
      "Requirement already satisfied: qtconsole in /home/codespace/.local/lib/python3.8/site-packages (from jupyter->nbdev) (5.2.2)\n",
      "Requirement already satisfied: jupyter-console in /home/codespace/.local/lib/python3.8/site-packages (from jupyter->nbdev) (6.4.0)\n",
      "Requirement already satisfied: notebook in /home/codespace/.local/lib/python3.8/site-packages (from jupyter->nbdev) (6.4.7)\n",
      "Requirement already satisfied: pyparsing!=3.0.5,>=2.0.2 in /home/codespace/.local/lib/python3.8/site-packages (from packaging->nbdev) (3.0.7)\n",
      "Requirement already satisfied: black in /home/codespace/.local/lib/python3.8/site-packages (from ipython>=7.23.1->ipykernel->nbdev) (21.12b0)\n",
      "Requirement already satisfied: setuptools>=18.5 in /usr/lib/python3/dist-packages (from ipython>=7.23.1->ipykernel->nbdev) (45.2.0)\n",
      "Requirement already satisfied: pickleshare in /home/codespace/.local/lib/python3.8/site-packages (from ipython>=7.23.1->ipykernel->nbdev) (0.7.5)\n",
      "Requirement already satisfied: stack-data in /home/codespace/.local/lib/python3.8/site-packages (from ipython>=7.23.1->ipykernel->nbdev) (0.1.4)\n",
      "Requirement already satisfied: pexpect>4.3 in /home/codespace/.local/lib/python3.8/site-packages (from ipython>=7.23.1->ipykernel->nbdev) (4.8.0)\n",
      "Requirement already satisfied: prompt-toolkit!=3.0.0,!=3.0.1,<3.1.0,>=2.0.0 in /home/codespace/.local/lib/python3.8/site-packages (from ipython>=7.23.1->ipykernel->nbdev) (3.0.24)\n",
      "Requirement already satisfied: decorator in /home/codespace/.local/lib/python3.8/site-packages (from ipython>=7.23.1->ipykernel->nbdev) (5.1.1)\n",
      "Requirement already satisfied: jedi>=0.16 in /home/codespace/.local/lib/python3.8/site-packages (from ipython>=7.23.1->ipykernel->nbdev) (0.18.1)\n",
      "Requirement already satisfied: backcall in /home/codespace/.local/lib/python3.8/site-packages (from ipython>=7.23.1->ipykernel->nbdev) (0.2.0)\n",
      "Requirement already satisfied: MarkupSafe>=2.0 in /home/codespace/.local/lib/python3.8/site-packages (from jinja2>=2.4->nbconvert<6->nbdev) (2.0.1)\n",
      "Requirement already satisfied: pyrsistent!=0.17.0,!=0.17.1,!=0.17.2,>=0.14.0 in /home/codespace/.local/lib/python3.8/site-packages (from jsonschema!=2.5.0,>=2.4->nbformat>=4.4.0->nbdev) (0.18.1)\n",
      "Requirement already satisfied: attrs>=17.4.0 in /home/codespace/.local/lib/python3.8/site-packages (from jsonschema!=2.5.0,>=2.4->nbformat>=4.4.0->nbdev) (21.4.0)\n",
      "Requirement already satisfied: importlib-resources>=1.4.0 in /home/codespace/.local/lib/python3.8/site-packages (from jsonschema!=2.5.0,>=2.4->nbformat>=4.4.0->nbdev) (5.4.0)\n",
      "Requirement already satisfied: six>=1.5 in /usr/lib/python3/dist-packages (from python-dateutil>=2.1->jupyter-client<7.0->nbdev) (1.14.0)\n",
      "Requirement already satisfied: webencodings in /home/codespace/.local/lib/python3.8/site-packages (from bleach->nbconvert<6->nbdev) (0.5.1)\n",
      "Requirement already satisfied: jupyterlab-widgets>=1.0.0 in /home/codespace/.local/lib/python3.8/site-packages (from ipywidgets->jupyter->nbdev) (1.0.2)\n",
      "Requirement already satisfied: widgetsnbextension~=3.5.0 in /home/codespace/.local/lib/python3.8/site-packages (from ipywidgets->jupyter->nbdev) (3.5.2)\n",
      "Requirement already satisfied: prometheus-client in /home/codespace/.local/lib/python3.8/site-packages (from notebook->jupyter->nbdev) (0.12.0)\n",
      "Requirement already satisfied: argon2-cffi in /home/codespace/.local/lib/python3.8/site-packages (from notebook->jupyter->nbdev) (21.3.0)\n",
      "Requirement already satisfied: terminado>=0.8.3 in /home/codespace/.local/lib/python3.8/site-packages (from notebook->jupyter->nbdev) (0.12.1)\n",
      "Requirement already satisfied: Send2Trash>=1.8.0 in /home/codespace/.local/lib/python3.8/site-packages (from notebook->jupyter->nbdev) (1.8.0)\n",
      "Requirement already satisfied: qtpy in /home/codespace/.local/lib/python3.8/site-packages (from qtconsole->jupyter->nbdev) (2.0.0)\n",
      "Requirement already satisfied: zipp>=3.1.0 in /home/codespace/.local/lib/python3.8/site-packages (from importlib-resources>=1.4.0->jsonschema!=2.5.0,>=2.4->nbformat>=4.4.0->nbdev) (3.7.0)\n",
      "Requirement already satisfied: parso<0.9.0,>=0.8.0 in /home/codespace/.local/lib/python3.8/site-packages (from jedi>=0.16->ipython>=7.23.1->ipykernel->nbdev) (0.8.3)\n",
      "Requirement already satisfied: ptyprocess>=0.5 in /home/codespace/.local/lib/python3.8/site-packages (from pexpect>4.3->ipython>=7.23.1->ipykernel->nbdev) (0.7.0)\n",
      "Requirement already satisfied: wcwidth in /home/codespace/.local/lib/python3.8/site-packages (from prompt-toolkit!=3.0.0,!=3.0.1,<3.1.0,>=2.0.0->ipython>=7.23.1->ipykernel->nbdev) (0.2.5)\n",
      "Requirement already satisfied: argon2-cffi-bindings in /home/codespace/.local/lib/python3.8/site-packages (from argon2-cffi->notebook->jupyter->nbdev) (21.2.0)\n",
      "Requirement already satisfied: mypy-extensions>=0.4.3 in /home/codespace/.local/lib/python3.8/site-packages (from black->ipython>=7.23.1->ipykernel->nbdev) (0.4.3)\n",
      "Requirement already satisfied: platformdirs>=2 in /home/codespace/.local/lib/python3.8/site-packages (from black->ipython>=7.23.1->ipykernel->nbdev) (2.4.1)\n",
      "Requirement already satisfied: click>=7.1.2 in /home/codespace/.local/lib/python3.8/site-packages (from black->ipython>=7.23.1->ipykernel->nbdev) (8.0.3)\n",
      "Requirement already satisfied: pathspec<1,>=0.9.0 in /home/codespace/.local/lib/python3.8/site-packages (from black->ipython>=7.23.1->ipykernel->nbdev) (0.9.0)\n",
      "Requirement already satisfied: typing-extensions>=3.10.0.0 in /home/codespace/.local/lib/python3.8/site-packages (from black->ipython>=7.23.1->ipykernel->nbdev) (4.0.1)\n",
      "Requirement already satisfied: tomli<2.0.0,>=0.2.6 in /home/codespace/.local/lib/python3.8/site-packages (from black->ipython>=7.23.1->ipykernel->nbdev) (1.2.3)\n",
      "Requirement already satisfied: pure-eval in /home/codespace/.local/lib/python3.8/site-packages (from stack-data->ipython>=7.23.1->ipykernel->nbdev) (0.2.1)\n",
      "Requirement already satisfied: executing in /home/codespace/.local/lib/python3.8/site-packages (from stack-data->ipython>=7.23.1->ipykernel->nbdev) (0.8.2)\n",
      "Requirement already satisfied: asttokens in /home/codespace/.local/lib/python3.8/site-packages (from stack-data->ipython>=7.23.1->ipykernel->nbdev) (2.0.5)\n",
      "Requirement already satisfied: cffi>=1.0.1 in /home/codespace/.local/lib/python3.8/site-packages (from argon2-cffi-bindings->argon2-cffi->notebook->jupyter->nbdev) (1.15.0)\n",
      "Requirement already satisfied: pycparser in /home/codespace/.local/lib/python3.8/site-packages (from cffi>=1.0.1->argon2-cffi-bindings->argon2-cffi->notebook->jupyter->nbdev) (2.21)\n"
     ]
    }
   ],
   "source": [
    "#hide \n",
    "!pip install nbdev marko"
   ]
  },
  {
   "cell_type": "code",
   "execution_count": 3,
   "metadata": {},
   "outputs": [],
   "source": [
    "#hide\n",
    "from nbdev.showdoc import *"
   ]
  },
  {
   "cell_type": "code",
   "execution_count": 4,
   "metadata": {},
   "outputs": [],
   "source": [
    "#export\n",
    "def say_hello(to):\n",
    "    \"Say hello to somebody\"\n",
    "    return f'Hello {to}!'"
   ]
  },
  {
   "cell_type": "markdown",
   "metadata": {},
   "source": [
    "[nb_2_html](https://github.com/BNIA/dataplay/blob/main/notebooks/04_nb_2_html.ipynb)"
   ]
  },
  {
   "cell_type": "code",
   "execution_count": 5,
   "metadata": {},
   "outputs": [],
   "source": [
    "#export\n",
    "import re\n",
    "from IPython.display import clear_output\n",
    "import marko"
   ]
  },
  {
   "cell_type": "code",
   "execution_count": 6,
   "metadata": {},
   "outputs": [],
   "source": [
    "#export\n",
    "from nbdev import export2html\n",
    "from nbdev.export2html import read_nb, get_metadata, clean_exports\n",
    "from nbdev.export import split_flags_and_code, check_re_multi"
   ]
  },
  {
   "cell_type": "code",
   "execution_count": 7,
   "metadata": {},
   "outputs": [],
   "source": [
    "#export\n",
    "# 1st fn. passes each cell to decision fn.\n",
    "def convertNb(nb):  return [cleanCell(c) for c in nb['cells']]\n",
    "\n",
    "# 2nd fn. returns text or passes cell to 'code cell' processor\n",
    "def cleanCell(cell): return marko.convert(cell.source) if cell.cell_type == 'markdown' else processCode(cell)\n",
    "\n",
    "# 3rd fn. Calls getFlags, processSource, processOutput\n",
    "def processCode(cell):\n",
    "  x = [cell.source]\n",
    "  flags = getFlags(x[0])\n",
    "  x[0] = processSource( x[0], flags )\n",
    "  if ( len(cell.outputs) ):\n",
    "    for o in cell.outputs: x.append( processOutput(o, flags) )\n",
    "  return x"
   ]
  },
  {
   "cell_type": "code",
   "execution_count": 8,
   "metadata": {},
   "outputs": [],
   "source": [
    "#export\n",
    "# Detect and stripout and handle flags.\n",
    "def getFlags(source):\n",
    "  input_aug = ['#collapse_input_open', '#collapse_input', '#collapse_output_open', '#collapse_output',\n",
    "               '#hide_input', '#hide_output', '#hide ', '%%capture', '%%javascript', '%%html']\n",
    "  return [ x for x in input_aug if re.search(x, source) ]\n",
    "\n",
    "# enclose the text within a collapsable html drawer.\n",
    "def makeDetails( content, open ):\n",
    "  return \"<details \"+('open' if open else '')+\"> <summary>Click to toggle</summary> \"+content+\"</details>\""
   ]
  },
  {
   "cell_type": "code",
   "execution_count": 9,
   "metadata": {},
   "outputs": [],
   "source": [
    "#export\n",
    "# Strip Flags from text, make details, hide all.\n",
    "def processSource (source, flags):\n",
    "  for lbl in flags:\n",
    "    source = source.replace(lbl+'\\r\\n', \"\")\n",
    "    source = source.replace(lbl+'\\n', \"\") # Strip the Flag\n",
    "    if (lbl == '#collapse_input_open'): source = makeDetails( source, True )\n",
    "    if (lbl == '#collapse_input'): source = makeDetails( source, False )\n",
    "    if (lbl == '#hide '): source = ''\n",
    "    if (lbl == '#hide_input'): source = ''\n",
    "    if (lbl == '%%javascript'): source = ''\n",
    "    if (lbl == '%%html'): source = ''\n",
    "    if (lbl == '%%capture'): source = ''\n",
    "  return source"
   ]
  },
  {
   "cell_type": "code",
   "execution_count": 10,
   "metadata": {},
   "outputs": [],
   "source": [
    "#export\n",
    "def processOutput(source, flags):\n",
    "  if(source.output_type=='error'):  return ''\n",
    "  if(source.output_type=='stream'):\n",
    "    if(source.name=='stderr'): return ''\n",
    "    source.data = {'text/html': source.text} # This will have the stream process as text/html.\n",
    "  print(source.data.keys())\n",
    "  if ( hasattr(source.data, 'text/html') ): source=source.data['text/html'];\n",
    "  elif ( hasattr(source.data, 'application/javascript') ): source='<script>'+source.data['application/javascript']+'</script>'\n",
    "  elif ( hasattr(source.data, 'image/png') ): source= \"<img src=\\\"data:image/png;base64,\" + source.data['image/png'] + \"\\\" alt='Image Alt Text'>\"\n",
    "  elif ( hasattr(source.data, 'text/plain') ): source = '' if re.search(\"<Figure\", source.data['text/plain']) else source.data['text/plain'];\n",
    "  # print(source)\n",
    "  for lbl in flags:\n",
    "    source = source.replace(lbl+'\\r\\n', \"\")\n",
    "    source = source.replace(lbl+'\\n', \"\") # Strip the Flag\n",
    "    if (lbl == '#collapse_output_open'): source = makeDetails( source, True )\n",
    "    if (lbl == '#collapse_output'): source = makeDetails( source, False )\n",
    "    if (lbl == '#hide_output'): source = ''\n",
    "    if (lbl == '#hide '): source = ''\n",
    "  return source\n",
    "  #output_type == 'stream' ==> text\n",
    "  #output_type == 'display_data' ==> data{'application/javascript' or 'text/html' or 'execute_result'}"
   ]
  },
  {
   "cell_type": "code",
   "execution_count": 26,
   "metadata": {},
   "outputs": [],
   "source": [
    "#export\n",
    "# Must be in directory of ipynb you want to convert to html.\n",
    "def publish(fname='index'): \n",
    "  sys.path.pop()\n",
    "  sys.path.append('workspaces/3Diot.github.io/docs/')\n",
    "  %cd ../\n",
    "  from blog import core \n",
    "  %cd notebooks \n",
    "  nb = read_nb(fname+'.ipynb')\n",
    "  meta_jekyll = get_metadata(nb['cells'])\n",
    "  outp = convertNb(nb)\n",
    "  outp = ''.join( [''.join(c) for c in outp] ) \n",
    "  resp = ''.join( [''.join(c) for c in outp] )\n",
    "  template = open(\"../docs/_templates/\"+meta_jekyll['template']+\".html\", \"r\").read() \n",
    "  template = template.replace('{{tab}}', meta_jekyll['tab']) \n",
    "  template = template.replace('{{title}}', meta_jekyll['title']) \n",
    "  template = template.replace('{{filename}}', fname+'.ipynb') \n",
    "  txt = template.replace('{{content}}', resp ) \n",
    "  f = open(\"../docs/\"+meta_jekyll['filename'].lower().replace(' ', '_')+\".html\", \"w\")\n",
    "  f.write(txt)\n",
    "  f.close()\n",
    "  return txt\n",
    "  # return \"<p>Hello, Worrrld!</p>\""
   ]
  },
  {
   "cell_type": "code",
   "execution_count": 12,
   "metadata": {},
   "outputs": [
    {
     "name": "stdout",
     "output_type": "stream",
     "text": [
      "/workspaces/CVminiGames.github.io/blog\n",
      "/workspaces/CVminiGames.github.io/blog/notebooks\n"
     ]
    }
   ],
   "source": [
    "# publish('index')"
   ]
  },
  {
   "cell_type": "code",
   "execution_count": 13,
   "metadata": {},
   "outputs": [
    {
     "name": "stdout",
     "output_type": "stream",
     "text": [
      "/workspaces/CVminiGames.github.io/blog\n",
      "/workspaces/CVminiGames.github.io/blog/notebooks\n",
      "dict_keys(['text/html', 'text/plain'])\n",
      "dict_keys(['text/plain'])\n",
      "dict_keys(['image/png', 'text/plain'])\n",
      "dict_keys(['text/html', 'text/plain'])\n",
      "dict_keys(['text/html', 'text/plain'])\n",
      "dict_keys(['text/html', 'text/plain'])\n",
      "dict_keys(['text/html', 'text/plain'])\n"
     ]
    }
   ],
   "source": [
    "# publish('002_Parcels')"
   ]
  },
  {
   "cell_type": "code",
   "execution_count": 14,
   "metadata": {},
   "outputs": [
    {
     "name": "stdout",
     "output_type": "stream",
     "text": [
      "/workspaces/CVminiGames.github.io/blog\n",
      "/workspaces/CVminiGames.github.io/blog/notebooks\n"
     ]
    }
   ],
   "source": [
    "# publish('003_Progress')"
   ]
  },
  {
   "cell_type": "code",
   "execution_count": 15,
   "metadata": {},
   "outputs": [
    {
     "name": "stdout",
     "output_type": "stream",
     "text": [
      "000_core.ipynb        002_Parcels.ipynb     006_Tutorials.ipynb  cv_map.geojson\n",
      "001a_core_test.ipynb  003_Progress.ipynb    013_CV_Misc.ipynb    index.ipynb\n",
      "001b_core_test.ipynb  004_Scarcity.ipynb    Scarcity.ipynb\n",
      "001c_Example.ipynb    005_Technology.ipynb  _devserver.ipynb\n"
     ]
    }
   ],
   "source": [
    "ls"
   ]
  },
  {
   "cell_type": "code",
   "execution_count": 16,
   "metadata": {},
   "outputs": [],
   "source": [
    "nb = read_nb('index.ipynb')\n",
    "outp = convertNb(nb)"
   ]
  },
  {
   "cell_type": "code",
   "execution_count": 27,
   "metadata": {},
   "outputs": [],
   "source": [
    "#export\n",
    "def runit(fname='index.ipynb'): \n",
    "  nb = read_nb(fname)\n",
    "  meta_jekyll = get_metadata(nb['cells'])\n",
    "  outp = convertNb(nb)\n",
    "  txt = ''.join( [''.join(c) for c in outp] )\n",
    "  return txt"
   ]
  },
  {
   "cell_type": "code",
   "execution_count": 28,
   "metadata": {},
   "outputs": [
    {
     "name": "stdout",
     "output_type": "stream",
     "text": [
      "Defaulting to user installation because normal site-packages is not writeable\n",
      "Requirement already satisfied: flask in /home/codespace/.local/lib/python3.8/site-packages (2.0.2)\n",
      "Requirement already satisfied: itsdangerous>=2.0 in /home/codespace/.local/lib/python3.8/site-packages (from flask) (2.0.1)\n",
      "Requirement already satisfied: Werkzeug>=2.0 in /home/codespace/.local/lib/python3.8/site-packages (from flask) (2.0.2)\n",
      "Requirement already satisfied: Jinja2>=3.0 in /home/codespace/.local/lib/python3.8/site-packages (from flask) (3.0.3)\n",
      "Requirement already satisfied: click>=7.1.2 in /home/codespace/.local/lib/python3.8/site-packages (from flask) (8.0.3)\n",
      "Requirement already satisfied: MarkupSafe>=2.0 in /home/codespace/.local/lib/python3.8/site-packages (from Jinja2>=3.0->flask) (2.0.1)\n"
     ]
    }
   ],
   "source": [
    "!pip install flask"
   ]
  },
  {
   "cell_type": "code",
   "execution_count": 29,
   "metadata": {},
   "outputs": [
    {
     "name": "stdout",
     "output_type": "stream",
     "text": [
      "000_core.ipynb        002_Parcels.ipynb     006_Tutorials.ipynb  cv_map.geojson\n",
      "001a_core_test.ipynb  003_Progress.ipynb    013_CV_Misc.ipynb    index.ipynb\n",
      "001b_core_test.ipynb  004_Scarcity.ipynb    Scarcity.ipynb\n",
      "001c_Example.ipynb    005_Technology.ipynb  _devserver.ipynb\n"
     ]
    }
   ],
   "source": [
    "ls"
   ]
  },
  {
   "cell_type": "code",
   "execution_count": 30,
   "metadata": {},
   "outputs": [],
   "source": [
    "sys.path.append('workspaces/3Diot.github.io/blog/')"
   ]
  },
  {
   "cell_type": "code",
   "execution_count": 31,
   "metadata": {},
   "outputs": [
    {
     "name": "stdout",
     "output_type": "stream",
     "text": [
      " * Serving Flask app '__main__' (lazy loading)\n",
      " * Environment: production\n",
      "\u001b[31m   WARNING: This is a development server. Do not use it in a production deployment.\u001b[0m\n",
      "\u001b[2m   Use a production WSGI server instead.\u001b[0m\n",
      " * Debug mode: off\n"
     ]
    },
    {
     "name": "stderr",
     "output_type": "stream",
     "text": [
      " * Running on http://127.0.0.1:5000/ (Press CTRL+C to quit)\n",
      "127.0.0.1 - - [21/Jan/2022 23:53:18] \"GET / HTTP/1.0\" 200 -\n"
     ]
    },
    {
     "name": "stdout",
     "output_type": "stream",
     "text": [
      "/workspaces/CVminiGames.github.io/blog\n",
      "/workspaces/CVminiGames.github.io/blog/notebooks\n"
     ]
    },
    {
     "name": "stderr",
     "output_type": "stream",
     "text": [
      "127.0.0.1 - - [22/Jan/2022 00:17:47] \"GET / HTTP/1.0\" 200 -\n"
     ]
    },
    {
     "name": "stdout",
     "output_type": "stream",
     "text": [
      "/workspaces/CVminiGames.github.io/blog\n",
      "/workspaces/CVminiGames.github.io/blog/notebooks\n"
     ]
    },
    {
     "name": "stderr",
     "output_type": "stream",
     "text": [
      "127.0.0.1 - - [22/Jan/2022 00:20:47] \"GET / HTTP/1.1\" 200 -\n"
     ]
    },
    {
     "name": "stdout",
     "output_type": "stream",
     "text": [
      "/workspaces/CVminiGames.github.io/blog\n",
      "/workspaces/CVminiGames.github.io/blog/notebooks\n"
     ]
    },
    {
     "name": "stderr",
     "output_type": "stream",
     "text": [
      "127.0.0.1 - - [22/Jan/2022 00:21:02] \"\u001b[33mGET /favicon.ico HTTP/1.1\u001b[0m\" 404 -\n",
      "127.0.0.1 - - [22/Jan/2022 00:25:03] \"GET / HTTP/1.1\" 200 -\n"
     ]
    },
    {
     "name": "stdout",
     "output_type": "stream",
     "text": [
      "/workspaces/CVminiGames.github.io/blog\n",
      "/workspaces/CVminiGames.github.io/blog/notebooks\n"
     ]
    },
    {
     "name": "stderr",
     "output_type": "stream",
     "text": [
      "127.0.0.1 - - [22/Jan/2022 00:25:17] \"GET / HTTP/1.1\" 200 -\n"
     ]
    },
    {
     "name": "stdout",
     "output_type": "stream",
     "text": [
      "/workspaces/CVminiGames.github.io/blog\n",
      "/workspaces/CVminiGames.github.io/blog/notebooks\n"
     ]
    },
    {
     "name": "stderr",
     "output_type": "stream",
     "text": [
      "127.0.0.1 - - [22/Jan/2022 00:25:29] \"GET / HTTP/1.1\" 200 -\n"
     ]
    },
    {
     "name": "stdout",
     "output_type": "stream",
     "text": [
      "/workspaces/CVminiGames.github.io/blog\n",
      "/workspaces/CVminiGames.github.io/blog/notebooks\n"
     ]
    },
    {
     "name": "stderr",
     "output_type": "stream",
     "text": [
      "127.0.0.1 - - [22/Jan/2022 00:26:08] \"GET / HTTP/1.1\" 200 -\n"
     ]
    },
    {
     "name": "stdout",
     "output_type": "stream",
     "text": [
      "/workspaces/CVminiGames.github.io/blog\n",
      "/workspaces/CVminiGames.github.io/blog/notebooks\n"
     ]
    },
    {
     "name": "stderr",
     "output_type": "stream",
     "text": [
      "127.0.0.1 - - [22/Jan/2022 00:27:47] \"GET / HTTP/1.1\" 200 -\n"
     ]
    },
    {
     "name": "stdout",
     "output_type": "stream",
     "text": [
      "/workspaces/CVminiGames.github.io/blog\n",
      "/workspaces/CVminiGames.github.io/blog/notebooks\n"
     ]
    },
    {
     "name": "stderr",
     "output_type": "stream",
     "text": [
      "127.0.0.1 - - [22/Jan/2022 00:28:54] \"GET / HTTP/1.1\" 200 -\n"
     ]
    },
    {
     "name": "stdout",
     "output_type": "stream",
     "text": [
      "/workspaces/CVminiGames.github.io/blog\n",
      "/workspaces/CVminiGames.github.io/blog/notebooks\n"
     ]
    },
    {
     "name": "stderr",
     "output_type": "stream",
     "text": [
      "127.0.0.1 - - [22/Jan/2022 00:29:12] \"GET / HTTP/1.1\" 200 -\n"
     ]
    },
    {
     "name": "stdout",
     "output_type": "stream",
     "text": [
      "/workspaces/CVminiGames.github.io/blog\n",
      "/workspaces/CVminiGames.github.io/blog/notebooks\n"
     ]
    },
    {
     "name": "stderr",
     "output_type": "stream",
     "text": [
      "127.0.0.1 - - [22/Jan/2022 00:29:43] \"GET / HTTP/1.1\" 200 -\n"
     ]
    },
    {
     "name": "stdout",
     "output_type": "stream",
     "text": [
      "/workspaces/CVminiGames.github.io/blog\n",
      "/workspaces/CVminiGames.github.io/blog/notebooks\n"
     ]
    },
    {
     "name": "stderr",
     "output_type": "stream",
     "text": [
      "127.0.0.1 - - [22/Jan/2022 00:30:10] \"GET / HTTP/1.1\" 200 -\n"
     ]
    },
    {
     "name": "stdout",
     "output_type": "stream",
     "text": [
      "/workspaces/CVminiGames.github.io/blog\n",
      "/workspaces/CVminiGames.github.io/blog/notebooks\n"
     ]
    },
    {
     "name": "stderr",
     "output_type": "stream",
     "text": [
      "127.0.0.1 - - [22/Jan/2022 00:31:23] \"GET / HTTP/1.0\" 200 -\n"
     ]
    },
    {
     "name": "stdout",
     "output_type": "stream",
     "text": [
      "/workspaces/CVminiGames.github.io/blog\n",
      "/workspaces/CVminiGames.github.io/blog/notebooks\n"
     ]
    },
    {
     "name": "stderr",
     "output_type": "stream",
     "text": [
      "127.0.0.1 - - [22/Jan/2022 00:31:41] \"GET / HTTP/1.1\" 200 -\n"
     ]
    },
    {
     "name": "stdout",
     "output_type": "stream",
     "text": [
      "/workspaces/CVminiGames.github.io/blog\n",
      "/workspaces/CVminiGames.github.io/blog/notebooks\n"
     ]
    },
    {
     "name": "stderr",
     "output_type": "stream",
     "text": [
      "127.0.0.1 - - [22/Jan/2022 00:32:02] \"GET / HTTP/1.1\" 200 -\n"
     ]
    },
    {
     "name": "stdout",
     "output_type": "stream",
     "text": [
      "/workspaces/CVminiGames.github.io/blog\n",
      "/workspaces/CVminiGames.github.io/blog/notebooks\n"
     ]
    },
    {
     "name": "stderr",
     "output_type": "stream",
     "text": [
      "127.0.0.1 - - [22/Jan/2022 00:32:08] \"GET / HTTP/1.1\" 200 -\n"
     ]
    },
    {
     "name": "stdout",
     "output_type": "stream",
     "text": [
      "/workspaces/CVminiGames.github.io/blog\n",
      "/workspaces/CVminiGames.github.io/blog/notebooks\n"
     ]
    },
    {
     "name": "stderr",
     "output_type": "stream",
     "text": [
      "127.0.0.1 - - [22/Jan/2022 00:34:06] \"GET / HTTP/1.1\" 200 -\n"
     ]
    },
    {
     "name": "stdout",
     "output_type": "stream",
     "text": [
      "/workspaces/CVminiGames.github.io/blog\n",
      "/workspaces/CVminiGames.github.io/blog/notebooks\n"
     ]
    },
    {
     "name": "stderr",
     "output_type": "stream",
     "text": [
      "127.0.0.1 - - [22/Jan/2022 00:34:54] \"GET / HTTP/1.1\" 200 -\n"
     ]
    },
    {
     "name": "stdout",
     "output_type": "stream",
     "text": [
      "/workspaces/CVminiGames.github.io/blog\n",
      "/workspaces/CVminiGames.github.io/blog/notebooks\n"
     ]
    },
    {
     "name": "stderr",
     "output_type": "stream",
     "text": [
      "127.0.0.1 - - [22/Jan/2022 00:39:33] \"GET / HTTP/1.1\" 200 -\n"
     ]
    },
    {
     "name": "stdout",
     "output_type": "stream",
     "text": [
      "/workspaces/CVminiGames.github.io/blog\n",
      "/workspaces/CVminiGames.github.io/blog/notebooks\n"
     ]
    },
    {
     "name": "stderr",
     "output_type": "stream",
     "text": [
      "127.0.0.1 - - [22/Jan/2022 00:40:38] \"GET / HTTP/1.1\" 200 -\n"
     ]
    },
    {
     "name": "stdout",
     "output_type": "stream",
     "text": [
      "/workspaces/CVminiGames.github.io/blog\n",
      "/workspaces/CVminiGames.github.io/blog/notebooks\n"
     ]
    },
    {
     "name": "stderr",
     "output_type": "stream",
     "text": [
      "Bad pipe message: %s [b'\\xc6>9 \\xcf\\xf5\\x7f\\xea\\x0cw\\xd7\\xcf(\\x96ABY\\xfc U\\xf6\\x163\\xc9\\x8c\\x14\\xd8\\xe8FY\\x93\\xcb\\x08\\x11\\xa9\\x86cT\\xe3\\x85\\x97\\xb7\\xf7p9\\x11DY\\x96H+\\x00\\x08\\x13\\x02\\x13\\x03\\x13\\x01\\x00\\xff\\x01\\x00\\x00\\x8f\\x00\\x00\\x00\\x0e\\x00\\x0c\\x00\\x00\\t127.0.0.1\\x00\\x0b\\x00\\x04\\x03\\x00\\x01\\x02\\x00\\n\\x00\\x0c\\x00\\n\\x00\\x1d\\x00\\x17\\x00\\x1e\\x00\\x19\\x00\\x18\\x00#\\x00\\x00\\x00\\x16\\x00\\x00\\x00\\x17\\x00\\x00\\x00\\r\\x00\\x1e\\x00\\x1c\\x04\\x03\\x05\\x03\\x06\\x03\\x08\\x07\\x08\\x08\\x08\\t\\x08\\n\\x08\\x0b\\x08\\x04\\x08\\x05\\x08\\x06\\x04\\x01\\x05\\x01\\x06\\x01\\x00+\\x00\\x03\\x02\\x03\\x04\\x00', b'\\x02\\x01\\x01\\x003\\x00&\\x00$\\x00\\x1d\\x00 \\xe8\\xbe\\xd4\\xa7\\x106\\xe5{\\x7fj\\x07C\\x1bT\\xee\\xcd8*\\x1dY\\xdcw\\x03?E\\xb9\\x8e\\x86\\xb4j\\xb7']\n",
      "Bad pipe message: %s [b'\\xfalc\\xe7b\\xed\\x0f\\x9b\\xcf\\xab\\x8d\\x0b;\\xdezU\\xe2\\xcc \\xa9\\x0e\\x97\\x0fr \\x84r4\\x01\\x90\\x96~/\\x81m\\x96\"6P\\x7fY\\x9b\\x8f\\x0e\\x8f\\xc9\\xe9\\xb6\\xa9\\xaf\\x95\\x00\\x08\\x13\\x02\\x13\\x03\\x13\\x01\\x00\\xff\\x01\\x00\\x00\\x8f\\x00\\x00\\x00\\x0e\\x00\\x0c\\x00\\x00\\t127.0.0.1\\x00\\x0b\\x00\\x04\\x03\\x00\\x01\\x02\\x00\\n\\x00\\x0c\\x00\\n\\x00\\x1d\\x00\\x17\\x00\\x1e\\x00\\x19\\x00\\x18\\x00#\\x00\\x00\\x00\\x16\\x00\\x00\\x00\\x17\\x00\\x00\\x00\\r\\x00\\x1e\\x00\\x1c\\x04\\x03\\x05\\x03\\x06\\x03\\x08\\x07']\n",
      "Bad pipe message: %s [b'\\x08\\t\\x08\\n\\x08\\x0b\\x08']\n",
      "Bad pipe message: %s [b'\\x05\\x08\\x06']\n",
      "Bad pipe message: %s [b'\\x05\\x01\\x06', b'']\n",
      "Bad pipe message: %s [b'\\x03\\x02\\x03\\x04\\x00-\\x00\\x02\\x01\\x01\\x003\\x00&\\x00$\\x00\\x1d\\x00 \\xc8_#\\xa9\\xd3!\\xfc2\\xb5Y\\x15\\xd2\\xe9j\\xf0\\xe9\\x00\\x1bk\\x97\\xd3\\x95']\n",
      "Bad pipe message: %s [b\"\\xcd\\xfa\\xd3A\\x1f\\xe3\\xae*\\xa5R:\\x14\\xb5\\xbe\\xcb\\xe4M\\xdd\\x00\\x00\\xa6\\xc0,\\xc00\\x00\\xa3\\x00\\x9f\\xcc\\xa9\\xcc\\xa8\\xcc\\xaa\\xc0\\xaf\\xc0\\xad\\xc0\\xa3\\xc0\\x9f\\xc0]\\xc0a\\xc0W\\xc0S\\xc0+\\xc0/\\x00\\xa2\\x00\\x9e\\xc0\\xae\\xc0\\xac\\xc0\\xa2\\xc0\\x9e\\xc0\\\\\\xc0`\\xc0V\\xc0R\\xc0$\\xc0(\\x00k\\x00j\\xc0s\\xc0w\\x00\\xc4\\x00\\xc3\\xc0#\\xc0'\\x00g\\x00@\\xc0r\\xc0v\\x00\\xbe\\x00\\xbd\\xc0\\n\\xc0\\x14\\x009\\x008\\x00\\x88\\x00\\x87\\xc0\\t\\xc0\\x13\\x003\\x002\\x00\\x9a\\x00\\x99\\x00E\\x00D\\xc0\\x07\\xc0\\x11\\xc0\\x08\\xc0\\x12\\x00\\x16\\x00\\x13\\x00\\x9d\\xc0\\xa1\\xc0\\x9d\\xc0Q\\x00\\x9c\\xc0\\xa0\\xc0\\x9c\\xc0P\\x00=\\x00\\xc0\\x00<\\x00\"]\n",
      "Bad pipe message: %s [b'\\xb9\\x96(\\xb9\\xba\\x92m\\xfa\\x13*?C\\x92S\\x18M\\xaeH\\x00\\x00>\\xc0\\x14\\xc0\\n\\x009\\x008\\x007\\x006\\xc0\\x0f\\xc0\\x05\\x005\\xc0\\x13\\xc0\\t\\x003\\x002\\x001\\x000\\xc0\\x0e\\xc0\\x04\\x00/\\x00\\x9a\\x00\\x99\\x00\\x98\\x00\\x97\\x00\\x96\\x00\\x07\\xc0\\x11\\xc0\\x07\\xc0\\x0c\\xc0\\x02\\x00\\x05\\x00\\x04\\x00\\xff\\x02\\x01\\x00\\x00C\\x00\\x00\\x00\\x0e\\x00\\x0c\\x00\\x00\\t127.0.0.1\\x00\\x0b\\x00\\x04\\x03\\x00\\x01\\x02\\x00\\n\\x00\\x1c\\x00\\x1a\\x00\\x17\\x00\\x19\\x00\\x1c\\x00\\x1b\\x00\\x18\\x00\\x1a\\x00\\x16\\x00\\x0e\\x00\\r\\x00\\x0b\\x00', b'\\t\\x00\\n\\x00#\\x00\\x00\\x00\\x0f\\x00\\x01']\n",
      "Bad pipe message: %s [b'', b'\\x00\\x02']\n",
      "Bad pipe message: %s [b\"l\\xe4\\xee\\xbd\\x83\\x89\\r~\\n\\xbd\\xb1vv N\\x08*T\\x00\\x00\\x86\\xc00\\xc0,\\xc0(\\xc0$\\xc0\\x14\\xc0\\n\\x00\\xa5\\x00\\xa3\\x00\\xa1\\x00\\x9f\\x00k\\x00j\\x00i\\x00h\\x009\\x008\\x007\\x006\\xc02\\xc0.\\xc0*\\xc0&\\xc0\\x0f\\xc0\\x05\\x00\\x9d\\x00=\\x005\\xc0/\\xc0+\\xc0'\\xc0#\\xc0\\x13\\xc0\\t\\x00\\xa4\\x00\\xa2\\x00\\xa0\\x00\\x9e\\x00g\\x00@\\x00?\\x00>\\x003\\x002\\x001\\x000\\xc01\\xc0-\\xc0)\\xc0%\\xc0\\x0e\\xc0\\x04\\x00\\x9c\\x00<\\x00/\\x00\\x9a\\x00\\x99\\x00\\x98\\x00\\x97\\x00\\x96\\x00\\x07\\xc0\\x11\\xc0\\x07\\xc0\\x0c\\xc0\\x02\\x00\\x05\\x00\\x04\\x00\\xff\\x02\\x01\\x00\\x00g\\x00\\x00\\x00\\x0e\\x00\\x0c\\x00\\x00\\t127.0.0.1\\x00\\x0b\\x00\\x04\\x03\\x00\\x01\\x02\\x00\\n\\x00\", b'\\x1a\\x00\\x17\\x00\\x19\\x00\\x1c\\x00\\x1b\\x00\\x18\\x00\\x1a\\x00\\x16\\x00\\x0e\\x00\\r\\x00\\x0b\\x00\\x0c\\x00\\t\\x00\\n']\n",
      "127.0.0.1 - - [22/Jan/2022 00:41:32] code 400, message Bad request version ('\\x00\\x04\\x03\\x00\\x01\\x02\\x00')\n",
      "127.0.0.1 - - [22/Jan/2022 00:41:32] \"\u001b[35m\u001b[1m\u0016\u0003\u0001\u0000ä\u0001\u0000\u0000à\u0003\u0003øU?\u0014P2\u0003ö\u0014ôë¯ëÙ÷X:Æ¬§ôîÕ6\u0007Úú \u0007­\"¥Ê¯¤L\u000f8³#%+@§6ÂÈµ}ÝXíT¥i\u0013\u0002\u0013\u0003\u0013\u0001\u0000ÿ\u0001\u0000\u0000\u0000\u0000\u0000\u000e\u0000\f\u0000\u0000\t127.0.0.1\u0000\u000b\u0000\u0004\u0003\u0000\u0001\u0002\u0000\u001b[0m\" HTTPStatus.BAD_REQUEST -\n",
      "127.0.0.1 - - [22/Jan/2022 00:41:32] code 400, message Bad request version ('\\x00\\x04\\x03\\x00\\x01\\x02\\x00')\n",
      "{}\u0013\u0002\u0013\u0003\u0013\u0001\u0000ÿ\u0001\u0000\u0000\u0000\u0000\u0000\u000e\u0000\f\u0000\u0000\t127.0.0.1\u0000\u000b\u0000\u0004\u0003\u0000\u0001\u0002\u0000\u001b[0m\" HTTPStatus.BAD_REQUEST -W¢V;âÂÚW8\u0001¶|jÿ$Ë ºê+éNËW­^Æt¦\\x´¸ì´oÖý\n",
      "127.0.0.1 - - [22/Jan/2022 00:41:32] code 400, message Bad request syntax (\"\\x16\\x03\\x01\\x01\\x13\\x01\\x00\\x01\\x0f\\x03\\x03\\x15½kc*\\x9bÐÉó¥77\\x8foq\\x97Aû·û\\x11Îë9Ýà\\x96\\x9ch6ê¢\\x00\\x00|À,À0\\x00£\\x00\\x9fÌ©Ì¨ÌªÀ¯À\\xadÀ£À\\x9fÀ]ÀaÀWÀSÀ+À/\\x00¢\\x00\\x9eÀ®À¬À¢À\\x9eÀ\\\\À`ÀVÀRÀ$À(\\x00k\\x00jÀ#À'\\x00g\\x00@À\")\n",
      "127.0.0.1 - - [22/Jan/2022 00:41:32] \"\u001b[35m\u001b[1m\u0016\u0003\u0001\u0001\u0013\u0001\u0000\u0001\u000f\u0003\u0003\u0015½kc*ÐÉó¥77oqAû·û\u0011Îë9Ýàh6ê¢\u0000\u0000|À,À0\u0000£\u0000Ì©Ì¨ÌªÀ¯À­À£ÀÀ]ÀaÀWÀSÀ+À/\u0000¢\u0000À®À¬À¢ÀÀ\\À`ÀVÀRÀ$À(\u0000k\u0000jÀ#À'\u0000g\u0000@À\u001b[0m\" HTTPStatus.BAD_REQUEST -\n",
      "127.0.0.1 - - [22/Jan/2022 00:41:32] code 400, message Bad request syntax (\"\\x16\\x03\\x01\\x01=\\x01\\x00\\x019\\x03\\x03uºå%Í\\x83þq?\\x9eðÆÍ,\\xadÕôÛ»¥V»ÄÁkâ\\x13¥ü¡ÚR\\x00\\x00¦À,À0\\x00£\\x00\\x9fÌ©Ì¨ÌªÀ¯À\\xadÀ£À\\x9fÀ]ÀaÀWÀSÀ+À/\\x00¢\\x00\\x9eÀ®À¬À¢À\\x9eÀ\\\\À`ÀVÀRÀ$À(\\x00k\\x00jÀsÀw\\x00Ä\\x00ÃÀ#À'\\x00g\\x00@ÀrÀv\\x00¾\\x00½À\")\n",
      "127.0.0.1 - - [22/Jan/2022 00:41:32] \"\u001b[35m\u001b[1m\u0016\u0003\u0001\u0001=\u0001\u0000\u00019\u0003\u0003uºå%Íþq?ðÆÍ,­ÕôÛ»¥V»ÄÁkâ\u0013¥ü¡ÚR\u0000\u0000¦À,À0\u0000£\u0000Ì©Ì¨ÌªÀ¯À­À£ÀÀ]ÀaÀWÀSÀ+À/\u0000¢\u0000À®À¬À¢ÀÀ\\À`ÀVÀRÀ$À(\u0000k\u0000jÀsÀw\u0000Ä\u0000ÃÀ#À'\u0000g\u0000@ÀrÀv\u0000¾\u0000½À\u001b[0m\" HTTPStatus.BAD_REQUEST -\n",
      "127.0.0.1 - - [22/Jan/2022 00:41:32] code 400, message Bad HTTP/0.9 request type ('\\x16\\x03\\x01\\x00¯\\x01\\x00\\x00«\\x03\\x02\\x1a\\\\û¦.ûñ¬²7P!z`¼\\x10s[Ö\\x13}-x%')\n",
      "127.0.0.1 - - [22/Jan/2022 00:41:32] \"\u001b[35m\u001b[1m\u0016\u0003\u0001\u0000¯\u0001\u0000\u0000«\u0003\u0002\u001a\\û¦.ûñ¬²7P!z`¼\u0010s[Ö\u0013}-x%BÈCù:\u0000\u0000>À\u0014À\u001b[0m\" HTTPStatus.BAD_REQUEST -\n",
      "127.0.0.1 - - [22/Jan/2022 00:41:32] code 400, message Bad request version ('-útDøñK\"X\\x05©§\\x8fzwRJà\\x00\\x00¢À\\x14À')\n",
      "127.0.0.1 - - [22/Jan/2022 00:41:32] \"\u001b[35m\u001b[1m\u0016\u0003\u0001\u0001\u0013\u0001\u0000\u0001\u000f\u0003\u0002;Þ\\\u0015\u000b\u001aèzQ\f-útDøñK\"X\u0005©§zwRJà\u0000\u0000¢À\u0014À\u001b[0m\" HTTPStatus.BAD_REQUEST -\n",
      "127.0.0.1 - - [22/Jan/2022 00:41:32] code 400, message Bad HTTP/0.9 request type ('\\x16\\x03\\x01\\x00¯\\x01\\x00\\x00«\\x03\\x01%çÁ¶ßì\\x19k\\x87\\x0e\\x92\\x84Îîø')\n",
      "1Ì{ÇÌÒësäªËÿi\"¤\u0000\u0000>À\u0014À\u001b[0m\" HTTPStatus.BAD_REQUEST -\u0001\u0000\u0000«\u0003\u0001%çÁ¶ßì\u0019k\u000eÎîø\n",
      "127.0.0.1 - - [22/Jan/2022 00:41:32] code 400, message Bad request version ('9O¤!Æ\\x00\\x00¢À\\x14À')\n",
      "127.0.0.1 - - [22/Jan/2022 00:41:32] \"\u001b[35m\u001b[1m\u0016\u0003\u0001\u0001\u0013\u0001\u0000\u0001\u000f\u0003\u0001xìÚ¾È<®ä¾\u0001ê|÷úv¶vwa\u001e~\t9O¤!Æ\u0000\u0000¢À\u0014À\u001b[0m\" HTTPStatus.BAD_REQUEST -\n",
      "127.0.0.1 - - [22/Jan/2022 00:41:32] code 400, message Bad request syntax ('\\x16\\x03\\x00\\x00j\\x01\\x00\\x00f\\x03\\x00ö\\x0e\\xad')\n",
      "127.0.0.1 - - [22/Jan/2022 00:41:32] \"\u001b[35m\u001b[1m\u0016\u0003\u0000\u0000j\u0001\u0000\u0000f\u0003\u0000ö\u000e­\u001b[0m\" HTTPStatus.BAD_REQUEST -\n",
      "127.0.0.1 - - [22/Jan/2022 00:41:32] code 400, message Bad request syntax (\"\\x16\\x03\\x00\\x00Î\\x01\\x00\\x00Ê\\x03\\x00\\xad'(ñCÏ\\x87¡u(éé»\\x95~QLÅ\\xadÍï\\x03Ñmñ>íbx\\x8b»h\\x00\\x00¢À\\x14À\")\n",
      "127.0.0.1 - - [22/Jan/2022 00:41:32] \"\u001b[35m\u001b[1m\u0016\u0003\u0000\u0000Î\u0001\u0000\u0000Ê\u0003\u0000­'(ñCÏ¡u(éé»~QLÅ­Íï\u0003Ñmñ>íbx»h\u0000\u0000¢À\u0014À\u001b[0m\" HTTPStatus.BAD_REQUEST -\n",
      "127.0.0.1 - - [22/Jan/2022 00:41:32] code 400, message Bad request syntax ('\\x16\\x03\\x01\\x01\\x1b\\x01\\x00\\x01\\x17\\x03\\x03\\x92©ò\\x14²=òÞ\\\\&zqjÚè\\x0e\\x8dâ:îá^\\x13û{³Ö\\x89øü\\x88/\\x00\\x00\\x86À0À,À(À$À\\x14À')\n",
      "127.0.0.1 - - [22/Jan/2022 00:41:32] \"\u001b[35m\u001b[1m\u0016\u0003\u0001\u0001\u001b\u0001\u0000\u0001\u0017\u0003\u0003©ò\u0014²=òÞ\\&zqjÚè\u000eâ:îá^\u0013û{³Öøü/\u0000\u0000À0À,À(À$À\u0014À\u001b[0m\" HTTPStatus.BAD_REQUEST -\n",
      "127.0.0.1 - - [22/Jan/2022 00:41:32] code 400, message Bad request version ('Ï\\x8dÞûs\\x95ÌÐÃ\\x86Wu¬¤\\x02.ªÈVõ\"L\\x06Nç§\\x00\\x00ôÀ0À,À(À$À\\x14À')\n",
      "127.0.0.1 - - [22/Jan/2022 00:41:32] \"\u001b[35m\u001b[1m\u0016\u0003\u0001\u0001\u0001\u0000\u0001\u0003\u0003=÷\u001dÏÞûsÌÐÃWu¬¤\u0002.ªÈVõ\"L\u0006Nç§\u0000\u0000ôÀ0À,À(À$À\u0014À\u001b[0m\" HTTPStatus.BAD_REQUEST -\n",
      "127.0.0.1 - - [22/Jan/2022 00:41:53] \"GET / HTTP/1.1\" 200 -\n"
     ]
    },
    {
     "name": "stdout",
     "output_type": "stream",
     "text": [
      "/workspaces/CVminiGames.github.io/blog\n",
      "/workspaces/CVminiGames.github.io/blog/notebooks\n"
     ]
    },
    {
     "name": "stderr",
     "output_type": "stream",
     "text": [
      "127.0.0.1 - - [22/Jan/2022 00:42:42] \"GET / HTTP/1.1\" 200 -\n"
     ]
    },
    {
     "name": "stdout",
     "output_type": "stream",
     "text": [
      "/workspaces/CVminiGames.github.io/blog\n",
      "/workspaces/CVminiGames.github.io/blog/notebooks\n"
     ]
    },
    {
     "name": "stderr",
     "output_type": "stream",
     "text": [
      "127.0.0.1 - - [22/Jan/2022 00:43:45] \"GET / HTTP/1.1\" 200 -\n"
     ]
    },
    {
     "name": "stdout",
     "output_type": "stream",
     "text": [
      "/workspaces/CVminiGames.github.io/blog\n",
      "/workspaces/CVminiGames.github.io/blog/notebooks\n"
     ]
    },
    {
     "name": "stderr",
     "output_type": "stream",
     "text": [
      "127.0.0.1 - - [22/Jan/2022 00:44:07] \"GET / HTTP/1.1\" 200 -\n"
     ]
    },
    {
     "name": "stdout",
     "output_type": "stream",
     "text": [
      "/workspaces/CVminiGames.github.io/blog\n",
      "/workspaces/CVminiGames.github.io/blog/notebooks\n"
     ]
    },
    {
     "name": "stderr",
     "output_type": "stream",
     "text": [
      "127.0.0.1 - - [22/Jan/2022 00:44:30] \"GET / HTTP/1.1\" 200 -\n"
     ]
    },
    {
     "name": "stdout",
     "output_type": "stream",
     "text": [
      "/workspaces/CVminiGames.github.io/blog\n",
      "/workspaces/CVminiGames.github.io/blog/notebooks\n"
     ]
    },
    {
     "name": "stderr",
     "output_type": "stream",
     "text": [
      "127.0.0.1 - - [22/Jan/2022 00:45:06] \"GET / HTTP/1.1\" 200 -\n"
     ]
    },
    {
     "name": "stdout",
     "output_type": "stream",
     "text": [
      "/workspaces/CVminiGames.github.io/blog\n",
      "/workspaces/CVminiGames.github.io/blog/notebooks\n"
     ]
    },
    {
     "name": "stderr",
     "output_type": "stream",
     "text": [
      "127.0.0.1 - - [22/Jan/2022 00:46:04] \"GET / HTTP/1.1\" 200 -\n"
     ]
    },
    {
     "name": "stdout",
     "output_type": "stream",
     "text": [
      "/workspaces/CVminiGames.github.io/blog\n",
      "/workspaces/CVminiGames.github.io/blog/notebooks\n"
     ]
    },
    {
     "name": "stderr",
     "output_type": "stream",
     "text": [
      "127.0.0.1 - - [22/Jan/2022 00:47:58] \"GET / HTTP/1.1\" 200 -\n"
     ]
    },
    {
     "name": "stdout",
     "output_type": "stream",
     "text": [
      "/workspaces/CVminiGames.github.io/blog\n",
      "/workspaces/CVminiGames.github.io/blog/notebooks\n"
     ]
    },
    {
     "name": "stderr",
     "output_type": "stream",
     "text": [
      "127.0.0.1 - - [22/Jan/2022 00:48:42] \"GET / HTTP/1.1\" 200 -\n"
     ]
    },
    {
     "name": "stdout",
     "output_type": "stream",
     "text": [
      "/workspaces/CVminiGames.github.io/blog\n",
      "/workspaces/CVminiGames.github.io/blog/notebooks\n"
     ]
    },
    {
     "name": "stderr",
     "output_type": "stream",
     "text": [
      "127.0.0.1 - - [22/Jan/2022 00:49:00] \"GET / HTTP/1.1\" 200 -\n"
     ]
    },
    {
     "name": "stdout",
     "output_type": "stream",
     "text": [
      "/workspaces/CVminiGames.github.io/blog\n",
      "/workspaces/CVminiGames.github.io/blog/notebooks\n"
     ]
    },
    {
     "name": "stderr",
     "output_type": "stream",
     "text": [
      "127.0.0.1 - - [22/Jan/2022 00:49:10] \"GET / HTTP/1.1\" 200 -\n"
     ]
    },
    {
     "name": "stdout",
     "output_type": "stream",
     "text": [
      "/workspaces/CVminiGames.github.io/blog\n",
      "/workspaces/CVminiGames.github.io/blog/notebooks\n"
     ]
    },
    {
     "name": "stderr",
     "output_type": "stream",
     "text": [
      "127.0.0.1 - - [22/Jan/2022 00:49:33] \"GET / HTTP/1.1\" 200 -\n"
     ]
    },
    {
     "name": "stdout",
     "output_type": "stream",
     "text": [
      "/workspaces/CVminiGames.github.io/blog\n",
      "/workspaces/CVminiGames.github.io/blog/notebooks\n"
     ]
    },
    {
     "name": "stderr",
     "output_type": "stream",
     "text": [
      "127.0.0.1 - - [22/Jan/2022 00:49:55] \"GET / HTTP/1.1\" 200 -\n"
     ]
    },
    {
     "name": "stdout",
     "output_type": "stream",
     "text": [
      "/workspaces/CVminiGames.github.io/blog\n",
      "/workspaces/CVminiGames.github.io/blog/notebooks\n"
     ]
    },
    {
     "name": "stderr",
     "output_type": "stream",
     "text": [
      "127.0.0.1 - - [22/Jan/2022 00:50:08] \"GET / HTTP/1.1\" 200 -\n"
     ]
    },
    {
     "name": "stdout",
     "output_type": "stream",
     "text": [
      "/workspaces/CVminiGames.github.io/blog\n",
      "/workspaces/CVminiGames.github.io/blog/notebooks\n"
     ]
    },
    {
     "name": "stderr",
     "output_type": "stream",
     "text": [
      "127.0.0.1 - - [22/Jan/2022 00:50:48] \"GET / HTTP/1.1\" 200 -\n"
     ]
    },
    {
     "name": "stdout",
     "output_type": "stream",
     "text": [
      "/workspaces/CVminiGames.github.io/blog\n",
      "/workspaces/CVminiGames.github.io/blog/notebooks\n"
     ]
    },
    {
     "name": "stderr",
     "output_type": "stream",
     "text": [
      "127.0.0.1 - - [22/Jan/2022 00:52:12] \"GET / HTTP/1.1\" 200 -\n"
     ]
    },
    {
     "name": "stdout",
     "output_type": "stream",
     "text": [
      "/workspaces/CVminiGames.github.io/blog\n",
      "/workspaces/CVminiGames.github.io/blog/notebooks\n"
     ]
    },
    {
     "name": "stderr",
     "output_type": "stream",
     "text": [
      "127.0.0.1 - - [22/Jan/2022 00:57:41] \"GET / HTTP/1.1\" 200 -\n"
     ]
    },
    {
     "name": "stdout",
     "output_type": "stream",
     "text": [
      "/workspaces/CVminiGames.github.io/blog\n",
      "/workspaces/CVminiGames.github.io/blog/notebooks\n"
     ]
    },
    {
     "name": "stderr",
     "output_type": "stream",
     "text": [
      "127.0.0.1 - - [22/Jan/2022 00:58:34] \"GET / HTTP/1.1\" 200 -\n"
     ]
    },
    {
     "name": "stdout",
     "output_type": "stream",
     "text": [
      "/workspaces/CVminiGames.github.io/blog\n",
      "/workspaces/CVminiGames.github.io/blog/notebooks\n"
     ]
    },
    {
     "name": "stderr",
     "output_type": "stream",
     "text": [
      "127.0.0.1 - - [22/Jan/2022 00:58:43] \"\u001b[33mGET /If%20you%20are%20a%20CVilian%2C%20go%20and%20check%20out%20%40CVMiniGames%20website%20CVMiniGames.com%20as%20I%20found%20the%20content%20interesting%20enough%20to%20share%20%3C3%20Thanks!%20%40cryptovoxels HTTP/1.1\u001b[0m\" 404 -\n",
      "127.0.0.1 - - [22/Jan/2022 00:59:36] \"GET / HTTP/1.1\" 200 -\n"
     ]
    },
    {
     "name": "stdout",
     "output_type": "stream",
     "text": [
      "/workspaces/CVminiGames.github.io/blog\n",
      "/workspaces/CVminiGames.github.io/blog/notebooks\n"
     ]
    },
    {
     "name": "stderr",
     "output_type": "stream",
     "text": [
      "127.0.0.1 - - [22/Jan/2022 00:59:38] \"\u001b[33mGET /If%20you%20are%20a%20%20%40cryptovoxels%20CVilian%2C%20go%20and%20check%20out%20%40CVMiniGames%20website%20CVMiniGames.com%20as%20I%20found%20the%20content%20interesting%20enough%20to%20share%20%3C3%20Thanks! HTTP/1.1\u001b[0m\" 404 -\n",
      "127.0.0.1 - - [22/Jan/2022 00:59:44] \"GET / HTTP/1.1\" 200 -\n"
     ]
    },
    {
     "name": "stdout",
     "output_type": "stream",
     "text": [
      "/workspaces/CVminiGames.github.io/blog\n",
      "/workspaces/CVminiGames.github.io/blog/notebooks\n"
     ]
    },
    {
     "name": "stderr",
     "output_type": "stream",
     "text": [
      "127.0.0.1 - - [22/Jan/2022 00:59:45] \"\u001b[33mGET /If%20you%20are%20a%20%20%40cryptovoxels%20CVilian%2C%20go%20and%20check%20out%20%40CVMiniGames%20website%20CVMiniGames.com%20as%20I%20found%20the%20content%20interesting%20enough%20to%20share%20%3C3%20Thanks! HTTP/1.1\u001b[0m\" 404 -\n",
      "127.0.0.1 - - [22/Jan/2022 00:59:56] \"GET / HTTP/1.1\" 200 -\n"
     ]
    },
    {
     "name": "stdout",
     "output_type": "stream",
     "text": [
      "/workspaces/CVminiGames.github.io/blog\n",
      "/workspaces/CVminiGames.github.io/blog/notebooks\n"
     ]
    },
    {
     "name": "stderr",
     "output_type": "stream",
     "text": [
      "127.0.0.1 - - [22/Jan/2022 01:00:15] \"GET / HTTP/1.1\" 200 -\n"
     ]
    },
    {
     "name": "stdout",
     "output_type": "stream",
     "text": [
      "/workspaces/CVminiGames.github.io/blog\n",
      "/workspaces/CVminiGames.github.io/blog/notebooks\n"
     ]
    },
    {
     "name": "stderr",
     "output_type": "stream",
     "text": [
      "127.0.0.1 - - [22/Jan/2022 01:01:35] \"GET / HTTP/1.1\" 200 -\n"
     ]
    },
    {
     "name": "stdout",
     "output_type": "stream",
     "text": [
      "/workspaces/CVminiGames.github.io/blog\n",
      "/workspaces/CVminiGames.github.io/blog/notebooks\n"
     ]
    },
    {
     "name": "stderr",
     "output_type": "stream",
     "text": [
      "127.0.0.1 - - [22/Jan/2022 01:10:48] \"GET / HTTP/1.1\" 200 -\n"
     ]
    },
    {
     "name": "stdout",
     "output_type": "stream",
     "text": [
      "/workspaces/CVminiGames.github.io/blog\n",
      "/workspaces/CVminiGames.github.io/blog/notebooks\n"
     ]
    },
    {
     "name": "stderr",
     "output_type": "stream",
     "text": [
      "127.0.0.1 - - [22/Jan/2022 01:12:27] \"GET / HTTP/1.1\" 200 -\n"
     ]
    },
    {
     "name": "stdout",
     "output_type": "stream",
     "text": [
      "/workspaces/CVminiGames.github.io/blog\n",
      "/workspaces/CVminiGames.github.io/blog/notebooks\n"
     ]
    },
    {
     "name": "stderr",
     "output_type": "stream",
     "text": [
      "127.0.0.1 - - [22/Jan/2022 01:13:23] \"GET / HTTP/1.1\" 200 -\n"
     ]
    },
    {
     "name": "stdout",
     "output_type": "stream",
     "text": [
      "/workspaces/CVminiGames.github.io/blog\n",
      "/workspaces/CVminiGames.github.io/blog/notebooks\n"
     ]
    },
    {
     "name": "stderr",
     "output_type": "stream",
     "text": [
      "127.0.0.1 - - [22/Jan/2022 01:14:33] \"GET / HTTP/1.1\" 200 -\n"
     ]
    },
    {
     "name": "stdout",
     "output_type": "stream",
     "text": [
      "/workspaces/CVminiGames.github.io/blog\n",
      "/workspaces/CVminiGames.github.io/blog/notebooks\n"
     ]
    },
    {
     "name": "stderr",
     "output_type": "stream",
     "text": [
      "127.0.0.1 - - [22/Jan/2022 01:16:27] \"GET / HTTP/1.1\" 200 -\n"
     ]
    },
    {
     "name": "stdout",
     "output_type": "stream",
     "text": [
      "/workspaces/CVminiGames.github.io/blog\n",
      "/workspaces/CVminiGames.github.io/blog/notebooks\n"
     ]
    },
    {
     "name": "stderr",
     "output_type": "stream",
     "text": [
      "127.0.0.1 - - [22/Jan/2022 01:17:59] \"GET / HTTP/1.1\" 200 -\n"
     ]
    },
    {
     "name": "stdout",
     "output_type": "stream",
     "text": [
      "/workspaces/CVminiGames.github.io/blog\n",
      "/workspaces/CVminiGames.github.io/blog/notebooks\n"
     ]
    },
    {
     "name": "stderr",
     "output_type": "stream",
     "text": [
      "127.0.0.1 - - [22/Jan/2022 01:19:37] \"GET / HTTP/1.1\" 200 -\n"
     ]
    },
    {
     "name": "stdout",
     "output_type": "stream",
     "text": [
      "/workspaces/CVminiGames.github.io/blog\n",
      "/workspaces/CVminiGames.github.io/blog/notebooks\n"
     ]
    },
    {
     "name": "stderr",
     "output_type": "stream",
     "text": [
      "127.0.0.1 - - [22/Jan/2022 01:23:18] \"GET / HTTP/1.1\" 200 -\n"
     ]
    },
    {
     "name": "stdout",
     "output_type": "stream",
     "text": [
      "/workspaces/CVminiGames.github.io/blog\n",
      "/workspaces/CVminiGames.github.io/blog/notebooks\n"
     ]
    },
    {
     "name": "stderr",
     "output_type": "stream",
     "text": [
      "127.0.0.1 - - [22/Jan/2022 01:26:12] \"GET / HTTP/1.1\" 200 -\n"
     ]
    },
    {
     "name": "stdout",
     "output_type": "stream",
     "text": [
      "/workspaces/CVminiGames.github.io/blog\n",
      "/workspaces/CVminiGames.github.io/blog/notebooks\n"
     ]
    }
   ],
   "source": [
    "from flask import Flask\n",
    "import re\n",
    "app = Flask(__name__)\n",
    "\n",
    "@app.route(\"/\")\n",
    "def homepage():  \n",
    "  return publish('index') \n",
    "    \n",
    "@app.route(\"/parcels\")\n",
    "def parcels():  \n",
    "  return publish('002_Parcels') \n",
    "\n",
    "@app.route(\"/progress\")\n",
    "def progress():  \n",
    "  return publish('003_Progress') \n",
    "\n",
    "@app.route(\"/scarcity\")\n",
    "def scarcity():  \n",
    "  return publish('004_Scarcity') \n",
    "\n",
    "@app.route(\"/technology\")\n",
    "def technology():  \n",
    "  return publish('005_Technology') \n",
    "\n",
    "@app.route(\"/tutorials\")\n",
    "def tutorials():  \n",
    "  return publish('006_Tutorials') \n",
    "  \n",
    "\n",
    "app.run()"
   ]
  },
  {
   "cell_type": "code",
   "execution_count": null,
   "metadata": {},
   "outputs": [],
   "source": [
    "t = runit()"
   ]
  },
  {
   "cell_type": "code",
   "execution_count": null,
   "metadata": {},
   "outputs": [
    {
     "data": {
      "text/html": [
       "<style> h2, h3{display: inline;}</style><h2>Welcome!</h2>\n",
       "<p>Use this page to navigate about the CVMiniGames ecosystem. </p>\n",
       "<p>Here you will find information about CVMinigame token all that it provides.</p>\n",
       "<h2>Non-Token Services</h2>\n",
       "<p>It's always worth shooting me an ask for small questions. I've done an insane amount of work for people absolutely free.</p>\n",
       "<p>If I deem your project requiring a non-insignificant amount of work on my end I will charge a minimum $500 retainer.</p>\n",
       "<p>Because frankly, I deserve it.</p>\n",
       "<p>So what else can I do?</p>\n",
       "<p>Property Management: Inclusive of renting property to clients,\n",
       "maintenance of technical and visual aesthetic\n",
       "point of contact for all client-related issues and inquiries.</p>\n",
       "<ul>\n",
       "<li>Property Development: Managing, architecting, designing, and developing and scripting both in and out of game.</li>\n",
       "<li>Consulting: To help make decisions in my knowledge of CV, programming, and the blockchain industry.</li>\n",
       "<li>Marketing: Increase exposure with game tie-ins, site advertising, and tweets or product reviews.</li>\n",
       "</ul>\n",
       "<h2>Articles:</h2>\n",
       "<ul>\n",
       "<li><a href='https://cvminigames.com/'>Home</a></li>\n",
       "<li><a href='https://cvminigames.com/blog/docs/parcels.html'>Parcels</a> </li>\n",
       "<li>\n",
       "<p>Scan State Files</p>\n",
       "</li>\n",
       "<li>\n",
       "<p>Scarcity Island</p>\n",
       "</li>\n",
       "<li>\n",
       "<p>Affiliated Projects</p>\n",
       "</li>\n",
       "<li>\n",
       "<p>tutorials</p></li>\n",
       "</ul>\n",
       "<h2>Standalone Maps:</h2>\n",
       "<ul>\n",
       "<li><a href='https://cvminigames.com/blog/docs/maps/cv_vol_map.html'>Parcel Volume</a></li>\n",
       "<li><a href='https://cvminigames.com/blog/docs/maps/cv_book_map.html'>Guestbook Locations</a></li>\n",
       "</ul>\n",
       "<details open>\n",
       "<summary><h2>Legal</h2>\n",
       "</summary><p>BY USING THIS SITE AND ANY AFFILIATED PRODUCTS YOU AGREE TO </p>\n",
       "<ul>\n",
       "<li>FOLLOWING THESE <a href='https://www.cryptovoxels.com/terms'>TERMS OF SERVICE</a></li>\n",
       "<li>FOLLOWING THIS FOLLOWING THIS <a href='https://www.cryptovoxels.com/conduct'>CODE OF CONDUCT</a></li>\n",
       "<li>ACCEPTING THIS <a href='https://www.cryptovoxels.com/privacy'>PRIVACY POLICY</a>\n",
       "WHEREVER APPLICABLE, HOWEVER BEST APPLICABLE.</li>\n",
       "</ul>\n",
       "<p> <b>CONTACT ME</b> <br>\n",
       "For more information about privacy practices, if you have questions, or if you would like to make a complaint, please contact me by e-mail at charles.karpat@gmail.com </p><details>\n",
       "<summary><h3>Disclaimer</h3>\n",
       "</summary><p><b>Views Expressed</b>: All views expressed are the authors own and do not represent the opinions of any entity whatsover with which they have been, are now, or will be affiliated.</p>\n",
       "<p><b>Responsibility</b>, Errors and Ommissions: The author makes no assurance about the reliability of the information. The author makes takes no responsibility for updating product nor maintaining any porformant status. Under no circumstances shall the Author or its affiliates be liable for any indirect incedental, consequential, or special and or exemplary damages arising out of or in connection with this  site and related products. Information is provided 'as is' with distinct plausability of errors and ommitions. Information found within the contents is attached with an MIT license. Please refer to the License for more information.</p>\n",
       "<p><b>Use at Risk</b>: Any action you take upon the information or tooling provided is strictly at your own risk, and the author will not be liable for any losses and damages in connection with the use of this site and related products.</p>\n",
       "<p>Fair Use this site contains copyrighted material the use of which has not always been specifically authorized by the copyright owner. While no intention is made to unlawfully use copyrighted work, circumstanes may arise in which such material is made available in effort to advance scientific literacy. We believe this constitutes a 'fair use' of any such copyrighted material as provided for in section 107 of the US Copyright Law. In accordance with Titile 17 U.S.C. Section 108, the material on this site is distributed without profit to those who have expressed a prior interest in receiving the included information for research and education purposes.</p>\n",
       "<p>for more information go to: http://www.law.cornell.edu/uscode/17/107.shtml. If you wish to use copyrighted material from this site for purposes of your own that go beyond 'fair use', you must obtain permission from the copyright owner.</p>\n",
       "</details>\n",
       "<details>\n",
       "<summary><h3>License</h3>\n",
       "</summary>\n",
       "Copyright © 2022 Charles Karpati\n",
       "<p>Permission is hereby granted, free of charge, to any person obtaining a copy of this software and associated documentation files (the &quot;Software&quot;), to deal in the Software without restriction, including without limitation the rights to use, copy, modify, merge, publish, distribute, sublicense, and/or sell copies of the Software, and to permit persons to whom the Software is furnished to do so, subject to the following conditions:</p>\n",
       "<p>The above copyright notice and this permission notice shall be included in all copies or substantial portions of the Software.</p>\n",
       "<p>THE SOFTWARE IS PROVIDED &quot;AS IS&quot;, WITHOUT WARRANTY OF ANY KIND, EXPRESS OR IMPLIED, INCLUDING BUT NOT LIMITED TO THE WARRANTIES OF MERCHANTABILITY, FITNESS FOR A PARTICULAR PURPOSE AND NONINFRINGEMENT. IN NO EVENT SHALL THE AUTHORS OR COPYRIGHT HOLDERS BE LIABLE FOR ANY CLAIM, DAMAGES OR OTHER LIABILITY, WHETHER IN AN ACTION OF CONTRACT, TORT OR OTHERWISE, ARISING FROM, OUT OF OR IN CONNECTION WITH THE SOFTWARE OR THE USE OR OTHER DEALINGS IN THE SOFTWARE.</p>\n",
       "</details><!-- End LEGAL section -->\n",
       "</details>"
      ],
      "text/plain": [
       "<IPython.core.display.HTML object>"
      ]
     },
     "execution_count": 52,
     "metadata": {},
     "output_type": "execute_result"
    }
   ],
   "source": [
    "import IPython\n",
    "IPython.display.HTML(t)"
   ]
  },
  {
   "cell_type": "code",
   "execution_count": null,
   "metadata": {},
   "outputs": [
    {
     "name": "stdout",
     "output_type": "stream",
     "text": [
      "000_core.ipynb        001c_Example.ipynb  013_CV_Misc.ipynb  index.ipynb\n",
      "001a_core_test.ipynb  002_Parcels.ipynb   _devserver.ipynb\n",
      "001b_core_test.ipynb  003_Scarcity.ipynb  cv_map.geojson\n"
     ]
    }
   ],
   "source": [
    "ls"
   ]
  },
  {
   "cell_type": "code",
   "execution_count": 22,
   "metadata": {},
   "outputs": [],
   "source": [
    "sys.path.append('workspaces/3Diot.github.io/blog/')"
   ]
  },
  {
   "cell_type": "code",
   "execution_count": null,
   "metadata": {},
   "outputs": [],
   "source": [
    "sys.path"
   ]
  },
  {
   "cell_type": "code",
   "execution_count": null,
   "metadata": {},
   "outputs": [],
   "source": []
  },
  {
   "cell_type": "code",
   "execution_count": null,
   "metadata": {},
   "outputs": [],
   "source": []
  }
 ],
 "metadata": {
  "kernelspec": {
   "display_name": "Python 3",
   "language": "python",
   "name": "python3"
  },
  "language_info": {
   "codemirror_mode": {
    "name": "ipython",
    "version": 3
   },
   "file_extension": ".py",
   "mimetype": "text/x-python",
   "name": "python",
   "nbconvert_exporter": "python",
   "pygments_lexer": "ipython3",
   "version": "3.8.10"
  }
 },
 "nbformat": 4,
 "nbformat_minor": 2
}

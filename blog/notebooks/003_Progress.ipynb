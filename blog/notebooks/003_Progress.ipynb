{
 "cells": [
  {
   "cell_type": "markdown",
   "metadata": {},
   "source": [
    "# Progress\n",
    "> What's to do?\n",
    "\n",
    "- toc: true\n",
    "- filename: Progress\n",
    "- tab: CVMinigames | Progress\n",
    "- title: CVMinigames\n",
    "- template: article\n",
    "- description: this isnt working\n",
    "- image: images/company_logo.png\n",
    "- keywords: thisworks\n",
    "- badges: true\n",
    "- comments: true\n",
    "- categories: [test]\n",
    "- hide: false\n",
    "- metadata_key1: metadata_value1\n",
    "- metadata_key2: metadata_value2"
   ]
  },
  {
   "cell_type": "code",
   "execution_count": null,
   "metadata": {},
   "outputs": [],
   "source": [
    "Here are just a few things/ tools I'd like to bring to the community"
   ]
  },
  {
   "cell_type": "code",
   "execution_count": null,
   "metadata": {},
   "outputs": [],
   "source": [
    "Twitter wall post -> scrape and update\n",
    "- crytpovoxel nft gif gallary to showcase procedurally generated 3d geospatial data visualizations\n",
    "    https://app.poap.xyz/scan/karpatic.eth"
   ]
  },
  {
   "cell_type": "markdown",
   "metadata": {},
   "source": [
    "Minigame ideas:\n",
    "- interactive instruments #2714\n",
    "- chess\n",
    "- maze"
   ]
  },
  {
   "cell_type": "markdown",
   "metadata": {},
   "source": [
    "- tag incentivization system\n",
    "- svg - parcel -> bots walking via walkpath\n",
    "- guestbooks.js"
   ]
  },
  {
   "cell_type": "code",
   "execution_count": null,
   "metadata": {},
   "outputs": [],
   "source": [
    "#hide \n",
    "TODO:\n",
    "1. Moralis\n",
    "\n",
    "1. ens iframe\n",
    "2. Unlock register + metadata\n",
    "3. vote. cvminigames \n",
    "4. poap -> present\n",
    "5. poap -> register\n",
    "\n",
    "1. User Account Config\n",
    "2. GAMEPLAY\n",
    "3. cloud nodejs runtime / python handlers https://cloud.google.com/functions/docs/concepts/nodejs-runtime#console\n",
    "\n",
    "1. roll"
   ]
  },
  {
   "cell_type": "markdown",
   "metadata": {},
   "source": [
    "google search trends cv"
   ]
  },
  {
   "cell_type": "code",
   "execution_count": null,
   "metadata": {},
   "outputs": [],
   "source": [
    "### Minigames\n",
    "- Scavenger hunts\n",
    "- Conference and speakers\n",
    "- Mazes\n",
    "- Interactive Instruments"
   ]
  },
  {
   "cell_type": "code",
   "execution_count": null,
   "metadata": {},
   "outputs": [],
   "source": [
    "### Tied services\n",
    "- < USER > | < ACCESS TO >\n",
    "- Play the game: Accounts Pages & MetaData Customizer\n",
    "- Poap: POAP Backoffice and Mass Sound, Poap-Govtoken Exchange\n",
    "- Unlock Basic: 1day tiral access to website and Premium game storylines\n",
    "- Unlock Paywall: 1yr sub, 1month access\n",
    "- Unlock Premium: earlybirds special discounts or limited edition stuffs"
   ]
  },
  {
   "cell_type": "code",
   "execution_count": null,
   "metadata": {},
   "outputs": [],
   "source": [
    "> Blog \n",
    "> NFTs > CVscrapers/ opensea\n",
    "> 3D - IOT > > Maps > LED Vs. Data\n",
    "\n",
    "You should be able to set arbitrary properties on parcel which is available to all script contexts.\n",
    "\n",
    "\n",
    "If user enters pop up a sign telling them to go to floor one.\n",
    "The map should change and snap to each level you are on.\n",
    "map of the day.\n",
    "button and text show up along the wall as you walk it. clicking it will display a voxel"
   ]
  },
  {
   "cell_type": "code",
   "execution_count": null,
   "metadata": {},
   "outputs": [],
   "source": []
  },
  {
   "cell_type": "code",
   "execution_count": null,
   "metadata": {},
   "outputs": [],
   "source": [
    "- <p>Scan State Files</p>"
   ]
  }
 ],
 "metadata": {
  "interpreter": {
   "hash": "4f946df053fbf2b937619d3c5458e7af74262f9a954d8797ba0b27400bcafe06"
  },
  "kernelspec": {
   "display_name": "Python 3.8.12 64-bit",
   "language": "python",
   "name": "python3"
  },
  "language_info": {
   "codemirror_mode": {
    "name": "ipython",
    "version": 3
   },
   "file_extension": ".py",
   "mimetype": "text/x-python",
   "name": "python",
   "nbconvert_exporter": "python",
   "pygments_lexer": "ipython3",
   "version": "3.8.12"
  },
  "orig_nbformat": 4
 },
 "nbformat": 4,
 "nbformat_minor": 2
}

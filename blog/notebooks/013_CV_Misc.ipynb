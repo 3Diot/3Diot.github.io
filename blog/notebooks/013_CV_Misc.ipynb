{
 "cells": [
  {
   "cell_type": "markdown",
   "metadata": {},
   "source": [
    "#### Support"
   ]
  },
  {
   "cell_type": "markdown",
   "metadata": {},
   "source": [
    " \n",
    "- https://www.cryptovoxels.com/docs/scripting \n",
    "- https://support.cryptovoxels.com/t/access-parcel-snapshots-with-scripting/193/2 \n",
    "- https://wiki.cryptovoxels.com/Scripting/TheGrid \n",
    "- https://wiki.cryptovoxels.com/en/Scripting/Animation-API"
   ]
  },
  {
   "cell_type": "markdown",
   "metadata": {},
   "source": [
    "# LINKS"
   ]
  },
  {
   "cell_type": "markdown",
   "metadata": {},
   "source": [
    "- https://voxelarchitects.com/portfolio\n",
    "- https://free3d.com/3d-models/obj?page=3 \n",
    "- http://ephtracy.github.io/index.html?page=mv_resource\n",
    "- https://www.megavoxels.com/p/magicavoxel-tutorials.html\n",
    "- https://wiki.cryptovoxels.com/Player_customization/Create_a_wearable\n",
    "- https://www.cryptovoxels.com/marketplace/collections#\n",
    "- https://nonfungible.com/market/history/cryptovoxels "
   ]
  }
 ],
 "metadata": {
  "interpreter": {
   "hash": "4f946df053fbf2b937619d3c5458e7af74262f9a954d8797ba0b27400bcafe06"
  },
  "kernelspec": {
   "display_name": "Python 3.8.12 64-bit",
   "language": "python",
   "name": "python3"
  },
  "language_info": {
   "name": "python",
   "version": "3.8.12"
  },
  "orig_nbformat": 4
 },
 "nbformat": 4,
 "nbformat_minor": 2
}

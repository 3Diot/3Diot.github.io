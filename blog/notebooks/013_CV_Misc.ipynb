{
 "cells": [
  {
   "cell_type": "code",
   "execution_count": null,
   "metadata": {},
   "outputs": [],
   "source": [
    "tag incentivization system\n",
    "svg - parcel -> bots walking via walkpath\n",
    "guestbooks.js"
   ]
  },
  {
   "cell_type": "markdown",
   "metadata": {},
   "source": [
    "Minigame ideas:\n",
    "- interactive instruments #2714\n",
    "- chess\n",
    "- maze"
   ]
  },
  {
   "cell_type": "code",
   "execution_count": null,
   "metadata": {},
   "outputs": [],
   "source": [
    "ramen shop -> feb -> heygareth / neondao\n",
    "bruce -yamfi\n",
    "\n",
    "not metarchs or butter\n",
    "\n",
    "osekre - food scarcity - jollofrice"
   ]
  },
  {
   "cell_type": "code",
   "execution_count": null,
   "metadata": {},
   "outputs": [],
   "source": [
    "john bittrees = high contract building\n",
    "\n",
    "gnosis wallets\n",
    "\n",
    "async heart -conman"
   ]
  },
  {
   "cell_type": "markdown",
   "metadata": {},
   "source": [
    "#### Eulerbeats"
   ]
  },
  {
   "cell_type": "markdown",
   "metadata": {},
   "source": [
    "- https://eulerbeats.gitbook.io/eulerbeats-docs/wearables-launch\n",
    "- https://untrusted.cryptovoxels.com/grid/parcels/5449/scripts.js\n",
    "- https://github.com/EulerBeats/awesome-eulerbeats"
   ]
  },
  {
   "cell_type": "markdown",
   "metadata": {},
   "source": [
    "#### Support"
   ]
  },
  {
   "cell_type": "markdown",
   "metadata": {},
   "source": [
    "- https://untrusted.cryptovoxels.com/scripting-host.js\n",
    "- https://www.cryptovoxels.com/docs/scripting \n",
    "- https://support.cryptovoxels.com/t/access-parcel-snapshots-with-scripting/193/2\n",
    "- https://wiki.cryptovoxels.com/Scripting/Examples/pick-up-objects\n",
    "- https://wiki.cryptovoxels.com/Scripting/Examples/loop-images-timer\n",
    "- https://wiki.cryptovoxels.com/Scripting/Examples/Simple-Door \n",
    "- https://wiki.cryptovoxels.com/Scripting/Examples/Activate-depending-on-wallets\n",
    "- https://wiki.cryptovoxels.com/Scripting/Examples/basic-gui-advanced-example\n",
    "- https://wiki.cryptovoxels.com/Scripting/TheGrid \n",
    "- https://wiki.cryptovoxels.com/en/Scripting/Animation-API"
   ]
  },
  {
   "cell_type": "markdown",
   "metadata": {},
   "source": [
    "#### Collections/ Assets"
   ]
  },
  {
   "cell_type": "markdown",
   "metadata": {},
   "source": [
    "https://opensea.io/collection/cryptovoxels-network\n",
    "\n",
    "CV Collections\n",
    "- https://opensea.io/collection/stellas-community\n",
    "- https://opensea.io/collection/lep-epic-stuff\n",
    "- https://opensea.io/collection/the-philosopher-brand\n",
    "- https://opensea.io/collection/hyperspek-rasta  \n",
    "- https://opensea.io/collection/nvllsekt\n",
    "- https://www.cryptovoxels.com/api/collections/154/collectibles.json\n",
    "\n",
    "\n",
    "Open Sea Users\n",
    "- https://opensea.io/voxelmaster42069\n",
    "- https://opensea.io/METAArchs\n",
    "- https://opensea.io/baphomETH777\n",
    "- https://opensea.io/LowEffortPunks\n",
    "- https://opensea.io/Hyperion?search[eventTypes][0]=AUCTION_SUCCESSFUL\n",
    "- https://opensea.io/VOIDKROSS?tab=activity\n",
    "- https://opensea.io/collection/substrata-parcel\n",
    "\n",
    "Open Sea Assets\n",
    "- https://opensea.io/assets/matic/0x7b5a41c6bc373a700c1949a73d0e905f5de09c20/3 \n",
    "- https://opensea.io/assets/CONTRACT_ID/TOKEN_ID\n",
    "- https://opensea.io/assets/0x51e694d52e4d15dd68749689d02f6b0ba0ba3041/5\n",
    "- https://opensea.io/assets/0x7581f8e289f00591818f6c467939da7f9ab5a777/5519"
   ]
  },
  {
   "cell_type": "markdown",
   "metadata": {},
   "source": [
    "#### Users"
   ]
  },
  {
   "cell_type": "markdown",
   "metadata": {},
   "source": [
    "Example of JSON Representation of a user:\n",
    "- https://www.cryptovoxels.com/api/avatars/0x7b19b42564ad1c03625e8306cf20deea2f923a67.json\n",
    "\n",
    "Random list of users:\n",
    "- LEP  - https://www.cryptovoxels.com/api/avatars/0xc0c8d886B92a811E8E41cb6AB5144E44DBBFBFA3.json\n",
    "- GodJuicer  - https://www.cryptovoxels.com/api/avatars/0x1166eb4a91641367914501d2cddb168701130dfe.json\n",
    "- DaltonMannerud - https://www.cryptovoxels.com/avatar/0x85a19dd2ad0d1d2b25bb164810fad08cdc0b33d7\n",
    "- Rufio - https://www.cryptovoxels.com/avatar/0xd20d2a56bd165aa88c1d5505f5e6a1e4a3c15a92\n",
    "- Eli-Jayne - https://www.cryptovoxels.com/avatar/0xfad0ea578c6c63fe495dc0ef9cf73fc2c69e1f47\n",
    "- EliJayne - https://www.cryptovoxels.com/avatar/0x5d4d0f312de9D57338787308a25D2959978AADf6"
   ]
  },
  {
   "cell_type": "markdown",
   "metadata": {},
   "source": [
    "#### Parcels"
   ]
  },
  {
   "cell_type": "markdown",
   "metadata": {},
   "source": [
    "These are examples of how to get a parcels JSON representation of the places.\n",
    "- https://untrusted.cryptovoxels.com/grid/parcels/5449/scripts.js\n",
    "- https://untrusted.cryptovoxels.com/grid/parcels/5657/scripts.js\n",
    "- https://untrusted.cryptovoxels.com/grid/parcels/5449/scripts.js\n",
    "\n",
    "These are misc places I liked.\n",
    "- https://www.cryptovoxels.com/play?coords=SW@113E,369N,9.5F -> volcano\n",
    "- https://www.cryptovoxels.com/play?coords=W@795E,588N -  dogempire\n",
    "- https://www.cryptovoxels.com/parcels/5758 - 186m²\n",
    "- https://www.cryptovoxels.com/parcels/5563 UFO Docking Station\n",
    "- https://www.cryptovoxels.com/parcels/5527 club neon\n",
    "\n",
    "These are unlabeled misc places I liked.\n",
    "- https://www.cryptovoxels.com/grid/parcels/5657\n",
    "- https://www.cryptovoxels.com/play?coords=W@786E,524N\n",
    "- https://www.cryptovoxels.com/play?coords=N@1028E,185S,2.5U\n",
    "- https://www.cryptovoxels.com/play?coords=N@122E,85N,0.5U\n",
    "- https://www.cryptovoxels.com/play?coords=S@1027E,87S,4.5U\n",
    "- https://www.cryptovoxels.com/play?coords=SE@6487W,117S,9U\n",
    "- https://www.cryptovoxels.com/play?coords=W@487E,95N,4F"
   ]
  },
  {
   "cell_type": "markdown",
   "metadata": {},
   "source": [
    "#### API's"
   ]
  },
  {
   "cell_type": "markdown",
   "metadata": {},
   "source": [
    "https://untrusted.cryptovoxels.com/grid/parcels/5449/scripts.js\n",
    "\n",
    "https://www.cryptovoxels.com/api/avatars/0x7b19b42564ad1c03625e8306cf20deea2f923a67.json\n",
    "\n",
    "https://www.cryptovoxels.com/api/collections/154/collectibles.json\n",
    "\n",
    "https://www.cryptovoxels.com/api/avatars/0xc0c8d886B92a811E8E41cb6AB5144E44DBBFBFA3.json\n",
    "\n",
    "https://wiki.cryptovoxels.com/en/External-API"
   ]
  },
  {
   "cell_type": "markdown",
   "metadata": {},
   "source": []
  },
  {
   "cell_type": "markdown",
   "metadata": {},
   "source": []
  },
  {
   "cell_type": "markdown",
   "metadata": {},
   "source": []
  },
  {
   "cell_type": "markdown",
   "metadata": {},
   "source": [
    "Dono\n",
    "\n",
    "\n",
    "- https://www.cryptovoxels.com/grid/parcels/5657/at/2356b1dc9e81ef62dfdd0f2bd269a765d173942e\n",
    "includes voxel positions, isgrid, label, coords, etc.\n",
    "\n",
    "- https://www.cryptovoxels.com/api/parcels/resources/0x7b19b42564ad1c03625e8306cf20deea2f923a67.json\n",
    "only features really\n",
    "\n",
    "- https://mp.crvox.com/api/parcels/5657.json\n",
    "users in parcel\n",
    "\n",
    "- https://www.cryptovoxels.com/api/mails/unread/by/0x7b19b42564ad1c03625e8306cf20deea2f923a67.json\n",
    "unread mail\n",
    "\n",
    "- https://www.cryptovoxels.com/api/avatars/0x7b19b42564ad1c03625e8306cf20deea2f923a67.json\n",
    "avatars\n",
    "\n",
    "- https://www.cryptovoxels.com/api/mails/by/0x7b19b42564ad1c03625e8306cf20deea2f923a67.json?1632886203750\n",
    "all mails sent by me\n",
    "\n",
    "\n",
    "- https://nonfungible.com/market/history/cryptovoxels\n",
    "- https://www.yuque.com/docs/share/37a69d60-ea8c-4c92-947e-4132bddf2781?#84PT\n",
    "- https://free3d.com/3d-models/obj?page=3\n",
    "- https://voxelarchitects.com/portfolio\n",
    "- http://ephtracy.github.io/index.html?page=mv_resource\n",
    "- https://www.megavoxels.com/p/magicavoxel-tutorials.html\n",
    "- https://wiki.cryptovoxels.com/Player_customization/Create_a_wearable\n",
    "- https://www.cryptovoxels.com/marketplace/collections#\n",
    " \n",
    "\n",
    "- https://www.k1ic.com/cvs-zh.html\n",
    "- https://docs.opensea.io/"
   ]
  },
  {
   "cell_type": "markdown",
   "metadata": {},
   "source": []
  }
 ],
 "metadata": {
  "interpreter": {
   "hash": "4f946df053fbf2b937619d3c5458e7af74262f9a954d8797ba0b27400bcafe06"
  },
  "kernelspec": {
   "display_name": "Python 3.8.12 64-bit",
   "language": "python",
   "name": "python3"
  },
  "language_info": {
   "name": "python",
   "version": "3.8.12"
  },
  "orig_nbformat": 4
 },
 "nbformat": 4,
 "nbformat_minor": 2
}

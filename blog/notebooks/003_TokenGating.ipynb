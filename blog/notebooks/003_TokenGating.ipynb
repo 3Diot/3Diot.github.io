{
 "cells": [
  {
   "cell_type": "markdown",
   "metadata": {},
   "source": [
    "# Token Gating\n",
    "> This publication inspired by [nbdev](http://nbdev.fast.ai/tutorial/) and [nbConvert](https://nbconvert.readthedocs.io/en/latest/).\n",
    "\n",
    "- toc: false\n",
    "- filename: Tokengating\n",
    "- tab: CVMinigames | Tokengating\n",
    "- title: CVMinigames\n",
    "- template: article\n",
    "- description: this isnt working\n",
    "- image: images/company_logo.png"
   ]
  },
  {
   "cell_type": "markdown",
   "metadata": {},
   "source": [
    "## Token gating?"
   ]
  },
  {
   "cell_type": "markdown",
   "metadata": {},
   "source": [
    "The act of token gating permits a parcel owner to restrict access to their space, a part of their space, or set of resources based on token ownership.\n",
    "\n",
    "We will explore how you can get this set up in your parcel!"
   ]
  },
  {
   "cell_type": "markdown",
   "metadata": {},
   "source": [
    "## Requirements"
   ]
  },
  {
   "cell_type": "markdown",
   "metadata": {},
   "source": [
    "In order to successfully token gate:\n",
    "\n",
    "- Visitors must be signed on in-world with a wallet \n",
    "- We'll check if the user is in a token-gated area or triggered a token-gated event \n",
    "- We'll also check the contents of the visitors wallet for the desired token(s) \n",
    "- We will do all of this using code via the in-world scripting engine "
   ]
  },
  {
   "cell_type": "markdown",
   "metadata": {},
   "source": [
    "## Don't panic!\n",
    "\n",
    "Most everything has already been done for you. I made a youtube video to help walk you through these steps as well.\n",
    "\n",
    "What remains:\n",
    "\n",
    "1. Drop the script into your parcel.\n",
    "2. Create a Moralis account and acquire a key that will allow the script to work. \n",
    "3. Specify valid contracts and possibly specific tokens with them using code-appropriate notation.\n",
    "4. Specify what you want to token-gate, weather it be a feature or space, or both."
   ]
  },
  {
   "cell_type": "markdown",
   "metadata": {},
   "source": [
    "## 1. Embed script"
   ]
  },
  {
   "cell_type": "markdown",
   "metadata": {},
   "source": [
    "Open the feature editor pane for a single feature in your parcel and drop the following bold text into it's `script` textbox.\n",
    "\n",
    "__`app_id = '';`__\n",
    "\n",
    "__`tokens = [];`__\n",
    "\n",
    "__`gates = [];`__\n",
    "\n",
    "__`parcel.on('playerenter', (e)=> { (async(e) => eval( ( await (await fetch( 'https://charleskarpati.com/cv/scripts/token_gate.js' )).text() ) ) )(e) })`__\n",
    "\n",
    "The first three lines are placeholders that we will fill out shortly. The last line will will load a pre-written script to do what you need."
   ]
  },
  {
   "cell_type": "markdown",
   "metadata": {},
   "source": [
    "## 2. Get Key"
   ]
  },
  {
   "cell_type": "markdown",
   "metadata": {},
   "source": [
    "Great! \n",
    "So now, in order for out script to actually work, a free service called Moralis is used. Behind the scenes, the script you embedded will request even more code, Moralis code. This will allow us to indirectly query the blockchain and see if the our visitors hold any required token. \n",
    "\n",
    "In order for this to work, Moralis asks that any query made be accompanied with a key they provide. They do this primarily to ensure no one person is spamming their free service.\n",
    "\n",
    "Go ahead and create a [Moralis](https://admin.moralis.io/register) account and then promptly:\n",
    "\n",
    "1. Access the services [admin](https://admin.moralis.io/servers) panel.  \n",
    "2. `Create a new server` selecting the networks you want to support. \n",
    "3. `View Details` on the newly created service\n",
    "4. Copy the services `Application ID`\n",
    "5. Paste it in between the the quotes of your scripts `app_id`. \n",
    "\n",
    "exe: __`app_id = '1kj30usd02j3ofijs0dfy7546yuhf1';`__"
   ]
  },
  {
   "cell_type": "markdown",
   "metadata": {},
   "source": [
    "## 3. Specify Tokens"
   ]
  },
  {
   "cell_type": "markdown",
   "metadata": {},
   "source": [
    "You're making really good progress! These next two parts can be a bit daunting because it requires acquiring information and encoding it into a machine-readable format called [json](https://en.wikipedia.org/wiki/JSON#Syntax). \n",
    "\n",
    "The first thing you are going to want to do is list out all the tokens you want to use for gating, the network/ contract they are from. If you want any token within a contract no need to list em all, just use an asterisk. TokenId and ContractId's can be found by looking at the url of an nft when viewing it on opensea.\n",
    "\n",
    "For example, https://opensea.io/assets/0xa58b5224e2fd94020cb2837231b2b0e4247301a6/2 links to an nft with a token ID of 2 and a contract Address of 0xa58b5224e2fd94020cb2837231b2b0e4247301a6.\n",
    "\n",
    "It is possible to list out multiple nft's from a contract and only require a threshold quantity to be held. As well, it is also possible to gate multiple areas/ things using different requirements. Lastly, the code is written so as to require multiple NFT's be held and/or to permit multiple possible NFT's/ NFT combos.\n",
    "\n",
    "Arrange your information into JSON format using the structure shown in the examples. All possible situations are demonstrated."
   ]
  },
  {
   "cell_type": "markdown",
   "metadata": {},
   "source": [
    "<details closed>\n",
    "\n",
    "<summary><h3 style=\"display:inline\"> Examples </h3> </summary>\n",
    "\n",
    "1. Visitors hold __any NFT__ in the specified contract\n",
    "```\n",
    "tokens = [ [ [ { \"chain\":\"polygon\", \"contract\": \"0xaab9da2cbab0036fa83ce797109009431d033d35\", \"tokens\": ['*'] } ] ] ]\n",
    "```\n",
    "\n",
    "2. Visitors hold  __at least two NFTs *listed*__ within the specified contract\n",
    "```\n",
    "tokens = [ [ [ { \"chain\":\"polygon\", \"contract\": \"0xaab9da2cbab0036fa83ce797109009431d033d35\", \"tokens\": [12,130,559,2310], minimum:2 } ] ] ]\n",
    "```\n",
    "\n",
    "3. Visitors hold __all NFTs__ listed within the specified contract\n",
    "```\n",
    "tokens = [ [ [ { \"chain\":\"polygon\", \"contract\": \"0xaab9da2cbab0036fa83ce797109009431d033d35\", \"tokens\": [12,130,559,2310] } ] ] ]\n",
    "```\n",
    "\n",
    "4. Visitors hold __any NFT__ from __EACH  contract__\n",
    "```\n",
    "tokens = [ [ [\n",
    "  { \"chain\":\"eth\", \"contract\": \"0x4b1e130ae84c97b931ffbe91ead6b1da16993d45\", \"tokens\": ['*'] },\n",
    "  { \"chain\":\"polygon\", \"contract\": \"0xaab9da2cbab0036fa83ce797109009431d033d35\", \"tokens\": ['*'] }\n",
    "] ] ]\n",
    "```\n",
    "\n",
    "5. Visitors hold __any nfts__ from __EITHER contract__ \n",
    "```\n",
    "tokens = [ [\n",
    "  [ { \"chain\":\"eth\", \"contract\": \"0x4b1e130ae84c97b931ffbe91ead6b1da16993d45\", \"tokens\": ['*'] } ],\n",
    "  [ { \"chain\":\"polygon\", \"contract\": \"0xaab9da2cbab0036fa83ce797109009431d033d35\", \"tokens\": ['*'] } ]\n",
    "] ]\n",
    "```\n",
    "\n",
    "6. Visitors hold any NFT from the specified ethereum contract and also __EITHER__ (token 25 and [26 or 27]) __OR__ (token 3 and 145) from the polygon contract.\n",
    "\n",
    "```\n",
    "tokens = [ [\n",
    "  [ \n",
    "    { \"chain\":\"polygon\", \"contract\": \"0xaab9da2cbab0036fa83ce797109009431d033d35\", \"tokens\": [3, 145] },\n",
    "    { \"chain\":\"eth\", \"contract\": \"0x4b1e130ae84c97b931ffbe91ead6b1da16993d45\", \"tokens\": ['*'] }\n",
    "  ],\n",
    "  [ \n",
    "    { \"chain\":\"polygon\", \"contract\": \"0xaab9da2cbab0036fa83ce797109009431d033d35\", \"tokens\": [25] },\n",
    "    { \"chain\":\"polygon\", \"contract\": \"0xaab9da2cbab0036fa83ce797109009431d033d35\", \"tokens\": [26, 27], minimum: 1 },\n",
    "    { \"chain\":\"eth\", \"contract\": \"0x4b1e130ae84c97b931ffbe91ead6b1da16993d45\", \"tokens\": ['*'] }\n",
    "  ]\n",
    "] ]\n",
    "```\n",
    "\n",
    "7. This example depicts allowing a visitor access to two __different rooms/features__ each with __different requirements__.\n",
    "```\n",
    "tokens = [ \n",
    "  [ [ { \"chain\":\"polygon\", \"contract\": \"0xaab9da2cbab0036fa83ce797109009431d033d35\", \"tokens\": ['*'] } ] ], \n",
    "  [ [ { \"chain\":\"eth\", \"contract\": \"0x4b1e130ae84c97b931ffbe91ead6b1da16993d45\", \"tokens\": ['*'] } ] ]\n",
    "]\n",
    "```\n",
    "\n",
    "8. This is an example of all possible settings put together\n",
    "\n",
    "```\n",
    "tokens = [ \n",
    "  [ \n",
    "    [ \n",
    "      { \"chain\":\"polygon\", \"contract\": \"0xaab9da2cbab0036fa83ce797109009431d033d35\", \"tokens\": [3, 145] },\n",
    "      { \"chain\":\"eth\", \"contract\": \"0x4b1e130ae84c97b931ffbe91ead6b1da16993d45\", \"tokens\": ['*'] }\n",
    "    ],\n",
    "    [ \n",
    "      { \"chain\":\"polygon\", \"contract\": \"0xaab9da2cbab0036fa83ce797109009431d033d35\", \"tokens\": [25] },\n",
    "      { \"chain\":\"polygon\", \"contract\": \"0xaab9da2cbab0036fa83ce797109009431d033d35\", \"tokens\": [26, 27], minimum: 1 },\n",
    "      { \"chain\":\"eth\", \"contract\": \"0x4b1e130ae84c97b931ffbe91ead6b1da16993d45\", \"tokens\": ['*'] }\n",
    "    ]\n",
    "  ],\n",
    "  [ [ { \"chain\":\"eth\", \"contract\": \"0x4b1e130ae84c97b931ffbe91ead6b1da16993d45\", \"tokens\": ['*'] } ] ] \n",
    "]\n",
    "```\n",
    "</details>"
   ]
  },
  {
   "cell_type": "markdown",
   "metadata": {},
   "source": [
    "## 4. Specify Gates"
   ]
  },
  {
   "cell_type": "markdown",
   "metadata": {},
   "source": [
    "If you got past that, then I'm so proud of you and we are almost done!\n",
    "\n",
    "All that's left to do is specify the Space/ Features you want gated. Gated features permit their properties to altered when access is granted. This allows you to hide/reveal items, or change youtube video urls. Persons who teleport into a gated room will be promptly kicked out to the Origin City Center. Alternate teleport locations may be configured (refer to the example)."
   ]
  },
  {
   "cell_type": "markdown",
   "metadata": {},
   "source": [
    "### Features"
   ]
  },
  {
   "cell_type": "markdown",
   "metadata": {},
   "source": [
    "Simply give all the features you want to gate an ID within their respective editor panels in-game and then list em out in the corresponding section of our code using a similar JSON notation as above. \n",
    "\n",
    "If you want to hide your items: \n",
    "1. Copy the Y coordinate of the feature you want hidden\n",
    "2. Paste it's Y coordinate to your json list (as shown below)\n",
    "3. Set the features Y coordinate in-game to be -100. \n",
    "\n",
    "When all token requirements are met, the features will instantly teleport to the y location you set. Refer to the CV [Wiki](https://wiki.cryptovoxels.com/en/Scripting/all-features-scripting-properties) page to find out more updatable settings.\n",
    "\n",
    "<details closed>\n",
    "\n",
    "<summary><h3 style=\"display:inline\"> Examples </h3> </summary>\n",
    "\n",
    "This example will hide the first and third listed item until access is granted and update the 2nd item's (a youtube video) video url and preview image.\n",
    "```\n",
    "gates = [ [\n",
    "  {'id': 'featureId1', 'y': 5 },\n",
    "  {'id': 'youtubeVideoId2', 'url': 'https://www.youtube.com/watch?v=dQw4w9WgXcQ', 'previewUrl':\"https://...\"},\n",
    "  {'id': 'voxModel3', 'y': 0 }\n",
    "] ]\n",
    "```\n",
    "\n",
    "This example is similar but the logic is split across two different set of token requirements (examples 7 & 8)\n",
    "\n",
    "```\n",
    "gates = [ \n",
    "  [\n",
    "    {'id': 'featureId1', 'y': 5 },\n",
    "    {'id': 'youtubeVideoId2', 'url': 'https://www.youtube.com/watch?v=dQw4w9WgXcQ', 'previewUrl':\"https://...\"}\n",
    "  ], \n",
    "  [\n",
    "    {'id': 'voxModel3', 'y': 0 }\n",
    "  ]\n",
    "]\n",
    "```\n",
    "</details>"
   ]
  },
  {
   "cell_type": "markdown",
   "metadata": {},
   "source": [
    "### Spaces"
   ]
  },
  {
   "cell_type": "markdown",
   "metadata": {},
   "source": [
    "Gating a subset of your parcel necessitates retrieving the coordinates of two diametrically opposite corners of the room you want gated. \n",
    "\n",
    "In the image below, that would be corner A and B.\n",
    "\n",
    "<img src='https://study.com/cimages/multimages/16/physics3754380571394895698.jpg' />\n",
    "\n",
    "You can get these coordinates by dragging a feature element into each of the corners and then taking note of their position (from the feature editor panel). It is possible to gate multiple rooms in such a manner. Encode these coordinates in JSON form using the following examples as you guide.\n",
    "\n",
    "<details closed>\n",
    "\n",
    "<summary><h3 style=\"display:inline\"> Examples </h3> </summary>\n",
    "\n",
    "Gate a single room and teleport cheaters to the specified location (as shown in your url when in-game)\n",
    "\n",
    "```\n",
    "gates = [ [ { 'x': -4, 'y': 0, 'z': -4 }, { 'x': 0, 'y': 4, 'z': 0 }, 'teleport': 'E@1W,1N' ] ]\n",
    "```\n",
    "\n",
    "Gate two rooms at two different heights and locations\n",
    "\n",
    "```\n",
    "gates = [ \n",
    "    [ { 'x': -4, 'y': 0, 'z': -4 }, { 'x': 0, 'y': 4, 'z': 0 }  ], \n",
    "    [ { 'x': 2, 'y': 6, 'z': 2 }, { 'x': 8, 'y': 9, 'z': 8 }  ] \n",
    "]\n",
    "```\n",
    "\n",
    "Gate Three rooms split across two different set of token requirements (examples 7 & 8)\n",
    "\n",
    "```\n",
    "gates = [ \n",
    "  [\n",
    "    [ { 'x': -4, 'y': 0, 'z': -4 }, { 'x': 0, 'y': 4, 'z': 0 }  ], \n",
    "    [ { 'x': 2, 'y': 6, 'z': 2 }, { 'x': 8, 'y': 9, 'z': 8 }  ] \n",
    "  ],\n",
    "  [\n",
    "    [ { 'x': -8, 'y': 10, 'z': -8 }, { 'x': 8, 'y': 15, 'z': 8 }  ] \n",
    "  ]\n",
    "]\n",
    "```\n",
    "</details>"
   ]
  },
  {
   "cell_type": "markdown",
   "metadata": {},
   "source": [
    "## Example"
   ]
  },
  {
   "cell_type": "markdown",
   "metadata": {},
   "source": [
    "In the end you could have something that looks like this:\n",
    "\n",
    "<details closed>\n",
    "\n",
    "<summary><h3 style=\"display:inline\"> Easy Example </h3> </summary>\n",
    "\n",
    "This gates a single room using any token held from a specific polygon token\n",
    "\n",
    "```app_id = '1kj30usd02j3ofijs0dfy7546yuhf1';```\n",
    "\n",
    "```\n",
    "tokens = [ [ [ { \"chain\":\"polygon\", \"contract\": \"0xaab9da2cbab0036fa83ce797109009431d033d35\", \"tokens\": ['*'] } ] ] ];\n",
    "```\n",
    "\n",
    "```\n",
    "gates = [ [ { 'x': -4, 'y': 0, 'z': -4 }, { 'x': 0, 'y': 4, 'z': 0 }  ] ];\n",
    "```\n",
    "\n",
    "`parcel.on('playerenter', (e)=> { (async(e) => eval( ( await (await fetch( 'https://charleskarpati.com/cv/scripts/token_gate.js' )).text() ) ) )(e) })`\n",
    "\n",
    "</details>"
   ]
  },
  {
   "cell_type": "markdown",
   "metadata": {},
   "source": [
    "Or like this:\n",
    "\n",
    "<details closed>\n",
    "\n",
    "<summary><h3 style=\"display:inline\"> Complex Example </h3> </summary>\n",
    "\n",
    "This gates using two different set of requirements. The first set permits users to have either ( token 3&145 from a polygon contract and any from an eth contract) or ( token 25 as well as token (26 or 27) from a polyon contract along with any from the eth contract ). This first set of requirements will unlock two rooms, 1 youtube video, and a single hidden feature. The second requirements simply grants access to any token holder of the eth contract which will then unlock a single room and vox model.\n",
    "\n",
    "```app_id = '1kj30usd02j3ofijs0dfy7546yuhf1';```\n",
    "\n",
    "```\n",
    "tokens = [ \n",
    "  [ \n",
    "    [ \n",
    "      { \"chain\":\"polygon\", \"contract\": \"0xaab9da2cbab0036fa83ce797109009431d033d35\", \"tokens\": [3, 145] },\n",
    "      { \"chain\":\"eth\", \"contract\": \"0x4b1e130ae84c97b931ffbe91ead6b1da16993d45\", \"tokens\": ['*'] }\n",
    "    ],\n",
    "    [ \n",
    "      { \"chain\":\"polygon\", \"contract\": \"0xaab9da2cbab0036fa83ce797109009431d033d35\", \"tokens\": [25] },\n",
    "      { \"chain\":\"polygon\", \"contract\": \"0xaab9da2cbab0036fa83ce797109009431d033d35\", \"tokens\": [26, 27], minimum: 1 },\n",
    "      { \"chain\":\"eth\", \"contract\": \"0x4b1e130ae84c97b931ffbe91ead6b1da16993d45\", \"tokens\": ['*'] }\n",
    "    ]\n",
    "  ],\n",
    "  [ [ { \"chain\":\"eth\", \"contract\": \"0x4b1e130ae84c97b931ffbe91ead6b1da16993d45\", \"tokens\": ['*'] } ] ] \n",
    "];\n",
    "```\n",
    "\n",
    "```\n",
    "gates = [ \n",
    "  [\n",
    "    [ { 'x': -4, 'y': 0, 'z': -4 }, { 'x': 0, 'y': 4, 'z': 0 }  ], \n",
    "    [ { 'x': 2, 'y': 6, 'z': 2 }, { 'x': 8, 'y': 9, 'z': 8 }  ], \n",
    "    {'id': 'featureId1', 'y': 5 },\n",
    "    {'id': 'youtubeVideoId2', 'url': 'https://www.youtube.com/watch?v=dQw4w9WgXcQ', 'previewUrl':\"https://...\"}\n",
    "  ],\n",
    "  [\n",
    "    [ { 'x': -8, 'y': 10, 'z': -8 }, { 'x': 8, 'y': 15, 'z': 8 }  ],\n",
    "    {'id': 'voxModel3', 'y': 0 }\n",
    "  ]\n",
    "];\n",
    "```\n",
    "\n",
    "`parcel.on('playerenter', (e)=> { (async(e) => eval( ( await (await fetch( 'https://charleskarpati.com/cv/scripts/token_gate.js' )).text() ) ) )(e) })`\n",
    "</details>"
   ]
  }
 ],
 "metadata": {
  "interpreter": {
   "hash": "9c11efee846967310abd8f740a38f15b02a39b0f484e3524f915c714a6a0bfaa"
  },
  "kernelspec": {
   "display_name": "Python 3.10.2 64-bit",
   "language": "python",
   "name": "python3"
  },
  "language_info": {
   "codemirror_mode": {
    "name": "ipython",
    "version": 3
   },
   "file_extension": ".py",
   "mimetype": "text/x-python",
   "name": "python",
   "nbconvert_exporter": "python",
   "pygments_lexer": "ipython3",
   "version": "3.10.2"
  },
  "orig_nbformat": 4
 },
 "nbformat": 4,
 "nbformat_minor": 2
}

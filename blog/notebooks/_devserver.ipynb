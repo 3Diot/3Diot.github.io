{
 "cells": [
  {
   "cell_type": "code",
   "execution_count": 1,
   "metadata": {},
   "outputs": [],
   "source": [
    "# nbdev_build_lib\n",
    "# nbdev_build_docs"
   ]
  },
  {
   "cell_type": "code",
   "execution_count": 2,
   "metadata": {},
   "outputs": [],
   "source": [
    "#hide \n",
    "import sys\n",
    "sys.path.append('/workspaces/3Diot.github.io/blog/')"
   ]
  },
  {
   "cell_type": "code",
   "execution_count": 3,
   "metadata": {},
   "outputs": [],
   "source": [
    "#hide \n",
    "from blog import core\n",
    "# from blog.core import *"
   ]
  },
  {
   "cell_type": "code",
   "execution_count": 4,
   "metadata": {},
   "outputs": [],
   "source": [
    "from flask import Flask\n",
    "import re\n",
    "app = Flask(__name__)\n",
    "\n",
    "@app.route(\"/\")\n",
    "def homepage():\n",
    "  sys.path.pop()\n",
    "  sys.path.append('/workspaces/3Diot.github.io/blog/')\n",
    "  from blog import core\n",
    "  header = 'header'\n",
    "  footer = 'footer'\n",
    "  def template(title, x): return f'{header}{title}{x}{footer}'\n",
    "  def replace(txt): \n",
    "    # txt = txt.replace('<link rel=\"stylesheet\" type=\"text/css\" href=\"\">', '')\n",
    "    return txt\n",
    "  infilename = '001_core_test.ipynb' #'index.ipynb'\n",
    "  outp = core.runit(infilename)\n",
    "  title = \"\".join(re.findall('[a-zA-Z][^a-zA-Z]*', 'index.ipynb'[:-6]))\n",
    "  resp = ''.join( [''.join(c) for c in outp] )\n",
    "  resp = replace(resp)\n",
    "  # resp = template( addAfterNav(title) , resp)\n",
    "  return resp\n",
    "  # return \"<p>Hello, Worrrld!</p>\""
   ]
  },
  {
   "cell_type": "code",
   "execution_count": 5,
   "metadata": {},
   "outputs": [
    {
     "name": "stderr",
     "output_type": "stream",
     "text": [
      "127.0.0.1 - - [23/Nov/2021 00:52:20] \"GET / HTTP/1.1\" 200 -\n"
     ]
    },
    {
     "name": "stdout",
     "output_type": "stream",
     "text": [
      "dict_keys(['text/html', 'text/plain'])\n",
      "dict_keys(['text/html', 'text/plain'])\n",
      "dict_keys(['application/javascript', 'text/plain'])\n",
      "dict_keys(['application/javascript', 'text/plain'])\n",
      "dict_keys(['application/javascript', 'text/plain'])\n",
      "dict_keys(['application/javascript', 'text/plain'])\n",
      "dict_keys(['application/javascript', 'text/plain'])\n",
      "dict_keys(['application/javascript', 'text/plain'])\n",
      "dict_keys(['text/html', 'text/plain'])\n",
      "dict_keys(['text/html', 'text/plain'])\n"
     ]
    },
    {
     "name": "stderr",
     "output_type": "stream",
     "text": [
      "127.0.0.1 - - [23/Nov/2021 00:53:15] \"GET / HTTP/1.1\" 200 -\n"
     ]
    },
    {
     "name": "stdout",
     "output_type": "stream",
     "text": [
      "dict_keys(['text/html', 'text/plain'])\n",
      "dict_keys(['text/html', 'text/plain'])\n",
      "dict_keys(['application/javascript', 'text/plain'])\n",
      "dict_keys(['application/javascript', 'text/plain'])\n",
      "dict_keys(['application/javascript', 'text/plain'])\n",
      "dict_keys(['application/javascript', 'text/plain'])\n",
      "dict_keys(['application/javascript', 'text/plain'])\n",
      "dict_keys(['application/javascript', 'text/plain'])\n",
      "dict_keys(['text/html', 'text/plain'])\n",
      "dict_keys(['text/html', 'text/plain'])\n"
     ]
    },
    {
     "name": "stderr",
     "output_type": "stream",
     "text": [
      "127.0.0.1 - - [23/Nov/2021 00:53:15] \"\u001b[33mGET /favicon.ico HTTP/1.1\u001b[0m\" 404 -\n",
      "127.0.0.1 - - [23/Nov/2021 00:54:41] \"GET / HTTP/1.1\" 200 -\n"
     ]
    },
    {
     "name": "stdout",
     "output_type": "stream",
     "text": [
      "dict_keys(['text/html', 'text/plain'])\n",
      "dict_keys(['text/html', 'text/plain'])\n",
      "dict_keys(['application/javascript', 'text/plain'])\n",
      "dict_keys(['application/javascript', 'text/plain'])\n",
      "dict_keys(['application/javascript', 'text/plain'])\n",
      "dict_keys(['application/javascript', 'text/plain'])\n",
      "dict_keys(['application/javascript', 'text/plain'])\n",
      "dict_keys(['application/javascript', 'text/plain'])\n",
      "dict_keys(['text/html', 'text/plain'])\n",
      "dict_keys(['text/html', 'text/plain'])\n"
     ]
    },
    {
     "name": "stderr",
     "output_type": "stream",
     "text": [
      "127.0.0.1 - - [23/Nov/2021 00:57:10] \"GET / HTTP/1.1\" 200 -\n"
     ]
    },
    {
     "name": "stdout",
     "output_type": "stream",
     "text": [
      "dict_keys(['text/html', 'text/plain'])\n",
      "dict_keys(['text/html', 'text/plain'])\n",
      "dict_keys(['application/javascript', 'text/plain'])\n",
      "dict_keys(['application/javascript', 'text/plain'])\n",
      "dict_keys(['application/javascript', 'text/plain'])\n",
      "dict_keys(['application/javascript', 'text/plain'])\n",
      "dict_keys(['application/javascript', 'text/plain'])\n",
      "dict_keys(['application/javascript', 'text/plain'])\n",
      "dict_keys(['text/html', 'text/plain'])\n",
      "dict_keys(['text/html', 'text/plain'])\n"
     ]
    },
    {
     "name": "stderr",
     "output_type": "stream",
     "text": [
      "127.0.0.1 - - [23/Nov/2021 00:57:10] \"\u001b[33mGET /favicon.ico HTTP/1.1\u001b[0m\" 404 -\n",
      "127.0.0.1 - - [23/Nov/2021 00:57:20] \"GET / HTTP/1.1\" 200 -\n"
     ]
    },
    {
     "name": "stdout",
     "output_type": "stream",
     "text": [
      "dict_keys(['text/html', 'text/plain'])\n",
      "dict_keys(['text/html', 'text/plain'])\n",
      "dict_keys(['application/javascript', 'text/plain'])\n",
      "dict_keys(['application/javascript', 'text/plain'])\n",
      "dict_keys(['application/javascript', 'text/plain'])\n",
      "dict_keys(['application/javascript', 'text/plain'])\n",
      "dict_keys(['application/javascript', 'text/plain'])\n",
      "dict_keys(['application/javascript', 'text/plain'])\n",
      "dict_keys(['text/html', 'text/plain'])\n",
      "dict_keys(['text/html', 'text/plain'])\n"
     ]
    },
    {
     "name": "stderr",
     "output_type": "stream",
     "text": [
      "127.0.0.1 - - [23/Nov/2021 01:00:51] \"GET / HTTP/1.1\" 200 -\n"
     ]
    },
    {
     "name": "stdout",
     "output_type": "stream",
     "text": [
      "dict_keys(['text/html', 'text/plain'])\n",
      "dict_keys(['text/html', 'text/plain'])\n",
      "dict_keys(['application/javascript', 'text/plain'])\n",
      "dict_keys(['application/javascript', 'text/plain'])\n",
      "dict_keys(['application/javascript', 'text/plain'])\n",
      "dict_keys(['application/javascript', 'text/plain'])\n",
      "dict_keys(['application/javascript', 'text/plain'])\n",
      "dict_keys(['application/javascript', 'text/plain'])\n",
      "dict_keys(['application/javascript', 'text/plain'])\n",
      "dict_keys(['text/html', 'text/plain'])\n",
      "dict_keys(['text/html', 'text/plain'])\n"
     ]
    },
    {
     "name": "stderr",
     "output_type": "stream",
     "text": [
      "127.0.0.1 - - [23/Nov/2021 01:03:06] \"GET / HTTP/1.1\" 200 -\n"
     ]
    },
    {
     "name": "stdout",
     "output_type": "stream",
     "text": [
      "dict_keys(['text/html', 'text/plain'])\n",
      "dict_keys(['text/html', 'text/plain'])\n",
      "dict_keys(['application/javascript', 'text/plain'])\n",
      "dict_keys(['application/javascript', 'text/plain'])\n",
      "dict_keys(['application/javascript', 'text/plain'])\n",
      "dict_keys(['application/javascript', 'text/plain'])\n",
      "dict_keys(['application/javascript', 'text/plain'])\n",
      "dict_keys(['application/javascript', 'text/plain'])\n",
      "dict_keys(['application/javascript', 'text/plain'])\n",
      "dict_keys(['text/html', 'text/plain'])\n",
      "dict_keys(['text/html', 'text/plain'])\n"
     ]
    },
    {
     "name": "stderr",
     "output_type": "stream",
     "text": [
      "127.0.0.1 - - [23/Nov/2021 01:03:18] \"GET / HTTP/1.1\" 200 -\n"
     ]
    },
    {
     "name": "stdout",
     "output_type": "stream",
     "text": [
      "dict_keys(['text/html', 'text/plain'])\n",
      "dict_keys(['text/html', 'text/plain'])\n",
      "dict_keys(['application/javascript', 'text/plain'])\n",
      "dict_keys(['application/javascript', 'text/plain'])\n",
      "dict_keys(['application/javascript', 'text/plain'])\n",
      "dict_keys(['application/javascript', 'text/plain'])\n",
      "dict_keys(['application/javascript', 'text/plain'])\n",
      "dict_keys(['application/javascript', 'text/plain'])\n",
      "dict_keys(['application/javascript', 'text/plain'])\n",
      "dict_keys(['text/html', 'text/plain'])\n",
      "dict_keys(['text/html', 'text/plain'])\n"
     ]
    },
    {
     "name": "stderr",
     "output_type": "stream",
     "text": [
      "127.0.0.1 - - [23/Nov/2021 01:03:25] \"GET / HTTP/1.1\" 200 -\n"
     ]
    },
    {
     "name": "stdout",
     "output_type": "stream",
     "text": [
      "dict_keys(['text/html', 'text/plain'])\n",
      "dict_keys(['text/html', 'text/plain'])\n",
      "dict_keys(['application/javascript', 'text/plain'])\n",
      "dict_keys(['application/javascript', 'text/plain'])\n",
      "dict_keys(['application/javascript', 'text/plain'])\n",
      "dict_keys(['application/javascript', 'text/plain'])\n",
      "dict_keys(['application/javascript', 'text/plain'])\n",
      "dict_keys(['application/javascript', 'text/plain'])\n",
      "dict_keys(['application/javascript', 'text/plain'])\n",
      "dict_keys(['text/html', 'text/plain'])\n",
      "dict_keys(['text/html', 'text/plain'])\n"
     ]
    },
    {
     "name": "stderr",
     "output_type": "stream",
     "text": [
      "127.0.0.1 - - [23/Nov/2021 01:03:41] \"GET / HTTP/1.1\" 200 -\n"
     ]
    },
    {
     "name": "stdout",
     "output_type": "stream",
     "text": [
      "dict_keys(['text/html', 'text/plain'])\n",
      "dict_keys(['text/html', 'text/plain'])\n",
      "dict_keys(['application/javascript', 'text/plain'])\n",
      "dict_keys(['application/javascript', 'text/plain'])\n",
      "dict_keys(['application/javascript', 'text/plain'])\n",
      "dict_keys(['application/javascript', 'text/plain'])\n",
      "dict_keys(['application/javascript', 'text/plain'])\n",
      "dict_keys(['application/javascript', 'text/plain'])\n",
      "dict_keys(['application/javascript', 'text/plain'])\n",
      "dict_keys(['text/html', 'text/plain'])\n",
      "dict_keys(['text/html', 'text/plain'])\n"
     ]
    },
    {
     "name": "stderr",
     "output_type": "stream",
     "text": [
      "127.0.0.1 - - [23/Nov/2021 01:05:44] \"GET / HTTP/1.1\" 200 -\n"
     ]
    },
    {
     "name": "stdout",
     "output_type": "stream",
     "text": [
      "dict_keys(['text/html', 'text/plain'])\n",
      "dict_keys(['text/html', 'text/plain'])\n",
      "dict_keys(['application/javascript', 'text/plain'])\n",
      "dict_keys(['application/javascript', 'text/plain'])\n",
      "dict_keys(['application/javascript', 'text/plain'])\n",
      "dict_keys(['application/javascript', 'text/plain'])\n",
      "dict_keys(['application/javascript', 'text/plain'])\n",
      "dict_keys(['application/javascript', 'text/plain'])\n",
      "dict_keys(['application/javascript', 'text/plain'])\n",
      "dict_keys(['text/html', 'text/plain'])\n",
      "dict_keys(['text/html', 'text/plain'])\n"
     ]
    },
    {
     "name": "stderr",
     "output_type": "stream",
     "text": [
      "127.0.0.1 - - [23/Nov/2021 01:06:54] \"GET / HTTP/1.1\" 200 -\n"
     ]
    },
    {
     "name": "stdout",
     "output_type": "stream",
     "text": [
      "dict_keys(['text/html', 'text/plain'])\n",
      "dict_keys(['text/html', 'text/plain'])\n",
      "dict_keys(['application/javascript', 'text/plain'])\n",
      "dict_keys(['application/javascript', 'text/plain'])\n",
      "dict_keys(['application/javascript', 'text/plain'])\n",
      "dict_keys(['application/javascript', 'text/plain'])\n",
      "dict_keys(['application/javascript', 'text/plain'])\n",
      "dict_keys(['application/javascript', 'text/plain'])\n",
      "dict_keys(['application/javascript', 'text/plain'])\n",
      "dict_keys(['text/html', 'text/plain'])\n",
      "dict_keys(['text/html', 'text/plain'])\n"
     ]
    },
    {
     "name": "stderr",
     "output_type": "stream",
     "text": [
      "127.0.0.1 - - [23/Nov/2021 01:06:55] \"\u001b[33mGET /favicon.ico HTTP/1.1\u001b[0m\" 404 -\n",
      "127.0.0.1 - - [23/Nov/2021 01:07:13] \"GET / HTTP/1.1\" 200 -\n"
     ]
    },
    {
     "name": "stdout",
     "output_type": "stream",
     "text": [
      "dict_keys(['text/html', 'text/plain'])\n",
      "dict_keys(['text/html', 'text/plain'])\n",
      "dict_keys(['application/javascript', 'text/plain'])\n",
      "dict_keys(['application/javascript', 'text/plain'])\n",
      "dict_keys(['application/javascript', 'text/plain'])\n",
      "dict_keys(['application/javascript', 'text/plain'])\n",
      "dict_keys(['application/javascript', 'text/plain'])\n",
      "dict_keys(['application/javascript', 'text/plain'])\n",
      "dict_keys(['application/javascript', 'text/plain'])\n",
      "dict_keys(['text/html', 'text/plain'])\n",
      "dict_keys(['text/html', 'text/plain'])\n"
     ]
    },
    {
     "name": "stderr",
     "output_type": "stream",
     "text": [
      "127.0.0.1 - - [23/Nov/2021 01:07:23] \"GET / HTTP/1.1\" 200 -\n"
     ]
    },
    {
     "name": "stdout",
     "output_type": "stream",
     "text": [
      "dict_keys(['text/html', 'text/plain'])\n",
      "dict_keys(['text/html', 'text/plain'])\n",
      "dict_keys(['application/javascript', 'text/plain'])\n",
      "dict_keys(['application/javascript', 'text/plain'])\n",
      "dict_keys(['application/javascript', 'text/plain'])\n",
      "dict_keys(['application/javascript', 'text/plain'])\n",
      "dict_keys(['application/javascript', 'text/plain'])\n",
      "dict_keys(['application/javascript', 'text/plain'])\n",
      "dict_keys(['application/javascript', 'text/plain'])\n",
      "dict_keys(['text/html', 'text/plain'])\n",
      "dict_keys(['text/html', 'text/plain'])\n"
     ]
    },
    {
     "name": "stderr",
     "output_type": "stream",
     "text": [
      "127.0.0.1 - - [23/Nov/2021 01:07:24] \"\u001b[33mGET /favicon.ico HTTP/1.1\u001b[0m\" 404 -\n",
      "127.0.0.1 - - [23/Nov/2021 01:08:33] \"GET / HTTP/1.1\" 200 -\n"
     ]
    },
    {
     "name": "stdout",
     "output_type": "stream",
     "text": [
      "dict_keys(['text/html', 'text/plain'])\n",
      "dict_keys(['text/html', 'text/plain'])\n",
      "dict_keys(['application/javascript', 'text/plain'])\n",
      "dict_keys(['application/javascript', 'text/plain'])\n",
      "dict_keys(['application/javascript', 'text/plain'])\n",
      "dict_keys(['application/javascript', 'text/plain'])\n",
      "dict_keys(['application/javascript', 'text/plain'])\n",
      "dict_keys(['application/javascript', 'text/plain'])\n",
      "dict_keys(['application/javascript', 'text/plain'])\n",
      "dict_keys(['text/html', 'text/plain'])\n",
      "dict_keys(['text/html', 'text/plain'])\n"
     ]
    },
    {
     "name": "stderr",
     "output_type": "stream",
     "text": [
      "127.0.0.1 - - [23/Nov/2021 01:09:24] \"GET / HTTP/1.0\" 200 -\n"
     ]
    },
    {
     "name": "stdout",
     "output_type": "stream",
     "text": [
      "dict_keys(['text/html', 'text/plain'])\n",
      "dict_keys(['text/html', 'text/plain'])\n",
      "dict_keys(['application/javascript', 'text/plain'])\n",
      "dict_keys(['application/javascript', 'text/plain'])\n",
      "dict_keys(['application/javascript', 'text/plain'])\n",
      "dict_keys(['application/javascript', 'text/plain'])\n",
      "dict_keys(['application/javascript', 'text/plain'])\n",
      "dict_keys(['application/javascript', 'text/plain'])\n",
      "dict_keys(['application/javascript', 'text/plain'])\n",
      "dict_keys(['text/html', 'text/plain'])\n",
      "dict_keys(['text/html', 'text/plain'])\n"
     ]
    },
    {
     "name": "stderr",
     "output_type": "stream",
     "text": [
      "127.0.0.1 - - [23/Nov/2021 01:11:19] \"GET / HTTP/1.1\" 200 -\n"
     ]
    },
    {
     "name": "stdout",
     "output_type": "stream",
     "text": [
      "dict_keys(['text/html', 'text/plain'])\n",
      "dict_keys(['text/html', 'text/plain'])\n",
      "dict_keys(['application/javascript', 'text/plain'])\n",
      "dict_keys(['application/javascript', 'text/plain'])\n",
      "dict_keys(['application/javascript', 'text/plain'])\n",
      "dict_keys(['application/javascript', 'text/plain'])\n",
      "dict_keys(['application/javascript', 'text/plain'])\n",
      "dict_keys(['application/javascript', 'text/plain'])\n",
      "dict_keys(['application/javascript', 'text/plain'])\n",
      "dict_keys(['text/html', 'text/plain'])\n",
      "dict_keys(['text/html', 'text/plain'])\n"
     ]
    },
    {
     "name": "stderr",
     "output_type": "stream",
     "text": [
      "127.0.0.1 - - [23/Nov/2021 01:11:20] \"\u001b[33mGET /favicon.ico HTTP/1.1\u001b[0m\" 404 -\n",
      "127.0.0.1 - - [23/Nov/2021 01:11:46] \"GET / HTTP/1.1\" 200 -\n"
     ]
    },
    {
     "name": "stdout",
     "output_type": "stream",
     "text": [
      "dict_keys(['text/html', 'text/plain'])\n",
      "dict_keys(['text/html', 'text/plain'])\n",
      "dict_keys(['application/javascript', 'text/plain'])\n",
      "dict_keys(['application/javascript', 'text/plain'])\n",
      "dict_keys(['application/javascript', 'text/plain'])\n",
      "dict_keys(['application/javascript', 'text/plain'])\n",
      "dict_keys(['application/javascript', 'text/plain'])\n",
      "dict_keys(['application/javascript', 'text/plain'])\n",
      "dict_keys(['application/javascript', 'text/plain'])\n",
      "dict_keys(['text/html', 'text/plain'])\n",
      "dict_keys(['text/html', 'text/plain'])\n"
     ]
    },
    {
     "name": "stderr",
     "output_type": "stream",
     "text": [
      "127.0.0.1 - - [23/Nov/2021 01:12:35] \"GET / HTTP/1.1\" 200 -\n"
     ]
    },
    {
     "name": "stdout",
     "output_type": "stream",
     "text": [
      "dict_keys(['text/html', 'text/plain'])\n",
      "dict_keys(['text/html', 'text/plain'])\n",
      "dict_keys(['application/javascript', 'text/plain'])\n",
      "dict_keys(['application/javascript', 'text/plain'])\n",
      "dict_keys(['application/javascript', 'text/plain'])\n",
      "dict_keys(['application/javascript', 'text/plain'])\n",
      "dict_keys(['application/javascript', 'text/plain'])\n",
      "dict_keys(['application/javascript', 'text/plain'])\n",
      "dict_keys(['application/javascript', 'text/plain'])\n",
      "dict_keys(['application/javascript', 'text/plain'])\n",
      "dict_keys(['text/html', 'text/plain'])\n",
      "dict_keys(['text/html', 'text/plain'])\n"
     ]
    },
    {
     "name": "stderr",
     "output_type": "stream",
     "text": [
      "127.0.0.1 - - [23/Nov/2021 01:13:42] \"GET / HTTP/1.1\" 200 -\n"
     ]
    },
    {
     "name": "stdout",
     "output_type": "stream",
     "text": [
      "dict_keys(['text/html', 'text/plain'])\n",
      "dict_keys(['text/html', 'text/plain'])\n",
      "dict_keys(['application/javascript', 'text/plain'])\n",
      "dict_keys(['application/javascript', 'text/plain'])\n",
      "dict_keys(['application/javascript', 'text/plain'])\n",
      "dict_keys(['application/javascript', 'text/plain'])\n",
      "dict_keys(['application/javascript', 'text/plain'])\n",
      "dict_keys(['application/javascript', 'text/plain'])\n",
      "dict_keys(['application/javascript', 'text/plain'])\n",
      "dict_keys(['application/javascript', 'text/plain'])\n",
      "dict_keys(['text/html', 'text/plain'])\n",
      "dict_keys(['text/html', 'text/plain'])\n"
     ]
    },
    {
     "name": "stderr",
     "output_type": "stream",
     "text": [
      "127.0.0.1 - - [23/Nov/2021 01:15:23] \"GET / HTTP/1.1\" 200 -\n"
     ]
    },
    {
     "name": "stdout",
     "output_type": "stream",
     "text": [
      "dict_keys(['text/html', 'text/plain'])\n",
      "dict_keys(['text/html', 'text/plain'])\n",
      "dict_keys(['application/javascript', 'text/plain'])\n",
      "dict_keys(['application/javascript', 'text/plain'])\n",
      "dict_keys(['application/javascript', 'text/plain'])\n",
      "dict_keys(['application/javascript', 'text/plain'])\n",
      "dict_keys(['application/javascript', 'text/plain'])\n",
      "dict_keys(['application/javascript', 'text/plain'])\n",
      "dict_keys(['application/javascript', 'text/plain'])\n",
      "dict_keys(['application/javascript', 'text/plain'])\n",
      "dict_keys(['application/javascript', 'text/plain'])\n",
      "dict_keys(['text/html', 'text/plain'])\n",
      "dict_keys(['text/html', 'text/plain'])\n"
     ]
    },
    {
     "name": "stderr",
     "output_type": "stream",
     "text": [
      "127.0.0.1 - - [23/Nov/2021 01:15:24] \"\u001b[33mGET /favicon.ico HTTP/1.1\u001b[0m\" 404 -\n",
      "127.0.0.1 - - [23/Nov/2021 01:16:03] \"GET / HTTP/1.1\" 200 -\n"
     ]
    },
    {
     "name": "stdout",
     "output_type": "stream",
     "text": [
      "dict_keys(['text/html', 'text/plain'])\n",
      "dict_keys(['text/html', 'text/plain'])\n",
      "dict_keys(['application/javascript', 'text/plain'])\n",
      "dict_keys(['application/javascript', 'text/plain'])\n",
      "dict_keys(['application/javascript', 'text/plain'])\n",
      "dict_keys(['application/javascript', 'text/plain'])\n",
      "dict_keys(['application/javascript', 'text/plain'])\n",
      "dict_keys(['application/javascript', 'text/plain'])\n",
      "dict_keys(['application/javascript', 'text/plain'])\n",
      "dict_keys(['application/javascript', 'text/plain'])\n",
      "dict_keys(['application/javascript', 'text/plain'])\n",
      "dict_keys(['text/html', 'text/plain'])\n",
      "dict_keys(['text/html', 'text/plain'])\n"
     ]
    },
    {
     "name": "stderr",
     "output_type": "stream",
     "text": [
      "127.0.0.1 - - [23/Nov/2021 01:17:00] \"GET / HTTP/1.1\" 200 -\n"
     ]
    },
    {
     "name": "stdout",
     "output_type": "stream",
     "text": [
      "dict_keys(['text/html', 'text/plain'])\n",
      "dict_keys(['text/html', 'text/plain'])\n",
      "dict_keys(['application/javascript', 'text/plain'])\n",
      "dict_keys(['application/javascript', 'text/plain'])\n",
      "dict_keys(['application/javascript', 'text/plain'])\n",
      "dict_keys(['application/javascript', 'text/plain'])\n",
      "dict_keys(['application/javascript', 'text/plain'])\n",
      "dict_keys(['application/javascript', 'text/plain'])\n",
      "dict_keys(['application/javascript', 'text/plain'])\n",
      "dict_keys(['application/javascript', 'text/plain'])\n",
      "dict_keys(['application/javascript', 'text/plain'])\n",
      "dict_keys(['text/html', 'text/plain'])\n",
      "dict_keys(['text/html', 'text/plain'])\n"
     ]
    },
    {
     "name": "stderr",
     "output_type": "stream",
     "text": [
      "127.0.0.1 - - [23/Nov/2021 01:17:49] \"GET / HTTP/1.1\" 200 -\n"
     ]
    },
    {
     "name": "stdout",
     "output_type": "stream",
     "text": [
      "dict_keys(['text/html', 'text/plain'])\n",
      "dict_keys(['text/html', 'text/plain'])\n",
      "dict_keys(['application/javascript', 'text/plain'])\n",
      "dict_keys(['application/javascript', 'text/plain'])\n",
      "dict_keys(['application/javascript', 'text/plain'])\n",
      "dict_keys(['application/javascript', 'text/plain'])\n",
      "dict_keys(['application/javascript', 'text/plain'])\n",
      "dict_keys(['application/javascript', 'text/plain'])\n",
      "dict_keys(['application/javascript', 'text/plain'])\n",
      "dict_keys(['application/javascript', 'text/plain'])\n",
      "dict_keys(['application/javascript', 'text/plain'])\n",
      "dict_keys(['text/html', 'text/plain'])\n",
      "dict_keys(['text/html', 'text/plain'])\n"
     ]
    },
    {
     "name": "stderr",
     "output_type": "stream",
     "text": [
      "127.0.0.1 - - [23/Nov/2021 01:17:50] \"\u001b[33mGET /favicon.ico HTTP/1.1\u001b[0m\" 404 -\n",
      "127.0.0.1 - - [23/Nov/2021 01:19:17] \"GET / HTTP/1.1\" 200 -\n"
     ]
    },
    {
     "name": "stdout",
     "output_type": "stream",
     "text": [
      "dict_keys(['text/html', 'text/plain'])\n",
      "dict_keys(['text/html', 'text/plain'])\n",
      "dict_keys(['application/javascript', 'text/plain'])\n",
      "dict_keys(['application/javascript', 'text/plain'])\n",
      "dict_keys(['application/javascript', 'text/plain'])\n",
      "dict_keys(['application/javascript', 'text/plain'])\n",
      "dict_keys(['application/javascript', 'text/plain'])\n",
      "dict_keys(['application/javascript', 'text/plain'])\n",
      "dict_keys(['application/javascript', 'text/plain'])\n",
      "dict_keys(['text/html', 'text/plain'])\n",
      "dict_keys(['text/html', 'text/plain'])\n"
     ]
    },
    {
     "name": "stderr",
     "output_type": "stream",
     "text": [
      "127.0.0.1 - - [23/Nov/2021 01:19:18] \"\u001b[33mGET /favicon.ico HTTP/1.1\u001b[0m\" 404 -\n",
      "127.0.0.1 - - [23/Nov/2021 01:19:32] \"GET / HTTP/1.1\" 200 -\n"
     ]
    },
    {
     "name": "stdout",
     "output_type": "stream",
     "text": [
      "dict_keys(['text/html', 'text/plain'])\n",
      "dict_keys(['text/html', 'text/plain'])\n",
      "dict_keys(['application/javascript', 'text/plain'])\n",
      "dict_keys(['application/javascript', 'text/plain'])\n",
      "dict_keys(['application/javascript', 'text/plain'])\n",
      "dict_keys(['application/javascript', 'text/plain'])\n",
      "dict_keys(['application/javascript', 'text/plain'])\n",
      "dict_keys(['application/javascript', 'text/plain'])\n",
      "dict_keys(['application/javascript', 'text/plain'])\n",
      "dict_keys(['text/html', 'text/plain'])\n",
      "dict_keys(['text/html', 'text/plain'])\n"
     ]
    },
    {
     "name": "stderr",
     "output_type": "stream",
     "text": [
      "127.0.0.1 - - [23/Nov/2021 01:19:32] \"\u001b[33mGET /favicon.ico HTTP/1.1\u001b[0m\" 404 -\n",
      "127.0.0.1 - - [23/Nov/2021 01:23:59] \"GET / HTTP/1.1\" 200 -\n"
     ]
    },
    {
     "name": "stdout",
     "output_type": "stream",
     "text": [
      "dict_keys(['text/html', 'text/plain'])\n",
      "dict_keys(['text/html', 'text/plain'])\n",
      "dict_keys(['application/javascript', 'text/plain'])\n",
      "dict_keys(['application/javascript', 'text/plain'])\n",
      "dict_keys(['application/javascript', 'text/plain'])\n",
      "dict_keys(['application/javascript', 'text/plain'])\n",
      "dict_keys(['application/javascript', 'text/plain'])\n",
      "dict_keys(['application/javascript', 'text/plain'])\n",
      "dict_keys(['application/javascript', 'text/plain'])\n",
      "dict_keys(['text/html', 'text/plain'])\n",
      "dict_keys(['text/html', 'text/plain'])\n",
      "dict_keys(['text/html', 'text/plain'])\n"
     ]
    },
    {
     "name": "stderr",
     "output_type": "stream",
     "text": [
      "127.0.0.1 - - [23/Nov/2021 01:24:00] \"\u001b[33mGET /favicon.ico HTTP/1.1\u001b[0m\" 404 -\n",
      "127.0.0.1 - - [23/Nov/2021 01:24:26] \"GET / HTTP/1.1\" 200 -\n"
     ]
    },
    {
     "name": "stdout",
     "output_type": "stream",
     "text": [
      "dict_keys(['text/html', 'text/plain'])\n",
      "dict_keys(['text/html', 'text/plain'])\n",
      "dict_keys(['application/javascript', 'text/plain'])\n",
      "dict_keys(['application/javascript', 'text/plain'])\n",
      "dict_keys(['application/javascript', 'text/plain'])\n",
      "dict_keys(['application/javascript', 'text/plain'])\n",
      "dict_keys(['application/javascript', 'text/plain'])\n",
      "dict_keys(['application/javascript', 'text/plain'])\n",
      "dict_keys(['application/javascript', 'text/plain'])\n",
      "dict_keys(['text/html', 'text/plain'])\n",
      "dict_keys(['text/html', 'text/plain'])\n",
      "dict_keys(['text/html', 'text/plain'])\n"
     ]
    },
    {
     "name": "stderr",
     "output_type": "stream",
     "text": [
      "127.0.0.1 - - [23/Nov/2021 01:24:27] \"\u001b[33mGET /favicon.ico HTTP/1.1\u001b[0m\" 404 -\n",
      "127.0.0.1 - - [23/Nov/2021 01:24:34] \"GET / HTTP/1.1\" 200 -\n"
     ]
    },
    {
     "name": "stdout",
     "output_type": "stream",
     "text": [
      "dict_keys(['text/html', 'text/plain'])\n",
      "dict_keys(['text/html', 'text/plain'])\n",
      "dict_keys(['application/javascript', 'text/plain'])\n",
      "dict_keys(['application/javascript', 'text/plain'])\n",
      "dict_keys(['application/javascript', 'text/plain'])\n",
      "dict_keys(['application/javascript', 'text/plain'])\n",
      "dict_keys(['application/javascript', 'text/plain'])\n",
      "dict_keys(['application/javascript', 'text/plain'])\n",
      "dict_keys(['application/javascript', 'text/plain'])\n",
      "dict_keys(['text/html', 'text/plain'])\n",
      "dict_keys(['text/html', 'text/plain'])\n",
      "dict_keys(['text/html', 'text/plain'])\n"
     ]
    },
    {
     "name": "stderr",
     "output_type": "stream",
     "text": [
      "127.0.0.1 - - [23/Nov/2021 01:24:35] \"\u001b[33mGET /favicon.ico HTTP/1.1\u001b[0m\" 404 -\n",
      "127.0.0.1 - - [23/Nov/2021 01:24:45] \"GET / HTTP/1.1\" 200 -\n"
     ]
    },
    {
     "name": "stdout",
     "output_type": "stream",
     "text": [
      "dict_keys(['text/html', 'text/plain'])\n",
      "dict_keys(['text/html', 'text/plain'])\n",
      "dict_keys(['application/javascript', 'text/plain'])\n",
      "dict_keys(['application/javascript', 'text/plain'])\n",
      "dict_keys(['application/javascript', 'text/plain'])\n",
      "dict_keys(['application/javascript', 'text/plain'])\n",
      "dict_keys(['application/javascript', 'text/plain'])\n",
      "dict_keys(['application/javascript', 'text/plain'])\n",
      "dict_keys(['application/javascript', 'text/plain'])\n",
      "dict_keys(['text/html', 'text/plain'])\n",
      "dict_keys(['text/html', 'text/plain'])\n"
     ]
    },
    {
     "name": "stderr",
     "output_type": "stream",
     "text": [
      "127.0.0.1 - - [23/Nov/2021 01:24:46] \"\u001b[33mGET /favicon.ico HTTP/1.1\u001b[0m\" 404 -\n"
     ]
    }
   ],
   "source": [
    "app.run()"
   ]
  },
  {
   "cell_type": "code",
   "execution_count": null,
   "metadata": {},
   "outputs": [],
   "source": [
    "  # Get version number using the localstorage. \n",
    "  # v = requests.get( 'https://charleskarpati.com/version.php', ).json()\n",
    "  # location = f'index{v}.html'\n",
    "  # print('\\n \\n LOCATION: ', location)\n",
    "  # return getHtml(location)"
   ]
  }
 ],
 "metadata": {
  "interpreter": {
   "hash": "4f946df053fbf2b937619d3c5458e7af74262f9a954d8797ba0b27400bcafe06"
  },
  "kernelspec": {
   "display_name": "Python 3.8.6 64-bit",
   "language": "python",
   "name": "python3"
  },
  "language_info": {
   "codemirror_mode": {
    "name": "ipython",
    "version": 3
   },
   "file_extension": ".py",
   "mimetype": "text/x-python",
   "name": "python",
   "nbconvert_exporter": "python",
   "pygments_lexer": "ipython3",
   "version": "3.8.10"
  },
  "orig_nbformat": 4
 },
 "nbformat": 4,
 "nbformat_minor": 2
}

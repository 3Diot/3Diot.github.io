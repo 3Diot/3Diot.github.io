{
 "cells": [
  {
   "cell_type": "code",
   "execution_count": 1,
   "metadata": {},
   "outputs": [],
   "source": [
    "# nbdev_build_lib\n",
    "# nbdev_build_docs"
   ]
  },
  {
   "cell_type": "code",
   "execution_count": 2,
   "metadata": {},
   "outputs": [
    {
     "name": "stdout",
     "output_type": "stream",
     "text": [
      "Defaulting to user installation because normal site-packages is not writeable\n",
      "Requirement already satisfied: marko in /home/codespace/.local/lib/python3.8/site-packages (1.1.0)\n",
      "Requirement already satisfied: flask in /home/codespace/.local/lib/python3.8/site-packages (2.0.2)\n",
      "Requirement already satisfied: click>=7.1.2 in /home/codespace/.local/lib/python3.8/site-packages (from flask) (8.0.3)\n",
      "Requirement already satisfied: itsdangerous>=2.0 in /home/codespace/.local/lib/python3.8/site-packages (from flask) (2.0.1)\n",
      "Requirement already satisfied: Jinja2>=3.0 in /home/codespace/.local/lib/python3.8/site-packages (from flask) (3.0.3)\n",
      "Requirement already satisfied: Werkzeug>=2.0 in /home/codespace/.local/lib/python3.8/site-packages (from flask) (2.0.2)\n",
      "Requirement already satisfied: MarkupSafe>=2.0 in /home/codespace/.local/lib/python3.8/site-packages (from Jinja2>=3.0->flask) (2.0.1)\n",
      "\u001b[33mWARNING: You are using pip version 21.2.4; however, version 21.3.1 is available.\n",
      "You should consider upgrading via the '/usr/bin/python3 -m pip install --upgrade pip' command.\u001b[0m\n"
     ]
    }
   ],
   "source": [
    "#hide \n",
    "!pip install marko flask"
   ]
  },
  {
   "cell_type": "code",
   "execution_count": 3,
   "metadata": {},
   "outputs": [],
   "source": [
    "#hide \n",
    "import sys\n",
    "sys.path.append('/workspaces/3Diot.github.io/blog/')"
   ]
  },
  {
   "cell_type": "code",
   "execution_count": 4,
   "metadata": {},
   "outputs": [],
   "source": [
    "#hide \n",
    "from blog import core\n",
    "# from blog.core import *"
   ]
  },
  {
   "cell_type": "code",
   "execution_count": 5,
   "metadata": {},
   "outputs": [
    {
     "name": "stdout",
     "output_type": "stream",
     "text": [
      "/workspaces/3Diot.github.io/blog/notebooks\n"
     ]
    }
   ],
   "source": [
    "cd ../notebooks"
   ]
  },
  {
   "cell_type": "code",
   "execution_count": 6,
   "metadata": {},
   "outputs": [
    {
     "name": "stdout",
     "output_type": "stream",
     "text": [
      "000_core.ipynb        003_CV_Guestbook.ipynb  \u001b[0m\u001b[34;42mdatasets\u001b[0m/\n",
      "001_core_test.ipynb   003_CV_Misc.ipynb       index.ipynb\n",
      "001b_core_test.ipynb  005_CV.ipynb            pivottablejs.html\n",
      "002_CV.ipynb          _devserver.ipynb\n"
     ]
    }
   ],
   "source": [
    "ls"
   ]
  },
  {
   "cell_type": "code",
   "execution_count": 7,
   "metadata": {},
   "outputs": [],
   "source": [
    "from flask import Flask\n",
    "import re\n",
    "app = Flask(__name__)\n",
    "\n",
    "@app.route(\"/\")\n",
    "def homepage():\n",
    "  sys.path.pop()\n",
    "  sys.path.append('/workspaces/3Diot.github.io/blog/')\n",
    "  from blog import core\n",
    "  header = 'header'\n",
    "  footer = 'footer'\n",
    "  def template(title, x): return f'{header}{title}{x}{footer}'\n",
    "  def replace(txt): \n",
    "    # txt = txt.replace('<link rel=\"stylesheet\" type=\"text/css\" href=\"\">', '')\n",
    "    return txt\n",
    "  infilename = '002_CV' #'index.ipynb'\n",
    "  outp = core.runit(infilename+'.ipynb')\n",
    "  title = \"\".join(re.findall('[a-zA-Z][^a-zA-Z]*', 'index.ipynb'[:-6]))\n",
    "  resp = ''.join( [''.join(c) for c in outp] )\n",
    "  resp = replace(resp)\n",
    "  # resp = template( addAfterNav(title) , resp)\n",
    "  f = open(\"../docs/\"+infilename+\".html\", \"w\")\n",
    "  f.write(resp)\n",
    "  f.close()\n",
    "  return resp\n",
    "  # return \"<p>Hello, Worrrld!</p>\""
   ]
  },
  {
   "cell_type": "code",
   "execution_count": 8,
   "metadata": {},
   "outputs": [
    {
     "name": "stdout",
     "output_type": "stream",
     "text": [
      "000_core.ipynb        003_CV_Guestbook.ipynb  \u001b[0m\u001b[34;42mdatasets\u001b[0m/\n",
      "001_core_test.ipynb   003_CV_Misc.ipynb       index.ipynb\n",
      "001b_core_test.ipynb  005_CV.ipynb            pivottablejs.html\n",
      "002_CV.ipynb          _devserver.ipynb\n"
     ]
    }
   ],
   "source": [
    "ls"
   ]
  },
  {
   "cell_type": "code",
   "execution_count": 9,
   "metadata": {},
   "outputs": [
    {
     "name": "stdout",
     "output_type": "stream",
     "text": [
      " * Serving Flask app '__main__' (lazy loading)\n",
      " * Environment: production\n",
      "\u001b[31m   WARNING: This is a development server. Do not use it in a production deployment.\u001b[0m\n",
      "\u001b[2m   Use a production WSGI server instead.\u001b[0m\n",
      " * Debug mode: off\n"
     ]
    },
    {
     "name": "stderr",
     "output_type": "stream",
     "text": [
      " * Running on http://127.0.0.1:5000/ (Press CTRL+C to quit)\n",
      "127.0.0.1 - - [27/Nov/2021 04:56:06] \"GET / HTTP/1.1\" 200 -\n"
     ]
    },
    {
     "name": "stdout",
     "output_type": "stream",
     "text": [
      "dict_keys(['text/html', 'text/plain'])\n",
      "dict_keys(['text/html', 'text/plain'])\n",
      "dict_keys(['text/html', 'text/plain'])\n",
      "dict_keys(['text/html'])\n",
      "dict_keys(['text/html', 'text/plain'])\n",
      "dict_keys(['text/html'])\n",
      "dict_keys(['text/html', 'text/plain'])\n",
      "dict_keys(['text/html', 'text/plain'])\n",
      "dict_keys(['text/html', 'text/plain'])\n",
      "dict_keys(['text/html', 'text/plain'])\n"
     ]
    },
    {
     "name": "stderr",
     "output_type": "stream",
     "text": [
      "127.0.0.1 - - [27/Nov/2021 04:56:08] \"\u001b[33mGET /favicon.ico HTTP/1.1\u001b[0m\" 404 -\n"
     ]
    }
   ],
   "source": [
    "app.run()"
   ]
  },
  {
   "cell_type": "code",
   "execution_count": null,
   "metadata": {},
   "outputs": [],
   "source": [
    "  # Get version number using the localstorage. \n",
    "  # v = requests.get( 'https://charleskarpati.com/version.php', ).json()\n",
    "  # location = f'index{v}.html'\n",
    "  # print('\\n \\n LOCATION: ', location)\n",
    "  # return getHtml(location)"
   ]
  }
 ],
 "metadata": {
  "interpreter": {
   "hash": "4f946df053fbf2b937619d3c5458e7af74262f9a954d8797ba0b27400bcafe06"
  },
  "kernelspec": {
   "display_name": "Python 3.8.6 64-bit",
   "language": "python",
   "name": "python3"
  },
  "language_info": {
   "codemirror_mode": {
    "name": "ipython",
    "version": 3
   },
   "file_extension": ".py",
   "mimetype": "text/x-python",
   "name": "python",
   "nbconvert_exporter": "python",
   "pygments_lexer": "ipython3",
   "version": "3.8.10"
  },
  "orig_nbformat": 4
 },
 "nbformat": 4,
 "nbformat_minor": 2
}

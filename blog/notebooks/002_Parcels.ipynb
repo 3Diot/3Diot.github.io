{
 "cells": [
  {
   "cell_type": "markdown",
   "metadata": {},
   "source": [
    "# On Parcels\n",
    "> An introductory article to Cryptovoxels' Parcel Data\n",
    "\n",
    "- toc: true\n",
    "- title: Parcels\n",
    "- template: article\n",
    "- description: this isnt working\n",
    "- image: images/company_logo.png\n",
    "- keywords: thisworks\n",
    "- badges: true\n",
    "- comments: true\n",
    "- categories: [test]\n",
    "- hide: false\n",
    "- metadata_key1: metadata_value1\n",
    "- metadata_key2: metadata_value2"
   ]
  },
  {
   "cell_type": "markdown",
   "metadata": {},
   "source": [
    "I love freebies. In my opinion, guestbooks are the ticket to a bunch of em!\n",
    "\n",
    "So what's the best way to find em all?\n",
    "\n",
    "Perhaps the same way to find out a lot of really cool information... 🤔"
   ]
  },
  {
   "cell_type": "markdown",
   "metadata": {},
   "source": [
    "## Parcel Data"
   ]
  },
  {
   "cell_type": "code",
   "execution_count": null,
   "metadata": {},
   "outputs": [],
   "source": [
    "#hide \n",
    "!pip install matplotlib\n",
    "!pip install geopandas\n",
    "!pip install folium"
   ]
  },
  {
   "cell_type": "markdown",
   "metadata": {},
   "source": [
    "For starters CV provides generic data on ALL their [parcels](https://www.cryptovoxels.com/api/parcels/search.json)"
   ]
  },
  {
   "cell_type": "code",
   "execution_count": 1,
   "metadata": {},
   "outputs": [],
   "source": [
    "#hide \n",
    "import requests\n",
    "import json\n",
    "url = 'https://www.cryptovoxels.com/api/parcels/search.json'\n",
    "r = requests.get(url)\n",
    "data = json.loads(r.text)['parcels'] "
   ]
  },
  {
   "cell_type": "code",
   "execution_count": 6,
   "metadata": {},
   "outputs": [],
   "source": [
    "#hide \n",
    "import pandas as pd\n",
    "import geopandas as gpd\n",
    "gdf = { \"type\": \"FeatureCollection\", \"features\": [] }\n",
    "for obj in data:\n",
    "  feat = { \"type\": \"Feature\", \"geometry\": { \"type\": \"Polygon\", \"coordinates\": [ ] }, \"properties\": { } }\n",
    "  feat['geometry']['coordinates'] = obj['geometry']['coordinates'] \n",
    "  feat['properties'] = {key: obj[key] for key in obj if key not in ['x1','x2','y1','y2','z1','z2','geometry']}\n",
    "  gdf['features'].append(feat)  \n",
    "\n",
    "# What fresh hell have I done here?\n",
    "with open('../data/cv.geojson', 'w') as outfile: json.dump(gdf, outfile)\n",
    "\n",
    "gdf = gpd.read_file('../data/cv.geojson')\n",
    "gdf['id'] = gdf.id.astype(str) \n",
    "gdf['vol'] = gdf['area'] * gdf['height'] \n",
    "gdf.to_file(\"../data/cv.geojson\", driver='GeoJSON')"
   ]
  },
  {
   "cell_type": "code",
   "execution_count": 3,
   "metadata": {},
   "outputs": [],
   "source": [
    "import folium\n",
    "import branca\n",
    "import branca.colormap as cm\n",
    "from branca.colormap import linear"
   ]
  },
  {
   "cell_type": "code",
   "execution_count": 9,
   "metadata": {},
   "outputs": [],
   "source": [
    "# https://stackoverflow.com/questions/54595931/show-different-pop-ups-for-different-polygons-in-a-geojson-folium-python-ma\n",
    "# https://python-visualization.github.io/branca/colormap.html\n",
    "\n",
    "mymap = folium.Map(location=[0,0], tiles = 'https://map.cryptovoxels.com/tile?z={z}&x={x}&y={y}', attr=\"Map data &copy; Cryptovoxels\", zoom_start=10, control_scale=True)\n",
    "colormap = cm.LinearColormap(colors=['white', 'blue','green', 'yellow', 'orange', 'red'], caption=\"Parcel Volume\").to_step(data=gdf['vol'], method='quant', quantiles=[0,0.25,0.5,0.75,0.98, 0.999, 0.9999,1])\n",
    "style_function = lambda x: {\"weight\":0.5, 'color':'black', 'fillColor':colormap(x['properties']['vol']), 'fillOpacity':0.75}\n",
    "highlight_function = lambda x: {'fillColor': '#000000', 'color':'#000000', 'fillOpacity': 0.50, 'weight': 0.1}\n",
    "\n",
    "layer = folium.FeatureGroup(name='your layer name', show=False)\n",
    "temp_geojson = folium.GeoJson(gdf)\n",
    "for feature in temp_geojson.data['features']:  \n",
    "    innerHTML = '<b>'+str(feature['properties']['island'])+' - '+str(feature['properties']['suburb']) + '</b><br>'\n",
    "    innerHTML += '<b> Address - ' +str(feature['properties']['address']) + '</b><br>'\n",
    "    innerHTML += '<b> Height - ' +str(feature['properties']['height']) + '</b><br>'\n",
    "    innerHTML += '<b> Area - ' +str(feature['properties']['area']) + '</b><br>'\n",
    "    innerHTML += '<b> Volume - ' +str(feature['properties']['vol']) + '</b><br>'\n",
    "    temp_layer = folium.GeoJson(feature, style_function=style_function, highlight_function=highlight_function, tooltip=innerHTML) \n",
    "    foo = lambda txt, source: f\"\"\" <a id=\"popupIFrame\" width=\"600\" height=\"600\" align=\"center\" href=\"{source}\"> Visit </a><br>{txt}\"\"\"\n",
    "    folium.Popup( html=foo(innerHTML, f'https://www.cryptovoxels.com/parcels/{feature[\"properties\"][\"id\"]}') ).add_to(temp_layer)\n",
    "    temp_layer.add_to(layer)\n",
    "\n",
    "layer.add_to(mymap)\n",
    "colormap.add_to(mymap) \n",
    "mymap.save('../docs/maps/cv_vol_map.html')"
   ]
  },
  {
   "cell_type": "code",
   "execution_count": 6,
   "metadata": {},
   "outputs": [],
   "source": [
    "#hide \n",
    "# df = gdf[gdf['island'] == 'Scarcity'] # Only Scarcity Island \n",
    "# gdf[gdf['island']=='Scarcity']['island'].describe()\n",
    "# gdf[gdf['island']=='Scarcity'].plot()"
   ]
  },
  {
   "cell_type": "markdown",
   "metadata": {},
   "source": [
    "The data contains geocoordinates and a bit of meta data which can let us do fun stuff like this <a href=\"https://cvminigames.com/blog/docs/maps/cv_vol_map.html\"> map </a>."
   ]
  },
  {
   "cell_type": "markdown",
   "metadata": {},
   "source": [
    "Where: \n",
    "- Color depicts volume broke out by quartile.\n",
    "\n",
    "- And the top largest 2% and 1% of parcels painted orange and red, respectively."
   ]
  },
  {
   "cell_type": "code",
   "execution_count": 16,
   "metadata": {},
   "outputs": [
    {
     "data": {
      "text/html": [
       "<iframe height='500px' width='1000px' src=\"https://cvminigames.com/blog/docs/maps/cv_vol_map.html\"/>\n"
      ],
      "text/plain": [
       "<IPython.core.display.HTML object>"
      ]
     },
     "metadata": {},
     "output_type": "display_data"
    }
   ],
   "source": [
    "%%html\n",
    "<iframe height='500px' width='1000px' src=\"https://cvminigames.com/blog/docs/maps/cv_vol_map.html\"/>"
   ]
  },
  {
   "cell_type": "markdown",
   "metadata": {},
   "source": [
    "We can do other things like some light analysis. \n",
    "\n",
    "Here is a frequency plot of Flora Islands Volume (excluding it's outlier)"
   ]
  },
  {
   "cell_type": "code",
   "execution_count": 26,
   "metadata": {},
   "outputs": [
    {
     "data": {
      "text/plain": [
       "<AxesSubplot:ylabel='Frequency'>"
      ]
     },
     "execution_count": 26,
     "metadata": {},
     "output_type": "execute_result"
    },
    {
     "data": {
      "image/png": "[encoded data removed]",
      "text/plain": [
       "<Figure size 432x288 with 1 Axes>"
      ]
     },
     "metadata": {
      "needs_background": "light"
     },
     "output_type": "display_data"
    }
   ],
   "source": [
    "#hide_input \n",
    "t = gdf[gdf['island']=='Flora']\n",
    "q_low = t[\"vol\"].quantile(0.01)\n",
    "q_hi  = t[\"vol\"].quantile(0.99)\n",
    "t = t[(t[\"vol\"] < q_hi) & (t[\"vol\"] > q_low)]\n",
    "t['vol'].plot.hist(bins=20)"
   ]
  },
  {
   "cell_type": "markdown",
   "metadata": {},
   "source": [
    "Ok. So thats nice...\n",
    "\n",
    "I'll do more exploration on this end some time later...\n",
    "\n",
    "What else can we do?"
   ]
  },
  {
   "cell_type": "markdown",
   "metadata": {},
   "source": [
    "## Filtering Parcels"
   ]
  },
  {
   "cell_type": "markdown",
   "metadata": {},
   "source": [
    "Information about a specific parcel is available by adding it's parcel # to the end of the following url: https://www.cryptovoxels.com/api/parcels/  \n",
    "\n",
    "This data can then be filtered en-mass to search for certain properties, or inspected individually."
   ]
  },
  {
   "cell_type": "code",
   "execution_count": null,
   "metadata": {},
   "outputs": [],
   "source": [
    "#hide\n",
    "# This code will save each parcel featurelist\n",
    "\n",
    "import requests\n",
    "import json\n",
    "t = \"\"\"\n",
    "deets = []\n",
    "for index, row in df.tail(200).iterrows():\n",
    "  url = 'https://www.cryptovoxels.com/api/parcels/'+str(row['id'])+'.json' \n",
    "  r = requests.get(url)\n",
    "  data = json.loads(r.text) \n",
    "  with open('./parcels/'+str(row['id'])+'.json', 'w') as file:\n",
    "    json.dump(data, file)\n",
    "  print(row['id'])\n",
    "\"\"\""
   ]
  },
  {
   "cell_type": "code",
   "execution_count": null,
   "metadata": {},
   "outputs": [],
   "source": [
    "#hide \n",
    "import json\n",
    "from shapely.geometry import Polygon\n",
    "pd.options.display.max_colwidth = 500\n",
    "deets = []\n",
    "# read in each record\n",
    "for index, row in gdf.iterrows():\n",
    "  url = '../data/parcels/'+str(row['id'])+'.json'\n",
    "  data = ''\n",
    "  # Check for a guestbook\n",
    "  with open(url, 'r') as j: data = json.loads(j.read())['parcel']  \n",
    "  if data['content']  == None: continue \n",
    "  if 'features' not in data['content']: continue \n",
    "  # SKIPS OVER PARCELS WITH NO FEATURES\n",
    "\n",
    "  newobj = {key: data[key] for key in data if key not in ['x1','x2','y1','y2','z1','z2','token','visible','geometry', 'streets', 'voxels', 'content', 'price', 'is_common']} \n",
    "  c = data['geometry']['coordinates'][0];\n",
    "  newobj['geometry'] = Polygon( [[c[0][0], c[0][1]], [c[1][0], c[1][1]], [c[2][0], c[2][1]], [c[3][0], c[3][1]] ] )\n",
    "\n",
    "  # Multiply centroid's x and y by 100\n",
    "  centroid = newobj['geometry'].centroid   \n",
    "  x = centroid.x * 100; x = str(x)[:5]+'E'; x = x.replace('.', '');\n",
    "  y = centroid.y * 100; y = str(y)[:5]+'N'; y = y.replace('.', '');\n",
    "  substractBy = -4.7 if (newobj['island'] == 'Scarcity') else -1.5\n",
    "  newobj['link'] = 'https://www.cryptovoxels.com/play?coords=W@'+str(x)+','+str(y)+',30F'\n",
    "\n",
    "  # Books\n",
    "  guestbook = list(filter(lambda x: x['type'] == 'guest-book', data['content']['features'])) \n",
    "  if guestbook:  \n",
    "    position = guestbook[0]['position']\n",
    "    newobj['book-position'] = guestbook[0]['position']\n",
    "\n",
    "  deets.append( newobj )\n",
    "\n",
    "test = pd.json_normalize(data=deets)\n",
    "testgdf = gpd.GeoDataFrame(test, geometry='geometry', crs='epsg:3857')"
   ]
  },
  {
   "cell_type": "markdown",
   "metadata": {},
   "source": [
    "For example we can search for parcels with guest-books!"
   ]
  },
  {
   "cell_type": "code",
   "execution_count": null,
   "metadata": {},
   "outputs": [
    {
     "data": {
      "text/plain": [
       "array([None, 'club', 'library', 'gallery', 'shops', 'education',\n",
       "       'sandbox', 'park', 'teleports', 'music', 'scenic', 'beach', 'bar',\n",
       "       '', 'concert', 'game', 'money', 'rest', 'sports', 'theater',\n",
       "       'food', 'animal', 'factory'], dtype=object)"
      ]
     },
     "execution_count": 15,
     "metadata": {},
     "output_type": "execute_result"
    }
   ],
   "source": [
    "testgdf['label'].unique()"
   ]
  },
  {
   "cell_type": "code",
   "execution_count": null,
   "metadata": {},
   "outputs": [],
   "source": [
    "#hide_input \n",
    "testgdf.head(5)"
   ]
  },
  {
   "cell_type": "code",
   "execution_count": null,
   "metadata": {},
   "outputs": [],
   "source": [
    "#hide_input \n",
    "testgdf[ ( testgdf['book-position'].notnull() ) ].drop(columns=['geometry'])[['link','book-position']].head(5)"
   ]
  },
  {
   "cell_type": "markdown",
   "metadata": {},
   "source": [
    "And display it on a map"
   ]
  },
  {
   "cell_type": "code",
   "execution_count": null,
   "metadata": {},
   "outputs": [],
   "source": [
    "#hide_input \n",
    "# .head().map(lambda z: z)\n",
    "import numpy as np\n",
    "testgdf['color'] = np.where( testgdf['book-position'].notnull(),1, 2)\n",
    "# testgdf[ ( testgdf['island'] == 'Scarcity' ) & ( testgdf['book-position'].notnull() ) ].plot(column='color')\n",
    "testgdf[ ( testgdf['island'] == 'Scarcity' ) ].plot(column='color')"
   ]
  },
  {
   "cell_type": "markdown",
   "metadata": {},
   "source": [
    "An interactive one."
   ]
  },
  {
   "cell_type": "code",
   "execution_count": null,
   "metadata": {},
   "outputs": [],
   "source": [
    "#hide \n",
    "fingdf = testgdf.copy()"
   ]
  },
  {
   "cell_type": "code",
   "execution_count": null,
   "metadata": {},
   "outputs": [],
   "source": [
    "fingdf['id'] = fingdf.index.astype(str) \n",
    "fingdf['vol'] = fingdf['area'] * fingdf['height'] "
   ]
  },
  {
   "cell_type": "code",
   "execution_count": null,
   "metadata": {},
   "outputs": [],
   "source": [
    "fingdf['bounds'] = tuple(  fingdf['geometry'].bounds[x:x + 2]\n",
    "   for x in range(0, len( fingdf['geometry'].bounds), 2) \n",
    ")"
   ]
  },
  {
   "cell_type": "code",
   "execution_count": null,
   "metadata": {},
   "outputs": [],
   "source": []
  },
  {
   "cell_type": "code",
   "execution_count": null,
   "metadata": {},
   "outputs": [],
   "source": []
  }
 ],
 "metadata": {
  "interpreter": {
   "hash": "4f946df053fbf2b937619d3c5458e7af74262f9a954d8797ba0b27400bcafe06"
  },
  "kernelspec": {
   "display_name": "Python 3.8.6 64-bit",
   "language": "python",
   "name": "python3"
  },
  "language_info": {
   "codemirror_mode": {
    "name": "ipython",
    "version": 3
   },
   "file_extension": ".py",
   "mimetype": "text/x-python",
   "name": "python",
   "nbconvert_exporter": "python",
   "pygments_lexer": "ipython3",
   "version": "3.8.10"
  },
  "orig_nbformat": 4
 },
 "nbformat": 4,
 "nbformat_minor": 2
}

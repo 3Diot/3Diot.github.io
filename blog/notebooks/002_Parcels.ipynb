{
 "cells": [
  {
   "cell_type": "code",
   "execution_count": null,
   "metadata": {},
   "outputs": [
    {
     "ename": "",
     "evalue": "",
     "output_type": "error",
     "traceback": [
      "\u001b[1;31mThe kernel failed to start due to the missing module 'pygments'. Consider installing this module. \n",
      "View Jupyter <a href='command:jupyter.viewOutput'>log</a> for further details.\n",
      "<a href='https://aka.ms/kernelFailuresMissingModule'>Learn more</a>"
     ]
    }
   ],
   "source": [
    "%%html\n",
    "  <!DOCTYPE html>\n",
    "  <html lang=\"en\">\n",
    "  <head>\n",
    "    <meta charset=\"UTF-8\">\n",
    "    <meta name=\"viewport\" content=\"width=device-width, initial-scale=1.0\">\n",
    "    <title>Test</title>\n",
    "    <script type=\"module\" src=\"https://cdn.jsdelivr.net/npm/@ionic/core/dist/ionic/ionic.esm.js\"></script>\n",
    "    <script nomodule src=\"https://cdn.jsdelivr.net/npm/@ionic/core/dist/ionic/ionic.js\"></script>\n",
    "    <link rel=\"stylesheet\" href=\"https://cdn.jsdelivr.net/npm/@ionic/core/css/ionic.bundle.css\" />\n",
    "  </head>\n",
    "  <body>\n",
    "    <ion-app>\n",
    "      <ion-header translucent > <!-- class=\"ion-no-border\" -->\n",
    "        <ion-toolbar>\n",
    "          <ion-title>CryptoVoxels Example Report!</ion-title>\n",
    "        </ion-toolbar> \n",
    "      </ion-header>,\n",
    "      <ion-content fullscreen class=\"ion-padding\"> \n",
    "        <!-- \n",
    "          # https://github.com/ionic-team/ionic-docs/blob/legacy/src/demos/api/content/index.html \n",
    "          # https://github.com/ionic-team/ionic-docs/blob/legacy/src/demos/api/infinite-scroll/index.html\n",
    "          # https://github.com/ionic-team/ionic-docs/blob/legacy/src/demos/api/back-button/index.html\n",
    "        -->"
   ]
  },
  {
   "cell_type": "code",
   "execution_count": null,
   "metadata": {},
   "outputs": [],
   "source": [
    "%%html\n",
    "<style>\n",
    "  /*\n",
    "  :root {\n",
    "    --ion-safe-area-top: 2px;\n",
    "    --ion-safe-area-bottom: 22px;\n",
    "  }\n",
    "  details{padding-bottom:8px}\n",
    "  summary>*{ display:inline-block }\n",
    "  h2, h3 {text-align: center; }\n",
    "  details > summary > h3 {display: inline;}\n",
    "  summary::marker { content: \"🧡 \"; }\n",
    "  */\n",
    "  h2, h3 {\n",
    "    display: inline-block;\n",
    "  }\n",
    "  body { text-align: center; } \n",
    "  \n",
    "  ion-content > div { margin-left: 25%; padding-top: 40px;  padding-bottom: 40px; }\n",
    "\n",
    "</style> "
   ]
  },
  {
   "cell_type": "code",
   "execution_count": null,
   "metadata": {},
   "outputs": [],
   "source": [
    "#hide \n",
    "import sys\n",
    "sys.path.append('/workspaces/3Diot.github.io/blog/')\n",
    "sys.path.append('/workspaces/3Diot.github.io/docs/datasets/')"
   ]
  }
 ],
 "metadata": {
  "interpreter": {
   "hash": "4f946df053fbf2b937619d3c5458e7af74262f9a954d8797ba0b27400bcafe06"
  },
  "kernelspec": {
   "display_name": "Python 3.8.6 64-bit",
   "language": "python",
   "name": "python3"
  },
  "language_info": {
   "name": "python",
   "version": "3.8.10"
  },
  "orig_nbformat": 4
 },
 "nbformat": 4,
 "nbformat_minor": 2
}

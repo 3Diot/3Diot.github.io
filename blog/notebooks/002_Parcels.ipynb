{
 "cells": [
  {
   "cell_type": "markdown",
   "metadata": {},
   "source": [
    "# On Parcels\n",
    "> An introductory article to Cryptovoxels' Parcel Data\n",
    "\n",
    "- toc: true\n",
    "- title: Parcels\n",
    "- template: article\n",
    "- description: this isnt working\n",
    "- image: images/company_logo.png\n",
    "- keywords: thisworks\n",
    "- badges: true\n",
    "- comments: true\n",
    "- categories: [test]\n",
    "- hide: false\n",
    "- metadata_key1: metadata_value1\n",
    "- metadata_key2: metadata_value2"
   ]
  },
  {
   "cell_type": "markdown",
   "metadata": {},
   "source": [
    "I love freebies. In my opinion, guestbooks are the ticket to a bunch of em!\n",
    "\n",
    "So what's the best way to find em all?\n",
    "\n",
    "Perhaps the same way to find out a lot of really cool information... 🤔"
   ]
  },
  {
   "cell_type": "markdown",
   "metadata": {},
   "source": [
    "## Parcel Data"
   ]
  },
  {
   "cell_type": "code",
   "execution_count": 1,
   "metadata": {},
   "outputs": [
    {
     "name": "stdout",
     "output_type": "stream",
     "text": [
      "Defaulting to user installation because normal site-packages is not writeable\n",
      "Requirement already satisfied: matplotlib in /home/codespace/.local/lib/python3.8/site-packages (3.5.1)\n",
      "Requirement already satisfied: python-dateutil>=2.7 in /home/codespace/.local/lib/python3.8/site-packages (from matplotlib) (2.8.2)\n",
      "Requirement already satisfied: pillow>=6.2.0 in /home/codespace/.local/lib/python3.8/site-packages (from matplotlib) (9.0.0)\n",
      "Requirement already satisfied: cycler>=0.10 in /home/codespace/.local/lib/python3.8/site-packages (from matplotlib) (0.11.0)\n",
      "Requirement already satisfied: packaging>=20.0 in /home/codespace/.local/lib/python3.8/site-packages (from matplotlib) (21.3)\n",
      "Requirement already satisfied: pyparsing>=2.2.1 in /home/codespace/.local/lib/python3.8/site-packages (from matplotlib) (3.0.6)\n",
      "Requirement already satisfied: numpy>=1.17 in /home/codespace/.local/lib/python3.8/site-packages (from matplotlib) (1.22.1)\n",
      "Requirement already satisfied: kiwisolver>=1.0.1 in /home/codespace/.local/lib/python3.8/site-packages (from matplotlib) (1.3.2)\n",
      "Requirement already satisfied: fonttools>=4.22.0 in /home/codespace/.local/lib/python3.8/site-packages (from matplotlib) (4.28.5)\n",
      "Requirement already satisfied: six>=1.5 in /usr/lib/python3/dist-packages (from python-dateutil>=2.7->matplotlib) (1.14.0)\n",
      "Defaulting to user installation because normal site-packages is not writeable\n",
      "Requirement already satisfied: geopandas in /home/codespace/.local/lib/python3.8/site-packages (0.10.2)\n",
      "Requirement already satisfied: pandas>=0.25.0 in /home/codespace/.local/lib/python3.8/site-packages (from geopandas) (1.3.5)\n",
      "Requirement already satisfied: fiona>=1.8 in /home/codespace/.local/lib/python3.8/site-packages (from geopandas) (1.8.20)\n",
      "Requirement already satisfied: shapely>=1.6 in /home/codespace/.local/lib/python3.8/site-packages (from geopandas) (1.8.0)\n",
      "Requirement already satisfied: pyproj>=2.2.0 in /home/codespace/.local/lib/python3.8/site-packages (from geopandas) (3.3.0)\n",
      "Requirement already satisfied: click>=4.0 in /home/codespace/.local/lib/python3.8/site-packages (from fiona>=1.8->geopandas) (8.0.3)\n",
      "Requirement already satisfied: click-plugins>=1.0 in /home/codespace/.local/lib/python3.8/site-packages (from fiona>=1.8->geopandas) (1.1.1)\n",
      "Requirement already satisfied: munch in /home/codespace/.local/lib/python3.8/site-packages (from fiona>=1.8->geopandas) (2.5.0)\n",
      "Requirement already satisfied: cligj>=0.5 in /home/codespace/.local/lib/python3.8/site-packages (from fiona>=1.8->geopandas) (0.7.2)\n",
      "Requirement already satisfied: certifi in /usr/lib/python3/dist-packages (from fiona>=1.8->geopandas) (2019.11.28)\n",
      "Requirement already satisfied: attrs>=17 in /home/codespace/.local/lib/python3.8/site-packages (from fiona>=1.8->geopandas) (21.4.0)\n",
      "Requirement already satisfied: setuptools in /usr/lib/python3/dist-packages (from fiona>=1.8->geopandas) (45.2.0)\n",
      "Requirement already satisfied: six>=1.7 in /usr/lib/python3/dist-packages (from fiona>=1.8->geopandas) (1.14.0)\n",
      "Requirement already satisfied: numpy>=1.17.3 in /home/codespace/.local/lib/python3.8/site-packages (from pandas>=0.25.0->geopandas) (1.22.1)\n",
      "Requirement already satisfied: python-dateutil>=2.7.3 in /home/codespace/.local/lib/python3.8/site-packages (from pandas>=0.25.0->geopandas) (2.8.2)\n",
      "Requirement already satisfied: pytz>=2017.3 in /home/codespace/.local/lib/python3.8/site-packages (from pandas>=0.25.0->geopandas) (2021.3)\n",
      "Defaulting to user installation because normal site-packages is not writeable\n",
      "Requirement already satisfied: folium in /home/codespace/.local/lib/python3.8/site-packages (0.12.1.post1)\n",
      "Requirement already satisfied: branca>=0.3.0 in /home/codespace/.local/lib/python3.8/site-packages (from folium) (0.4.2)\n",
      "Requirement already satisfied: jinja2>=2.9 in /home/codespace/.local/lib/python3.8/site-packages (from folium) (3.0.3)\n",
      "Requirement already satisfied: numpy in /home/codespace/.local/lib/python3.8/site-packages (from folium) (1.22.1)\n",
      "Requirement already satisfied: requests in /usr/lib/python3/dist-packages (from folium) (2.22.0)\n",
      "Requirement already satisfied: MarkupSafe>=2.0 in /home/codespace/.local/lib/python3.8/site-packages (from jinja2>=2.9->folium) (2.0.1)\n"
     ]
    }
   ],
   "source": [
    "#hide \n",
    "!pip install matplotlib\n",
    "!pip install geopandas\n",
    "!pip install folium"
   ]
  },
  {
   "cell_type": "markdown",
   "metadata": {},
   "source": [
    "For starters CV provides generic data on ALL their [parcels](https://www.cryptovoxels.com/api/parcels/search.json)"
   ]
  },
  {
   "cell_type": "code",
   "execution_count": 2,
   "metadata": {},
   "outputs": [],
   "source": [
    "#hide \n",
    "import requests\n",
    "import json\n",
    "url = 'https://www.cryptovoxels.com/api/parcels/search.json'\n",
    "r = requests.get(url)\n",
    "data = json.loads(r.text)['parcels'] "
   ]
  },
  {
   "cell_type": "code",
   "execution_count": 3,
   "metadata": {},
   "outputs": [],
   "source": [
    "#hide \n",
    "import pandas as pd\n",
    "import geopandas as gpd\n",
    "gdf = { \"type\": \"FeatureCollection\", \"features\": [] }\n",
    "for obj in data:\n",
    "  feat = { \"type\": \"Feature\", \"geometry\": { \"type\": \"Polygon\", \"coordinates\": [ ] }, \"properties\": { } }\n",
    "  feat['geometry']['coordinates'] = obj['geometry']['coordinates'] \n",
    "  feat['properties'] = {key: obj[key] for key in obj if key not in ['x1','x2','y1','y2','z1','z2','geometry']}\n",
    "  gdf['features'].append(feat)  \n",
    "\n",
    "# What fresh hell have I done here?\n",
    "with open('../data/cv.geojson', 'w') as outfile: json.dump(gdf, outfile)\n",
    "\n",
    "gdf = gpd.read_file('../data/cv.geojson')\n",
    "gdf['id'] = gdf.id.astype(str) \n",
    "gdf['vol'] = gdf['area'] * gdf['height'] \n",
    "gdf.to_file(\"../data/cv.geojson\", driver='GeoJSON')"
   ]
  },
  {
   "cell_type": "code",
   "execution_count": 4,
   "metadata": {},
   "outputs": [],
   "source": [
    "import folium\n",
    "import branca\n",
    "import branca.colormap as cm\n",
    "from branca.colormap import linear"
   ]
  },
  {
   "cell_type": "code",
   "execution_count": 5,
   "metadata": {},
   "outputs": [
    {
     "data": {
      "text/plain": [
       "'\\nmymap = folium.Map(location=[0,0], tiles = \\'https://map.cryptovoxels.com/tile?z={z}&x={x}&y={y}\\', attr=\"Map data &copy; Cryptovoxels\", zoom_start=10, control_scale=True) \\ncolormap = cm.LinearColormap(colors=[\\'white\\', \\'blue\\',\\'green\\', \\'yellow\\', \\'orange\\', \\'red\\'], caption=\"Parcel Volume\").to_step(data=gdf[\\'vol\\'], method=\\'quant\\', quantiles=[0,0.25,0.5,0.75,0.98, 0.999, 0.9999,1]) \\nstyle_function = lambda x: {\"weight\":0.5, \\'color\\':\\'black\\', \\'fillColor\\':colormap(x[\\'properties\\'][\\'vol\\']), \\'fillOpacity\\':0.75} \\nhighlight_function = lambda x: {\\'fillColor\\': \\'#000000\\', \\'color\\':\\'#000000\\', \\'fillOpacity\\': 0.50, \\'weight\\': 0.1} \\n\\nlayer = folium.FeatureGroup(name=\\'your layer name\\', show=False) \\ntemp_geojson = folium.GeoJson(gdf) \\nfor feature in temp_geojson.data[\\'features\\']: \\n    innerHTML = \\'<b>\\'+str(feature[\\'properties\\'][\\'island\\'])+\\' - \\'+str(feature[\\'properties\\'][\\'suburb\\']) + \\'</b><br>\\' \\n    innerHTML += \\'<b> Address - \\' +str(feature[\\'properties\\'][\\'address\\']) + \\'</b><br>\\' \\n    innerHTML += \\'<b> Height - \\' +str(feature[\\'properties\\'][\\'height\\']) + \\'</b><br>\\' \\n    innerHTML += \\'<b> Area - \\' +str(feature[\\'properties\\'][\\'area\\']) + \\'</b><br>\\' \\n    innerHTML += \\'<b> Volume - \\' +str(feature[\\'properties\\'][\\'vol\\']) + \\'</b><br>\\' \\n    temp_layer = folium.GeoJson(feature, style_function=style_function, highlight_function=highlight_function, tooltip=innerHTML) \\n    foo = lambda txt, source: f`<div id=\"popupIFrame\" style=\"white-space: nowrap;\" align=\"center\"> <a href=\"{source}\"> Visit </a><br>{txt}</div>`\\n    folium.Popup( html=foo(innerHTML, f\\'https://www.cryptovoxels.com/parcels/{feature[\"properties\"][\"id\"]}\\') ).add_to(temp_layer) \\n    temp_layer.add_to(layer) \\n\\nlayer.add_to(mymap) \\ncolormap.add_to(mymap) \\nmymap.save(\\'../docs/maps/cv_vol_map.html\\') \\n'"
      ]
     },
     "execution_count": 5,
     "metadata": {},
     "output_type": "execute_result"
    }
   ],
   "source": [
    "# https://stackoverflow.com/questions/54595931/show-different-pop-ups-for-different-polygons-in-a-geojson-folium-python-ma \n",
    "# https://python-visualization.github.io/branca/colormap.html \n",
    "\"\"\"\n",
    "mymap = folium.Map(location=[0,0], tiles = 'https://map.cryptovoxels.com/tile?z={z}&x={x}&y={y}', attr=\"Map data &copy; Cryptovoxels\", zoom_start=10, control_scale=True) \n",
    "colormap = cm.LinearColormap(colors=['white', 'blue','green', 'yellow', 'orange', 'red'], caption=\"Parcel Volume\").to_step(data=gdf['vol'], method='quant', quantiles=[0,0.25,0.5,0.75,0.98, 0.999, 0.9999,1]) \n",
    "style_function = lambda x: {\"weight\":0.5, 'color':'black', 'fillColor':colormap(x['properties']['vol']), 'fillOpacity':0.75} \n",
    "highlight_function = lambda x: {'fillColor': '#000000', 'color':'#000000', 'fillOpacity': 0.50, 'weight': 0.1} \n",
    "\n",
    "layer = folium.FeatureGroup(name='your layer name', show=False) \n",
    "temp_geojson = folium.GeoJson(gdf) \n",
    "for feature in temp_geojson.data['features']: \n",
    "    innerHTML = '<b>'+str(feature['properties']['island'])+' - '+str(feature['properties']['suburb']) + '</b><br>' \n",
    "    innerHTML += '<b> Address - ' +str(feature['properties']['address']) + '</b><br>' \n",
    "    innerHTML += '<b> Height - ' +str(feature['properties']['height']) + '</b><br>' \n",
    "    innerHTML += '<b> Area - ' +str(feature['properties']['area']) + '</b><br>' \n",
    "    innerHTML += '<b> Volume - ' +str(feature['properties']['vol']) + '</b><br>' \n",
    "    temp_layer = folium.GeoJson(feature, style_function=style_function, highlight_function=highlight_function, tooltip=innerHTML) \n",
    "    foo = lambda txt, source: f`<div id=\"popupIFrame\" style=\"white-space: nowrap;\" align=\"center\"> <a href=\"{source}\"> Visit </a><br>{txt}</div>`\n",
    "    folium.Popup( html=foo(innerHTML, f'https://www.cryptovoxels.com/parcels/{feature[\"properties\"][\"id\"]}') ).add_to(temp_layer) \n",
    "    temp_layer.add_to(layer) \n",
    "\n",
    "layer.add_to(mymap) \n",
    "colormap.add_to(mymap) \n",
    "mymap.save('../docs/maps/cv_vol_map.html') \n",
    "\"\"\""
   ]
  },
  {
   "cell_type": "code",
   "execution_count": 6,
   "metadata": {},
   "outputs": [],
   "source": [
    "#hide \n",
    "# df = gdf[gdf['island'] == 'Scarcity'] # Only Scarcity Island \n",
    "# gdf[gdf['island']=='Scarcity']['island'].describe()\n",
    "# gdf[gdf['island']=='Scarcity'].plot()"
   ]
  },
  {
   "cell_type": "markdown",
   "metadata": {},
   "source": [
    "The data contains geocoordinates and a bit of meta data which can let us do fun stuff like this <a href=\"https://cvminigames.com/blog/docs/maps/cv_vol_map.html\"> map </a>."
   ]
  },
  {
   "cell_type": "markdown",
   "metadata": {},
   "source": [
    "Where: \n",
    "- Color depicts volume broke out by quartile.\n",
    "\n",
    "- And the top largest 2% and 1% of parcels painted orange and red, respectively."
   ]
  },
  {
   "cell_type": "code",
   "execution_count": 7,
   "metadata": {},
   "outputs": [
    {
     "data": {
      "text/html": [
       "<iframe height='500px' width='1000px' src=\"https://cvminigames.com/blog/docs/maps/cv_vol_map.html\"/>\n"
      ],
      "text/plain": [
       "<IPython.core.display.HTML object>"
      ]
     },
     "metadata": {},
     "output_type": "display_data"
    }
   ],
   "source": [
    "%%html\n",
    "<iframe height='500px' width='1000px' src=\"https://cvminigames.com/blog/docs/maps/cv_vol_map.html\"/>"
   ]
  },
  {
   "cell_type": "markdown",
   "metadata": {},
   "source": [
    "We can do other things like some light analysis. \n",
    "\n",
    "Here is a frequency plot of Flora Islands Volume (excluding it's outlier)"
   ]
  },
  {
   "cell_type": "code",
   "execution_count": 8,
   "metadata": {},
   "outputs": [
    {
     "data": {
      "text/plain": [
       "<AxesSubplot:ylabel='Frequency'>"
      ]
     },
     "execution_count": 8,
     "metadata": {},
     "output_type": "execute_result"
    },
    {
     "data": {
      "image/png": "[encoded data removed]",
      "text/plain": [
       "<Figure size 432x288 with 1 Axes>"
      ]
     },
     "metadata": {
      "needs_background": "light"
     },
     "output_type": "display_data"
    }
   ],
   "source": [
    "#hide_input \n",
    "t = gdf[gdf['island']=='Flora']\n",
    "q_low = t[\"vol\"].quantile(0.01)\n",
    "q_hi  = t[\"vol\"].quantile(0.99)\n",
    "t = t[(t[\"vol\"] < q_hi) & (t[\"vol\"] > q_low)]\n",
    "t['vol'].plot.hist(bins=20)"
   ]
  },
  {
   "cell_type": "markdown",
   "metadata": {},
   "source": [
    "Ok. So thats nice...\n",
    "\n",
    "I'll do more exploration on this end some time later...\n",
    "\n",
    "What else can we do?"
   ]
  },
  {
   "cell_type": "markdown",
   "metadata": {},
   "source": [
    "## Filtering Parcels"
   ]
  },
  {
   "cell_type": "markdown",
   "metadata": {},
   "source": [
    "Information about a specific parcel is available by adding it's parcel # to the end of the following url: https://www.cryptovoxels.com/api/parcels/  \n",
    "\n",
    "This data can then be filtered en-mass to search for certain properties, or inspected individually."
   ]
  },
  {
   "cell_type": "code",
   "execution_count": 9,
   "metadata": {},
   "outputs": [],
   "source": [
    "#hide\n",
    "# This code will save each parcel features data\n",
    "\n",
    "import requests\n",
    "import json\n",
    "t = \"\"\"\n",
    "deets = []\n",
    "for index, row in df.tail(200).iterrows():\n",
    "  url = 'https://www.cryptovoxels.com/api/parcels/'+str(row['id'])+'.json' \n",
    "  r = requests.get(url)\n",
    "  data = json.loads(r.text) \n",
    "  with open('./parcels/'+str(row['id'])+'.json', 'w') as file:\n",
    "    json.dump(data, file)\n",
    "  print(row['id'])\n",
    "\"\"\""
   ]
  },
  {
   "cell_type": "code",
   "execution_count": 10,
   "metadata": {},
   "outputs": [
    {
     "name": "stdout",
     "output_type": "stream",
     "text": [
      "0\n",
      "50\n",
      "100\n",
      "150\n"
     ]
    }
   ],
   "source": [
    "for index, row in gdf.head(200).iterrows():\n",
    "  if index%50 == 0 : print(index)"
   ]
  },
  {
   "cell_type": "code",
   "execution_count": 11,
   "metadata": {},
   "outputs": [
    {
     "name": "stdout",
     "output_type": "stream",
     "text": [
      "000_core.ipynb\t      001b_core_test.ipynb  002_Parcels.ipynb  _devserver.ipynb\n",
      "001a_core_test.ipynb  001c_Example.ipynb    013_CV_Misc.ipynb  index.ipynb\n"
     ]
    }
   ],
   "source": [
    "! ls"
   ]
  },
  {
   "cell_type": "code",
   "execution_count": 12,
   "metadata": {},
   "outputs": [
    {
     "data": {
      "text/html": [
       "<div>\n",
       "<style scoped>\n",
       "    .dataframe tbody tr th:only-of-type {\n",
       "        vertical-align: middle;\n",
       "    }\n",
       "\n",
       "    .dataframe tbody tr th {\n",
       "        vertical-align: top;\n",
       "    }\n",
       "\n",
       "    .dataframe thead th {\n",
       "        text-align: right;\n",
       "    }\n",
       "</style>\n",
       "<table border=\"1\" class=\"dataframe\">\n",
       "  <thead>\n",
       "    <tr style=\"text-align: right;\">\n",
       "      <th></th>\n",
       "      <th>id</th>\n",
       "      <th>height</th>\n",
       "      <th>address</th>\n",
       "      <th>suburb</th>\n",
       "      <th>island</th>\n",
       "      <th>name</th>\n",
       "      <th>area</th>\n",
       "      <th>distance</th>\n",
       "      <th>owner</th>\n",
       "      <th>owner_name</th>\n",
       "      <th>label</th>\n",
       "      <th>geometry</th>\n",
       "      <th>vol</th>\n",
       "    </tr>\n",
       "  </thead>\n",
       "  <tbody>\n",
       "    <tr>\n",
       "      <th>0</th>\n",
       "      <td>6892</td>\n",
       "      <td>10</td>\n",
       "      <td>139b Min fir Road</td>\n",
       "      <td>Kauri</td>\n",
       "      <td>Flora</td>\n",
       "      <td>None</td>\n",
       "      <td>255</td>\n",
       "      <td>1792.612897</td>\n",
       "      <td>0xa253d7cd38dc2d0b2e65ad42a7e4beb3c60a83ad</td>\n",
       "      <td>crvox.eth</td>\n",
       "      <td>None</td>\n",
       "      <td>POLYGON ((14.81000 10.10000, 14.81000 10.24990...</td>\n",
       "      <td>2550</td>\n",
       "    </tr>\n",
       "  </tbody>\n",
       "</table>\n",
       "</div>"
      ],
      "text/plain": [
       "     id  height            address suburb island  name  area     distance  \\\n",
       "0  6892      10  139b Min fir Road  Kauri  Flora  None   255  1792.612897   \n",
       "\n",
       "                                        owner owner_name label  \\\n",
       "0  0xa253d7cd38dc2d0b2e65ad42a7e4beb3c60a83ad  crvox.eth  None   \n",
       "\n",
       "                                            geometry   vol  \n",
       "0  POLYGON ((14.81000 10.10000, 14.81000 10.24990...  2550  "
      ]
     },
     "execution_count": 12,
     "metadata": {},
     "output_type": "execute_result"
    }
   ],
   "source": [
    "gdf.head(1)"
   ]
  },
  {
   "cell_type": "code",
   "execution_count": 13,
   "metadata": {},
   "outputs": [],
   "source": [
    "import json\n",
    "from shapely.geometry import Polygon\n",
    "from os.path import exists\n",
    "pd.options.display.max_colwidth = 500\n",
    "deets = [] \n",
    "\n",
    "for index, row in gdf.iterrows():  \n",
    "  url = '../data/parcels/'+str(row['id'])+'.json' \n",
    "  if not exists(url): continue\n",
    "  data = ''  \n",
    "  with open(url, 'r') as j: data = json.loads(j.read())['parcel'] \n",
    "  if data['content'] == None: continue \n",
    "  if 'features' not in data['content']: continue # SKIPS OVER PARCELS WITH NO FEATURES \n",
    "  newobj = {key: data[key] for key in data if key not in ['x1','x2','y1','y2','z1','z2','token','visible','geometry', 'streets', 'voxels', 'content', 'price', 'is_common']} \n",
    "  newobj['geometry'] = row['geometry'] \n",
    "  # Books\n",
    "  guestbook = list(filter(lambda x: x['type'] == 'guest-book', data['content']['features'])) \n",
    "  if guestbook: newobj['book-position'] = guestbook[0]['position']\n",
    "\n",
    "  deets.append( newobj )\n"
   ]
  },
  {
   "cell_type": "code",
   "execution_count": 14,
   "metadata": {},
   "outputs": [],
   "source": [
    "# deets"
   ]
  },
  {
   "cell_type": "code",
   "execution_count": 15,
   "metadata": {},
   "outputs": [],
   "source": [
    "test = pd.json_normalize(data=deets)\n",
    "testgdf = gpd.GeoDataFrame(test, geometry='geometry', crs='epsg:3857') "
   ]
  },
  {
   "cell_type": "code",
   "execution_count": 16,
   "metadata": {},
   "outputs": [
    {
     "data": {
      "text/plain": [
       "<AxesSubplot:>"
      ]
     },
     "execution_count": 16,
     "metadata": {},
     "output_type": "execute_result"
    },
    {
     "data": {
      "image/png": "[encoded data removed]",
      "text/plain": [
       "<Figure size 432x288 with 1 Axes>"
      ]
     },
     "metadata": {
      "needs_background": "light"
     },
     "output_type": "display_data"
    }
   ],
   "source": [
    "testgdf.plot()"
   ]
  },
  {
   "cell_type": "markdown",
   "metadata": {},
   "source": [
    "For example we can search for parcels with guest-books!"
   ]
  },
  {
   "cell_type": "code",
   "execution_count": 17,
   "metadata": {},
   "outputs": [],
   "source": [
    "#hide_input \n",
    "# testgdf[ ( testgdf['book-position'].notnull() ) ].drop(columns=['geometry'])[['link','book-position']].head(5)"
   ]
  },
  {
   "cell_type": "code",
   "execution_count": 18,
   "metadata": {},
   "outputs": [
    {
     "data": {
      "text/html": [
       "<div>\n",
       "<style scoped>\n",
       "    .dataframe tbody tr th:only-of-type {\n",
       "        vertical-align: middle;\n",
       "    }\n",
       "\n",
       "    .dataframe tbody tr th {\n",
       "        vertical-align: top;\n",
       "    }\n",
       "\n",
       "    .dataframe thead th {\n",
       "        text-align: right;\n",
       "    }\n",
       "</style>\n",
       "<table border=\"1\" class=\"dataframe\">\n",
       "  <thead>\n",
       "    <tr style=\"text-align: right;\">\n",
       "      <th></th>\n",
       "      <th>id</th>\n",
       "      <th>height</th>\n",
       "      <th>name</th>\n",
       "      <th>traffic_visits</th>\n",
       "      <th>address</th>\n",
       "      <th>area</th>\n",
       "      <th>distance</th>\n",
       "      <th>suburb</th>\n",
       "      <th>owner</th>\n",
       "      <th>owner_name</th>\n",
       "      <th>contributors</th>\n",
       "      <th>label</th>\n",
       "      <th>description</th>\n",
       "      <th>sandbox</th>\n",
       "      <th>lightmap_status</th>\n",
       "      <th>grid</th>\n",
       "      <th>island</th>\n",
       "      <th>kind</th>\n",
       "      <th>geometry</th>\n",
       "      <th>book-position</th>\n",
       "    </tr>\n",
       "  </thead>\n",
       "  <tbody>\n",
       "    <tr>\n",
       "      <th>0</th>\n",
       "      <td>6748</td>\n",
       "      <td>6</td>\n",
       "      <td>None</td>\n",
       "      <td>NaN</td>\n",
       "      <td>31b Fault Line</td>\n",
       "      <td>95.919996</td>\n",
       "      <td>1849.130877</td>\n",
       "      <td>Bronze</td>\n",
       "      <td>0x09d06dcef22051477cde12cfbfc674f60a53c66c</td>\n",
       "      <td>None</td>\n",
       "      <td>[0x690129B4a8fa04B5C5A81980816b1fE633356f56, 0xb7d3a787a39f25457ca511dc3f0591b546f5e02f]</td>\n",
       "      <td>None</td>\n",
       "      <td>None</td>\n",
       "      <td>False</td>\n",
       "      <td>None</td>\n",
       "      <td>False</td>\n",
       "      <td>Scarcity</td>\n",
       "      <td>unit</td>\n",
       "      <td>POLYGON ((-14.740 -11.390, -14.740 -11.270, -14.660 -11.270, -14.660 -11.390, -14.740 -11.390))</td>\n",
       "      <td>NaN</td>\n",
       "    </tr>\n",
       "  </tbody>\n",
       "</table>\n",
       "</div>"
      ],
      "text/plain": [
       "     id  height  name  traffic_visits         address       area     distance  \\\n",
       "0  6748       6  None             NaN  31b Fault Line  95.919996  1849.130877   \n",
       "\n",
       "   suburb                                       owner owner_name  \\\n",
       "0  Bronze  0x09d06dcef22051477cde12cfbfc674f60a53c66c       None   \n",
       "\n",
       "                                                                               contributors  \\\n",
       "0  [0x690129B4a8fa04B5C5A81980816b1fE633356f56, 0xb7d3a787a39f25457ca511dc3f0591b546f5e02f]   \n",
       "\n",
       "  label description  sandbox lightmap_status   grid    island  kind  \\\n",
       "0  None        None    False            None  False  Scarcity  unit   \n",
       "\n",
       "                                                                                          geometry  \\\n",
       "0  POLYGON ((-14.740 -11.390, -14.740 -11.270, -14.660 -11.270, -14.660 -11.390, -14.740 -11.390))   \n",
       "\n",
       "  book-position  \n",
       "0           NaN  "
      ]
     },
     "execution_count": 18,
     "metadata": {},
     "output_type": "execute_result"
    }
   ],
   "source": [
    "testgdf.head(1)"
   ]
  },
  {
   "cell_type": "code",
   "execution_count": 19,
   "metadata": {},
   "outputs": [
    {
     "name": "stdout",
     "output_type": "stream",
     "text": [
      "000_core.ipynb        001b_core_test.ipynb  002_Parcels.ipynb  _devserver.ipynb\n",
      "001a_core_test.ipynb  001c_Example.ipynb    013_CV_Misc.ipynb  index.ipynb\n"
     ]
    }
   ],
   "source": [
    "ls"
   ]
  },
  {
   "cell_type": "code",
   "execution_count": 20,
   "metadata": {},
   "outputs": [],
   "source": [
    "testgdf.type()"
   ]
  },
  {
   "cell_type": "code",
   "execution_count": null,
   "metadata": {},
   "outputs": [
    {
     "name": "stdout",
     "output_type": "stream",
     "text": [
      "I will try to print this line of code\n",
      "ERROR : Invalid field type <class 'list'>\n"
     ]
    }
   ],
   "source": [
    "try:\n",
    "  print(\"I will try to print this line of code\")\n",
    "  testgdf.to_file(\"../data/guest-books.geojson\")\n",
    "except Exception as e:\n",
    "\tprint(\"ERROR : \"+str(e))"
   ]
  },
  {
   "cell_type": "code",
   "execution_count": null,
   "metadata": {},
   "outputs": [],
   "source": []
  }
 ],
 "metadata": {
  "interpreter": {
   "hash": "4f946df053fbf2b937619d3c5458e7af74262f9a954d8797ba0b27400bcafe06"
  },
  "kernelspec": {
   "display_name": "Python 3.8.6 64-bit",
   "language": "python",
   "name": "python3"
  },
  "language_info": {
   "codemirror_mode": {
    "name": "ipython",
    "version": 3
   },
   "file_extension": ".py",
   "mimetype": "text/x-python",
   "name": "python",
   "nbconvert_exporter": "python",
   "pygments_lexer": "ipython3",
   "version": "3.8.10"
  },
  "orig_nbformat": 4
 },
 "nbformat": 4,
 "nbformat_minor": 2
}

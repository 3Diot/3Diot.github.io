{
 "cells": [
  {
   "cell_type": "markdown",
   "metadata": {},
   "source": [
    "# On Parcels\n",
    "> An introductory article to Cryptovoxels' Parcel Data\n",
    "\n",
    "- toc: true\n",
    "- filename: Parcels\n",
    "- tab: CVMinigames | Parcels\n",
    "- title: CVMinigames\n",
    "- template: article\n",
    "- description: this isnt working\n",
    "- image: images/company_logo.png\n",
    "- keywords: thisworks\n",
    "- badges: true\n",
    "- comments: true\n",
    "- categories: [test]\n",
    "- hide: false\n",
    "- metadata_key1: metadata_value1\n",
    "- metadata_key2: metadata_value2"
   ]
  },
  {
   "cell_type": "markdown",
   "metadata": {},
   "source": [
    "Lets explore voxels data!"
   ]
  },
  {
   "cell_type": "markdown",
   "metadata": {},
   "source": [
    "## Parcel Data"
   ]
  },
  {
   "cell_type": "code",
   "execution_count": null,
   "metadata": {},
   "outputs": [],
   "source": [
    "#hide \n",
    "!pip install matplotlib  \n",
    "!pip install requests"
   ]
  },
  {
   "cell_type": "markdown",
   "metadata": {},
   "source": [
    "For starters CV provides generic data on ALL their [parcels](https://www.cryptovoxels.com/api/parcels/search.json)."
   ]
  },
  {
   "cell_type": "code",
   "execution_count": 18,
   "metadata": {},
   "outputs": [
    {
     "data": {
      "text/html": [
       "<div>\n",
       "<style scoped>\n",
       "    .dataframe tbody tr th:only-of-type {\n",
       "        vertical-align: middle;\n",
       "    }\n",
       "\n",
       "    .dataframe tbody tr th {\n",
       "        vertical-align: top;\n",
       "    }\n",
       "\n",
       "    .dataframe thead th {\n",
       "        text-align: right;\n",
       "    }\n",
       "</style>\n",
       "<table border=\"1\" class=\"dataframe\">\n",
       "  <thead>\n",
       "    <tr style=\"text-align: right;\">\n",
       "      <th></th>\n",
       "      <th>id</th>\n",
       "      <th>height</th>\n",
       "      <th>address</th>\n",
       "      <th>suburb</th>\n",
       "      <th>island</th>\n",
       "      <th>name</th>\n",
       "      <th>geometry</th>\n",
       "      <th>area</th>\n",
       "      <th>distance</th>\n",
       "      <th>owner</th>\n",
       "      <th>owner_name</th>\n",
       "      <th>x1</th>\n",
       "      <th>x2</th>\n",
       "      <th>y1</th>\n",
       "      <th>label</th>\n",
       "      <th>y2</th>\n",
       "      <th>z1</th>\n",
       "      <th>z2</th>\n",
       "    </tr>\n",
       "  </thead>\n",
       "  <tbody>\n",
       "    <tr>\n",
       "      <th>0</th>\n",
       "      <td>7421</td>\n",
       "      <td>6</td>\n",
       "      <td>2b Gacrux Ave</td>\n",
       "      <td>Milky Way</td>\n",
       "      <td>Andromeda</td>\n",
       "      <td>None</td>\n",
       "      <td>{'type': 'Polygon', 'crs': {'type': 'name', 'p...</td>\n",
       "      <td>585</td>\n",
       "      <td>5891.126151</td>\n",
       "      <td>0xf897a887ddd26899f7da140b30459e5bc4ddc9bc</td>\n",
       "      <td>sukoneck.eth</td>\n",
       "      <td>-5581</td>\n",
       "      <td>-5566</td>\n",
       "      <td>8</td>\n",
       "      <td>None</td>\n",
       "      <td>6</td>\n",
       "      <td>1930</td>\n",
       "      <td>1969</td>\n",
       "    </tr>\n",
       "  </tbody>\n",
       "</table>\n",
       "</div>"
      ],
      "text/plain": [
       "     id  height        address     suburb     island  name  \\\n",
       "0  7421       6  2b Gacrux Ave  Milky Way  Andromeda  None   \n",
       "\n",
       "                                            geometry  area     distance  \\\n",
       "0  {'type': 'Polygon', 'crs': {'type': 'name', 'p...   585  5891.126151   \n",
       "\n",
       "                                        owner    owner_name    x1    x2  y1  \\\n",
       "0  0xf897a887ddd26899f7da140b30459e5bc4ddc9bc  sukoneck.eth -5581 -5566   8   \n",
       "\n",
       "  label  y2    z1    z2  \n",
       "0  None   6  1930  1969  "
      ]
     },
     "execution_count": 18,
     "metadata": {},
     "output_type": "execute_result"
    }
   ],
   "source": [
    "#hide \n",
    "import requests\n",
    "import json\n",
    "url = 'https://www.cryptovoxels.com/api/parcels/search.json'\n",
    "r = requests.get(url)\n",
    "data = json.loads(r.text)['parcels'] \n",
    "parcels = pd.DataFrame.from_dict(data)\n",
    "parcels.head(1)"
   ]
  },
  {
   "cell_type": "markdown",
   "metadata": {},
   "source": [
    "The data contains geocoordinates and a bit of meta data which can let us do fun stuff like creating this <a href=\"https://cvminigames.com/blog/docs/maps/cv_price_map.html\"> map </a>."
   ]
  },
  {
   "cell_type": "markdown",
   "metadata": {},
   "source": [
    "We can do other things. \n",
    "\n",
    "Here is a frequency plot of Flora Islands Area"
   ]
  },
  {
   "cell_type": "code",
   "execution_count": 22,
   "metadata": {},
   "outputs": [
    {
     "data": {
      "text/plain": [
       "<AxesSubplot:ylabel='Frequency'>"
      ]
     },
     "execution_count": 22,
     "metadata": {},
     "output_type": "execute_result"
    },
    {
     "data": {
      "image/png": "[encoded data removed]",
      "text/plain": [
       "<Figure size 432x288 with 1 Axes>"
      ]
     },
     "metadata": {
      "needs_background": "light"
     },
     "output_type": "display_data"
    }
   ],
   "source": [
    "#hide_input \n",
    "parcels[parcels['island'] == 'Flora']['area'].plot.hist(bins=20)"
   ]
  },
  {
   "cell_type": "markdown",
   "metadata": {},
   "source": [
    "## Filtering Parcels"
   ]
  },
  {
   "cell_type": "markdown",
   "metadata": {},
   "source": [
    "Information about a specific parcel is available by adding it's parcel number + .json to the end of the following url: https://www.cryptovoxels.com/api/parcels/  \n",
    "\n",
    "This data can then be filtered en-mass to search for certain properties, or inspected individually."
   ]
  },
  {
   "cell_type": "markdown",
   "metadata": {},
   "source": [
    "For example, here is a [map](https://cvminigames.com/blog/docs/maps/cv_book_map.html) of all the guestbooks!"
   ]
  }
 ],
 "metadata": {
  "interpreter": {
   "hash": "4f946df053fbf2b937619d3c5458e7af74262f9a954d8797ba0b27400bcafe06"
  },
  "kernelspec": {
   "display_name": "Python 3.8.6 64-bit",
   "language": "python",
   "name": "python3"
  },
  "language_info": {
   "codemirror_mode": {
    "name": "ipython",
    "version": 3
   },
   "file_extension": ".py",
   "mimetype": "text/x-python",
   "name": "python",
   "nbconvert_exporter": "python",
   "pygments_lexer": "ipython3",
   "version": "3.9.4"
  },
  "orig_nbformat": 4
 },
 "nbformat": 4,
 "nbformat_minor": 2
}

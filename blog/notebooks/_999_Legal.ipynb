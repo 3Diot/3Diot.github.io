{
 "cells": [
  {
   "cell_type": "markdown",
   "metadata": {},
   "source": [
    "# Legal\n",
    "> This publication inspired by [nbdev](http://nbdev.fast.ai/tutorial/) and [nbConvert](https://nbconvert.readthedocs.io/en/latest/).\n",
    "\n",
    "- toc: false\n",
    "- filename: Legal\n",
    "- tab: CVMinigames | Legal\n",
    "- title: CVMinigames\n",
    "- template: article\n",
    "- description: this isnt working\n",
    "- image: images/company_logo.png"
   ]
  },
  {
   "cell_type": "markdown",
   "metadata": {},
   "source": [
    "BY USING THIS SITE AND ANY AFFILIATED PRODUCTS YOU AGREE TO \n",
    "- FOLLOWING THESE <a href='https://www.cryptovoxels.com/terms'>TERMS OF SERVICE</a>\n",
    "- FOLLOWING THIS FOLLOWING THIS <a href='https://www.cryptovoxels.com/conduct'>CODE OF CONDUCT</a>\n",
    "- ACCEPTING THIS <a href='https://www.cryptovoxels.com/privacy'>PRIVACY POLICY</a>\n",
    "WHEREVER APPLICABLE, HOWEVER BEST APPLICABLE.\n",
    "\n",
    "\n",
    "<p> <b>CONTACT ME</b> <br>\n",
    "For more information about privacy practices, if you have questions, or if you would like to make a complaint, please contact me by e-mail at charles.karpat@gmail.com </p>"
   ]
  },
  {
   "cell_type": "markdown",
   "metadata": {},
   "source": [
    "<details>\n",
    "</summary>"
   ]
  },
  {
   "cell_type": "markdown",
   "metadata": {},
   "source": [
    "### Disclaimer"
   ]
  },
  {
   "cell_type": "markdown",
   "metadata": {},
   "source": [
    "</summary>"
   ]
  },
  {
   "cell_type": "markdown",
   "metadata": {},
   "source": [
    "<b>Views Expressed</b>: All views expressed are the authors own and do not represent the opinions of any entity whatsover with which they have been, are now, or will be affiliated.\n",
    "\n",
    "<b>Responsibility</b>, Errors and Ommissions: The author makes no assurance about the reliability of the information. The author makes takes no responsibility for updating product nor maintaining any porformant status. Under no circumstances shall the Author or its affiliates be liable for any indirect incedental, consequential, or special and or exemplary damages arising out of or in connection with this  site and related products. Information is provided 'as is' with distinct plausability of errors and ommitions. Information found within the contents is attached with an MIT license. Please refer to the License for more information.\n",
    "\n",
    "<b>Use at Risk</b>: Any action you take upon the information or tooling provided is strictly at your own risk, and the author will not be liable for any losses and damages in connection with the use of this site and related products.\n",
    "\n",
    "Fair Use this site contains copyrighted material the use of which has not always been specifically authorized by the copyright owner. While no intention is made to unlawfully use copyrighted work, circumstanes may arise in which such material is made available in effort to advance scientific literacy. We believe this constitutes a 'fair use' of any such copyrighted material as provided for in section 107 of the US Copyright Law. In accordance with Titile 17 U.S.C. Section 108, the material on this site is distributed without profit to those who have expressed a prior interest in receiving the included information for research and education purposes.\n",
    "\n",
    "for more information go to: http://www.law.cornell.edu/uscode/17/107.shtml. If you wish to use copyrighted material from this site for purposes of your own that go beyond 'fair use', you must obtain permission from the copyright owner."
   ]
  },
  {
   "cell_type": "markdown",
   "metadata": {},
   "source": [
    "</details> <!-- End Disclaimer section -->\n",
    "<details>\n",
    "<summary>"
   ]
  },
  {
   "cell_type": "markdown",
   "metadata": {},
   "source": [
    "### License"
   ]
  },
  {
   "cell_type": "markdown",
   "metadata": {},
   "source": [
    "</summary>"
   ]
  },
  {
   "cell_type": "markdown",
   "metadata": {},
   "source": [
    "Copyright © 2022 Charles Karpati\n",
    "\n",
    "Permission is hereby granted, free of charge, to any person obtaining a copy of this software and associated documentation files (the \"Software\"), to deal in the Software without restriction, including without limitation the rights to use, copy, modify, merge, publish, distribute, sublicense, and/or sell copies of the Software, and to permit persons to whom the Software is furnished to do so, subject to the following conditions:\n",
    "\n",
    "The above copyright notice and this permission notice shall be included in all copies or substantial portions of the Software.\n",
    "\n",
    "THE SOFTWARE IS PROVIDED \"AS IS\", WITHOUT WARRANTY OF ANY KIND, EXPRESS OR IMPLIED, INCLUDING BUT NOT LIMITED TO THE WARRANTIES OF MERCHANTABILITY, FITNESS FOR A PARTICULAR PURPOSE AND NONINFRINGEMENT. IN NO EVENT SHALL THE AUTHORS OR COPYRIGHT HOLDERS BE LIABLE FOR ANY CLAIM, DAMAGES OR OTHER LIABILITY, WHETHER IN AN ACTION OF CONTRACT, TORT OR OTHERWISE, ARISING FROM, OUT OF OR IN CONNECTION WITH THE SOFTWARE OR THE USE OR OTHER DEALINGS IN THE SOFTWARE."
   ]
  },
  {
   "cell_type": "markdown",
   "metadata": {},
   "source": [
    "</details> <!-- End License section -->"
   ]
  },
  {
   "cell_type": "markdown",
   "metadata": {},
   "source": []
  }
 ],
 "metadata": {
  "interpreter": {
   "hash": "4f946df053fbf2b937619d3c5458e7af74262f9a954d8797ba0b27400bcafe06"
  },
  "kernelspec": {
   "display_name": "Python 3.8.12 64-bit",
   "language": "python",
   "name": "python3"
  },
  "language_info": {
   "codemirror_mode": {
    "name": "ipython",
    "version": 3
   },
   "file_extension": ".py",
   "mimetype": "text/x-python",
   "name": "python",
   "nbconvert_exporter": "python",
   "pygments_lexer": "ipython3",
   "version": "3.8.12"
  },
  "orig_nbformat": 4
 },
 "nbformat": 4,
 "nbformat_minor": 2
}

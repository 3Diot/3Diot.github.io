{
 "cells": [
  {
   "cell_type": "code",
   "execution_count": 2,
   "metadata": {},
   "outputs": [],
   "source": [
    "# default_exp core"
   ]
  },
  {
   "cell_type": "markdown",
   "metadata": {},
   "source": [
    "# module name here\n",
    "\n",
    "> API details."
   ]
  },
  {
   "cell_type": "code",
   "execution_count": 3,
   "metadata": {},
   "outputs": [
    {
     "name": "stdout",
     "output_type": "stream",
     "text": [
      "Requirement already satisfied: nbdev in c:\\users\\carlos\\appdata\\local\\programs\\python\\python310\\lib\\site-packages (1.2.8)\n",
      "Requirement already satisfied: marko in c:\\users\\carlos\\appdata\\local\\programs\\python\\python310\\lib\\site-packages (1.2.1)\n",
      "Requirement already satisfied: jupyter in c:\\users\\carlos\\appdata\\local\\programs\\python\\python310\\lib\\site-packages (from nbdev) (1.0.0)\n",
      "Requirement already satisfied: fastrelease in c:\\users\\carlos\\appdata\\local\\programs\\python\\python310\\lib\\site-packages (from nbdev) (0.1.16)\n",
      "Requirement already satisfied: nbconvert>=6.1 in c:\\users\\carlos\\appdata\\local\\programs\\python\\python310\\lib\\site-packages (from nbdev) (6.5.0)\n"
     ]
    },
    {
     "name": "stderr",
     "output_type": "stream",
     "text": [
      "WARNING: You are using pip version 22.0.3; however, version 22.1 is available.\n",
      "You should consider upgrading via the 'C:\\Users\\carlos\\AppData\\Local\\Programs\\Python\\Python310\\python.exe -m pip install --upgrade pip' command.\n"
     ]
    },
    {
     "name": "stdout",
     "output_type": "stream",
     "text": [
      "Requirement already satisfied: pip in c:\\users\\carlos\\appdata\\local\\programs\\python\\python310\\lib\\site-packages (from nbdev) (22.0.3)\n",
      "Requirement already satisfied: ghapi in c:\\users\\carlos\\appdata\\local\\programs\\python\\python310\\lib\\site-packages (from nbdev) (0.1.20)\n",
      "Requirement already satisfied: ipykernel in c:\\users\\carlos\\appdata\\roaming\\python\\python310\\site-packages (from nbdev) (6.8.0)\n",
      "Requirement already satisfied: pyyaml in c:\\users\\carlos\\appdata\\local\\programs\\python\\python310\\lib\\site-packages (from nbdev) (6.0)\n",
      "Requirement already satisfied: packaging in c:\\users\\carlos\\appdata\\local\\programs\\python\\python310\\lib\\site-packages (from nbdev) (21.3)\n",
      "Requirement already satisfied: Jinja2<3.1.0 in c:\\users\\carlos\\appdata\\local\\programs\\python\\python310\\lib\\site-packages (from nbdev) (3.0.3)\n",
      "Requirement already satisfied: fastcore>=1.4.1 in c:\\users\\carlos\\appdata\\local\\programs\\python\\python310\\lib\\site-packages (from nbdev) (1.4.3)\n",
      "Requirement already satisfied: nbformat>=4.4.0 in c:\\users\\carlos\\appdata\\local\\programs\\python\\python310\\lib\\site-packages (from nbdev) (5.4.0)\n",
      "Requirement already satisfied: jupyter-client<8 in c:\\users\\carlos\\appdata\\roaming\\python\\python310\\site-packages (from nbdev) (7.1.2)\n",
      "Requirement already satisfied: MarkupSafe>=2.0 in c:\\users\\carlos\\appdata\\local\\programs\\python\\python310\\lib\\site-packages (from Jinja2<3.1.0->nbdev) (2.1.1)\n",
      "Requirement already satisfied: nest-asyncio>=1.5 in c:\\users\\carlos\\appdata\\roaming\\python\\python310\\site-packages (from jupyter-client<8->nbdev) (1.5.4)\n",
      "Requirement already satisfied: pyzmq>=13 in c:\\users\\carlos\\appdata\\roaming\\python\\python310\\site-packages (from jupyter-client<8->nbdev) (22.3.0)\n",
      "Requirement already satisfied: traitlets in c:\\users\\carlos\\appdata\\roaming\\python\\python310\\site-packages (from jupyter-client<8->nbdev) (5.1.1)\n",
      "Requirement already satisfied: entrypoints in c:\\users\\carlos\\appdata\\roaming\\python\\python310\\site-packages (from jupyter-client<8->nbdev) (0.4)\n",
      "Requirement already satisfied: jupyter-core>=4.6.0 in c:\\users\\carlos\\appdata\\roaming\\python\\python310\\site-packages (from jupyter-client<8->nbdev) (4.9.1)\n",
      "Requirement already satisfied: python-dateutil>=2.1 in c:\\users\\carlos\\appdata\\roaming\\python\\python310\\site-packages (from jupyter-client<8->nbdev) (2.8.2)\n",
      "Requirement already satisfied: tornado>=4.1 in c:\\users\\carlos\\appdata\\roaming\\python\\python310\\site-packages (from jupyter-client<8->nbdev) (6.1)\n",
      "Requirement already satisfied: beautifulsoup4 in c:\\users\\carlos\\appdata\\local\\programs\\python\\python310\\lib\\site-packages (from nbconvert>=6.1->nbdev) (4.11.1)\n",
      "Requirement already satisfied: pandocfilters>=1.4.1 in c:\\users\\carlos\\appdata\\local\\programs\\python\\python310\\lib\\site-packages (from nbconvert>=6.1->nbdev) (1.5.0)\n",
      "Requirement already satisfied: jupyterlab-pygments in c:\\users\\carlos\\appdata\\local\\programs\\python\\python310\\lib\\site-packages (from nbconvert>=6.1->nbdev) (0.2.2)\n",
      "Requirement already satisfied: nbclient>=0.5.0 in c:\\users\\carlos\\appdata\\local\\programs\\python\\python310\\lib\\site-packages (from nbconvert>=6.1->nbdev) (0.6.3)\n",
      "Requirement already satisfied: tinycss2 in c:\\users\\carlos\\appdata\\local\\programs\\python\\python310\\lib\\site-packages (from nbconvert>=6.1->nbdev) (1.1.1)\n",
      "Requirement already satisfied: bleach in c:\\users\\carlos\\appdata\\local\\programs\\python\\python310\\lib\\site-packages (from nbconvert>=6.1->nbdev) (5.0.0)\n",
      "Requirement already satisfied: pygments>=2.4.1 in c:\\users\\carlos\\appdata\\roaming\\python\\python310\\site-packages (from nbconvert>=6.1->nbdev) (2.11.2)\n",
      "Requirement already satisfied: mistune<2,>=0.8.1 in c:\\users\\carlos\\appdata\\local\\programs\\python\\python310\\lib\\site-packages (from nbconvert>=6.1->nbdev) (0.8.4)\n",
      "Requirement already satisfied: defusedxml in c:\\users\\carlos\\appdata\\local\\programs\\python\\python310\\lib\\site-packages (from nbconvert>=6.1->nbdev) (0.7.1)\n",
      "Requirement already satisfied: jsonschema>=2.6 in c:\\users\\carlos\\appdata\\local\\programs\\python\\python310\\lib\\site-packages (from nbformat>=4.4.0->nbdev) (4.5.1)\n",
      "Requirement already satisfied: fastjsonschema in c:\\users\\carlos\\appdata\\local\\programs\\python\\python310\\lib\\site-packages (from nbformat>=4.4.0->nbdev) (2.15.3)\n",
      "Requirement already satisfied: ipython>=7.23.1 in c:\\users\\carlos\\appdata\\roaming\\python\\python310\\site-packages (from ipykernel->nbdev) (8.0.1)\n",
      "Requirement already satisfied: matplotlib-inline<0.2.0,>=0.1.0 in c:\\users\\carlos\\appdata\\roaming\\python\\python310\\site-packages (from ipykernel->nbdev) (0.1.3)\n",
      "Requirement already satisfied: debugpy<2.0,>=1.0.0 in c:\\users\\carlos\\appdata\\roaming\\python\\python310\\site-packages (from ipykernel->nbdev) (1.5.1)\n",
      "Requirement already satisfied: notebook in c:\\users\\carlos\\appdata\\local\\programs\\python\\python310\\lib\\site-packages (from jupyter->nbdev) (6.4.11)\n",
      "Requirement already satisfied: qtconsole in c:\\users\\carlos\\appdata\\local\\programs\\python\\python310\\lib\\site-packages (from jupyter->nbdev) (5.3.0)\n",
      "Requirement already satisfied: jupyter-console in c:\\users\\carlos\\appdata\\local\\programs\\python\\python310\\lib\\site-packages (from jupyter->nbdev) (6.4.3)\n",
      "Requirement already satisfied: ipywidgets in c:\\users\\carlos\\appdata\\local\\programs\\python\\python310\\lib\\site-packages (from jupyter->nbdev) (7.7.0)\n",
      "Requirement already satisfied: pyparsing!=3.0.5,>=2.0.2 in c:\\users\\carlos\\appdata\\local\\programs\\python\\python310\\lib\\site-packages (from packaging->nbdev) (3.0.7)\n",
      "Requirement already satisfied: black in c:\\users\\carlos\\appdata\\roaming\\python\\python310\\site-packages (from ipython>=7.23.1->ipykernel->nbdev) (22.1.0)\n",
      "Requirement already satisfied: stack-data in c:\\users\\carlos\\appdata\\roaming\\python\\python310\\site-packages (from ipython>=7.23.1->ipykernel->nbdev) (0.1.4)\n",
      "Requirement already satisfied: colorama in c:\\users\\carlos\\appdata\\roaming\\python\\python310\\site-packages (from ipython>=7.23.1->ipykernel->nbdev) (0.4.4)\n",
      "Requirement already satisfied: pickleshare in c:\\users\\carlos\\appdata\\roaming\\python\\python310\\site-packages (from ipython>=7.23.1->ipykernel->nbdev) (0.7.5)\n",
      "Requirement already satisfied: backcall in c:\\users\\carlos\\appdata\\roaming\\python\\python310\\site-packages (from ipython>=7.23.1->ipykernel->nbdev) (0.2.0)\n",
      "Requirement already satisfied: prompt-toolkit!=3.0.0,!=3.0.1,<3.1.0,>=2.0.0 in c:\\users\\carlos\\appdata\\roaming\\python\\python310\\site-packages (from ipython>=7.23.1->ipykernel->nbdev) (3.0.26)\n",
      "Requirement already satisfied: jedi>=0.16 in c:\\users\\carlos\\appdata\\roaming\\python\\python310\\site-packages (from ipython>=7.23.1->ipykernel->nbdev) (0.18.1)\n",
      "Requirement already satisfied: decorator in c:\\users\\carlos\\appdata\\roaming\\python\\python310\\site-packages (from ipython>=7.23.1->ipykernel->nbdev) (5.1.1)\n",
      "Requirement already satisfied: setuptools>=18.5 in c:\\users\\carlos\\appdata\\local\\programs\\python\\python310\\lib\\site-packages (from ipython>=7.23.1->ipykernel->nbdev) (58.1.0)\n",
      "Requirement already satisfied: pyrsistent!=0.17.0,!=0.17.1,!=0.17.2,>=0.14.0 in c:\\users\\carlos\\appdata\\local\\programs\\python\\python310\\lib\\site-packages (from jsonschema>=2.6->nbformat>=4.4.0->nbdev) (0.18.1)\n",
      "Requirement already satisfied: attrs>=17.4.0 in c:\\users\\carlos\\appdata\\local\\programs\\python\\python310\\lib\\site-packages (from jsonschema>=2.6->nbformat>=4.4.0->nbdev) (21.4.0)\n",
      "Requirement already satisfied: pywin32>=1.0 in c:\\users\\carlos\\appdata\\roaming\\python\\python310\\site-packages (from jupyter-core>=4.6.0->jupyter-client<8->nbdev) (303)\n",
      "Requirement already satisfied: six>=1.5 in c:\\users\\carlos\\appdata\\roaming\\python\\python310\\site-packages (from python-dateutil>=2.1->jupyter-client<8->nbdev) (1.16.0)\n",
      "Requirement already satisfied: soupsieve>1.2 in c:\\users\\carlos\\appdata\\local\\programs\\python\\python310\\lib\\site-packages (from beautifulsoup4->nbconvert>=6.1->nbdev) (2.3.2.post1)\n",
      "Requirement already satisfied: webencodings in c:\\users\\carlos\\appdata\\local\\programs\\python\\python310\\lib\\site-packages (from bleach->nbconvert>=6.1->nbdev) (0.5.1)\n",
      "Requirement already satisfied: widgetsnbextension~=3.6.0 in c:\\users\\carlos\\appdata\\local\\programs\\python\\python310\\lib\\site-packages (from ipywidgets->jupyter->nbdev) (3.6.0)\n",
      "Requirement already satisfied: ipython-genutils~=0.2.0 in c:\\users\\carlos\\appdata\\local\\programs\\python\\python310\\lib\\site-packages (from ipywidgets->jupyter->nbdev) (0.2.0)\n",
      "Requirement already satisfied: jupyterlab-widgets>=1.0.0 in c:\\users\\carlos\\appdata\\local\\programs\\python\\python310\\lib\\site-packages (from ipywidgets->jupyter->nbdev) (1.1.0)\n",
      "Requirement already satisfied: prometheus-client in c:\\users\\carlos\\appdata\\local\\programs\\python\\python310\\lib\\site-packages (from notebook->jupyter->nbdev) (0.14.1)\n",
      "Requirement already satisfied: argon2-cffi in c:\\users\\carlos\\appdata\\local\\programs\\python\\python310\\lib\\site-packages (from notebook->jupyter->nbdev) (21.3.0)\n",
      "Requirement already satisfied: Send2Trash>=1.8.0 in c:\\users\\carlos\\appdata\\local\\programs\\python\\python310\\lib\\site-packages (from notebook->jupyter->nbdev) (1.8.0)\n",
      "Requirement already satisfied: terminado>=0.8.3 in c:\\users\\carlos\\appdata\\local\\programs\\python\\python310\\lib\\site-packages (from notebook->jupyter->nbdev) (0.15.0)\n",
      "Requirement already satisfied: qtpy>=2.0.1 in c:\\users\\carlos\\appdata\\local\\programs\\python\\python310\\lib\\site-packages (from qtconsole->jupyter->nbdev) (2.1.0)\n",
      "Requirement already satisfied: parso<0.9.0,>=0.8.0 in c:\\users\\carlos\\appdata\\roaming\\python\\python310\\site-packages (from jedi>=0.16->ipython>=7.23.1->ipykernel->nbdev) (0.8.3)\n",
      "Requirement already satisfied: wcwidth in c:\\users\\carlos\\appdata\\roaming\\python\\python310\\site-packages (from prompt-toolkit!=3.0.0,!=3.0.1,<3.1.0,>=2.0.0->ipython>=7.23.1->ipykernel->nbdev) (0.2.5)\n",
      "Requirement already satisfied: pywinpty>=1.1.0 in c:\\users\\carlos\\appdata\\local\\programs\\python\\python310\\lib\\site-packages (from terminado>=0.8.3->notebook->jupyter->nbdev) (2.0.5)\n",
      "Requirement already satisfied: argon2-cffi-bindings in c:\\users\\carlos\\appdata\\local\\programs\\python\\python310\\lib\\site-packages (from argon2-cffi->notebook->jupyter->nbdev) (21.2.0)\n",
      "Requirement already satisfied: tomli>=1.1.0 in c:\\users\\carlos\\appdata\\roaming\\python\\python310\\site-packages (from black->ipython>=7.23.1->ipykernel->nbdev) (2.0.0)\n",
      "Requirement already satisfied: pathspec>=0.9.0 in c:\\users\\carlos\\appdata\\roaming\\python\\python310\\site-packages (from black->ipython>=7.23.1->ipykernel->nbdev) (0.9.0)\n",
      "Requirement already satisfied: click>=8.0.0 in c:\\users\\carlos\\appdata\\roaming\\python\\python310\\site-packages (from black->ipython>=7.23.1->ipykernel->nbdev) (8.0.3)\n",
      "Requirement already satisfied: mypy-extensions>=0.4.3 in c:\\users\\carlos\\appdata\\roaming\\python\\python310\\site-packages (from black->ipython>=7.23.1->ipykernel->nbdev) (0.4.3)\n",
      "Requirement already satisfied: platformdirs>=2 in c:\\users\\carlos\\appdata\\roaming\\python\\python310\\site-packages (from black->ipython>=7.23.1->ipykernel->nbdev) (2.4.1)\n",
      "Requirement already satisfied: executing in c:\\users\\carlos\\appdata\\roaming\\python\\python310\\site-packages (from stack-data->ipython>=7.23.1->ipykernel->nbdev) (0.8.2)\n",
      "Requirement already satisfied: asttokens in c:\\users\\carlos\\appdata\\roaming\\python\\python310\\site-packages (from stack-data->ipython>=7.23.1->ipykernel->nbdev) (2.0.5)\n",
      "Requirement already satisfied: pure-eval in c:\\users\\carlos\\appdata\\roaming\\python\\python310\\site-packages (from stack-data->ipython>=7.23.1->ipykernel->nbdev) (0.2.2)\n",
      "Requirement already satisfied: cffi>=1.0.1 in c:\\users\\carlos\\appdata\\local\\programs\\python\\python310\\lib\\site-packages (from argon2-cffi-bindings->argon2-cffi->notebook->jupyter->nbdev) (1.15.0)\n",
      "Requirement already satisfied: pycparser in c:\\users\\carlos\\appdata\\local\\programs\\python\\python310\\lib\\site-packages (from cffi>=1.0.1->argon2-cffi-bindings->argon2-cffi->notebook->jupyter->nbdev) (2.21)\n"
     ]
    }
   ],
   "source": [
    "#hide \n",
    "!pip install nbdev marko"
   ]
  },
  {
   "cell_type": "code",
   "execution_count": 4,
   "metadata": {},
   "outputs": [],
   "source": [
    "#hide\n",
    "from nbdev.showdoc import *"
   ]
  },
  {
   "cell_type": "code",
   "execution_count": 5,
   "metadata": {},
   "outputs": [],
   "source": [
    "#export\n",
    "def say_hello(to):\n",
    "    \"Say hello to somebody\"\n",
    "    return f'Hello {to}!'"
   ]
  },
  {
   "cell_type": "markdown",
   "metadata": {},
   "source": [
    "[nb_2_html](https://github.com/BNIA/dataplay/blob/main/notebooks/04_nb_2_html.ipynb)"
   ]
  },
  {
   "cell_type": "code",
   "execution_count": 6,
   "metadata": {},
   "outputs": [],
   "source": [
    "#export\n",
    "import re\n",
    "from IPython.display import clear_output\n",
    "import marko"
   ]
  },
  {
   "cell_type": "code",
   "execution_count": 7,
   "metadata": {},
   "outputs": [],
   "source": [
    "#export\n",
    "from nbdev import export2html\n",
    "from nbdev.export2html import read_nb, get_metadata, clean_exports\n",
    "from nbdev.export import split_flags_and_code, check_re_multi"
   ]
  },
  {
   "cell_type": "code",
   "execution_count": 8,
   "metadata": {},
   "outputs": [],
   "source": [
    "#export\n",
    "# 1st fn. passes each cell to decision fn.\n",
    "def convertNb(nb):  return [cleanCell(c) for c in nb['cells']]\n",
    "\n",
    "# 2nd fn. returns text or passes cell to 'code cell' processor\n",
    "def cleanCell(cell): return marko.convert(cell.source) if cell.cell_type == 'markdown' else processCode(cell)\n",
    "\n",
    "# 3rd fn. Calls getFlags, processSource, processOutput\n",
    "def processCode(cell):\n",
    "  x = [cell.source]\n",
    "  flags = getFlags(x[0])\n",
    "  x[0] = processSource( x[0], flags )\n",
    "  if ( len(cell.outputs) ):\n",
    "    for o in cell.outputs: x.append( processOutput(o, flags) )\n",
    "  return x"
   ]
  },
  {
   "cell_type": "code",
   "execution_count": 9,
   "metadata": {},
   "outputs": [],
   "source": [
    "#export\n",
    "# Detect and stripout and handle flags.\n",
    "def getFlags(source):\n",
    "  input_aug = ['#collapse_input_open', '#collapse_input', '#collapse_output_open', '#collapse_output',\n",
    "               '#hide_input', '#hide_output', '#hide ', '%%capture', '%%javascript', '%%html']\n",
    "  return [ x for x in input_aug if re.search(x, source) ]\n",
    "\n",
    "# enclose the text within a collapsable html drawer.\n",
    "def makeDetails( content, open ):\n",
    "  return \"<details \"+('open' if open else '')+\"> <summary>Click to toggle</summary> \"+content+\"</details>\""
   ]
  },
  {
   "cell_type": "code",
   "execution_count": 10,
   "metadata": {},
   "outputs": [],
   "source": [
    "#export\n",
    "# Strip Flags from text, make details, hide all.\n",
    "def processSource (source, flags):\n",
    "  for lbl in flags:\n",
    "    source = source.replace(lbl+'\\r\\n', \"\")\n",
    "    source = source.replace(lbl+'\\n', \"\") # Strip the Flag\n",
    "    if (lbl == '#collapse_input_open'): source = makeDetails( source, True )\n",
    "    if (lbl == '#collapse_input'): source = makeDetails( source, False )\n",
    "    if (lbl == '#hide '): source = ''\n",
    "    if (lbl == '#hide_input'): source = ''\n",
    "    if (lbl == '%%javascript'): source = ''\n",
    "    if (lbl == '%%html'): source = ''\n",
    "    if (lbl == '%%capture'): source = ''\n",
    "  return source"
   ]
  },
  {
   "cell_type": "code",
   "execution_count": 11,
   "metadata": {},
   "outputs": [],
   "source": [
    "#export\n",
    "def processOutput(source, flags):\n",
    "  if(source.output_type=='error'):  return ''\n",
    "  if(source.output_type=='stream'):\n",
    "    if(source.name=='stderr'): return ''\n",
    "    source.data = {'text/html': source.text} # This will have the stream process as text/html.\n",
    "  print(source.data.keys())\n",
    "  if ( hasattr(source.data, 'text/html') ): source=source.data['text/html'];\n",
    "  elif ( hasattr(source.data, 'application/javascript') ): source='<script>'+source.data['application/javascript']+'</script>'\n",
    "  elif ( hasattr(source.data, 'image/png') ): source= \"<img src=\\\"data:image/png;base64,\" + source.data['image/png'] + \"\\\" alt='Image Alt Text'>\"\n",
    "  elif ( hasattr(source.data, 'text/plain') ): source = '' if re.search(\"<Figure\", source.data['text/plain']) else source.data['text/plain'];\n",
    "  # print(source)\n",
    "  for lbl in flags:\n",
    "    source = source.replace(lbl+'\\r\\n', \"\")\n",
    "    source = source.replace(lbl+'\\n', \"\") # Strip the Flag\n",
    "    if (lbl == '#collapse_output_open'): source = makeDetails( source, True )\n",
    "    if (lbl == '#collapse_output'): source = makeDetails( source, False )\n",
    "    if (lbl == '#hide_output'): source = ''\n",
    "    if (lbl == '#hide '): source = ''\n",
    "  return source\n",
    "  #output_type == 'stream' ==> text\n",
    "  #output_type == 'display_data' ==> data{'application/javascript' or 'text/html' or 'execute_result'}"
   ]
  },
  {
   "cell_type": "code",
   "execution_count": 12,
   "metadata": {},
   "outputs": [],
   "source": [
    "#export\n",
    "# Must be in directory of ipynb you want to convert to html.\n",
    "def publish(fname='index'): \n",
    "  sys.path.pop()\n",
    "  sys.path.append('workspaces/3Diot.github.io/docs/')\n",
    "  %cd ../\n",
    "  from blog import core \n",
    "  %cd notebooks \n",
    "  nb = read_nb(fname+'.ipynb')\n",
    "  meta_jekyll = get_metadata(nb['cells'])\n",
    "  outp = convertNb(nb)\n",
    "  outp = ''.join( [''.join(c) for c in outp] ) \n",
    "  resp = ''.join( [''.join(c) for c in outp] )\n",
    "  template = open(\"../docs/_templates/\"+meta_jekyll['template']+\".html\", \"r\").read() \n",
    "  template = template.replace('{{tab}}', meta_jekyll['tab']) \n",
    "  template = template.replace('{{title}}', meta_jekyll['title']) \n",
    "  template = template.replace('{{filename}}', fname+'.ipynb') \n",
    "  txt = template.replace('{{content}}', resp ) \n",
    "  f = open(\"../docs/\"+meta_jekyll['filename'].lower().replace(' ', '_')+\".html\", \"w\", encoding=\"utf-8\")\n",
    "  f.write(txt)\n",
    "  f.close()\n",
    "  return txt\n",
    "  # return \"<p>Hello, Worrrld!</p>\""
   ]
  },
  {
   "cell_type": "code",
   "execution_count": null,
   "metadata": {},
   "outputs": [],
   "source": [
    "publish('index')"
   ]
  },
  {
   "cell_type": "code",
   "execution_count": 14,
   "metadata": {},
   "outputs": [],
   "source": [
    "# publish('002_Parcels')"
   ]
  },
  {
   "cell_type": "code",
   "execution_count": null,
   "metadata": {},
   "outputs": [],
   "source": [
    "publish('003_TokenGating')"
   ]
  },
  {
   "cell_type": "code",
   "execution_count": null,
   "metadata": {},
   "outputs": [],
   "source": [
    "publish('004_Lore')"
   ]
  },
  {
   "cell_type": "code",
   "execution_count": 17,
   "metadata": {},
   "outputs": [],
   "source": [
    "# publish('006_Tutorials')"
   ]
  },
  {
   "cell_type": "code",
   "execution_count": 18,
   "metadata": {},
   "outputs": [],
   "source": [
    "# publish('007_Monetize')"
   ]
  },
  {
   "cell_type": "code",
   "execution_count": null,
   "metadata": {},
   "outputs": [],
   "source": [
    "ls"
   ]
  },
  {
   "cell_type": "code",
   "execution_count": 20,
   "metadata": {},
   "outputs": [],
   "source": [
    "nb = read_nb('index.ipynb')\n",
    "outp = convertNb(nb)"
   ]
  },
  {
   "cell_type": "code",
   "execution_count": 21,
   "metadata": {},
   "outputs": [],
   "source": [
    "#export\n",
    "def runit(fname='index.ipynb'): \n",
    "  nb = read_nb(fname)\n",
    "  meta_jekyll = get_metadata(nb['cells'])\n",
    "  outp = convertNb(nb)\n",
    "  txt = ''.join( [''.join(c) for c in outp] )\n",
    "  return txt"
   ]
  },
  {
   "cell_type": "code",
   "execution_count": null,
   "metadata": {},
   "outputs": [],
   "source": [
    "pip install flask"
   ]
  },
  {
   "cell_type": "code",
   "execution_count": null,
   "metadata": {},
   "outputs": [],
   "source": [
    "ls"
   ]
  },
  {
   "cell_type": "code",
   "execution_count": 24,
   "metadata": {},
   "outputs": [],
   "source": [
    "sys.path.append('workspaces/3Diot.github.io/blog/')"
   ]
  },
  {
   "cell_type": "code",
   "execution_count": null,
   "metadata": {},
   "outputs": [],
   "source": []
  },
  {
   "cell_type": "code",
   "execution_count": null,
   "metadata": {},
   "outputs": [],
   "source": [
    "from flask import Flask\n",
    "import re\n",
    "app = Flask(__name__)\n",
    "\n",
    "@app.route(\"/\")\n",
    "def homepage():  \n",
    "  return publish('index') \n",
    "    \n",
    "@app.route(\"/parcels\")\n",
    "def parcels():  \n",
    "  return publish('002_Parcels') \n",
    "\n",
    "@app.route(\"/progress\")\n",
    "def progress():  \n",
    "  return publish('003_Progress') \n",
    "\n",
    "@app.route(\"/scarcity\")\n",
    "def scarcity():  \n",
    "  return publish('004_Scarcity') \n",
    "\n",
    "@app.route(\"/technology\")\n",
    "def technology():  \n",
    "  return publish('005_Technology') \n",
    "\n",
    "@app.route(\"/tutorials\")\n",
    "def tutorials():  \n",
    "  return publish('006_Tutorials') \n",
    "\n",
    "\n",
    "@app.route(\"/legal\")\n",
    "def legal():  \n",
    "  return publish('999_Legal') \n",
    "  \n",
    "\n",
    "app.run()"
   ]
  },
  {
   "cell_type": "code",
   "execution_count": null,
   "metadata": {},
   "outputs": [
    {
     "name": "stdout",
     "output_type": "stream",
     "text": [
      "dict_keys(['text/html', 'text/plain'])\n",
      "dict_keys(['image/png', 'text/plain'])\n",
      "dict_keys(['image/png', 'text/plain'])\n",
      "dict_keys(['text/html', 'text/plain'])\n"
     ]
    }
   ],
   "source": [
    "t = runit(fname='002_Parcels.ipynb')"
   ]
  },
  {
   "cell_type": "code",
   "execution_count": null,
   "metadata": {},
   "outputs": [],
   "source": [
    "import IPython\n",
    "IPython.display.HTML(t)"
   ]
  },
  {
   "cell_type": "code",
   "execution_count": null,
   "metadata": {},
   "outputs": [
    {
     "name": "stdout",
     "output_type": "stream",
     "text": [
      "000_core.ipynb        001c_Example.ipynb  013_CV_Misc.ipynb  index.ipynb\n",
      "001a_core_test.ipynb  002_Parcels.ipynb   _devserver.ipynb\n",
      "001b_core_test.ipynb  003_Scarcity.ipynb  cv_map.geojson\n"
     ]
    }
   ],
   "source": [
    "ls"
   ]
  },
  {
   "cell_type": "code",
   "execution_count": null,
   "metadata": {},
   "outputs": [],
   "source": [
    "sys.path.append('workspaces/3Diot.github.io/blog/')"
   ]
  },
  {
   "cell_type": "code",
   "execution_count": null,
   "metadata": {},
   "outputs": [],
   "source": [
    "sys.path"
   ]
  },
  {
   "cell_type": "code",
   "execution_count": null,
   "metadata": {},
   "outputs": [],
   "source": []
  },
  {
   "cell_type": "code",
   "execution_count": null,
   "metadata": {},
   "outputs": [],
   "source": []
  }
 ],
 "metadata": {
  "kernelspec": {
   "display_name": "Python 3",
   "language": "python",
   "name": "python3"
  },
  "language_info": {
   "codemirror_mode": {
    "name": "ipython",
    "version": 3
   },
   "file_extension": ".py",
   "mimetype": "text/x-python",
   "name": "python",
   "nbconvert_exporter": "python",
   "pygments_lexer": "ipython3",
   "version": "3.10.2"
  }
 },
 "nbformat": 4,
 "nbformat_minor": 2
}

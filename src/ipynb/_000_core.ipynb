{
 "cells": [
  {
   "attachments": {},
   "cell_type": "markdown",
   "metadata": {},
   "source": [
    "# module name here\n",
    "\n",
    "> API details.\n",
    "\n",
    "- filename: core"
   ]
  },
  {
   "cell_type": "code",
   "execution_count": 33,
   "metadata": {},
   "outputs": [],
   "source": [
    "%%capture\n",
    "pip install marko"
   ]
  },
  {
   "cell_type": "code",
   "execution_count": 20,
   "metadata": {},
   "outputs": [],
   "source": [
    "#export \n",
    "# Export your notebooks to a python script.\n",
    "\n",
    "def main():\n",
    "    \"\"\"\n",
    "    For Testing\n",
    "    \"\"\"\n",
    "    print(\"Hello.\")"
   ]
  },
  {
   "cell_type": "code",
   "execution_count": 21,
   "metadata": {},
   "outputs": [],
   "source": [
    "#export \n",
    "import re\n",
    "import marko\n",
    "import json\n",
    "import codecs"
   ]
  },
  {
   "attachments": {},
   "cell_type": "markdown",
   "metadata": {},
   "source": [
    "# NB2HTML"
   ]
  },
  {
   "cell_type": "code",
   "execution_count": 30,
   "metadata": {},
   "outputs": [],
   "source": [
    "#export \n",
    "def cv_cli_nbs2html(): \n",
    "    import sys\n",
    "    pathto, pages, saveto = sys.argv[1], sys.argv[2], sys.argv[3]\n",
    "    generate_sitemap([pathto+page for page in pages.split(',')], saveto)"
   ]
  },
  {
   "cell_type": "code",
   "execution_count": 32,
   "metadata": {},
   "outputs": [],
   "source": [
    "#export \n",
    "def generate_sitemap(pages, saveto = \"../src/posts/\"): \n",
    "    \"\"\" \n",
    "    0. Publish a set of pages and create a table of contents json file for em.\n",
    "    Checks or creates sitemap.json and uses it to generate and update pages from the cmd line.\n",
    "    \"\"\"\n",
    "    links = []\n",
    "    try:\n",
    "        with open(saveto+\"sitemap.json\", \"r\") as json_file: \n",
    "            # This will add the 'filename' attribute of each object in json_array to the pages list, \n",
    "            # # if it is not already present in the list and also check if it is a subset of any value in the list. \n",
    "            # The set function will remove any duplicate and the list will convert it back to list.\n",
    "            pages = list(set(pages + [obj['filename'] for obj in json_array if not any(val in obj['filename'] for val in pages)]))\n",
    "            json_file.close()\n",
    "    except: ''\n",
    "\n",
    "    for page in pages: \n",
    "        # print('generate_page', page)\n",
    "        r = ipynb_publish(page, saveto) \n",
    "        if( r['meta']['hide'] == 'false'):\n",
    "            delist = ['badges', 'keywords', 'comments', 'hide', 'image', 'toc', 'title']\n",
    "            links.append({key: val for key, val in r['meta'].items() if key not in delist})\n",
    "\n",
    "    try:\n",
    "        with open(saveto+\"sitemap.json\", \"w\") as json_file:\n",
    "            json_file.write(str(json.dumps(links)))\n",
    "            json_file.close()\n",
    "    except:\n",
    "        with open(saveto+\"sitemap.json\", \"w\") as json_file:\n",
    "            json_file.write(\"{}\")"
   ]
  },
  {
   "cell_type": "code",
   "execution_count": 3,
   "metadata": {},
   "outputs": [],
   "source": [
    "#export \n",
    "def ipynb_publish(fname='index', saveto=\"../src/posts/\", type='json'): \n",
    "    '''\n",
    "    1. Publish ipynb to json or html.\n",
    "    '''\n",
    "    if (type=='html'): raw = nb2html(fname); r=raw\n",
    "    if (type=='json'): \n",
    "        raw = nb2json(fname);  \n",
    "        fname = raw['meta']['filename'].lower().replace(' ', '_')\n",
    "        r = str(json.dumps(raw))\n",
    "    t = saveto+fname+\".\"+type\n",
    "    f = open(t, \"w\") \n",
    "    f.write( r )\n",
    "    f.close() \n",
    "    return raw"
   ]
  },
  {
   "cell_type": "code",
   "execution_count": 4,
   "metadata": {},
   "outputs": [],
   "source": [
    "#export\n",
    "def nb2html(fname): return nb2json(fname)['content'] "
   ]
  },
  {
   "cell_type": "code",
   "execution_count": 5,
   "metadata": {},
   "outputs": [],
   "source": [
    "#export \n",
    "def nb2json(fname): \n",
    "    \"\"\" \n",
    "    1a. Must be in directory of ipynb you want to convert to html.\n",
    "    \"\"\"\n",
    "    # sys.path.pop()\n",
    "    # sys.path.append('workspaces/3Diot.github.io/ipynb')\n",
    "    # from blog import core \n",
    "    # %cd ../ipynb \n",
    "    nb = json.loads( codecs.open(fname+'.ipynb', 'r').read() )\n",
    "    meta = get_metadata(nb['cells'][0])\n",
    "    outp = convertNb(nb['cells'][1:])\n",
    "    # print(outp)\n",
    "    # print(len(outp))\n",
    "    p1 = [''.join(c) for c in outp]\n",
    "    outp = ''.join( p1 ) \n",
    "    resp = ''.join( [''.join(c) for c in outp] )\n",
    "    resp = replaceEmojis(resp)\n",
    "    return {\"meta\":meta,\"content\":resp}"
   ]
  },
  {
   "cell_type": "code",
   "execution_count": 6,
   "metadata": {},
   "outputs": [],
   "source": [
    "#export \n",
    "def get_metadata(data):\n",
    "    \"\"\" \n",
    "    2. Get markdown (title, summary) and yaml from 1st cell in ipynb.\n",
    "    \"\"\"\n",
    "    y = {}\n",
    "    for x in data['source']: \n",
    "        # starts with #\n",
    "        if(x[0] == '#'):\n",
    "            y['title'] = x.replace('\\n', '').replace('# ', '', 2)\n",
    "        elif(x[0] == '>'):\n",
    "            y['summary'] = x.replace('\\n', '').replace('> ', '', 1)\n",
    "        elif(x[0] == '-'):\n",
    "            key = (x[x.index('- ')+2:x.index(': ')])\n",
    "            val = (x[x.index(': ')+2:].replace('\\n', ''))\n",
    "            # print('key', key); print('value', val)            \n",
    "            y[key] = val\n",
    "    return y"
   ]
  },
  {
   "cell_type": "code",
   "execution_count": 7,
   "metadata": {},
   "outputs": [],
   "source": [
    "#export \n",
    "def convertNb(cells): \n",
    "    \"\"\" \n",
    "    3. passes each cell to decision fn.\n",
    "    \"\"\"\n",
    "    return [cleanCell(c) for c in cells]\n",
    "\n",
    "def cleanCell(cell):\n",
    "    \"\"\" \n",
    "    4. returns text or passes cell to 'code cell' processor\n",
    "    \"\"\"\n",
    "    return marko.convert(' '.join(cell['source'])) if cell['cell_type'] == 'markdown' else processCode(cell)"
   ]
  },
  {
   "cell_type": "code",
   "execution_count": 8,
   "metadata": {},
   "outputs": [],
   "source": [
    "#export \n",
    "def processCode(cell): \n",
    "    \"\"\" \n",
    "    5. Calls getFlags, processSource, processOutput \n",
    "    \"\"\"\n",
    "    x = []\n",
    "    # source \n",
    "    if ( len(cell['source']) ):\n",
    "        source = cell['source']\n",
    "        flags = getFlags(source[0])\n",
    "        # print('Flags: ', flags)\n",
    "\n",
    "        source = processSource( ' '.join(source[1:]), flags )\n",
    "        # print('Processed Source')\n",
    "        x.append(source)\n",
    "    # output\n",
    "    if ( len(cell['outputs']) ):\n",
    "        for o in cell['outputs']: x.append( processOutput(o, flags) )\n",
    "        # print('Processed Output')\n",
    "        #clear_output()\n",
    "    return x\n",
    "\n",
    "def getFlags(source):\n",
    "    \"\"\" \n",
    "    6a. Detect and stripout and handle flags.\n",
    "    \"\"\"\n",
    "    input_aug = ['#collapse_input_open', '#collapse_input', '#collapse_output_open', '#collapse_output',\n",
    "                '#hide_input', '#hide_output', '#hide ', '%%capture', '%%javascript', '%%html']\n",
    "    return [ x for x in input_aug if re.search(x, source) ]"
   ]
  },
  {
   "cell_type": "code",
   "execution_count": 9,
   "metadata": {},
   "outputs": [],
   "source": [
    "#export \n",
    "def processSource (source, flags):\n",
    "    \"\"\" \n",
    "    6b. Strip Flags from text, make details, hide all.\n",
    "    \"\"\"\n",
    "    # print('processSource... ', source)\n",
    "    for lbl in flags:\n",
    "        # print('processSource... ', lbl)\n",
    "        source = source.replace(lbl+'\\r\\n', \"\")\n",
    "        source = source.replace(lbl+'\\n', \"\") # Strip the Flag\n",
    "        if (lbl == '#collapse_input_open'): source = makeDetails( source, True )\n",
    "        if (lbl == '#collapse_input'): source = makeDetails( source, False )\n",
    "        if (lbl == '#hide '): source = ''\n",
    "        if (lbl == '#hide_input'): source = ''\n",
    "        if (lbl == '%%javascript'): source = ''\n",
    "        if (lbl == '%%html'): source = ''\n",
    "        if (lbl == '%%capture'): source = ''\n",
    "    return source"
   ]
  },
  {
   "cell_type": "code",
   "execution_count": 10,
   "metadata": {},
   "outputs": [],
   "source": [
    "#export \n",
    "def processOutput(source, flags):\n",
    "    \"\"\" \n",
    "    6c. Strip Flags from output, make details, hide all.\n",
    "    \"\"\"\n",
    "    if(source['output_type']=='error'):  return ''\n",
    "    if(source['output_type']=='stream'):\n",
    "        if(source['name']=='stderr'): return ''\n",
    "        source['data'] = {'text/html': source['text']} # This will have the stream process as text/html. \n",
    "\n",
    "    keys = source['data'].keys()\n",
    "    if ( 'text/html' in keys ): source=source['data']['text/html']; source = ''.join( source )\n",
    "    elif ( 'application/javascript' in keys ): source='<script>'+source['data']['application/javascript']+'</script>'\n",
    "    elif ( 'image/png' in keys ): source= \"<img src=\\\"data:image/png;base64,\" + source['data']['image/png'] + \"\\\" alt='Image Alt Text'>\"\n",
    "    elif ( 'text/plain' in keys ): source = '' if re.search(\"<Figure\", source['data']['text/plain']) else source['data']['text/plain'];\n",
    "\n",
    "    for lbl in flags:\n",
    "        source = source.replace(lbl+'\\r\\n', \"\")\n",
    "        source = source.replace(lbl+'\\n', \"\")\n",
    "        if (lbl == '#collapse_output_open'): source = makeDetails( source, True )\n",
    "        if (lbl == '#collapse_output'): source = makeDetails( source, False )\n",
    "        if (lbl == '#hide_output'): source = ''\n",
    "        if (lbl == '#hide '): source = ''\n",
    "\n",
    "    return source\n",
    "    #output_type == 'stream' ==> text\n",
    "    #output_type == 'display_data' ==> data{'application/javascript' or 'text/html' or 'execute_result'}"
   ]
  },
  {
   "cell_type": "code",
   "execution_count": 11,
   "metadata": {},
   "outputs": [],
   "source": [
    "#export \n",
    "def makeDetails( content, open ):\n",
    "    \"\"\" \n",
    "    7. Called by processOutput and processSource.\n",
    "    \"\"\"\n",
    "    return \"<details \"+('open' if open else '')+\"> <summary>Click to toggle</summary> \"+content+\"</details>\""
   ]
  },
  {
   "cell_type": "code",
   "execution_count": 12,
   "metadata": {},
   "outputs": [],
   "source": [
    "#export \n",
    "def replaceEmojis(text):\n",
    "    \"\"\" \n",
    "    8. Convert emojis to html entities\n",
    "    \"\"\"\n",
    "    text = text.replace('🙂', '&#1F642')\n",
    "    text = text.replace('😳', '&#128563')\n",
    "    text = text.replace('\\u2003', '&#8195')\n",
    "    text = text.replace('👷', '&#128119')\n",
    "    text = text.replace('🧡', '&#129505')\n",
    "    text = text.replace('💖', '&#128150')\n",
    "    # Dec => Code => https://apps.timwhitlock.info/unicode/inspect/hex/1F633\n",
    "    return text"
   ]
  },
  {
   "attachments": {},
   "cell_type": "markdown",
   "metadata": {},
   "source": [
    "# NB2PY"
   ]
  },
  {
   "cell_type": "code",
   "execution_count": 17,
   "metadata": {},
   "outputs": [],
   "source": [
    "#export \n",
    "def filterCells(cell):\n",
    "    \"\"\"\n",
    "    2nd fn. returns text or passes cell to 'code cell' processor\n",
    "    \"\"\"\n",
    "    return '' if cell['cell_type'] == 'markdown' else getCode(cell)\n",
    "\n",
    "def getCode(cell):\n",
    "    \"\"\"\n",
    "    3rd fn. passes each cell to decision fn.\n",
    "    \"\"\"\n",
    "    # print(cell['source'], '\\n')\n",
    "    flags = [ x for x in ['#export '] if re.search(x, cell['source'][0]) ]\n",
    "    x = ''.join(cell['source'][1:]) if len(flags)>=1 else ''\n",
    "    return x\n",
    "\n",
    "def nb2py(infile, outfile):\n",
    "    \"\"\"\n",
    "    1st fn. passes each cell to decision fn.\n",
    "    \"\"\"\n",
    "    links = []\n",
    "    nb = json.loads( codecs.open(infile, 'r').read() )\n",
    "    nb2 = [filterCells(c) for c in nb['cells']]\n",
    "    while(\"\" in nb2):\n",
    "        nb2.remove(\"\")\n",
    "    outp = '\\n\\n'.join(nb2)\n",
    "    f = open(outfile, \"w\") \n",
    "    f.write(outp)\n",
    "    f.close()"
   ]
  },
  {
   "cell_type": "code",
   "execution_count": 18,
   "metadata": {},
   "outputs": [],
   "source": [
    "#export \n",
    "def bump_version(path):\n",
    "    with open(path+'__init__.py', 'r') as f:\n",
    "        lines = f.readlines()\n",
    "        f.close()\n",
    "    for i, line in enumerate(lines): \n",
    "        if line.startswith('__version__'):\n",
    "            version = re.findall(r'\\d+\\.\\d+\\.\\d+', line)[0].split('.')\n",
    "            if(version[2] != '99'):\n",
    "                version[2] = str(int(version[2])+1)\n",
    "            else:\n",
    "                version[2] = '0'\n",
    "                if(version[1] != '99'):\n",
    "                    version[1] = str(int(version[1])+1)\n",
    "                else:\n",
    "                    version[1] = '0'\n",
    "                    version[0] = str(int(version[0])+1)\n",
    "            f = open(path+'__init__.py', \"w\")\n",
    "            f.write('__version__ = \"' +'.'.join(version) + '\"')\n",
    "            f.close()"
   ]
  },
  {
   "cell_type": "code",
   "execution_count": 19,
   "metadata": {},
   "outputs": [],
   "source": [
    "# bump_version('../cvminigames/')"
   ]
  },
  {
   "cell_type": "code",
   "execution_count": 20,
   "metadata": {},
   "outputs": [],
   "source": [
    "#export \n",
    "def cv_cli_bump_version():\n",
    "    import sys\n",
    "    path = sys.argv[1]\n",
    "    bump_version(path)\n",
    "\n",
    "def cv_cli_nb2py(): \n",
    "    import sys\n",
    "    infile, outfile = sys.argv[1], sys.argv[2]\n",
    "    nb2py(infile, outfile)"
   ]
  },
  {
   "attachments": {},
   "cell_type": "markdown",
   "metadata": {},
   "source": [
    "# Tests"
   ]
  },
  {
   "attachments": {},
   "cell_type": "markdown",
   "metadata": {},
   "source": [
    "Run these second"
   ]
  },
  {
   "cell_type": "code",
   "execution_count": null,
   "metadata": {},
   "outputs": [],
   "source": [
    "from cvminigames import outp\n",
    "outp.generate_sitemap(['index', '001_Legal', '002_Parcels', '003_Lore', '004_Tutorials', '005_Monetize', '006_Websites'])"
   ]
  },
  {
   "cell_type": "code",
   "execution_count": null,
   "metadata": {},
   "outputs": [],
   "source": [
    "cv_cli_nbs2html('../ipynb/', 'index,001_Legal,002_Parcels,003_Lore,004_Tutorials,005_Monetize,006_Websites', '../src/posts/')"
   ]
  },
  {
   "cell_type": "code",
   "execution_count": null,
   "metadata": {},
   "outputs": [],
   "source": [
    "from cvminigames import outp\n",
    "outp.nb2py('_000_core.ipynb', \"../cvminigames/outp.py\")"
   ]
  },
  {
   "attachments": {},
   "cell_type": "markdown",
   "metadata": {},
   "source": [
    "first build it"
   ]
  },
  {
   "cell_type": "code",
   "execution_count": null,
   "metadata": {},
   "outputs": [],
   "source": [
    "%%capture\n",
    "!python -m build ../"
   ]
  },
  {
   "attachments": {},
   "cell_type": "markdown",
   "metadata": {},
   "source": [
    "then (Uninstall and) reinstall"
   ]
  },
  {
   "cell_type": "code",
   "execution_count": null,
   "metadata": {},
   "outputs": [],
   "source": [
    "# pip uninstall C:\\Users\\carlos\\Documents\\GitHub\\CVminiGames.github.io\\dist\\cvminigames-0.0.2-py3-none-any.whl"
   ]
  },
  {
   "cell_type": "code",
   "execution_count": null,
   "metadata": {},
   "outputs": [],
   "source": [
    "%%capture\n",
    "pip install C:\\Users\\carlos\\Documents\\GitHub\\CVminiGames.github.io\\dist\\cvminigames-0.0.2-py3-none-any.whl --force-reinstall"
   ]
  },
  {
   "attachments": {},
   "cell_type": "markdown",
   "metadata": {},
   "source": [
    "Test"
   ]
  },
  {
   "cell_type": "code",
   "execution_count": null,
   "metadata": {},
   "outputs": [
    {
     "name": "stdout",
     "output_type": "stream",
     "text": [
      "pathto:  ../ipynb/\n",
      "pages:  index,001_Legal,002_Parcels,003_Lore,004_Tutorials,005_Monetize,006_Websites\n",
      "saveTo:  ../src/posts/\n",
      "html ['../ipynb/index', '../ipynb/001_Legal', '../ipynb/002_Parcels', '../ipynb/003_Lore', '../ipynb/004_Tutorials', '../ipynb/005_Monetize', '../ipynb/006_Websites'] ../src/posts/\n"
     ]
    }
   ],
   "source": [
    "!nbs2html ../ipynb/ index,001_Legal,002_Parcels,003_Lore,004_Tutorials,005_Monetize,006_Websites ../src/posts/"
   ]
  },
  {
   "cell_type": "code",
   "execution_count": null,
   "metadata": {},
   "outputs": [],
   "source": [
    "import cvminigames"
   ]
  },
  {
   "cell_type": "code",
   "execution_count": null,
   "metadata": {},
   "outputs": [],
   "source": [
    "from cvminigames import outp"
   ]
  },
  {
   "cell_type": "code",
   "execution_count": null,
   "metadata": {},
   "outputs": [],
   "source": [
    "from cvminigames import outp\n",
    "outp.generate_sitemap(['index', '001_Legal', '002_Parcels', '003_Lore', '004_Tutorials', '005_Monetize', '006_Websites'])"
   ]
  },
  {
   "cell_type": "code",
   "execution_count": null,
   "metadata": {},
   "outputs": [],
   "source": [
    "help(outp)"
   ]
  },
  {
   "cell_type": "code",
   "execution_count": null,
   "metadata": {},
   "outputs": [],
   "source": [
    "dir(outp)"
   ]
  },
  {
   "attachments": {},
   "cell_type": "markdown",
   "metadata": {},
   "source": [
    "https://godatadriven.com/blog/a-practical-guide-to-setuptools-and-pyproject-toml/"
   ]
  },
  {
   "cell_type": "markdown",
   "metadata": {},
   "source": []
  },
  {
   "cell_type": "code",
   "execution_count": null,
   "metadata": {},
   "outputs": [],
   "source": [
    "t = cvminigames.outp\n",
    "help(t)"
   ]
  },
  {
   "cell_type": "code",
   "execution_count": null,
   "metadata": {},
   "outputs": [],
   "source": [
    "! twine upload --repository pypi ../dist/*"
   ]
  },
  {
   "cell_type": "code",
   "execution_count": null,
   "metadata": {},
   "outputs": [],
   "source": [
    "# ! pip install twine\n",
    "# ! make pypi   => ! twine upload --repository pypi dist/* (from makefile)"
   ]
  },
  {
   "attachments": {},
   "cell_type": "markdown",
   "metadata": {},
   "source": [
    "sys.path.append('workspaces/3Diot.github.io/blog/')"
   ]
  },
  {
   "attachments": {},
   "cell_type": "markdown",
   "metadata": {},
   "source": [
    "def runit(fname='index.ipynb'): \n",
    "  nb = read_nb(fname)\n",
    "  meta_jekyll = get_metadata(nb['cells'])\n",
    "  outp = convertNb(nb)\n",
    "  txt = ''.join( [''.join(c) for c in outp] )\n",
    "  return txt\n",
    "\n",
    "t = runit(fname='002_Parcels.ipynb')\n",
    "import IPython\n",
    "IPython.display.HTML(t)"
   ]
  },
  {
   "attachments": {},
   "cell_type": "markdown",
   "metadata": {},
   "source": [
    "# !pip install flask"
   ]
  },
  {
   "attachments": {},
   "cell_type": "markdown",
   "metadata": {},
   "source": [
    "from flask import Flask\n",
    "import re\n",
    "app = Flask(__name__)\n",
    "\n",
    "@app.route(\"/\")\n",
    "def homepage():  \n",
    "  return publish('index') \n",
    "    \n",
    "@app.route(\"/parcels\")\n",
    "def parcels():  \n",
    "  return publish('002_Parcels') \n",
    "\n",
    "@app.route(\"/tokengating\")\n",
    "def progress():  \n",
    "  return publish('003_TokenGating') \n",
    "\n",
    "@app.route(\"/lore\")\n",
    "def scarcity():  \n",
    "  return publish('004_Lore') \n",
    "\n",
    "@app.route(\"/tutorials\")\n",
    "def technology():  \n",
    "  return publish('006_Tutorials') \n",
    "\n",
    "@app.route(\"/monetize\")\n",
    "def tutorials():  \n",
    "  return publish('007_Monetize') \n",
    "\n",
    "\n",
    "@app.route(\"/legal\")\n",
    "def legal():  \n",
    "  return publishs('999_Legal') \n",
    "  \n",
    "\n",
    "app.run()"
   ]
  },
  {
   "attachments": {},
   "cell_type": "markdown",
   "metadata": {},
   "source": [
    "  <!-- \n",
    "  https://www.tutorialspoint.com/google_colab/google_colab_magics.htm\n",
    "  In case of line magics, the command is prepended with a single % character and in the case of cell magics, it is prepended with two % characters (%%).\n",
    "\n",
    "  %matplotlib inline\n",
    "%reload_ext autoreload\n",
    "%autoreload 2\n",
    "\n",
    "https://buomsoo-kim.github.io/colab/2020/05/21/Colab-terminal-commands.md/\n",
    "There are many differences in functionalities, but a key difference is that changes made by built-in line magics (%) are applied to the entire notebook environment. In contrast, ! command is only applicable to the subshell that is running the command.\n",
    "\n",
    "-->"
   ]
  }
 ],
 "metadata": {
  "kernelspec": {
   "display_name": "Python 3",
   "language": "python",
   "name": "python3"
  },
  "language_info": {
   "codemirror_mode": {
    "name": "ipython",
    "version": 3
   },
   "file_extension": ".py",
   "mimetype": "text/x-python",
   "name": "python",
   "nbconvert_exporter": "python",
   "pygments_lexer": "ipython3",
   "version": "3.10.2"
  },
  "vscode": {
   "interpreter": {
    "hash": "046b844cfe77f56867adc884800e389906328c66f60829dd4497d230d7e2d321"
   }
  }
 },
 "nbformat": 4,
 "nbformat_minor": 2
}

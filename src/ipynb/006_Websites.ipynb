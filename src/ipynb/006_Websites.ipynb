{
 "cells": [
  {
   "attachments": {},
   "cell_type": "markdown",
   "metadata": {},
   "source": [
    "# Websites\n",
    "> Use this page to navigate about the voxels.com ecosystem.\n",
    "\n",
    "- badges: false\n",
    "- comments: false\n",
    "- filename: websites\n",
    "- hide: false\n",
    "- image: images/company_logo.png\n",
    "- keywords: ['voxels', 'metaverse', 'navigation']\n",
    "- tab: Websites\n",
    "- template: template_article\n",
    "- toc: false"
   ]
  },
  {
   "attachments": {},
   "cell_type": "markdown",
   "metadata": {},
   "source": [
    "<details open class='details'>\n",
    "<summary>"
   ]
  },
  {
   "attachments": {},
   "cell_type": "markdown",
   "metadata": {},
   "source": [
    "## Content Creators"
   ]
  },
  {
   "attachments": {},
   "cell_type": "markdown",
   "metadata": {},
   "source": [
    "</summary>"
   ]
  },
  {
   "attachments": {},
   "cell_type": "markdown",
   "metadata": {},
   "source": [
    "- Voxel's community-ran [Lore](https://voxelslore.com)\n",
    "- NFTPlazas' [Publications](https://nftplazas.com/?s=cryptovoxels) \n",
    "- Ryan Schultz's [Publications](https://ryanschultz.com/category/cryptovoxels/)\n",
    "- Cluny's Lore and [Lab](https://peakd.com/voxels/@cluny.the.rat/clunys-voxels-portfolio)\n",
    "- Jin's Interoperability [Blog](https://hackmd.io/@XR/voxels/https%3A%2F%2Fhackmd.io%2F%40XR%2Fvoxels) "
   ]
  },
  {
   "attachments": {},
   "cell_type": "markdown",
   "metadata": {},
   "source": [
    "</details>\n",
    "<details open class='details'>\n",
    "<summary>"
   ]
  },
  {
   "attachments": {},
   "cell_type": "markdown",
   "metadata": {},
   "source": [
    "## Get Involved:"
   ]
  },
  {
   "attachments": {},
   "cell_type": "markdown",
   "metadata": {},
   "source": [
    "</summary>"
   ]
  },
  {
   "attachments": {},
   "cell_type": "markdown",
   "metadata": {},
   "source": [
    "- OpenVoxels' [Juicebox](https://juicebox.money/@openvoxels) and [Dework](https://app.dework.xyz/m3/contributors) Page"
   ]
  },
  {
   "attachments": {},
   "cell_type": "markdown",
   "metadata": {},
   "source": [
    "</details>\n",
    "<details open class='details'>\n",
    "<summary>"
   ]
  },
  {
   "attachments": {},
   "cell_type": "markdown",
   "metadata": {},
   "source": [
    "## Selected Reads:"
   ]
  },
  {
   "attachments": {},
   "cell_type": "markdown",
   "metadata": {},
   "source": [
    "</summary>"
   ]
  },
  {
   "attachments": {},
   "cell_type": "markdown",
   "metadata": {},
   "source": [
    "- [Notes](https://theconvivialsociety.substack.com/p/notes-from-the-metaverse?s=r) from the metaverse\n",
    "- [Measures](https://ryanschultz.com/2022/08/05/editorial-the-measures-of-metaverse-success-and-the-value-of-community/) of metaverse success\n",
    "- [Voxels](https://metamandrill.com/voxels/) & Its Evolution as a Uniquely Powerful Metaverse Platform"
   ]
  },
  {
   "attachments": {},
   "cell_type": "markdown",
   "metadata": {},
   "source": [
    "</details>\n",
    "<details open class='details'>\n",
    "<summary>"
   ]
  },
  {
   "attachments": {},
   "cell_type": "markdown",
   "metadata": {},
   "source": [
    "## Tools"
   ]
  },
  {
   "attachments": {},
   "cell_type": "markdown",
   "metadata": {},
   "source": [
    "</summary>"
   ]
  },
  {
   "attachments": {},
   "cell_type": "markdown",
   "metadata": {},
   "source": [
    "- Parcel Analytics from [nonfungible.com](https://nonfungible.com/market/history/cryptovoxels)\n",
    "- The Voxels Graph link [1](https://thegraph.com/hosted-service/subgraph/benjythebee/cryptovoxels-parcels?version=current\n",
    "), [2](https://api.thegraph.com/subgraphs/name/benjythebee/cryptovoxels-parcels) \n",
    "- Ricky's Graph [Youtube Tutorial](https://www.youtube.com/watch?v=tVM3F7MUQDw&t=9s), [Github](https://github.com/cryptovoxels/parcel-market-subgraph)"
   ]
  },
  {
   "attachments": {},
   "cell_type": "markdown",
   "metadata": {},
   "source": [
    "</details>"
   ]
  }
 ],
 "metadata": {
  "kernelspec": {
   "display_name": "Python 3",
   "language": "python",
   "name": "python3"
  },
  "language_info": {
   "codemirror_mode": {
    "name": "ipython",
    "version": 3
   },
   "file_extension": ".py",
   "mimetype": "text/x-python",
   "name": "python",
   "nbconvert_exporter": "python",
   "pygments_lexer": "ipython3",
   "version": "3.10.2"
  },
  "orig_nbformat": 4,
  "vscode": {
   "interpreter": {
    "hash": "046b844cfe77f56867adc884800e389906328c66f60829dd4497d230d7e2d321"
   }
  }
 },
 "nbformat": 4,
 "nbformat_minor": 2
}

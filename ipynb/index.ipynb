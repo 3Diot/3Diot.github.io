{
 "cells": [
  {
   "cell_type": "markdown",
   "metadata": {},
   "source": [
    "# Homepage\n",
    "> Use this page to navigate about the voxels.com ecosystem.\n",
    "\n",
    "- badges: false\n",
    "- comments: false\n",
    "- filename: index\n",
    "- hide: false\n",
    "- image: images/company_logo.png\n",
    "- keywords: ['voxels', 'metaverse', 'navigation']\n",
    "- tab: Home\n",
    "- template: template_article\n",
    "- toc: false"
   ]
  },
  {
   "cell_type": "markdown",
   "metadata": {},
   "source": [
    "<details open style=\"background:#eee\">\n",
    "<summary>"
   ]
  },
  {
   "cell_type": "markdown",
   "metadata": {},
   "source": [
    "## Articles:"
   ]
  },
  {
   "cell_type": "markdown",
   "metadata": {},
   "source": [
    "</summary>"
   ]
  },
  {
   "cell_type": "markdown",
   "metadata": {},
   "source": [
    "- <a href='./tutorials.html'>TUTORIALS</a>: Useful tips I've found:\n",
    "- <a href='./lore.html'>Lore</a>: Stories made by and for Voxelians:\n",
    "- <a href='./monetize.html'>Monetizing</a>:  People make money in the metaverse:\n",
    "- <a href='./parcels.html'>Parcel</a>: Introducing Voxels' Parcel Data:"
   ]
  },
  {
   "cell_type": "markdown",
   "metadata": {},
   "source": [
    "</details>\n",
    "<details>\n",
    "<summary>"
   ]
  },
  {
   "cell_type": "markdown",
   "metadata": {},
   "source": [
    "## Tools"
   ]
  },
  {
   "cell_type": "markdown",
   "metadata": {},
   "source": [
    "</summary>"
   ]
  },
  {
   "cell_type": "markdown",
   "metadata": {},
   "source": [
    "<b>By Me</b>\n",
    "- <a href='https://charleskarpati.com/cv/'>ADMIN PANEL</a>: Super charge your parcel with no & low-code tools\n",
    "- The <a href='./tutorials.html'>TUTORIALS</a> page.\n",
    "- Interactive Viewer: <a href='https://cvminigames.com/tables/parcelsPivotTable.html'>Parcels</a> Data\n",
    "- 👷Interactive Viewer: <a href='https://cvminigames.com/table/loreAssets.html'>Lore</a>-related Wearable's\n",
    "- 👷Interactive Map: <a href='https://cvminigames.com/maps/cv_book_map.html'>Guestbooks</a>\n",
    "- 👷Interactive Map: <a href='https://cvminigames.com/maps/cv_price_map.html'>Sale Prices</a>\n",
    "- 👷Interactive Map: <a href='https://cvminigames.com/maps/cv_visitor_map.html'>Visitors</a>\n",
    "- DEPRICATED: [Airdrops](https://cvminigames.com/blog/docs/airdrops.html): Bulk send NFTs"
   ]
  },
  {
   "cell_type": "markdown",
   "metadata": {},
   "source": [
    "<b>By Others</b>\n",
    "- Parcel Analytics from [nonfungible.com](https://nonfungible.com/market/history/cryptovoxels)\n",
    "- The Voxels Graph link [1](https://thegraph.com/hosted-service/subgraph/benjythebee/cryptovoxels-parcels?version=current\n",
    "), [2](https://api.thegraph.com/subgraphs/name/benjythebee/cryptovoxels-parcels) \n",
    "- Ricky's Graph [Youtube Tutorial](https://www.youtube.com/watch?v=tVM3F7MUQDw&t=9s), [Github](https://github.com/cryptovoxels/parcel-market-subgraph)"
   ]
  },
  {
   "cell_type": "markdown",
   "metadata": {},
   "source": [
    "</details>\n",
    "<details style=\"background:#eee\">\n",
    "<summary>"
   ]
  },
  {
   "cell_type": "markdown",
   "metadata": {},
   "source": [
    "## Around the web"
   ]
  },
  {
   "cell_type": "markdown",
   "metadata": {},
   "source": [
    "</summary>"
   ]
  },
  {
   "cell_type": "markdown",
   "metadata": {},
   "source": [
    "Content Creators:\n",
    "- Voxel's community-ran [Lore](https://voxelslore.com)\n",
    "- NFTPlazas' [Publications](https://nftplazas.com/?s=cryptovoxels) \n",
    "- Ryan Schultz's [Publications](https://ryanschultz.com/category/cryptovoxels/)\n",
    "- Cluny's Lore and [Lab](https://peakd.com/voxels/@cluny.the.rat/clunys-voxels-portfolio)\n",
    "- Jin's Interoperability [Blog](https://hackmd.io/@XR/voxels/https%3A%2F%2Fhackmd.io%2F%40XR%2Fvoxels) "
   ]
  },
  {
   "cell_type": "markdown",
   "metadata": {},
   "source": [
    "Get Involved:\n",
    "- OpenVoxels' [Juicebox](https://juicebox.money/@openvoxels) and [Dework](https://app.dework.xyz/m3/contributors) Page"
   ]
  },
  {
   "cell_type": "markdown",
   "metadata": {},
   "source": [
    "Selected Reads:\n",
    "- [Notes](https://theconvivialsociety.substack.com/p/notes-from-the-metaverse?s=r) from the metaverse\n",
    "- [Measures](https://ryanschultz.com/2022/08/05/editorial-the-measures-of-metaverse-success-and-the-value-of-community/) of metaverse success"
   ]
  },
  {
   "cell_type": "markdown",
   "metadata": {},
   "source": [
    "</details>"
   ]
  }
 ],
 "metadata": {
  "kernelspec": {
   "display_name": "Python 3.10.2 64-bit",
   "language": "python",
   "name": "python3"
  },
  "language_info": {
   "codemirror_mode": {
    "name": "ipython",
    "version": 3
   },
   "file_extension": ".py",
   "mimetype": "text/x-python",
   "name": "python",
   "nbconvert_exporter": "python",
   "pygments_lexer": "ipython3",
   "version": "3.10.2"
  },
  "orig_nbformat": 4,
  "vscode": {
   "interpreter": {
    "hash": "046b844cfe77f56867adc884800e389906328c66f60829dd4497d230d7e2d321"
   }
  }
 },
 "nbformat": 4,
 "nbformat_minor": 2
}

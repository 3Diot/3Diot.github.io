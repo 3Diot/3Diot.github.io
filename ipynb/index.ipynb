{
 "cells": [
  {
   "attachments": {},
   "cell_type": "markdown",
   "metadata": {},
   "source": [
    "# Homepage\n",
    "> This site is dedicated to [voxels](https://voxels.com)! <br> Keep up to date, find resources, and more!\n",
    "\n",
    "- badges: false\n",
    "- comments: false\n",
    "- filename: index\n",
    "- hide: false\n",
    "- image: images/company_logo.png\n",
    "- keywords: ['voxels', 'metaverse', 'navigation']\n",
    "- tab: Home\n",
    "- template: template_article\n",
    "- toc: false"
   ]
  },
  {
   "cell_type": "markdown",
   "metadata": {},
   "source": [
    "<details open style=\"background:#eee\">\n",
    "<summary>"
   ]
  },
  {
   "attachments": {},
   "cell_type": "markdown",
   "metadata": {},
   "source": [
    "## Tools:"
   ]
  },
  {
   "cell_type": "markdown",
   "metadata": {},
   "source": [
    "</summary>"
   ]
  },
  {
   "attachments": {},
   "cell_type": "markdown",
   "metadata": {},
   "source": [
    "- <a href='admin/index.html'>ADMIN PANEL</a>: Super charge your parcel with low & no-code tools\n",
    "- 👷 Viewer: <a href='/tables/parcels.html'>Parcels</a> Data\n",
    "- 👷 Viewer: <a href='/tables/lore.html'>Lore</a>-related Wearable's\n",
    "- 👷 Map: <a href='/maps/books.html'>Guestbooks</a>\n",
    "- 👷 Map: <a href='/maps/prices.html'>Sale Prices</a>\n",
    "- 👷 Map: <a href='/maps/visitors.html'>Visitors</a>"
   ]
  },
  {
   "cell_type": "markdown",
   "metadata": {},
   "source": [
    "</details>\n",
    "<details>\n",
    "<summary>"
   ]
  },
  {
   "attachments": {},
   "cell_type": "markdown",
   "metadata": {},
   "source": [
    "## Articles:"
   ]
  },
  {
   "cell_type": "markdown",
   "metadata": {},
   "source": [
    "</summary>"
   ]
  },
  {
   "attachments": {},
   "cell_type": "markdown",
   "metadata": {},
   "source": [
    "- <a href='tutorials.html'>TUTORIALS</a>: Useful tips I've found:\n",
    "- <a href='lore.html'>Lore</a>: Stories made by and for Voxelians:\n",
    "- <a href='monetize.html'>Monetizing</a>:  People make money in the metaverse:\n",
    "- <a href='parcels.html'>Parcel</a>: Introducing Voxels' Parcel Data:\n",
    "- <a href='websites.html'>Websites</a>: Other voxel-related webistes and resources:"
   ]
  },
  {
   "attachments": {},
   "cell_type": "markdown",
   "metadata": {},
   "source": [
    "</details>"
   ]
  },
  {
   "cell_type": "markdown",
   "metadata": {},
   "source": [
    "</details>"
   ]
  }
 ],
 "metadata": {
  "kernelspec": {
   "display_name": "Python 3.10.2 64-bit",
   "language": "python",
   "name": "python3"
  },
  "language_info": {
   "codemirror_mode": {
    "name": "ipython",
    "version": 3
   },
   "file_extension": ".py",
   "mimetype": "text/x-python",
   "name": "python",
   "nbconvert_exporter": "python",
   "pygments_lexer": "ipython3",
   "version": "3.10.2 (tags/v3.10.2:a58ebcc, Jan 17 2022, 14:12:15) [MSC v.1929 64 bit (AMD64)]"
  },
  "orig_nbformat": 4,
  "vscode": {
   "interpreter": {
    "hash": "046b844cfe77f56867adc884800e389906328c66f60829dd4497d230d7e2d321"
   }
  }
 },
 "nbformat": 4,
 "nbformat_minor": 2
}

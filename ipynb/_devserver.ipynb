{
 "cells": [
  {
   "cell_type": "code",
   "execution_count": 6,
   "metadata": {},
   "outputs": [],
   "source": [
    "# nbdev_build_lib\n",
    "# nbdev_build_docs"
   ]
  },
  {
   "cell_type": "code",
   "execution_count": 1,
   "metadata": {},
   "outputs": [
    {
     "name": "stdout",
     "output_type": "stream",
     "text": [
      "Defaulting to user installation because normal site-packages is not writeable\n",
      "Collecting marko\n",
      "  Using cached marko-1.2.0-py3-none-any.whl (37 kB)\n",
      "Collecting flask\n",
      "  Using cached Flask-2.0.2-py3-none-any.whl (95 kB)\n",
      "Collecting nbdev\n",
      "  Using cached nbdev-1.1.23-py3-none-any.whl (46 kB)\n",
      "Collecting itsdangerous>=2.0\n",
      "  Using cached itsdangerous-2.0.1-py3-none-any.whl (18 kB)\n",
      "Requirement already satisfied: click>=7.1.2 in /home/codespace/.local/lib/python3.8/site-packages (from flask) (8.0.3)\n",
      "Collecting Werkzeug>=2.0\n",
      "  Using cached Werkzeug-2.0.2-py3-none-any.whl (288 kB)\n",
      "Collecting Jinja2>=3.0\n",
      "  Using cached Jinja2-3.0.3-py3-none-any.whl (133 kB)\n",
      "Collecting nbconvert<6\n",
      "  Using cached nbconvert-5.6.1-py2.py3-none-any.whl (455 kB)\n",
      "Collecting ipykernel\n",
      "  Using cached ipykernel-6.7.0-py3-none-any.whl (127 kB)\n",
      "Collecting fastrelease\n",
      "  Using cached fastrelease-0.1.12-py3-none-any.whl (14 kB)\n",
      "Collecting jupyter\n",
      "  Using cached jupyter-1.0.0-py2.py3-none-any.whl (2.7 kB)\n",
      "Collecting ghapi\n",
      "  Using cached ghapi-0.1.19-py3-none-any.whl (51 kB)\n",
      "Collecting packaging\n",
      "  Using cached packaging-21.3-py3-none-any.whl (40 kB)\n",
      "Requirement already satisfied: pyyaml in /usr/lib/python3/dist-packages (from nbdev) (5.3.1)\n",
      "Requirement already satisfied: pip in /usr/local/lib/python3.8/dist-packages (from nbdev) (21.3.1)\n",
      "Collecting fastcore>=1.3.21\n",
      "  Using cached fastcore-1.3.27-py3-none-any.whl (56 kB)\n",
      "Collecting nbformat>=4.4.0\n",
      "  Using cached nbformat-5.1.3-py3-none-any.whl (178 kB)\n",
      "Collecting jupyter-client<7.0\n",
      "  Using cached jupyter_client-6.1.12-py3-none-any.whl (112 kB)\n",
      "Collecting MarkupSafe>=2.0\n",
      "  Using cached MarkupSafe-2.0.1-cp38-cp38-manylinux_2_5_x86_64.manylinux1_x86_64.manylinux_2_12_x86_64.manylinux2010_x86_64.whl (30 kB)\n",
      "Collecting jupyter-core>=4.6.0\n",
      "  Using cached jupyter_core-4.9.1-py3-none-any.whl (86 kB)\n",
      "Collecting pyzmq>=13\n",
      "  Using cached pyzmq-22.3.0-cp38-cp38-manylinux_2_12_x86_64.manylinux2010_x86_64.whl (1.1 MB)\n",
      "Requirement already satisfied: tornado>=4.1 in /home/codespace/.local/lib/python3.8/site-packages (from jupyter-client<7.0->nbdev) (6.1)\n",
      "Requirement already satisfied: traitlets in /home/codespace/.local/lib/python3.8/site-packages (from jupyter-client<7.0->nbdev) (5.1.1)\n",
      "Collecting python-dateutil>=2.1\n",
      "  Using cached python_dateutil-2.8.2-py2.py3-none-any.whl (247 kB)\n",
      "Collecting defusedxml\n",
      "  Using cached defusedxml-0.7.1-py2.py3-none-any.whl (25 kB)\n",
      "Collecting mistune<2,>=0.8.1\n",
      "  Using cached mistune-0.8.4-py2.py3-none-any.whl (16 kB)\n",
      "Requirement already satisfied: pygments in /usr/lib/python3/dist-packages (from nbconvert<6->nbdev) (2.3.1)\n",
      "Collecting pandocfilters>=1.4.1\n",
      "  Using cached pandocfilters-1.5.0-py2.py3-none-any.whl (8.7 kB)\n",
      "Collecting entrypoints>=0.2.2\n",
      "  Using cached entrypoints-0.3-py2.py3-none-any.whl (11 kB)\n",
      "Collecting bleach\n",
      "  Using cached bleach-4.1.0-py2.py3-none-any.whl (157 kB)\n",
      "Collecting testpath\n",
      "  Using cached testpath-0.5.0-py3-none-any.whl (84 kB)\n",
      "Collecting ipython-genutils\n",
      "  Using cached ipython_genutils-0.2.0-py2.py3-none-any.whl (26 kB)\n",
      "Collecting jsonschema!=2.5.0,>=2.4\n",
      "  Using cached jsonschema-4.4.0-py3-none-any.whl (72 kB)\n",
      "Collecting debugpy<2.0,>=1.0.0\n",
      "  Using cached debugpy-1.5.1-cp38-cp38-manylinux_2_5_x86_64.manylinux1_x86_64.manylinux_2_12_x86_64.manylinux2010_x86_64.whl (1.9 MB)\n",
      "Collecting nest-asyncio\n",
      "  Using cached nest_asyncio-1.5.4-py3-none-any.whl (5.1 kB)\n",
      "Collecting matplotlib-inline<0.2.0,>=0.1.0\n",
      "  Using cached matplotlib_inline-0.1.3-py3-none-any.whl (8.2 kB)\n",
      "Collecting ipython>=7.23.1\n",
      "  Using cached ipython-8.0.1-py3-none-any.whl (747 kB)\n",
      "Collecting ipywidgets\n",
      "  Using cached ipywidgets-7.6.5-py2.py3-none-any.whl (121 kB)\n",
      "Collecting qtconsole\n",
      "  Using cached qtconsole-5.2.2-py3-none-any.whl (120 kB)\n",
      "Collecting jupyter-console\n",
      "  Using cached jupyter_console-6.4.0-py3-none-any.whl (22 kB)\n",
      "Collecting notebook\n",
      "  Using cached notebook-6.4.7-py3-none-any.whl (9.9 MB)\n",
      "Requirement already satisfied: pyparsing!=3.0.5,>=2.0.2 in /home/codespace/.local/lib/python3.8/site-packages (from packaging->nbdev) (3.0.7)\n",
      "Collecting pickleshare\n",
      "  Using cached pickleshare-0.7.5-py2.py3-none-any.whl (6.9 kB)\n",
      "Collecting backcall\n",
      "  Using cached backcall-0.2.0-py2.py3-none-any.whl (11 kB)\n",
      "Collecting black\n",
      "  Using cached black-21.12b0-py3-none-any.whl (156 kB)\n",
      "Collecting jedi>=0.16\n",
      "  Using cached jedi-0.18.1-py2.py3-none-any.whl (1.6 MB)\n",
      "Collecting prompt-toolkit!=3.0.0,!=3.0.1,<3.1.0,>=2.0.0\n",
      "  Using cached prompt_toolkit-3.0.24-py3-none-any.whl (374 kB)\n",
      "Collecting stack-data\n",
      "  Using cached stack_data-0.1.4-py3-none-any.whl (20 kB)\n",
      "Requirement already satisfied: setuptools>=18.5 in /usr/lib/python3/dist-packages (from ipython>=7.23.1->ipykernel->nbdev) (45.2.0)\n",
      "Collecting pexpect>4.3\n",
      "  Using cached pexpect-4.8.0-py2.py3-none-any.whl (59 kB)\n",
      "Collecting decorator\n",
      "  Using cached decorator-5.1.1-py3-none-any.whl (9.1 kB)\n",
      "Requirement already satisfied: importlib-resources>=1.4.0 in /home/codespace/.local/lib/python3.8/site-packages (from jsonschema!=2.5.0,>=2.4->nbformat>=4.4.0->nbdev) (5.4.0)\n",
      "Requirement already satisfied: pyrsistent!=0.17.0,!=0.17.1,!=0.17.2,>=0.14.0 in /home/codespace/.local/lib/python3.8/site-packages (from jsonschema!=2.5.0,>=2.4->nbformat>=4.4.0->nbdev) (0.18.1)\n",
      "Requirement already satisfied: attrs>=17.4.0 in /home/codespace/.local/lib/python3.8/site-packages (from jsonschema!=2.5.0,>=2.4->nbformat>=4.4.0->nbdev) (21.4.0)\n",
      "Requirement already satisfied: six>=1.5 in /usr/lib/python3/dist-packages (from python-dateutil>=2.1->jupyter-client<7.0->nbdev) (1.14.0)\n",
      "Requirement already satisfied: webencodings in /home/codespace/.local/lib/python3.8/site-packages (from bleach->nbconvert<6->nbdev) (0.5.1)\n",
      "Collecting widgetsnbextension~=3.5.0\n",
      "  Using cached widgetsnbextension-3.5.2-py2.py3-none-any.whl (1.6 MB)\n",
      "Collecting jupyterlab-widgets>=1.0.0\n",
      "  Using cached jupyterlab_widgets-1.0.2-py3-none-any.whl (243 kB)\n",
      "Collecting prometheus-client\n",
      "  Using cached prometheus_client-0.12.0-py2.py3-none-any.whl (57 kB)\n",
      "Collecting terminado>=0.8.3\n",
      "  Using cached terminado-0.12.1-py3-none-any.whl (15 kB)\n",
      "Collecting argon2-cffi\n",
      "  Using cached argon2_cffi-21.3.0-py3-none-any.whl (14 kB)\n",
      "Collecting Send2Trash>=1.8.0\n",
      "  Using cached Send2Trash-1.8.0-py3-none-any.whl (18 kB)\n",
      "Collecting qtpy\n",
      "  Using cached QtPy-2.0.0-py3-none-any.whl (62 kB)\n",
      "Requirement already satisfied: zipp>=3.1.0 in /home/codespace/.local/lib/python3.8/site-packages (from importlib-resources>=1.4.0->jsonschema!=2.5.0,>=2.4->nbformat>=4.4.0->nbdev) (3.7.0)\n",
      "Requirement already satisfied: parso<0.9.0,>=0.8.0 in /home/codespace/.local/lib/python3.8/site-packages (from jedi>=0.16->ipython>=7.23.1->ipykernel->nbdev) (0.8.3)\n",
      "Requirement already satisfied: ptyprocess>=0.5 in /home/codespace/.local/lib/python3.8/site-packages (from pexpect>4.3->ipython>=7.23.1->ipykernel->nbdev) (0.7.0)\n",
      "Requirement already satisfied: wcwidth in /home/codespace/.local/lib/python3.8/site-packages (from prompt-toolkit!=3.0.0,!=3.0.1,<3.1.0,>=2.0.0->ipython>=7.23.1->ipykernel->nbdev) (0.2.5)\n",
      "Collecting argon2-cffi-bindings\n",
      "  Using cached argon2_cffi_bindings-21.2.0-cp36-abi3-manylinux_2_17_x86_64.manylinux2014_x86_64.whl (86 kB)\n",
      "Requirement already satisfied: mypy-extensions>=0.4.3 in /home/codespace/.local/lib/python3.8/site-packages (from black->ipython>=7.23.1->ipykernel->nbdev) (0.4.3)\n",
      "Requirement already satisfied: pathspec<1,>=0.9.0 in /home/codespace/.local/lib/python3.8/site-packages (from black->ipython>=7.23.1->ipykernel->nbdev) (0.9.0)\n",
      "Requirement already satisfied: platformdirs>=2 in /home/codespace/.local/lib/python3.8/site-packages (from black->ipython>=7.23.1->ipykernel->nbdev) (2.4.1)\n",
      "Requirement already satisfied: tomli<2.0.0,>=0.2.6 in /home/codespace/.local/lib/python3.8/site-packages (from black->ipython>=7.23.1->ipykernel->nbdev) (1.2.3)\n",
      "Requirement already satisfied: typing-extensions>=3.10.0.0 in /home/codespace/.local/lib/python3.8/site-packages (from black->ipython>=7.23.1->ipykernel->nbdev) (4.0.1)\n",
      "Requirement already satisfied: pure-eval in /home/codespace/.local/lib/python3.8/site-packages (from stack-data->ipython>=7.23.1->ipykernel->nbdev) (0.2.1)\n",
      "Requirement already satisfied: asttokens in /home/codespace/.local/lib/python3.8/site-packages (from stack-data->ipython>=7.23.1->ipykernel->nbdev) (2.0.5)\n",
      "Requirement already satisfied: executing in /home/codespace/.local/lib/python3.8/site-packages (from stack-data->ipython>=7.23.1->ipykernel->nbdev) (0.8.2)\n",
      "Collecting cffi>=1.0.1\n",
      "  Using cached cffi-1.15.0-cp38-cp38-manylinux_2_12_x86_64.manylinux2010_x86_64.whl (446 kB)\n",
      "Requirement already satisfied: pycparser in /home/codespace/.local/lib/python3.8/site-packages (from cffi>=1.0.1->argon2-cffi-bindings->argon2-cffi->notebook->jupyter->nbdev) (2.21)\n",
      "Installing collected packages: stack-data, pyzmq, python-dateutil, prompt-toolkit, pickleshare, pexpect, packaging, matplotlib-inline, MarkupSafe, jupyter-core, jsonschema, jedi, ipython-genutils, decorator, cffi, black, backcall, testpath, pandocfilters, nest-asyncio, nbformat, mistune, jupyter-client, Jinja2, ipython, entrypoints, defusedxml, debugpy, bleach, argon2-cffi-bindings, terminado, Send2Trash, prometheus-client, nbconvert, ipykernel, argon2-cffi, notebook, widgetsnbextension, qtpy, jupyterlab-widgets, fastcore, qtconsole, jupyter-console, ipywidgets, ghapi, Werkzeug, jupyter, itsdangerous, fastrelease, nbdev, marko, flask\n",
      "\u001b[33m  WARNING: The scripts jupyter, jupyter-migrate and jupyter-troubleshoot are installed in '/home/codespace/.local/bin' which is not on PATH.\n",
      "  Consider adding this directory to PATH or, if you prefer to suppress this warning, use --no-warn-script-location.\u001b[0m\n",
      "\u001b[33m  WARNING: The script jsonschema is installed in '/home/codespace/.local/bin' which is not on PATH.\n",
      "  Consider adding this directory to PATH or, if you prefer to suppress this warning, use --no-warn-script-location.\u001b[0m\n",
      "\u001b[33m  WARNING: The scripts black, black-primer and blackd are installed in '/home/codespace/.local/bin' which is not on PATH.\n",
      "  Consider adding this directory to PATH or, if you prefer to suppress this warning, use --no-warn-script-location.\u001b[0m\n",
      "\u001b[33m  WARNING: The script jupyter-trust is installed in '/home/codespace/.local/bin' which is not on PATH.\n",
      "  Consider adding this directory to PATH or, if you prefer to suppress this warning, use --no-warn-script-location.\u001b[0m\n",
      "\u001b[33m  WARNING: The scripts jupyter-kernel, jupyter-kernelspec and jupyter-run are installed in '/home/codespace/.local/bin' which is not on PATH.\n",
      "  Consider adding this directory to PATH or, if you prefer to suppress this warning, use --no-warn-script-location.\u001b[0m\n",
      "\u001b[33m  WARNING: The scripts ipython and ipython3 are installed in '/home/codespace/.local/bin' which is not on PATH.\n",
      "  Consider adding this directory to PATH or, if you prefer to suppress this warning, use --no-warn-script-location.\u001b[0m\n",
      "\u001b[33m  WARNING: The script send2trash is installed in '/home/codespace/.local/bin' which is not on PATH.\n",
      "  Consider adding this directory to PATH or, if you prefer to suppress this warning, use --no-warn-script-location.\u001b[0m\n",
      "\u001b[33m  WARNING: The script jupyter-nbconvert is installed in '/home/codespace/.local/bin' which is not on PATH.\n",
      "  Consider adding this directory to PATH or, if you prefer to suppress this warning, use --no-warn-script-location.\u001b[0m\n",
      "\u001b[33m  WARNING: The scripts jupyter-bundlerextension, jupyter-nbextension, jupyter-notebook and jupyter-serverextension are installed in '/home/codespace/.local/bin' which is not on PATH.\n",
      "  Consider adding this directory to PATH or, if you prefer to suppress this warning, use --no-warn-script-location.\u001b[0m\n",
      "\u001b[33m  WARNING: The script jupyter-console is installed in '/home/codespace/.local/bin' which is not on PATH.\n",
      "  Consider adding this directory to PATH or, if you prefer to suppress this warning, use --no-warn-script-location.\u001b[0m\n",
      "\u001b[33m  WARNING: The scripts completion-ghapi, gh-create-workflow, ghapi, ghpath and ghraw are installed in '/home/codespace/.local/bin' which is not on PATH.\n",
      "  Consider adding this directory to PATH or, if you prefer to suppress this warning, use --no-warn-script-location.\u001b[0m\n",
      "\u001b[33m  WARNING: The scripts fastrelease, fastrelease_bump_version, fastrelease_changelog, fastrelease_conda_package and fastrelease_release are installed in '/home/codespace/.local/bin' which is not on PATH.\n",
      "  Consider adding this directory to PATH or, if you prefer to suppress this warning, use --no-warn-script-location.\u001b[0m\n",
      "\u001b[33m  WARNING: The scripts nbdev_build_docs, nbdev_build_lib, nbdev_bump_version, nbdev_clean_nbs, nbdev_detach, nbdev_diff_nbs, nbdev_fix_merge, nbdev_install_git_hooks, nbdev_nb2md, nbdev_new, nbdev_read_nbs, nbdev_test_nbs, nbdev_trust_nbs and nbdev_update_lib are installed in '/home/codespace/.local/bin' which is not on PATH.\n",
      "  Consider adding this directory to PATH or, if you prefer to suppress this warning, use --no-warn-script-location.\u001b[0m\n",
      "\u001b[33m  WARNING: The script marko is installed in '/home/codespace/.local/bin' which is not on PATH.\n",
      "  Consider adding this directory to PATH or, if you prefer to suppress this warning, use --no-warn-script-location.\u001b[0m\n",
      "\u001b[33m  WARNING: The script flask is installed in '/home/codespace/.local/bin' which is not on PATH.\n",
      "  Consider adding this directory to PATH or, if you prefer to suppress this warning, use --no-warn-script-location.\u001b[0m\n",
      "Successfully installed Jinja2-3.0.3 MarkupSafe-2.0.1 Send2Trash-1.8.0 Werkzeug-2.0.2 argon2-cffi-21.3.0 argon2-cffi-bindings-21.2.0 backcall-0.2.0 black-21.12b0 bleach-4.1.0 cffi-1.15.0 debugpy-1.5.1 decorator-5.1.1 defusedxml-0.7.1 entrypoints-0.3 fastcore-1.3.27 fastrelease-0.1.12 flask-2.0.2 ghapi-0.1.19 ipykernel-6.7.0 ipython-8.0.1 ipython-genutils-0.2.0 ipywidgets-7.6.5 itsdangerous-2.0.1 jedi-0.18.1 jsonschema-4.4.0 jupyter-1.0.0 jupyter-client-6.1.12 jupyter-console-6.4.0 jupyter-core-4.9.1 jupyterlab-widgets-1.0.2 marko-1.2.0 matplotlib-inline-0.1.3 mistune-0.8.4 nbconvert-5.6.1 nbdev-1.1.23 nbformat-5.1.3 nest-asyncio-1.5.4 notebook-6.4.7 packaging-21.3 pandocfilters-1.5.0 pexpect-4.8.0 pickleshare-0.7.5 prometheus-client-0.12.0 prompt-toolkit-3.0.24 python-dateutil-2.8.2 pyzmq-22.3.0 qtconsole-5.2.2 qtpy-2.0.0 stack-data-0.1.4 terminado-0.12.1 testpath-0.5.0 widgetsnbextension-3.5.2\n"
     ]
    }
   ],
   "source": [
    "#hide \n",
    "!pip install marko flask nbdev"
   ]
  },
  {
   "cell_type": "code",
   "execution_count": 2,
   "metadata": {},
   "outputs": [],
   "source": [
    "#hide \n",
    "import sys\n",
    "sys.path.append('/workspaces/3Diot.github.io/blog/')"
   ]
  },
  {
   "cell_type": "code",
   "execution_count": 3,
   "metadata": {},
   "outputs": [
    {
     "name": "stdout",
     "output_type": "stream",
     "text": [
      "/workspaces/CVminiGames.github.io/blog\n"
     ]
    }
   ],
   "source": [
    "cd ../ "
   ]
  },
  {
   "cell_type": "code",
   "execution_count": 4,
   "metadata": {},
   "outputs": [
    {
     "ename": "ModuleNotFoundError",
     "evalue": "No module named 'yaml'",
     "output_type": "error",
     "traceback": [
      "\u001b[0;31m---------------------------------------------------------------------------\u001b[0m",
      "\u001b[0;31mModuleNotFoundError\u001b[0m                       Traceback (most recent call last)",
      "Input \u001b[0;32mIn [4]\u001b[0m, in \u001b[0;36m<module>\u001b[0;34m\u001b[0m\n\u001b[1;32m      1\u001b[0m \u001b[38;5;66;03m#hide \u001b[39;00m\n\u001b[0;32m----> 2\u001b[0m \u001b[38;5;28;01mfrom\u001b[39;00m \u001b[38;5;21;01mblog\u001b[39;00m \u001b[38;5;28;01mimport\u001b[39;00m core\n",
      "File \u001b[0;32m/workspaces/CVminiGames.github.io/blog/blog/core.py:17\u001b[0m, in \u001b[0;36m<module>\u001b[0;34m\u001b[0m\n\u001b[1;32m     14\u001b[0m \u001b[38;5;28;01mimport\u001b[39;00m \u001b[38;5;21;01mmarko\u001b[39;00m\n\u001b[1;32m     16\u001b[0m \u001b[38;5;66;03m# Cell\u001b[39;00m\n\u001b[0;32m---> 17\u001b[0m \u001b[38;5;28;01mfrom\u001b[39;00m \u001b[38;5;21;01mnbdev\u001b[39;00m \u001b[38;5;28;01mimport\u001b[39;00m export2html\n\u001b[1;32m     18\u001b[0m \u001b[38;5;28;01mfrom\u001b[39;00m \u001b[38;5;21;01mnbdev\u001b[39;00m\u001b[38;5;21;01m.\u001b[39;00m\u001b[38;5;21;01mexport2html\u001b[39;00m \u001b[38;5;28;01mimport\u001b[39;00m read_nb, get_metadata, clean_exports\n\u001b[1;32m     19\u001b[0m \u001b[38;5;28;01mfrom\u001b[39;00m \u001b[38;5;21;01mnbdev\u001b[39;00m\u001b[38;5;21;01m.\u001b[39;00m\u001b[38;5;21;01mexport\u001b[39;00m \u001b[38;5;28;01mimport\u001b[39;00m split_flags_and_code, check_re_multi\n",
      "File \u001b[0;32m~/.local/lib/python3.8/site-packages/nbdev/__init__.py:4\u001b[0m, in \u001b[0;36m<module>\u001b[0;34m\u001b[0m\n\u001b[1;32m      1\u001b[0m __version__ \u001b[38;5;241m=\u001b[39m \u001b[38;5;124m\"\u001b[39m\u001b[38;5;124m1.1.23\u001b[39m\u001b[38;5;124m\"\u001b[39m\n\u001b[1;32m      3\u001b[0m \u001b[38;5;28;01mfrom\u001b[39;00m \u001b[38;5;21;01mfastcore\u001b[39;00m\u001b[38;5;21;01m.\u001b[39;00m\u001b[38;5;21;01mimports\u001b[39;00m \u001b[38;5;28;01mimport\u001b[39;00m IN_IPYTHON\n\u001b[0;32m----> 4\u001b[0m \u001b[38;5;28;01mfrom\u001b[39;00m \u001b[38;5;21;01m.\u001b[39;00m\u001b[38;5;21;01mimports\u001b[39;00m \u001b[38;5;28;01mimport\u001b[39;00m \u001b[38;5;241m*\u001b[39m\n\u001b[1;32m      6\u001b[0m \u001b[38;5;28;01mif\u001b[39;00m IN_IPYTHON:\n\u001b[1;32m      7\u001b[0m     \u001b[38;5;28;01mfrom\u001b[39;00m \u001b[38;5;21;01m.\u001b[39;00m\u001b[38;5;21;01mshowdoc\u001b[39;00m \u001b[38;5;28;01mimport\u001b[39;00m show_doc\n",
      "File \u001b[0;32m~/.local/lib/python3.8/site-packages/nbdev/imports.py:6\u001b[0m, in \u001b[0;36m<module>\u001b[0;34m\u001b[0m\n\u001b[1;32m      3\u001b[0m \u001b[38;5;28;01mfrom\u001b[39;00m \u001b[38;5;21;01mfastcore\u001b[39;00m\u001b[38;5;21;01m.\u001b[39;00m\u001b[38;5;21;01mutils\u001b[39;00m \u001b[38;5;28;01mimport\u001b[39;00m \u001b[38;5;241m*\u001b[39m\n\u001b[1;32m      4\u001b[0m \u001b[38;5;28;01mfrom\u001b[39;00m \u001b[38;5;21;01mfastcore\u001b[39;00m\u001b[38;5;21;01m.\u001b[39;00m\u001b[38;5;21;01mtest\u001b[39;00m \u001b[38;5;28;01mimport\u001b[39;00m \u001b[38;5;241m*\u001b[39m\n\u001b[0;32m----> 6\u001b[0m \u001b[38;5;28;01mimport\u001b[39;00m \u001b[38;5;21;01mos\u001b[39;00m\u001b[38;5;241m,\u001b[39m\u001b[38;5;21;01mre\u001b[39;00m\u001b[38;5;241m,\u001b[39m\u001b[38;5;21;01mjson\u001b[39;00m\u001b[38;5;241m,\u001b[39m\u001b[38;5;21;01mglob\u001b[39;00m\u001b[38;5;241m,\u001b[39m\u001b[38;5;21;01mcollections\u001b[39;00m\u001b[38;5;241m,\u001b[39m\u001b[38;5;21;01mpickle\u001b[39;00m\u001b[38;5;241m,\u001b[39m\u001b[38;5;21;01mshutil\u001b[39;00m\u001b[38;5;241m,\u001b[39m\u001b[38;5;21;01minspect\u001b[39;00m\u001b[38;5;241m,\u001b[39m\u001b[38;5;21;01myaml\u001b[39;00m\u001b[38;5;241m,\u001b[39m\u001b[38;5;21;01mtempfile\u001b[39;00m\u001b[38;5;241m,\u001b[39m\u001b[38;5;21;01menum\u001b[39;00m\u001b[38;5;241m,\u001b[39m\u001b[38;5;21;01mstat\u001b[39;00m\u001b[38;5;241m,\u001b[39m\u001b[38;5;21;01mtime\u001b[39;00m\u001b[38;5;241m,\u001b[39m\u001b[38;5;21;01mrandom\u001b[39;00m\u001b[38;5;241m,\u001b[39m\u001b[38;5;21;01msys\u001b[39;00m\n\u001b[1;32m      7\u001b[0m \u001b[38;5;28;01mimport\u001b[39;00m \u001b[38;5;21;01mimportlib\u001b[39;00m\u001b[38;5;21;01m.\u001b[39;00m\u001b[38;5;21;01mutil\u001b[39;00m\n\u001b[1;32m      8\u001b[0m \u001b[38;5;28;01mfrom\u001b[39;00m \u001b[38;5;21;01mfunctools\u001b[39;00m \u001b[38;5;28;01mimport\u001b[39;00m lru_cache\n",
      "\u001b[0;31mModuleNotFoundError\u001b[0m: No module named 'yaml'"
     ]
    }
   ],
   "source": [
    "#hide \n",
    "from blog import core\n",
    "# from blog.core import *"
   ]
  },
  {
   "cell_type": "code",
   "execution_count": null,
   "metadata": {},
   "outputs": [
    {
     "name": "stdout",
     "output_type": "stream",
     "text": [
      "/workspaces/CVminiGames.github.io/blog/notebooks\n"
     ]
    }
   ],
   "source": [
    "cd ./notebooks"
   ]
  },
  {
   "cell_type": "code",
   "execution_count": null,
   "metadata": {},
   "outputs": [
    {
     "name": "stdout",
     "output_type": "stream",
     "text": [
      "000_core.ipynb        002_Parcels.ipynb     index.ipynb\n",
      "001a_core_test.ipynb  003_Guestbooks.ipynb  pivottablejs.html\n",
      "001b_core_test.ipynb  013_CV_Misc.ipynb\n",
      "001c_Example.ipynb    _devserver.ipynb\n"
     ]
    }
   ],
   "source": [
    "ls"
   ]
  },
  {
   "cell_type": "code",
   "execution_count": 26,
   "metadata": {},
   "outputs": [],
   "source": [
    "from flask import Flask\n",
    "import re\n",
    "app = Flask(__name__)\n",
    "\n",
    "@app.route(\"/\")\n",
    "def homepage():\n",
    "  sys.path.pop()\n",
    "  sys.path.append('workspaces/3Diot.github.io/blog/')\n",
    "  from blog import core\n",
    "  header = 'header'\n",
    "  footer = 'footer'\n",
    "  def template(title, x): return f'{header}{title}{x}{footer}'\n",
    "  def replace(txt): \n",
    "    # txt = txt.replace('<link rel=\"stylesheet\" type=\"text/css\" href=\"\">', '')\n",
    "    return txt\n",
    "  infilename = '002_CV' #'index.ipynb'\n",
    "  outp = core.runit(infilename+'.ipynb')\n",
    "  title = \"\".join(re.findall('[a-zA-Z][^a-zA-Z]*', 'index.ipynb'[:-6]))\n",
    "  resp = ''.join( [''.join(c) for c in outp] )\n",
    "  resp = replace(resp)\n",
    "  # resp = template( addAfterNav(title) , resp)\n",
    "  f = open(\"../docs/\"+infilename+\".html\", \"w\")\n",
    "  f.write(resp)\n",
    "  f.close()\n",
    "  return resp\n",
    "  # return \"<p>Hello, Worrrld!</p>\""
   ]
  },
  {
   "cell_type": "code",
   "execution_count": 29,
   "metadata": {},
   "outputs": [
    {
     "name": "stdout",
     "output_type": "stream",
     "text": [
      "header.html\n"
     ]
    }
   ],
   "source": [
    "ls ../docs/_templates"
   ]
  },
  {
   "cell_type": "code",
   "execution_count": null,
   "metadata": {},
   "outputs": [],
   "source": []
  },
  {
   "cell_type": "code",
   "execution_count": 27,
   "metadata": {},
   "outputs": [
    {
     "name": "stdout",
     "output_type": "stream",
     "text": [
      "000_core.ipynb        002_Parcels.ipynb     index.ipynb\n",
      "001a_core_test.ipynb  003_Guestbooks.ipynb  pivottablejs.html\n",
      "001b_core_test.ipynb  013_CV_Misc.ipynb\n",
      "001c_Example.ipynb    _devserver.ipynb\n"
     ]
    }
   ],
   "source": [
    "ls"
   ]
  },
  {
   "cell_type": "code",
   "execution_count": 10,
   "metadata": {},
   "outputs": [
    {
     "name": "stdout",
     "output_type": "stream",
     "text": [
      " * Serving Flask app '__main__' (lazy loading)\n",
      " * Environment: production\n",
      "\u001b[31m   WARNING: This is a development server. Do not use it in a production deployment.\u001b[0m\n",
      "\u001b[2m   Use a production WSGI server instead.\u001b[0m\n",
      " * Debug mode: off\n"
     ]
    },
    {
     "name": "stderr",
     "output_type": "stream",
     "text": [
      " * Running on http://127.0.0.1:5000/ (Press CTRL+C to quit)\n",
      "127.0.0.1 - - [27/Nov/2021 05:00:06] \"GET / HTTP/1.0\" 200 -\n"
     ]
    },
    {
     "name": "stdout",
     "output_type": "stream",
     "text": [
      "dict_keys(['text/html', 'text/plain'])\n",
      "dict_keys(['text/html', 'text/plain'])\n",
      "dict_keys(['text/html', 'text/plain'])\n",
      "dict_keys(['text/html'])\n",
      "dict_keys(['text/html', 'text/plain'])\n",
      "dict_keys(['text/html'])\n",
      "dict_keys(['text/html', 'text/plain'])\n",
      "dict_keys(['text/html', 'text/plain'])\n",
      "dict_keys(['text/html', 'text/plain'])\n",
      "dict_keys(['text/html', 'text/plain'])\n"
     ]
    },
    {
     "name": "stderr",
     "output_type": "stream",
     "text": [
      "127.0.0.1 - - [27/Nov/2021 05:00:09] \"\u001b[33mGET /favicon.ico HTTP/1.0\u001b[0m\" 404 -\n"
     ]
    }
   ],
   "source": [
    "app.run()"
   ]
  },
  {
   "cell_type": "code",
   "execution_count": null,
   "metadata": {},
   "outputs": [],
   "source": [
    "  # Get version number using the localstorage. \n",
    "  # v = requests.get( 'https://charleskarpati.com/version.php', ).json()\n",
    "  # location = f'index{v}.html'\n",
    "  # print('\\n \\n LOCATION: ', location)\n",
    "  # return getHtml(location)"
   ]
  }
 ],
 "metadata": {
  "interpreter": {
   "hash": "4f946df053fbf2b937619d3c5458e7af74262f9a954d8797ba0b27400bcafe06"
  },
  "kernelspec": {
   "display_name": "Python 3.8.6 64-bit",
   "language": "python",
   "name": "python3"
  },
  "language_info": {
   "codemirror_mode": {
    "name": "ipython",
    "version": 3
   },
   "file_extension": ".py",
   "mimetype": "text/x-python",
   "name": "python",
   "nbconvert_exporter": "python",
   "pygments_lexer": "ipython3",
   "version": "3.8.12"
  },
  "orig_nbformat": 4
 },
 "nbformat": 4,
 "nbformat_minor": 2
}

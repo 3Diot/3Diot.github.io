{
 "cells": [
  {
   "cell_type": "code",
   "execution_count": null,
   "metadata": {},
   "outputs": [],
   "source": [
    "# default_exp core"
   ]
  },
  {
   "cell_type": "markdown",
   "metadata": {},
   "source": [
    "# module name here\n",
    "\n",
    "> API details."
   ]
  },
  {
   "cell_type": "code",
   "execution_count": 1,
   "metadata": {},
   "outputs": [],
   "source": [
    "%%capture\n",
    "!pip install nbdev marko"
   ]
  },
  {
   "cell_type": "code",
   "execution_count": 2,
   "metadata": {},
   "outputs": [],
   "source": [
    "#hide\n",
    "from nbdev.showdoc import *"
   ]
  },
  {
   "cell_type": "code",
   "execution_count": 3,
   "metadata": {},
   "outputs": [],
   "source": [
    "#export\n",
    "def say_hello(to):\n",
    "    \"Say hello to somebody\"\n",
    "    return f'Hello {to}!'"
   ]
  },
  {
   "cell_type": "markdown",
   "metadata": {},
   "source": [
    "[nb_2_html](https://github.com/BNIA/dataplay/blob/main/notebooks/04_nb_2_html.ipynb)"
   ]
  },
  {
   "cell_type": "code",
   "execution_count": 4,
   "metadata": {},
   "outputs": [],
   "source": [
    "#export\n",
    "import re\n",
    "import marko"
   ]
  },
  {
   "cell_type": "code",
   "execution_count": 5,
   "metadata": {},
   "outputs": [],
   "source": [
    "#export\n",
    "from nbdev import export2html\n",
    "from nbdev.export2html import read_nb, get_metadata, clean_exports\n",
    "from nbdev.export import split_flags_and_code, check_re_multi"
   ]
  },
  {
   "cell_type": "code",
   "execution_count": 6,
   "metadata": {},
   "outputs": [],
   "source": [
    "#export\n",
    "# 1st fn. passes each cell to decision fn.\n",
    "def convertNb(nb):  return [cleanCell(c) for c in nb['cells']]\n",
    "\n",
    "# 2nd fn. returns text or passes cell to 'code cell' processor\n",
    "def cleanCell(cell): return marko.convert(cell.source) if cell.cell_type == 'markdown' else processCode(cell)\n",
    "\n",
    "# 3rd fn. Calls getFlags, processSource, processOutput\n",
    "def processCode(cell):\n",
    "  x = [cell.source]\n",
    "  flags = getFlags(x[0])\n",
    "  x[0] = processSource( x[0], flags )\n",
    "  if ( len(cell.outputs) ):\n",
    "    for o in cell.outputs: x.append( processOutput(o, flags) )\n",
    "  return x"
   ]
  },
  {
   "cell_type": "code",
   "execution_count": 7,
   "metadata": {},
   "outputs": [],
   "source": [
    "#export\n",
    "# Detect and stripout and handle flags.\n",
    "def getFlags(source):\n",
    "  input_aug = ['#collapse_input_open', '#collapse_input', '#collapse_output_open', '#collapse_output',\n",
    "               '#hide_input', '#hide_output', '#hide ', '%%capture', '%%javascript', '%%html']\n",
    "  return [ x for x in input_aug if re.search(x, source) ]\n",
    "\n",
    "# enclose the text within a collapsable html drawer.\n",
    "def makeDetails( content, open ):\n",
    "  return \"<details \"+('open' if open else '')+\"> <summary>Click to toggle</summary> \"+content+\"</details>\""
   ]
  },
  {
   "cell_type": "code",
   "execution_count": 8,
   "metadata": {},
   "outputs": [],
   "source": [
    "#export\n",
    "# Strip Flags from text, make details, hide all.\n",
    "def processSource (source, flags):\n",
    "  for lbl in flags:\n",
    "    source = source.replace(lbl+'\\r\\n', \"\")\n",
    "    source = source.replace(lbl+'\\n', \"\") # Strip the Flag\n",
    "    if (lbl == '#collapse_input_open'): source = makeDetails( source, True )\n",
    "    if (lbl == '#collapse_input'): source = makeDetails( source, False )\n",
    "    if (lbl == '#hide '): source = ''\n",
    "    if (lbl == '#hide_input'): source = ''\n",
    "    if (lbl == '%%javascript'): source = ''\n",
    "    if (lbl == '%%html'): source = ''\n",
    "    if (lbl == '%%capture'): source = ''\n",
    "  return source"
   ]
  },
  {
   "cell_type": "code",
   "execution_count": 9,
   "metadata": {},
   "outputs": [],
   "source": [
    "#export\n",
    "def processOutput(source, flags):\n",
    "  if(source.output_type=='error'):  return ''\n",
    "  if(source.output_type=='stream'):\n",
    "    if(source.name=='stderr'): return ''\n",
    "    source.data = {'text/html': source.text} # This will have the stream process as text/html.\n",
    "  # print(source.data.keys())\n",
    "  if ( hasattr(source.data, 'text/html') ): source=source.data['text/html'];\n",
    "  elif ( hasattr(source.data, 'application/javascript') ): source='<script>'+source.data['application/javascript']+'</script>'\n",
    "  elif ( hasattr(source.data, 'image/png') ): source= \"<img src=\\\"data:image/png;base64,\" + source.data['image/png'] + \"\\\" alt='Image Alt Text'>\"\n",
    "  elif ( hasattr(source.data, 'text/plain') ): source = '' if re.search(\"<Figure\", source.data['text/plain']) else source.data['text/plain'];\n",
    "  # print(source)\n",
    "  for lbl in flags:\n",
    "    source = source.replace(lbl+'\\r\\n', \"\")\n",
    "    source = source.replace(lbl+'\\n', \"\") # Strip the Flag\n",
    "    if (lbl == '#collapse_output_open'): source = makeDetails( source, True )\n",
    "    if (lbl == '#collapse_output'): source = makeDetails( source, False )\n",
    "    if (lbl == '#hide_output'): source = ''\n",
    "    if (lbl == '#hide '): source = ''\n",
    "  return source\n",
    "  #output_type == 'stream' ==> text\n",
    "  #output_type == 'display_data' ==> data{'application/javascript' or 'text/html' or 'execute_result'}"
   ]
  },
  {
   "cell_type": "code",
   "execution_count": 10,
   "metadata": {},
   "outputs": [],
   "source": [
    "#export\n",
    "# https://apps.timwhitlock.info/unicode/inspect/hex/1F633 Use: Dec => Code\n",
    "def replaceEmojis(text):\n",
    "    text = text.replace('🙂', '&#1F642')\n",
    "    text = text.replace('😳', '&#128563')\n",
    "    text = text.replace('\\u2003', '&#8195')\n",
    "    text = text.replace('👷', '&#128119')\n",
    "    text = text.replace('🧡', '&#129505')\n",
    "    text = text.replace('💖', '&#128150')\n",
    "    return text"
   ]
  },
  {
   "cell_type": "code",
   "execution_count": 11,
   "metadata": {},
   "outputs": [],
   "source": [
    "#export\n",
    "import json\n",
    "# Must be in directory of ipynb you want to convert to html.\n",
    "def publish(fname='index'): \n",
    "  sys.path.pop()\n",
    "  sys.path.append('workspaces/3Diot.github.io/ipynb')\n",
    "  # from blog import core \n",
    "  %cd ../ipynb \n",
    "  nb = read_nb(fname+'.ipynb')\n",
    "  meta = get_metadata(nb['cells'])\n",
    "  outp = convertNb(nb)\n",
    "  outp = ''.join( [''.join(c) for c in outp] ) \n",
    "  resp = ''.join( [''.join(c) for c in outp] )\n",
    "  resp = replaceEmojis(resp)\n",
    "\n",
    "  f = open(\"../src/posts/\"+meta['filename'].lower().replace(' ', '_')+\".json\", \"w\") \n",
    "  f.write( str(json.dumps({\"meta\":meta,\"content\":resp})) )\n",
    "  f.close()\n",
    "  notused = \"\"\"\n",
    "    template = open(\"../\"+meta['template']+\".html\", \"r\").read() \n",
    "    template = template.replace('{{tab}}', meta['tab']) \n",
    "    template = template.replace('{{title}}', meta['title']) \n",
    "    template = template.replace('{{summary}}', meta['summary']) \n",
    "    template = template.replace('{{image}}', meta['image']) \n",
    "    template = template.replace('{{filename}}', fname+'.ipynb') \n",
    "    txt = template.replace('{{content}}', resp ) \n",
    "    # toc template keywords badges comments hide \n",
    "    \n",
    "\n",
    "    f = open(\"./html/\"+meta['filename'].lower().replace(' ', '_')+\".html\", \"w\") # , encoding='utf-8'\n",
    "    f.write(txt)\n",
    "    f.close()\n",
    "  \"\"\"\n",
    "  return meta"
   ]
  },
  {
   "cell_type": "code",
   "execution_count": 24,
   "metadata": {},
   "outputs": [],
   "source": [
    "from IPython. display import clear_output\n",
    "import json\n",
    "links = []\n",
    "for p in ['index', '001_Legal', '002_Parcels', '003_Lore', '004_Tutorials', '005_Monetize', '006_Websites']: \n",
    "    meta = publish(p)\n",
    "    if( meta['hide'] == 'false'):\n",
    "        del meta['badges']; \n",
    "        del meta['keywords']; \n",
    "        del meta['comments']; \n",
    "        del meta['hide']; \n",
    "        del meta['image']; \n",
    "        del meta['toc']\n",
    "        del meta['title']\n",
    "        links.append(meta)\n",
    "f = open(\"../src/posts/toc.json\", \"w\") \n",
    "f.write(str(json.dumps(links)))\n",
    "f.close()\n",
    "clear_output()"
   ]
  },
  {
   "cell_type": "markdown",
   "metadata": {},
   "source": []
  },
  {
   "cell_type": "code",
   "execution_count": null,
   "metadata": {},
   "outputs": [],
   "source": [
    "nb = read_nb('002_Parcels.ipynb')\n",
    "meta_jekyll = get_metadata(nb['cells'])"
   ]
  },
  {
   "cell_type": "code",
   "execution_count": null,
   "metadata": {},
   "outputs": [],
   "source": [
    "meta_jekyll"
   ]
  },
  {
   "cell_type": "markdown",
   "metadata": {},
   "source": []
  },
  {
   "cell_type": "markdown",
   "metadata": {},
   "source": []
  },
  {
   "cell_type": "code",
   "execution_count": null,
   "metadata": {},
   "outputs": [],
   "source": [
    "# sys.path.append('workspaces/3Diot.github.io/blog/')"
   ]
  },
  {
   "cell_type": "code",
   "execution_count": null,
   "metadata": {},
   "outputs": [],
   "source": [
    "nb = read_nb('index.ipynb')\n",
    "outp = convertNb(nb)"
   ]
  },
  {
   "cell_type": "code",
   "execution_count": null,
   "metadata": {},
   "outputs": [],
   "source": [
    "#export\n",
    "def runit(fname='index.ipynb'): \n",
    "  nb = read_nb(fname)\n",
    "  meta_jekyll = get_metadata(nb['cells'])\n",
    "  outp = convertNb(nb)\n",
    "  txt = ''.join( [''.join(c) for c in outp] )\n",
    "  return txt\n",
    "\n",
    "t = runit(fname='002_Parcels.ipynb')\n",
    "import IPython\n",
    "IPython.display.HTML(t)"
   ]
  },
  {
   "cell_type": "code",
   "execution_count": null,
   "metadata": {},
   "outputs": [],
   "source": []
  },
  {
   "cell_type": "code",
   "execution_count": null,
   "metadata": {},
   "outputs": [],
   "source": []
  },
  {
   "cell_type": "code",
   "execution_count": null,
   "metadata": {},
   "outputs": [],
   "source": [
    "pip install flask"
   ]
  },
  {
   "cell_type": "code",
   "execution_count": null,
   "metadata": {},
   "outputs": [],
   "source": [
    "from flask import Flask\n",
    "import re\n",
    "app = Flask(__name__)\n",
    "\n",
    "@app.route(\"/\")\n",
    "def homepage():  \n",
    "  return publish('index') \n",
    "    \n",
    "@app.route(\"/parcels\")\n",
    "def parcels():  \n",
    "  return publish('002_Parcels') \n",
    "\n",
    "@app.route(\"/tokengating\")\n",
    "def progress():  \n",
    "  return publish('003_TokenGating') \n",
    "\n",
    "@app.route(\"/lore\")\n",
    "def scarcity():  \n",
    "  return publish('004_Lore') \n",
    "\n",
    "@app.route(\"/tutorials\")\n",
    "def technology():  \n",
    "  return publish('006_Tutorials') \n",
    "\n",
    "@app.route(\"/monetize\")\n",
    "def tutorials():  \n",
    "  return publish('007_Monetize') \n",
    "\n",
    "\n",
    "@app.route(\"/legal\")\n",
    "def legal():  \n",
    "  return publish('999_Legal') \n",
    "  \n",
    "\n",
    "app.run()"
   ]
  },
  {
   "cell_type": "code",
   "execution_count": null,
   "metadata": {},
   "outputs": [],
   "source": []
  },
  {
   "cell_type": "code",
   "execution_count": null,
   "metadata": {},
   "outputs": [],
   "source": []
  },
  {
   "cell_type": "code",
   "execution_count": null,
   "metadata": {},
   "outputs": [],
   "source": []
  },
  {
   "attachments": {},
   "cell_type": "markdown",
   "metadata": {},
   "source": [
    "  <!-- \n",
    "    # https://github.com/ionic-team/ionic-docs/blob/legacy/src/demos/api/content/index.html \n",
    "    # https://github.com/ionic-team/ionic-docs/blob/legacy/src/demos/api/infinite-scroll/index.html\n",
    "    # https://github.com/ionic-team/ionic-docs/blob/legacy/src/demos/api/back-button/index.html\n",
    "\n",
    "    https://ionicframework.com/docs/components\n",
    "    https://ionicframework.com/docs/api/card\n",
    "    https://ionicframework.com/docs/api/popover\n",
    "    https://ionicframework.com/docs/api/modal\n",
    "    https://ionicframework.com/docs/api/menu\n",
    "    https://ionicframework.com/docs/api/grid\n",
    "    https://ionicframework.com/docs/api/action-sheet\n",
    "    https://ionicframework.com/docs/api/toolbar\n",
    "    https://ionicframework.com/docs/api/content\n",
    "\n",
    "    <ion-row class=\"md hydrated\">\n",
    "    <ion-list class=\"md list-md hydrated\">\n",
    "      <ion-item class=\"item md item-fill-none in-list hydrated item-label\">\n",
    "        <ion-label class=\"sc-ion-label-md-h sc-ion-label-md-s md hydrated\">Item 0</ion-label>\n",
    "      </ion-item>\n",
    "      <ion-item class=\"item md item-fill-none in-list hydrated item-label\">\n",
    "        <ion-label class=\"sc-ion-label-md-h sc-ion-label-md-s md hydrated\">Item 14</ion-label>\n",
    "      </ion-item>\n",
    "    </ion-list>\n",
    "    </ion-row>\n",
    "  -->"
   ]
  }
 ],
 "metadata": {
  "kernelspec": {
   "display_name": "Python 3.10.2 64-bit",
   "language": "python",
   "name": "python3"
  },
  "language_info": {
   "codemirror_mode": {
    "name": "ipython",
    "version": 3
   },
   "file_extension": ".py",
   "mimetype": "text/x-python",
   "name": "python",
   "nbconvert_exporter": "python",
   "pygments_lexer": "ipython3",
   "version": "3.10.2"
  },
  "vscode": {
   "interpreter": {
    "hash": "046b844cfe77f56867adc884800e389906328c66f60829dd4497d230d7e2d321"
   }
  }
 },
 "nbformat": 4,
 "nbformat_minor": 2
}

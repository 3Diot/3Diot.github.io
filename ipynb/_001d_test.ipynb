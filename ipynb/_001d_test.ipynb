{
  "cells": [
    {
      "cell_type": "code",
      "execution_count": 1,
      "metadata": {
        "colab": {
          "base_uri": "https://localhost:8080/",
          "height": 16
        },
        "executionInfo": {
          "elapsed": 146,
          "status": "ok",
          "timestamp": 1626286164521,
          "user": {
            "displayName": "Baltimore Neighborhood Indicators Alliance",
            "photoUrl": "https://lh3.googleusercontent.com/a-/AOh14Gg-q3A7kTIHf7wESw989OAOaJeUYKXGEdoA4M3NTA=s64",
            "userId": "16379023391965073054"
          },
          "user_tz": 240
        },
        "id": "Z-DhoT_8D0c7",
        "outputId": "55c8f96a-f7f7-47af-eafe-83af391079b9"
      },
      "outputs": [
        {
          "data": {
            "text/html": [
              "  <!DOCTYPE html>\n",
              "  <html lang=\"en\">\n",
              "  <head>\n",
              "    <meta charset=\"UTF-8\">\n",
              "    <meta name=\"viewport\" content=\"width=device-width, initial-scale=1.0\">\n",
              "    <title>Test</title>\n",
              "    <script type=\"module\" src=\"https://cdn.jsdelivr.net/npm/@ionic/core/dist/ionic/ionic.esm.js\"></script>\n",
              "    <script nomodule src=\"https://cdn.jsdelivr.net/npm/@ionic/core/dist/ionic/ionic.js\"></script>\n",
              "    <link rel=\"stylesheet\" href=\"https://cdn.jsdelivr.net/npm/@ionic/core/css/ionic.bundle.css\" />\n",
              "  </head>\n",
              "  <body>\n",
              "    <ion-app>\n",
              "      <ion-header translucent > <!-- class=\"ion-no-border\" -->\n",
              "        <ion-toolbar>\n",
              "          <ion-title>CryptoVoxels Example Report!</ion-title>\n",
              "        </ion-toolbar> \n",
              "      </ion-header>,\n",
              "      <ion-content fullscreen class=\"ion-padding\"> \n",
              "        <!-- \n",
              "          # https://github.com/ionic-team/ionic-docs/blob/legacy/src/demos/api/content/index.html \n",
              "          # https://github.com/ionic-team/ionic-docs/blob/legacy/src/demos/api/infinite-scroll/index.html\n",
              "          # https://github.com/ionic-team/ionic-docs/blob/legacy/src/demos/api/back-button/index.html\n",
              "        -->\n"
            ],
            "text/plain": [
              "<IPython.core.display.HTML object>"
            ]
          },
          "metadata": {},
          "output_type": "display_data"
        }
      ],
      "source": [
        "%%html\n",
        "  <!DOCTYPE html>\n",
        "  <html lang=\"en\">\n",
        "  <head>\n",
        "    <meta charset=\"UTF-8\">\n",
        "    <meta name=\"viewport\" content=\"width=device-width, initial-scale=1.0\">\n",
        "    <title>Test</title>\n",
        "    <script type=\"module\" src=\"https://cdn.jsdelivr.net/npm/@ionic/core/dist/ionic/ionic.esm.js\"></script>\n",
        "    <script nomodule src=\"https://cdn.jsdelivr.net/npm/@ionic/core/dist/ionic/ionic.js\"></script>\n",
        "    <link rel=\"stylesheet\" href=\"https://cdn.jsdelivr.net/npm/@ionic/core/css/ionic.bundle.css\" />\n",
        "  </head>\n",
        "  <body>\n",
        "    <ion-app>\n",
        "      <ion-header translucent > <!-- class=\"ion-no-border\" -->\n",
        "        <ion-toolbar>\n",
        "          <ion-title>CryptoVoxels Example Report!</ion-title>\n",
        "        </ion-toolbar> \n",
        "      </ion-header>,\n",
        "      <ion-content fullscreen class=\"ion-padding\"> \n",
        "        <!-- \n",
        "          # https://github.com/ionic-team/ionic-docs/blob/legacy/src/demos/api/content/index.html \n",
        "          # https://github.com/ionic-team/ionic-docs/blob/legacy/src/demos/api/infinite-scroll/index.html\n",
        "          # https://github.com/ionic-team/ionic-docs/blob/legacy/src/demos/api/back-button/index.html\n",
        "        -->"
      ]
    },
    {
      "cell_type": "code",
      "execution_count": 1,
      "metadata": {},
      "outputs": [
        {
          "data": {
            "text/html": [
              "<style>\n",
              "  /*\n",
              "  :root {\n",
              "    --ion-safe-area-top: 2px;\n",
              "    --ion-safe-area-bottom: 22px;\n",
              "  }\n",
              "  details{padding-bottom:8px}\n",
              "  summary>*{ display:inline-block }\n",
              "  h2, h3 {text-align: center; }\n",
              "  details > summary > h3 {display: inline;}\n",
              "  summary::marker { content: \"🧡 \"; }\n",
              "  */\n",
              "  h2, h3 {\n",
              "    display: inline-block;\n",
              "  }\n",
              "  body { text-align: center; } \n",
              "  \n",
              "  ion-content > div { margin-left: 25%; padding-top: 40px;  padding-bottom: 40px; }\n",
              "\n",
              "</style> \n"
            ],
            "text/plain": [
              "<IPython.core.display.HTML object>"
            ]
          },
          "metadata": {},
          "output_type": "display_data"
        }
      ],
      "source": [
        "%%html\n",
        "<style>\n",
        "  /*\n",
        "  :root {\n",
        "    --ion-safe-area-top: 2px;\n",
        "    --ion-safe-area-bottom: 22px;\n",
        "  }\n",
        "  details{padding-bottom:8px}\n",
        "  summary>*{ display:inline-block }\n",
        "  h2, h3 {text-align: center; }\n",
        "  details > summary > h3 {display: inline;}\n",
        "  summary::marker { content: \"🧡 \"; }\n",
        "  */\n",
        "  h2, h3 {\n",
        "    display: inline-block;\n",
        "  }\n",
        "  body { text-align: center; } \n",
        "  \n",
        "  ion-content > div { margin-left: 25%; padding-top: 40px;  padding-bottom: 40px; }\n",
        "\n",
        "</style> "
      ]
    },
    {
      "cell_type": "markdown",
      "metadata": {
        "id": "mjQRsWXX_iMf"
      },
      "source": [
        "# CV TEST\n",
        "> This publication inspired by [nbdev](http://nbdev.fast.ai/tutorial/) and [nbConvert](https://nbconvert.readthedocs.io/en/latest/).\n",
        "\n",
        "- toc: true\n",
        "- description: this isnt working\n",
        "- image: images/company_logo.png\n",
        "- keywords: thisworks\n",
        "- badges: true\n",
        "- comments: true\n",
        "- categories: [test]\n",
        "- hide: false\n",
        "- metadata_key1: metadata_value1\n",
        "- metadata_key2: metadata_value2"
      ]
    },
    {
      "cell_type": "markdown",
      "metadata": {
        "id": "14iqIm5w4Ff7"
      },
      "source": [
        "[![Binder](https://mybinder.org/badge_logo.svg)](https://mybinder.org/v2/gh/3Diot/3Diot.github.io/main)\n",
        "[![Binder](https://pete88b.github.io/fastpages/assets/badges/colab.svg)](https://colab.research.google.com/github/3Diot/3Diot.github.io/blob/main/blog/notebooks/002_CV.ipynb)\n",
        "[![Binder](https://pete88b.github.io/fastpages/assets/badges/github.svg)](https://github.com/3Diot/3Diot.github.io/blob/main/blog/notebooks/002_CV.ipynb) \n",
        "[![GitHub last commit](https://img.shields.io/github/last-commit/3Diot/3Diot.github.io.svg?style=flat)]()  \n",
        "\n",
        "[![GitHub stars](https://img.shields.io/github/stars/3Diot/3Diot.github.io.svg?style=social&label=Star)](https://github.com/3Diot/3Diot.github.io) \n",
        "[![GitHub watchers](https://img.shields.io/github/watchers/3Diot/3Diot.github.io.svg?style=social&label=Watch)](https://github.com/3Diot/3Diot.github.io) \n",
        "[![GitHub forks](https://img.shields.io/github/forks/3Diot/3Diot.github.io.svg?style=social&label=Fork)](https://github.com/3Diot/3Diot.github.io) \n",
        "[![GitHub followers](https://img.shields.io/github/followers/3Diot.svg?style=social&label=Follow)](https://github.com/3Diot/3Diot.github.io) \n",
        "\n",
        "[![Tweet](https://img.shields.io/twitter/url/https/github.com/3Diot/3Diot.github.io.svg?style=social)](https://twitter.com/intent/tweet?text=Check%20out%20these%20%E2%9C%A8%20colab%20by%20@karpatic%20https://github.com/3diot/3diot.github.io) \n",
        "[![Twitter Follow](https://img.shields.io/twitter/follow/karpatic.svg?style=social)](https://twitter.com/karpatic)"
      ]
    },
    {
      "cell_type": "markdown",
      "metadata": {},
      "source": [
        "Viewcount: ![Visitors](https://visitor-badge.laobi.icu/badge?page_id=3diot.3diot.github.io)"
      ]
    },
    {
      "cell_type": "markdown",
      "metadata": {},
      "source": [
        "This is just an example of what could be interactive reports! \n",
        "\n",
        "Styling and advanced functionality and better data are on the way."
      ]
    },
    {
      "cell_type": "markdown",
      "metadata": {
        "id": "t0cxLfLyIUr1"
      },
      "source": [
        "## The new islands"
      ]
    },
    {
      "cell_type": "code",
      "execution_count": 3,
      "metadata": {},
      "outputs": [],
      "source": [
        "#hide \n",
        "#cd /workspaces/3Diot.github.io/blog/data"
      ]
    },
    {
      "cell_type": "markdown",
      "metadata": {},
      "source": [
        "<details>\n",
        "<summary>"
      ]
    },
    {
      "cell_type": "markdown",
      "metadata": {},
      "source": [
        "## CARD"
      ]
    },
    {
      "cell_type": "markdown",
      "metadata": {},
      "source": [
        "</summary>"
      ]
    },
    {
      "cell_type": "markdown",
      "metadata": {},
      "source": [
        "<ion-card>\n",
        "  <ion-card-header>\n",
        "    <ion-card-subtitle>Card Subtitle</ion-card-subtitle>\n",
        "    <ion-card-title>Card Title</ion-card-title>\n",
        "  </ion-card-header>\n",
        "\n",
        "  <ion-card-content>\n",
        "    Keep close to Nature's heart... and break clear away, once in awhile,\n",
        "    and climb a mountain or spend a week in the woods. Wash your spirit clean.\n",
        "  </ion-card-content>\n",
        "</ion-card>\n",
        "\n",
        "<ion-card>\n",
        "  <ion-item>\n",
        "    <ion-icon name=\"pin\" slot=\"start\"></ion-icon>\n",
        "    <ion-label>ion-item in a card, icon left, button right</ion-label>\n",
        "    <ion-button fill=\"outline\" slot=\"end\">View</ion-button>\n",
        "  </ion-item>\n",
        "\n",
        "  <ion-card-content>\n",
        "    This is content, without any paragraph or header tags,\n",
        "    within an ion-card-content element.\n",
        "  </ion-card-content>\n",
        "</ion-card>\n",
        "\n",
        "<ion-card>\n",
        "  <ion-item href=\"#\" class=\"ion-activated\">\n",
        "    <ion-icon name=\"wifi\" slot=\"start\"></ion-icon>\n",
        "    <ion-label>Card Link Item 1 activated</ion-label>\n",
        "  </ion-item>\n",
        "\n",
        "  <ion-item href=\"#\">\n",
        "    <ion-icon name=\"wine\" slot=\"start\"></ion-icon>\n",
        "    <ion-label>Card Link Item 2</ion-label>\n",
        "  </ion-item>\n",
        "\n",
        "  <ion-item class=\"ion-activated\">\n",
        "    <ion-icon name=\"warning\" slot=\"start\"></ion-icon>\n",
        "    <ion-label>Card Button Item 1 activated</ion-label>\n",
        "  </ion-item>\n",
        "\n",
        "  <ion-item>\n",
        "    <ion-icon name=\"walk\" slot=\"start\"></ion-icon>\n",
        "    <ion-label>Card Button Item 2</ion-label>\n",
        "  </ion-item>\n",
        "</ion-card>"
      ]
    },
    {
      "cell_type": "markdown",
      "metadata": {},
      "source": []
    },
    {
      "cell_type": "markdown",
      "metadata": {
        "id": "FLL5U8M9YdaB"
      },
      "source": [
        "For this demonstration I pulled data from [here](https://www.k1ic.com/archive/cv_stats_20211029.csv)"
      ]
    },
    {
      "cell_type": "code",
      "execution_count": 4,
      "metadata": {},
      "outputs": [],
      "source": [
        "#hide_input \n",
        "import pandas as pd\n",
        "cvStats = pd.read_csv('https://www.k1ic.com/archive/cv_stats_20211127.csv')"
      ]
    },
    {
      "cell_type": "markdown",
      "metadata": {},
      "source": [
        "There is a lot of data in there. So lets take a look at only the most recently listed Islands (Python): "
      ]
    },
    {
      "cell_type": "markdown",
      "metadata": {},
      "source": [
        "<img height='500px' src='https://pbs.twimg.com/media/FFIDGogWYAoawza?format=jpg&name=large'>"
      ]
    },
    {
      "cell_type": "code",
      "execution_count": 11,
      "metadata": {},
      "outputs": [],
      "source": [
        "#hide_input \n",
        "newIslands = cvStats[ cvStats.Island.isin(['Pilikai','Honolulu','Kauai']) ]"
      ]
    },
    {
      "cell_type": "markdown",
      "metadata": {},
      "source": [
        "<br>"
      ]
    },
    {
      "cell_type": "markdown",
      "metadata": {},
      "source": [
        "### The Data"
      ]
    },
    {
      "cell_type": "markdown",
      "metadata": {},
      "source": [
        "This following interactive pivot table is not usable on mobile but is a very powerful visualization tool.\n",
        "\n",
        "I can process raw data, create reports, and share it on the web where it can than be further manipulated & explored!\n",
        "\n",
        "Drag and drop attributes from the leftmost into either the X or Y column. \n",
        "\n",
        "You can change the visualization and aggregation technique as well."
      ]
    },
    {
      "cell_type": "code",
      "execution_count": 14,
      "metadata": {},
      "outputs": [],
      "source": [
        "#hide_input \n",
        "from pivottablejs import pivot_ui\n",
        "from IPython.display import HTML\n",
        "#if using locally you can just use the following to display the output: pivot_ui(df)\n",
        "# As we are using colab, we will just download the output - this can then be opened in a new tab in the browser"
      ]
    },
    {
      "cell_type": "code",
      "execution_count": 15,
      "metadata": {},
      "outputs": [
        {
          "data": {
            "text/html": [
              "\n",
              "<!DOCTYPE html>\n",
              "<html>\n",
              "    <head>\n",
              "        <meta charset=\"UTF-8\">\n",
              "        <title>PivotTable.js</title>\n",
              "\n",
              "        <!-- external libs from cdnjs -->\n",
              "        <link rel=\"stylesheet\" type=\"text/css\" href=\"https://cdnjs.cloudflare.com/ajax/libs/c3/0.4.11/c3.min.css\">\n",
              "        <script type=\"text/javascript\" src=\"https://cdnjs.cloudflare.com/ajax/libs/d3/3.5.5/d3.min.js\"></script>\n",
              "        <script type=\"text/javascript\" src=\"https://cdnjs.cloudflare.com/ajax/libs/c3/0.4.11/c3.min.js\"></script>\n",
              "        <script type=\"text/javascript\" src=\"https://cdnjs.cloudflare.com/ajax/libs/jquery/1.11.2/jquery.min.js\"></script>\n",
              "        <script type=\"text/javascript\" src=\"https://cdnjs.cloudflare.com/ajax/libs/jqueryui/1.11.4/jquery-ui.min.js\"></script>\n",
              "        <script type=\"text/javascript\" src=\"https://cdnjs.cloudflare.com/ajax/libs/jquery-csv/0.71/jquery.csv-0.71.min.js\"></script>\n",
              "\n",
              "\n",
              "        <link rel=\"stylesheet\" type=\"text/css\" href=\"https://cdnjs.cloudflare.com/ajax/libs/pivottable/2.19.0/pivot.min.css\">\n",
              "        <script type=\"text/javascript\" src=\"https://cdnjs.cloudflare.com/ajax/libs/pivottable/2.19.0/pivot.min.js\"></script>\n",
              "        <script type=\"text/javascript\" src=\"https://cdnjs.cloudflare.com/ajax/libs/pivottable/2.19.0/d3_renderers.min.js\"></script>\n",
              "        <script type=\"text/javascript\" src=\"https://cdnjs.cloudflare.com/ajax/libs/pivottable/2.19.0/c3_renderers.min.js\"></script>\n",
              "        <script type=\"text/javascript\" src=\"https://cdnjs.cloudflare.com/ajax/libs/pivottable/2.19.0/export_renderers.min.js\"></script>\n",
              "\n",
              "        <style>\n",
              "            body {font-family: Verdana;}\n",
              "            .node {\n",
              "              border: solid 1px white;\n",
              "              font: 10px sans-serif;\n",
              "              line-height: 12px;\n",
              "              overflow: hidden;\n",
              "              position: absolute;\n",
              "              text-indent: 2px;\n",
              "            }\n",
              "            .c3-line, .c3-focused {stroke-width: 3px !important;}\n",
              "            .c3-bar {stroke: white !important; stroke-width: 1;}\n",
              "            .c3 text { font-size: 12px; color: grey;}\n",
              "            .tick line {stroke: white;}\n",
              "            .c3-axis path {stroke: grey;}\n",
              "            .c3-circle { opacity: 1 !important; }\n",
              "            .c3-xgrid-focus {visibility: hidden !important;}\n",
              "        </style>\n",
              "    </head>\n",
              "    <body>\n",
              "        <script type=\"text/javascript\">\n",
              "            $(function(){\n",
              "                if(window.location != window.parent.location)\n",
              "                    $(\"<a>\", {target:\"_blank\", href:\"\"})\n",
              "                        .text(\"[pop out]\").prependTo($(\"body\"));\n",
              "\n",
              "                $(\"#output\").pivotUI(\n",
              "                    $.csv.toArrays($(\"#output\").text()),\n",
              "                    $.extend({\n",
              "                        renderers: $.extend(\n",
              "                            $.pivotUtilities.renderers,\n",
              "                            $.pivotUtilities.c3_renderers,\n",
              "                            $.pivotUtilities.d3_renderers,\n",
              "                            $.pivotUtilities.export_renderers\n",
              "                            ),\n",
              "                        hiddenAttributes: [\"\"]\n",
              "                    }, {})\n",
              "                ).show();\n",
              "             });\n",
              "        </script>\n",
              "        <div id=\"output\" style=\"display: none;\">,Parcel_Id,Name,Description,Traffic_Visits,Owner,Contributors,Kind,Area,Height,Address,Distance,Island,Suburb,Price_Bought_At,Feature_Total,Depth,Width\n",
              "6225,6306, , ,135,0xa253d7cd38dc2d0b2e65ad42a7e4beb3c60a83ad,,plot,481,13,Auahi Space,1599,Honolulu,Honolulu,0,0,0,0\n",
              "6226,6307, , ,239,0x7e118a15c43b8f56cf69a4536fdd2404ac457552,,plot,179,16,41 Forrest Road,1620,Honolulu,Honolulu,0,0,0,0\n",
              "6227,6308, , ,66,0x4ec3bf69cf4eb665ebdd16309ae62babb373b424,,plot,132,8,37 Forrest Road,1612,Honolulu,Honolulu,0,0,0,0\n",
              "6228,6309, , ,139,0xda248cc10b477c1144219183ec87b0621dac37b3,,plot,269,8,29 Forrest Road,1635,Honolulu,Honolulu,0,0,0,0\n",
              "6229,6310, , ,77,0x6267a49a0ebbb47067cd18e619c5c6bed5111e83,,plot,224,8,31 Forrest Road,1616,Honolulu,Honolulu,0,0,0,0\n",
              "6230,6311, , ,109,0xc1efc49285eb5deda2ac887d613242475ed15048,,plot,203,12,23 Forrest Road,1631,Honolulu,Honolulu,0,0,0,0\n",
              "6231,6312, , ,164,0x92dfcf9708de9c7b86808ea50d223eda4a73bebf,,plot,143,8,2 South Drive,1633,Honolulu,Honolulu,0,18,0,0\n",
              "6232,6313,Hawaii Pad Honolulu, ,220,0x73b4437a4b3e43de673836107437e4f092a363e0,0xd7d16bcc1a30cf92e594ce7531e84c7e0ce97658|0x4f3d8fe6eecbf30b9987da8def9e45a67e45147b|0x3e401d84ceb24fbdb1aef5d96bc22828fd229933|0x73b4437a4b3e43de673836107437e4f092a363e0,plot,167,8,47 Forrest Road,1610,Honolulu,Honolulu,0,14,0,0\n",
              "6233,6314, , ,37,0x8d8bbe54e2798a2443bbd96bf828d6894b67efcb,,plot,55,8,41 Auahi Ave,1607,Honolulu,Honolulu,0,0,0,0\n",
              "6234,6315, , ,109,0xda248cc10b477c1144219183ec87b0621dac37b3,,plot,164,10,19 Forrest Road,1649,Honolulu,Honolulu,0,0,0,0\n",
              "6235,6316, , ,121,0x0b2783cb60ff4ec7ca869b30b8dafd801e7224b6,,plot,95,8,3 South Drive,1647,Honolulu,Honolulu,0,10,0,0\n",
              "6236,6321, , ,163,0xc1dfedd7b8fc3010a42466e51c773068fb95f485,0x7f56993e63c76dbb6fdc4d2df54d10cd24027cb8,plot,87,8,17 Forrest Road,1648,Honolulu,Honolulu,0,29,0,0\n",
              "6237,6322, , ,114,0xc4b0f00660592819ed9a38b6affe76e15d0ce502,,plot,53,11,59 Forrest Road,1600,Honolulu,Honolulu,0,0,0,0\n",
              "6238,6323, , ,224,0x3b97b6cbbfcfff88cf4a175e665c5715a3efe4f0,0xDb08eDbCF449De2A2B27448a8040935802c621F1,plot,95,8,5 Keaoopua Terrace,1640,Honolulu,Honolulu,0,95,0,0\n",
              "6239,6324, , ,51,0x38d7db71a1be75c52b463eb148c121a5bb418fb9,,plot,125,8,2 Heiau Road,1619,Honolulu,Honolulu,0,0,0,0\n",
              "6240,6325, , ,108,0x8a5d99776871e968731e94d9ed874aa9171ae0fa,,plot,53,11,2 Akaku Street,1604,Honolulu,Honolulu,0,3,0,0\n",
              "6241,6327, ,Satoshi Tower ,110,0xc5aff255199683f15d43ec5a60600a112b4532c2,0x916EaE701E48143e712023960545a9dD63412770|0x359C2d3e415361e277AB2034780F91BF238b2B59|0xEA6682f39949B708B00F1D7745f7b5A78D505f67|0x2ee8ac8f62218166f0a9e25bd788d1753c11e946|0x476F248fB8D8736dc84B4c9d7Cc186E5CcA2ad42|0x9d37e2b488EC646629D41A572543E7620C37be53|0x5D30C68C3067d97A3A446d5729749A06A39C6d5c,plot,207,14,5 Akaku Street,1610,Honolulu,Honolulu,0,0,0,0\n",
              "6242,6328, , ,129,0xa253d7cd38dc2d0b2e65ad42a7e4beb3c60a83ad,,plot,89,8,2 Keaoopua Terrace,1630,Honolulu,Honolulu,0,0,0,0\n",
              "6243,6329, , ,85,0xa253d7cd38dc2d0b2e65ad42a7e4beb3c60a83ad,,plot,153,13,7 South Drive,1660,Honolulu,Honolulu,0,0,0,0\n",
              "6244,6330, , ,44,0xa253d7cd38dc2d0b2e65ad42a7e4beb3c60a83ad,,plot,83,8,31 Punono Terrace,1668,Honolulu,Honolulu,0,0,0,0\n",
              "6245,6331, , ,97,0x4c3cfe2d0ee096c07c6f79f8ec3f1aaf09b83d95,,plot,135,8,3 Quinn Street,1637,Honolulu,Honolulu,0,31,0,0\n",
              "6246,6332, , ,77,0xa253d7cd38dc2d0b2e65ad42a7e4beb3c60a83ad,,plot,220,14,67 Forrest Road,1587,Honolulu,Honolulu,0,0,0,0\n",
              "6247,6334, , ,98,0xa253d7cd38dc2d0b2e65ad42a7e4beb3c60a83ad,,plot,129,11,3 Keaoopua Terrace,1642,Honolulu,Honolulu,0,0,0,0\n",
              "6248,6335, , ,82,0xa253d7cd38dc2d0b2e65ad42a7e4beb3c60a83ad,,plot,155,10,3 Akaku Street,1598,Honolulu,Honolulu,0,0,0,0\n",
              "6249,6337,Funguy Family Fort, ,183,0xf6b738a8fef757e7b14408ef6a71a4b02e857171,,plot,76,10,11 South Drive,1672,Honolulu,Honolulu,0,44,0,0\n",
              "6250,6338, , ,200,0x6439543a2ff1d78d25abdc8daa75bb004e210183,,plot,167,8,13 South Drive,1659,Honolulu,Honolulu,0,0,0,0\n",
              "6251,6339, , ,27,0xa253d7cd38dc2d0b2e65ad42a7e4beb3c60a83ad,,plot,74,9,19 Ahiu Street,1605,Honolulu,Honolulu,0,0,0,0\n",
              "6252,6345, , ,33,0xa253d7cd38dc2d0b2e65ad42a7e4beb3c60a83ad,,plot,153,8,17 Auahi Ave,1584,Honolulu,Honolulu,0,0,0,0\n",
              "6253,6356, , ,192,0x6439543a2ff1d78d25abdc8daa75bb004e210183,0x695c6103e3d7cb9dff2a2f6648c0951dd39f4952,plot,71,8,19 South Drive,1674,Honolulu,Honolulu,0,0,0,0\n",
              "6254,6357, , ,227,0x6439543a2ff1d78d25abdc8daa75bb004e210183,0x695c6103e3d7cb9dff2a2f6648c0951dd39f4952,plot,107,17,3 Mulehu Terrace,1665,Honolulu,Honolulu,0,0,0,0\n",
              "6255,6358, , ,29,0xa253d7cd38dc2d0b2e65ad42a7e4beb3c60a83ad,,plot,48,8,3 Wekiu Drive,1595,Honolulu,Honolulu,0,0,0,0\n",
              "6256,6359, , ,119,0xd27fc8aee201ec6a35f3ae32c457d04c44965158,0x6439543a2fF1d78d25ABDc8DAa75bb004e210183,plot,109,14,2 Kaukalia Ave,1694,Honolulu,Honolulu,0,25,0,0\n",
              "6257,6360, , ,46,0x1963203759f5c5eb5c5c916b3509c9f26dd0381a,,plot,227,10,11 Leleaka Road,1610,Honolulu,Honolulu,0,0,0,0\n",
              "6258,6361, , ,62,0xa90e0e2ff2991ab05895589bec1411e011828417,0x27B184D9C8C04b19fEdf1Ea460776eCd2264EeB7,plot,76,8,5 Mulehu Terrace,1657,Honolulu,Honolulu,0,18,0,0\n",
              "6259,6362, , ,24,0xa253d7cd38dc2d0b2e65ad42a7e4beb3c60a83ad,,plot,90,14,29 Quinn Street,1600,Honolulu,Honolulu,0,0,0,0\n",
              "6260,6363, , ,254,0x6439543a2ff1d78d25abdc8daa75bb004e210183,0x695c6103e3d7cb9dff2a2f6648c0951dd39f4952,plot,239,9,23 South Drive,1674,Honolulu,Honolulu,0,94,0,0\n",
              "6261,6365,, ,187,0x6439543a2ff1d78d25abdc8daa75bb004e210183,0x695c6103e3d7cb9dff2a2f6648c0951dd39f4952,plot,95,8,29 South Drive,1695,Honolulu,Honolulu,0,1,0,0\n",
              "6262,6366,,CTRL Base of Ops,137,0x6439543a2ff1d78d25abdc8daa75bb004e210183,0x695c6103e3d7cb9dff2a2f6648c0951dd39f4952,plot,131,10,37 South Drive,1700,Honolulu,Honolulu,0,2,0,0\n",
              "6263,6370, , ,22,0xa253d7cd38dc2d0b2e65ad42a7e4beb3c60a83ad,,unit,125,6,2b Heiau Road,1619,Honolulu,Honolulu,0,0,0,0\n",
              "6264,6371, , ,42,0xc48020dc79337fe6331d74570d7e8beddb880f98,,unit,135,8,3b Quinn Street,1637,Honolulu,Honolulu,0,2,0,0\n",
              "6265,6372, , ,6,0x2d891ed45c4c3eab978513df4b92a35cf131d2e2,,unit,55,7,41b Auahi Ave,1607,Honolulu,Honolulu,0,0,0,0\n",
              "6266,6373, , ,384,0xa253d7cd38dc2d0b2e65ad42a7e4beb3c60a83ad,,plot,475,13,Hinahina Zone,1388,Pilikai,Pilikai,0,14,0,0\n",
              "6267,6374,Hawaii Pad Pilikai, ,464,0x6b484f9a2b4a4cddff14892a80a4d25546424c5f,0xd7d16bcc1a30cf92e594ce7531e84c7e0ce97658|0x4f3d8fe6eecbf30b9987da8def9e45a67e45147b|0x3e401d84ceb24fbdb1aef5d96bc22828fd229933|0x73B4437A4b3e43De673836107437e4f092A363e0,plot,195,8,2 Haena Terrace,1402,Pilikai,Pilikai,0,60,0,0\n",
              "6268,6375, ,Metaverse Gallery,523,0x38d7db71a1be75c52b463eb148c121a5bb418fb9,0x404c5b810e2cf04b82115bf93fa9cce8dac09c96,plot,179,10,43 Makuakane Drive,1410,Pilikai,Pilikai,0,290,0,0\n",
              "6269,6376, , ,168,0x90aeddd45d3e4027ce75df02324569ab600c6e5c,,plot,76,8,3 Haena Terrace,1402,Pilikai,Pilikai,0,0,0,0\n",
              "6270,6377,Millennium Labs, ,609,0x14ecd2b42e6e3ddd5481036be1e4bf45e632ea42,,plot,44,8,5 Haena Terrace,1414,Pilikai,Pilikai,0,37,0,0\n",
              "6271,6378, , ,622,0x14ecd2b42e6e3ddd5481036be1e4bf45e632ea42,,plot,80,11,7 Paradise Drive,1418,Pilikai,Pilikai,0,28,0,0\n",
              "6272,6379, ,Powered by Metaverse Agency,367,0x38d7db71a1be75c52b463eb148c121a5bb418fb9,0x404c5b810e2cf04b82115bf93fa9cce8dac09c96,plot,199,11,41 Makuakane Drive,1408,Pilikai,Pilikai,0,144,0,0\n",
              "6273,6380, , ,224,0x19f1caede538783d19cb6363349f7807e23367bb,,plot,119,16,37 Makuakane Drive,1424,Pilikai,Pilikai,0,1,0,0\n",
              "6274,6381, , ,312,0x1ac6a4e952800fe6542823688cc9f27c898f9279,,plot,175,11,7 Haena Terrace,1404,Pilikai,Pilikai,0,0,0,0\n",
              "6275,6382, , ,220,0x71b49fe06436d997b14228c96ac9bf4439147259,,plot,155,10,11 Haena Terrace,1422,Pilikai,Pilikai,0,123,0,0\n",
              "6276,6383,AV Universe, ,541,0x8ed10ca1c0b15353894eecea9e6bc11f15d53e10,0xb00d7ba1c22673ed493274605e4fd1566b98f388,plot,149,11,31 Makuakane Drive,1424,Pilikai,Pilikai,0,50,0,0\n",
              "6277,6384, , ,118,0x340dadb2bfe96a78375f9b2c8e4fab805eea9fc9,,plot,95,8,19 Uala Terrace,1419,Pilikai,Pilikai,0,1,0,0\n",
              "6278,6385,Traps, ,727,0x6439543a2ff1d78d25abdc8daa75bb004e210183,0x695c6103e3d7cb9dff2a2f6648c0951dd39f4952|0x196e919f74baeafca10c313043848c39a8f5effd|0x473b2702c302ef6df351004cbc4d16b5cecc804c,plot,254,11,13 Haena Terrace,1414,Pilikai,Pilikai,0,15,0,0\n",
              "6279,6386, , ,292,0x1c90d76468176a0caa4baf141677f253f73c83c2,,plot,97,8,11 Maia Street,1400,Pilikai,Pilikai,0,55,0,0\n",
              "6280,6387, , ,833,0x6904dfa88d5345dc7e2de0e1eba32a6c1e672b93,,plot,69,8,7 Maia Street,1388,Pilikai,Pilikai,0,20,0,0\n",
              "6281,6388, , ,148,0x8888888888ab9ac60103e4d717a973a7a2728677,0x991BB23cF135b20Cf9aBCb944283Ddb5abe26e40,plot,170,11,17 Haena Terrace,1433,Pilikai,Pilikai,0,9,0,0\n",
              "6282,6389, , ,281,0x5337abb4e405286573d369360b0265731fda0919,,plot,101,10,19 Makuakane Drive,1435,Pilikai,Pilikai,0,0,0,0\n",
              "6283,6390,Traps, ,653,0x6439543a2ff1d78d25abdc8daa75bb004e210183,0x695c6103e3d7cb9dff2a2f6648c0951dd39f4952|0x196e919f74baeafca10c313043848c39a8f5effd|0x473b2702c302ef6df351004cbc4d16b5cecc804c,plot,169,8,19 Haena Terrace,1423,Pilikai,Pilikai,0,2,0,0\n",
              "6284,6391, , ,889,0x6904dfa88d5345dc7e2de0e1eba32a6c1e672b93,,plot,119,8,2 Laau Paina Terrace,1379,Pilikai,Pilikai,0,34,0,0\n",
              "6285,6392, , ,515,0x1c90d76468176a0caa4baf141677f253f73c83c2,,plot,251,16,3 Pili Kai Road,1405,Pilikai,Pilikai,0,117,0,0\n",
              "6286,6393,whitelabels,virtual multipurpose space,501,0xf6b11609c3a5bcdeba0eab46799a3ed7c1323db8,0x904f7c7e11471a2ae059c18f1da6fa2094882f9f|0xa69c474714449a7f2065fddebeb8fabd31113d78|0xed14b35ae030c09dc838e7b8d5c4b0e7db9098dc|0xb78e8334eaccea894bfc11eeed1514e1fb78abe1,plot,143,12,17 Uala Terrace,1425,Pilikai,Pilikai,0,127,0,0\n",
              "6287,6394, , ,270,0x5337abb4e405286573d369360b0265731fda0919,,plot,271,12,17 Makuakane Drive,1440,Pilikai,Pilikai,0,0,0,0\n",
              "6288,6395, , ,340,0x1c90d76468176a0caa4baf141677f253f73c83c2,,plot,135,8,7 Pili Kai Road,1396,Pilikai,Pilikai,0,62,0,0\n",
              "6289,6396,Allister Growley, ,157,0xe57c7c27681c6578e85604ca0fe88c95e67e8541,,plot,104,12,11 Uala Terrace,1419,Pilikai,Pilikai,0,12,0,0\n",
              "6290,6397, , ,262,0x280b924d4ee6dbce9563f4960a8e8b1711a93ee7,,plot,125,10,23 Haena Terrace,1448,Pilikai,Pilikai,0,0,0,0\n",
              "6291,6398, , ,105,0x896f4c3876f036829008c19d8d5fe97cc0b8c749,,plot,119,8,5 Manako Drive,1435,Pilikai,Pilikai,0,0,0,0\n",
              "6292,6399, , ,108,0xf3934d7c25d6dedf3ed2e32ac8af61af41725d6d,,plot,62,8,5 Uala Terrace,1412,Pilikai,Pilikai,0,1,0,0\n",
              "6293,6400, , ,219,0xfad0ea578c6c63fe495dc0ef9cf73fc2c69e1f47,0x5d4d0f312de9D57338787308a25D2959978AADf6,plot,303,8,13 Makuakane Drive,1459,Pilikai,Pilikai,0,43,0,0\n",
              "6294,6401, , ,160,0x5337abb4e405286573d369360b0265731fda0919,,plot,224,8,5 Laau Paina Terrace,1365,Pilikai,Pilikai,0,0,0,0\n",
              "6295,6402,Voxel Haus,The warehouse for everything VOX.,748,0x695c6103e3d7cb9dff2a2f6648c0951dd39f4952,,plot,224,13,29 Haena Terrace,1434,Pilikai,Pilikai,0,327,0,0\n",
              "6296,6403, , ,145,0xfad0ea578c6c63fe495dc0ef9cf73fc2c69e1f47,0x5d4d0f312de9D57338787308a25D2959978AADf6,plot,143,10,11 Mc Neill Road,1470,Pilikai,Pilikai,0,4,0,0\n",
              "6297,6404,FLARE 2021, ,413,0x2e1c158b139fbe9251e2db089ec7f3488b670624,0x99fF4b9f38B1DBA80B527a48799cb354f65b6AD8,plot,179,8,2 Pili Kai Road,1425,Pilikai,Pilikai,0,6,0,0\n",
              "6298,6405, , ,50,0x00cf291c713f204b1ac03f86a8ed5d11acb4fb7a,,plot,48,8,2 Manako Drive,1431,Pilikai,Pilikai,0,7,0,0\n",
              "6299,6406, , ,179,0x1c90d76468176a0caa4baf141677f253f73c83c2,,plot,131,8,5 Pili Kai Road,1413,Pilikai,Pilikai,0,9,0,0\n",
              "6300,6407, , ,82,0x2089035369b33403ddcaba6258c34e0b3ffbbbd9,,plot,131,10,31 Hinahina Street,1364,Pilikai,Pilikai,0,0,0,0\n",
              "6301,6408,Richard Dixon Pilikai,Richard Dixon loves you.  https://twitter.com/richarddixonart,674,0x381a000326d7b1b901d75ac1acaed3c92b1eb01f,0xa214384fd96d0883a4e4c75036c2863f0f5995f5,plot,90,16,2 Uala Terrace,1406,Pilikai,Pilikai,0,56,0,0\n",
              "6302,6409, , ,101,0x825b9bd77bd3b8b24dfd5794800aea1394a6378d,,plot,90,16,7 Amau Road,1420,Pilikai,Pilikai,0,0,0,0\n",
              "6303,6410, , ,109,0x7d353e6faf6ed7434c7af7d261cdf5e8a9ff31b7,,plot,120,11,11 Makuakane Drive,1459,Pilikai,Pilikai,0,0,0,0\n",
              "6304,6411, , ,87,0x4eedcc324605ccd681052a285c3dbfd0e64be205,,plot,168,15,7 Manako Drive,1449,Pilikai,Pilikai,0,0,0,0\n",
              "6305,6412, , ,75,0x3644c67ba7738046994b7134fd10ab9895504170,,plot,293,8,31 Haena Terrace,1454,Pilikai,Pilikai,0,0,0,0\n",
              "6306,6413, , ,154,0x95c184a7217a80e59560897761c4b28622c1beb2,,plot,47,13,2 Paniolo Ave,1421,Pilikai,Pilikai,0,82,0,0\n",
              "6307,6414,Richard Dixon Pilikai,Richard Dixon loves you.  https://richarddixonart.com/ https://twitter.com/richarddixonart,746,0x381a000326d7b1b901d75ac1acaed3c92b1eb01f,0xa214384fd96d0883a4e4c75036c2863f0f5995f5,plot,142,14,19 Hinahina Street,1400,Pilikai,Pilikai,0,68,0,0\n",
              "6308,6415, , ,197,0x2089035369b33403ddcaba6258c34e0b3ffbbbd9,,plot,181,16,23 Hinahina Street,1375,Pilikai,Pilikai,0,0,0,0\n",
              "6309,6416, , ,55,0x799cd72d86a6aa46876c2689a13637cbe6ae89da,,plot,79,12,3 Manako Drive,1444,Pilikai,Pilikai,0,0,0,0\n",
              "6310,6417, , ,131,0x2089035369b33403ddcaba6258c34e0b3ffbbbd9,,plot,142,15,3 Ekaha Ave,1356,Pilikai,Pilikai,0,0,0,0\n",
              "6311,6418, , ,123,0x40ac989f5ddce35bd51c3a6e2f064d2120e4275e,,plot,169,17,2 Maia Ave,1437,Pilikai,Pilikai,0,11,0,0\n",
              "6312,6419, , ,86,0x4eedcc324605ccd681052a285c3dbfd0e64be205,,plot,246,13,7 Makuakane Drive,1475,Pilikai,Pilikai,0,0,0,0\n",
              "6313,6420, , ,188,0x45d29b661f9351abb53d3412ffe8852e6708f9d0,,plot,143,10,37 Haena Terrace,1452,Pilikai,Pilikai,0,3,0,0\n",
              "6314,6421, , ,45,0x4eedcc324605ccd681052a285c3dbfd0e64be205,,plot,186,9,5 Mc Neill Road,1485,Pilikai,Pilikai,0,0,0,0\n",
              "6315,6422, , ,140,0x2089035369b33403ddcaba6258c34e0b3ffbbbd9,,plot,97,15,23 Ehako Drive,1371,Pilikai,Pilikai,0,0,0,0\n",
              "6316,6423, , ,43,0x3f0ecb352cb3528cacbc2cb925369f98a2b3f5d4,,plot,34,11,5 Kokee Street,1457,Pilikai,Pilikai,0,0,0,0\n",
              "6317,6424, , ,61,0xabd7df0e10d85f37a20ba62c75a81f04be29431a,,plot,63,11,43 Haena Terrace,1464,Pilikai,Pilikai,0,0,0,0\n",
              "6318,6425, , ,48,0x4eedcc324605ccd681052a285c3dbfd0e64be205,,plot,103,10,2 Makuakane Drive,1490,Pilikai,Pilikai,0,0,0,0\n",
              "6319,6426, , ,49,0x4eedcc324605ccd681052a285c3dbfd0e64be205,,plot,109,16,2 Mc Neill Road,1498,Pilikai,Pilikai,0,0,0,0\n",
              "6320,6427, , ,119,0x2089035369b33403ddcaba6258c34e0b3ffbbbd9,,plot,153,8,17 Ehako Drive,1363,Pilikai,Pilikai,0,0,0,0\n",
              "6321,6428, , ,98,0x4eedcc324605ccd681052a285c3dbfd0e64be205,,plot,239,9,2 Ekaha Ave,1342,Pilikai,Pilikai,0,0,0,0\n",
              "6322,6429, , ,189,0xf942ce6643bc80d0bcc1bea4fd4657e600a1de88,,plot,305,13,2 Shower Ave,1291,Pilikai,Pilikai,0,2,0,0\n",
              "6323,6430, , ,48,0x2089035369b33403ddcaba6258c34e0b3ffbbbd9,,plot,149,8,19 Ehako Drive,1380,Pilikai,Pilikai,0,0,0,0\n",
              "6324,6431,Ghost Isthmus House, ,91,0xf251ca37a80200f7afeff398da0338f4c1f01249,,plot,116,12,5 Shower Ave,1281,Pilikai,Pilikai,0,9,0,0\n",
              "6325,6432, , ,61,0xca9381109911ea1377bc89c3c3c697a51dc294e9,,plot,71,8,5 Akina Street,1323,Pilikai,Pilikai,0,0,0,0\n",
              "6326,6433,M.V.P. Kahanu Drive, ,85,0xf251ca37a80200f7afeff398da0338f4c1f01249,,plot,129,10,11 Kahanu Drive,1393,Pilikai,Pilikai,0,5,0,0\n",
              "6327,6434, , ,119,0xf7c66bcd6ea3607174da0bc8458bd1508027e539,,plot,107,11,5 Kokee Street,1295,Pilikai,Pilikai,0,0,0,0\n",
              "6328,6435, , ,44,0x80fec8f0203cec214269567822c12ddca97b15b8,,plot,132,10,3 Kokee Street,1301,Pilikai,Pilikai,0,0,0,0\n",
              "6329,6436,Aily Gallery Lab, ,107,0x7c5d4db8dce379b7cbccfc08019c20439926ada8,,plot,155,17,2 Kokee Street,1287,Pilikai,Pilikai,0,0,0,0\n",
              "6330,6437, , ,324,0x6904dfa88d5345dc7e2de0e1eba32a6c1e672b93,,unit,119,8,2b Laau Paina Terrace,1379,Pilikai,Pilikai,0,23,0,0\n",
              "6331,6438, , ,309,0x6904dfa88d5345dc7e2de0e1eba32a6c1e672b93,,unit,69,9,7b Maia Street,1388,Pilikai,Pilikai,0,27,0,0\n",
              "6332,6439, , ,79,0x2ac5a5d8ff085d3e4fcf22b45d1e20916d824efc,,unit,76,8,3b Haena Terrace,1402,Pilikai,Pilikai,0,8,0,0\n",
              "6333,6440, , ,225,0xa253d7cd38dc2d0b2e65ad42a7e4beb3c60a83ad,,plot,350,10,Kuahelani Green,1836,Kauai,Kauai,0,14,0,0\n",
              "6334,6441,Baby Coby Seaside, ,356,0xc0beefeed699f6d6a08397fcbf8fbadf9f83eb5d,,plot,98,13,2 Lanipaa Ave,1809,Kauai,Kauai,0,9,0,0\n",
              "6335,6442, , ,283,0xb8427dcc33ec47332583879efd85c0de00583120,,plot,242,8,47 Forrest Ave,1839,Kauai,Kauai,0,84,0,0\n",
              "6336,6443, , ,155,0x8cb50ec0c202e294afe6efc4bec0535cad578c93,,plot,107,10,7 Punono Drive,1800,Kauai,Kauai,0,8,0,0\n",
              "6337,6444, , ,190,0xc446569e98466813d4a49cead6d9377215f6e244,,plot,139,8,53 Forrest Ave,1831,Kauai,Kauai,0,1,0,0\n",
              "6338,6445, , ,115,0xc446569e98466813d4a49cead6d9377215f6e244,,plot,34,13,7 Ahiu Street,1856,Kauai,Kauai,0,1,0,0\n",
              "6339,6446,Baby Coby's Cenotaph, ,401,0xc0beefeed699f6d6a08397fcbf8fbadf9f83eb5d,0xfc7e0e880718459c0161242824c4f3e8e230593d,plot,233,9,2 Welehu Terrace,1816,Kauai,Kauai,0,11,0,0\n",
              "6340,6447,The Philosopher's Beach House,A resting place by the sea... ,208,0xe330dc28b47d73884ad88837aecfee1f49ad7e7b,0xa53f470c3b597803b25e02f75339e22173705254|0xe9956Cf72cC8E49d903478142DC8DADB4Ee328Ff|0xe9956Cf72cC8E49d903478142DC8DADB4Ee328Ff|0x715688b00cea0a22a6e3b0e2e92a8f99f2677be8,plot,79,12,31 Hokuala Ave,1843,Kauai,Kauai,0,63,0,0\n",
              "6341,6448, , ,95,0xac9ad7f3797be989ca2cb474bf809be02deadcbc,,plot,89,8,13 Ahiu Street,1860,Kauai,Kauai,0,8,0,0\n",
              "6342,6449, , ,120,0xac9ad7f3797be989ca2cb474bf809be02deadcbc,,plot,203,10,59 Forrest Ave,1848,Kauai,Kauai,0,0,0,0\n",
              "6343,6450,Chameleon Gallery, ,282,0x598ce158e94a87ebef2c6865d37b63dac4312c06,,plot,125,10,5 Punono Drive,1780,Kauai,Kauai,0,31,0,0\n",
              "6344,6451, , ,190,0x8323ea41885680bc2dee1b879dff60f75b1a90a3,,plot,179,9,13 Punono Drive,1808,Kauai,Kauai,0,0,0,0\n",
              "6345,6452, , ,89,0xa253d7cd38dc2d0b2e65ad42a7e4beb3c60a83ad,,plot,76,8,5 Ahiu Street,1862,Kauai,Kauai,0,0,0,0\n",
              "6346,6453, , ,183,0x5d4d0f312de9d57338787308a25d2959978aadf6,0x8b68B27b480fa5107b0FC370f1A797C9E0D665dd|0xfAD0EA578c6C63fe495dc0EF9cF73fC2c69E1f47,plot,227,10,3 Ahiu Street,1852,Kauai,Kauai,0,0,0,0\n",
              "6347,6454, , ,261,0x7b19b42564ad1c03625e8306cf20deea2f923a67,0xdf21a82542c489b72af4cbe70731ff9cf280fce4|0xe330Dc28b47d73884AD88837aECfEE1F49Ad7e7b|0xa53f470c3b597803b25e02f75339e22173705254|0xe9956cf72cc8e49d903478142dc8dadb4ee328ff|0x715688B00CeA0a22A6e3B0E2E92A8f99F2677be8|0x1e8E749b2B578E181Ca01962e9448006772b24a2|0xD30a79E487351Eb0064c8a78eb341DA364d78a9a|0xD67c34169b372d5B3932c548a940D4Ea74Fe7aF5,plot,215,8,19 Hokuala Ave,1827,Kauai,Kauai,0,22,0,0\n",
              "6348,6455, , ,32,0xc4b0f00660592819ed9a38b6affe76e15d0ce502,,plot,47,9,2 Keaoopua Terrace,1864,Kauai,Kauai,0,0,0,0\n",
              "6349,6456, , ,89,0xa81b875826d7c232b3f675a0ec38e619b0af5538,,plot,116,10,61 Forrest Ave,1841,Kauai,Kauai,0,0,0,0\n",
              "6350,6457, , ,704,0x91d4e02be8755e31a2695feeec29d924d4881258,,plot,207,12,11 Punono Drive,1787,Kauai,Kauai,0,0,0,0\n",
              "6351,6458, , ,309,0x7d36e06251e8376d7194147d9d26214566fac47d,,plot,219,8,11 Ahiu Street,1867,Kauai,Kauai,0,148,0,0\n",
              "6352,6459, , ,82,0x5eb71caeadf22107a578bc5261ec9a1e16fad5f8,,plot,143,8,17 Ahiu Street,1867,Kauai,Kauai,0,0,0,0\n",
              "6353,6460, , ,236,0x7b19b42564ad1c03625e8306cf20deea2f923a67,0xdf21a82542c489b72af4cbe70731ff9cf280fce4|0xe330Dc28b47d73884AD88837aECfEE1F49Ad7e7b|0xe9956cf72cc8e49d903478142dc8dadb4ee328ff|0xa53f470c3b597803b25e02f75339e22173705254|0x715688B00CeA0a22A6e3B0E2E92A8f99F2677be8|0x1e8E749b2B578E181Ca01962e9448006772b24a2|0xD30a79E487351Eb0064c8a78eb341DA364d78a9a|0xD67c34169b372d5B3932c548a940D4Ea74Fe7aF5,plot,189,13,5 Auahi Road,1847,Kauai,Kauai,0,5,0,0\n",
              "6354,6461, , ,210,0x7b19b42564ad1c03625e8306cf20deea2f923a67,,plot,181,8,3 Welehu Terrace,1827,Kauai,Kauai,0,0,0,0\n",
              "6355,6462, , ,348,0x91d4e02be8755e31a2695feeec29d924d4881258,,plot,239,13,17 Punono Drive,1796,Kauai,Kauai,0,0,0,0\n",
              "6356,6463, , ,136,0x7b19b42564ad1c03625e8306cf20deea2f923a67,0xe330Dc28b47d73884AD88837aECfEE1F49Ad7e7b|0xdf21a82542c489b72af4cbe70731ff9cf280fce4|0xe9956cf72cc8e49d903478142dc8dadb4ee328ff|0xa53f470c3b597803b25e02f75339e22173705254|0x715688B00CeA0a22A6e3B0E2E92A8f99F2677be8|0x1e8E749b2B578E181Ca01962e9448006772b24a2|0xD30a79E487351Eb0064c8a78eb341DA364d78a9a|0xD67c34169b372d5B3932c548a940D4Ea74Fe7aF5,plot,71,14,11 Hokuala Ave,1819,Kauai,Kauai,0,8,0,0\n",
              "6357,6464, , ,50,0xbeb910ae193dc54411747ac236e67d221ff3f1d7,,plot,77,9,3 Auhaele Drive,1874,Kauai,Kauai,0,0,0,0\n",
              "6358,6465, , ,192,0xf023ff5c1fec2c3367d9811398d0ea80e1098a67,,plot,77,10,19 Punono Drive,1823,Kauai,Kauai,0,9,0,0\n",
              "6359,6466, , ,193,0x5ae9a64f9f5eb912662fe348f8eadf33f0a9de12,,plot,175,10,23 Ahiu Street,1874,Kauai,Kauai,0,7,0,0\n",
              "6360,6467, , ,162,0x1ce139b73dbc1d855e4b360856ac3885558fc5f8,,plot,125,9,19 Ahiu Street,1882,Kauai,Kauai,0,0,0,0\n",
              "6361,6468, , ,91,0x3644c67ba7738046994b7134fd10ab9895504170,,plot,220,8,5 Leleaka Ave,1880,Kauai,Kauai,0,0,0,0\n",
              "6362,6469, , ,164,0x91d4e02be8755e31a2695feeec29d924d4881258,,plot,271,8,2 Lanikuhana Street,1771,Kauai,Kauai,0,0,0,0\n",
              "6363,6470, , ,38,0x958410d75bf7543ef6e4dd6134482be368a5712b,,plot,53,8,2 Auhaele Drive,1884,Kauai,Kauai,0,0,0,0\n",
              "6364,6471, , ,140,0x91d4e02be8755e31a2695feeec29d924d4881258,,plot,207,9,23 Punono Drive,1808,Kauai,Kauai,0,0,0,0\n",
              "6365,6472, , ,207,0x59455ba3d00bb8cbead8fe6db3973210e49d4303,,plot,153,8,7 Leleaka Ave,1889,Kauai,Kauai,0,43,0,0\n",
              "6366,6473, , ,152,0x5ae9a64f9f5eb912662fe348f8eadf33f0a9de12,,plot,143,9,31 Ahiu Street,1881,Kauai,Kauai,0,4,0,0\n",
              "6367,6474, , ,52,0x3644c67ba7738046994b7134fd10ab9895504170,,plot,152,11,2 Leleaka Ave,1890,Kauai,Kauai,0,0,0,0\n",
              "6368,6475, , ,138,0x91d4e02be8755e31a2695feeec29d924d4881258,,plot,203,16,3 Plantation Road,1782,Kauai,Kauai,0,0,0,0\n",
              "6369,6476, , ,170,0x6b261a3ec2405ae0e8e0546ad6906e65af8b8868,,plot,194,15,29 Ahiu Street,1894,Kauai,Kauai,0,12,0,0\n",
              "6370,6477, , ,124,0x9a1e8645dedec6d45e2058d031b1ca97f815bd2e,,plot,220,12,3 Leleaka Ave,1900,Kauai,Kauai,0,0,0,0\n",
              "6371,6478, , ,106,0x49c83c32ce6dab28e2445e7502a088b9374e8b6a,0xDb08eDbCF449De2A2B27448a8040935802c621F1,plot,64,11,2 Wekiu Drive,1905,Kauai,Kauai,0,43,0,0\n",
              "6372,6479, , ,72,0xb27696c8f4815ffca1ea6ab6fbb3a05ef1302367,,plot,181,8,3 Wekiu Drive,1911,Kauai,Kauai,0,2,0,0\n",
              "6373,6480, , ,47,0x08354f45a4be4b9aee45b2c6b096d8f5370a7e44,,unit,76,6,5b Ahiu Street,1862,Kauai,Kauai,0,0,0,0\n",
              "</div>\n",
              "    </body>\n",
              "</html>\n"
            ],
            "text/plain": [
              "<IPython.core.display.HTML object>"
            ]
          },
          "execution_count": 15,
          "metadata": {},
          "output_type": "execute_result"
        }
      ],
      "source": [
        "#hide_input \n",
        "import IPython\n",
        "\n",
        "pivot_ui( newIslands ,outfile_path='pivottablejs.html')\n",
        "IPython.display.HTML(filename='pivottablejs.html')\n",
        "# if you want to download to open in a new tab in the browser - use the below:\n",
        "# from google.colab import files\n",
        "# files.download('pivottablejs.html') "
      ]
    },
    {
      "cell_type": "markdown",
      "metadata": {},
      "source": [
        "Feel free to explore parcel data about the three islands. Below I have done a few simple operations to peer in the data."
      ]
    },
    {
      "cell_type": "markdown",
      "metadata": {},
      "source": [
        "### Notable Users"
      ]
    },
    {
      "cell_type": "code",
      "execution_count": 22,
      "metadata": {},
      "outputs": [
        {
          "name": "stdout",
          "output_type": "stream",
          "text": [
            "<br> Owner ID | Total number of parcels owned\n"
          ]
        },
        {
          "data": {
            "text/html": [
              "<div>\n",
              "<style scoped>\n",
              "    .dataframe tbody tr th:only-of-type {\n",
              "        vertical-align: middle;\n",
              "    }\n",
              "\n",
              "    .dataframe tbody tr th {\n",
              "        vertical-align: top;\n",
              "    }\n",
              "\n",
              "    .dataframe thead th {\n",
              "        text-align: right;\n",
              "    }\n",
              "</style>\n",
              "<table border=\"1\" class=\"dataframe\">\n",
              "  <thead>\n",
              "    <tr style=\"text-align: right;\">\n",
              "      <th></th>\n",
              "      <th>index</th>\n",
              "      <th>Owner</th>\n",
              "    </tr>\n",
              "  </thead>\n",
              "  <tbody>\n",
              "    <tr>\n",
              "      <th>0</th>\n",
              "      <td>0xa253d7cd38dc2d0b2e65ad42a7e4beb3c60a83ad</td>\n",
              "      <td>15</td>\n",
              "    </tr>\n",
              "    <tr>\n",
              "      <th>1</th>\n",
              "      <td>0x6439543a2ff1d78d25abdc8daa75bb004e210183</td>\n",
              "      <td>8</td>\n",
              "    </tr>\n",
              "    <tr>\n",
              "      <th>2</th>\n",
              "      <td>0x2089035369b33403ddcaba6258c34e0b3ffbbbd9</td>\n",
              "      <td>6</td>\n",
              "    </tr>\n",
              "    <tr>\n",
              "      <th>3</th>\n",
              "      <td>0x4eedcc324605ccd681052a285c3dbfd0e64be205</td>\n",
              "      <td>6</td>\n",
              "    </tr>\n",
              "    <tr>\n",
              "      <th>4</th>\n",
              "      <td>0x91d4e02be8755e31a2695feeec29d924d4881258</td>\n",
              "      <td>5</td>\n",
              "    </tr>\n",
              "  </tbody>\n",
              "</table>\n",
              "</div>"
            ],
            "text/plain": [
              "                                        index  Owner\n",
              "0  0xa253d7cd38dc2d0b2e65ad42a7e4beb3c60a83ad     15\n",
              "1  0x6439543a2ff1d78d25abdc8daa75bb004e210183      8\n",
              "2  0x2089035369b33403ddcaba6258c34e0b3ffbbbd9      6\n",
              "3  0x4eedcc324605ccd681052a285c3dbfd0e64be205      6\n",
              "4  0x91d4e02be8755e31a2695feeec29d924d4881258      5"
            ]
          },
          "metadata": {},
          "output_type": "display_data"
        }
      ],
      "source": [
        "#hide_input \n",
        "from IPython.display import display\n",
        "print('<br> Owner ID | Total number of parcels owned')\n",
        "display( newIslands.Owner.value_counts().reset_index().head() )"
      ]
    },
    {
      "cell_type": "code",
      "execution_count": 18,
      "metadata": {},
      "outputs": [
        {
          "name": "stdout",
          "output_type": "stream",
          "text": [
            "Owner ID | Total Volumn of land owned\n"
          ]
        },
        {
          "data": {
            "text/html": [
              "<div>\n",
              "<style scoped>\n",
              "    .dataframe tbody tr th:only-of-type {\n",
              "        vertical-align: middle;\n",
              "    }\n",
              "\n",
              "    .dataframe tbody tr th {\n",
              "        vertical-align: top;\n",
              "    }\n",
              "\n",
              "    .dataframe thead th {\n",
              "        text-align: right;\n",
              "    }\n",
              "</style>\n",
              "<table border=\"1\" class=\"dataframe\">\n",
              "  <thead>\n",
              "    <tr style=\"text-align: right;\">\n",
              "      <th></th>\n",
              "      <th>Owner</th>\n",
              "      <th>Area</th>\n",
              "      <th>Volume</th>\n",
              "    </tr>\n",
              "  </thead>\n",
              "  <tbody>\n",
              "    <tr>\n",
              "      <th>0</th>\n",
              "      <td>0x00cf291c713f204b1ac03f86a8ed5d11acb4fb7a</td>\n",
              "      <td>48</td>\n",
              "      <td>384</td>\n",
              "    </tr>\n",
              "    <tr>\n",
              "      <th>1</th>\n",
              "      <td>0x08354f45a4be4b9aee45b2c6b096d8f5370a7e44</td>\n",
              "      <td>76</td>\n",
              "      <td>456</td>\n",
              "    </tr>\n",
              "    <tr>\n",
              "      <th>2</th>\n",
              "      <td>0x0b2783cb60ff4ec7ca869b30b8dafd801e7224b6</td>\n",
              "      <td>95</td>\n",
              "      <td>760</td>\n",
              "    </tr>\n",
              "    <tr>\n",
              "      <th>3</th>\n",
              "      <td>0x14ecd2b42e6e3ddd5481036be1e4bf45e632ea42</td>\n",
              "      <td>124</td>\n",
              "      <td>1232</td>\n",
              "    </tr>\n",
              "    <tr>\n",
              "      <th>4</th>\n",
              "      <td>0x1963203759f5c5eb5c5c916b3509c9f26dd0381a</td>\n",
              "      <td>227</td>\n",
              "      <td>2270</td>\n",
              "    </tr>\n",
              "  </tbody>\n",
              "</table>\n",
              "</div>"
            ],
            "text/plain": [
              "                                        Owner  Area  Volume\n",
              "0  0x00cf291c713f204b1ac03f86a8ed5d11acb4fb7a    48     384\n",
              "1  0x08354f45a4be4b9aee45b2c6b096d8f5370a7e44    76     456\n",
              "2  0x0b2783cb60ff4ec7ca869b30b8dafd801e7224b6    95     760\n",
              "3  0x14ecd2b42e6e3ddd5481036be1e4bf45e632ea42   124    1232\n",
              "4  0x1963203759f5c5eb5c5c916b3509c9f26dd0381a   227    2270"
            ]
          },
          "metadata": {},
          "output_type": "display_data"
        }
      ],
      "source": [
        "#hide_input \n",
        "from IPython.display import clear_output\n",
        "newIslands['Volume'] = newIslands['Height'] * newIslands['Area']\n",
        "newIslands = newIslands.sort_values(by=\"Volume\", ascending=False)\n",
        "ownerAgg = newIslands.groupby(['Owner'])\n",
        "tmp = ownerAgg['Area', 'Volume'].agg('sum').reset_index()\n",
        "clear_output(wait=True)\n",
        "print('Owner ID | Total Volumn of land owned')\n",
        "display( tmp.head() )"
      ]
    },
    {
      "cell_type": "markdown",
      "metadata": {},
      "source": [
        "</details>"
      ]
    },
    {
      "cell_type": "markdown",
      "metadata": {},
      "source": [
        "### Interactive Map"
      ]
    },
    {
      "cell_type": "code",
      "execution_count": 10,
      "metadata": {
        "id": "0yHyL5vTOV1x"
      },
      "outputs": [
        {
          "ename": "ModuleNotFoundError",
          "evalue": "No module named 'dataplay'",
          "output_type": "error",
          "traceback": [
            "\u001b[0;31m---------------------------------------------------------------------------\u001b[0m",
            "\u001b[0;31mModuleNotFoundError\u001b[0m                       Traceback (most recent call last)",
            "\u001b[0;32m/tmp/ipykernel_2867/1327521983.py\u001b[0m in \u001b[0;36m<module>\u001b[0;34m\u001b[0m\n\u001b[1;32m      1\u001b[0m \u001b[0;31m#hide\u001b[0m\u001b[0;34m\u001b[0m\u001b[0;34m\u001b[0m\u001b[0;34m\u001b[0m\u001b[0m\n\u001b[0;32m----> 2\u001b[0;31m \u001b[0;32mimport\u001b[0m \u001b[0mdataplay\u001b[0m\u001b[0;34m.\u001b[0m\u001b[0mgeoms\u001b[0m \u001b[0;32mas\u001b[0m \u001b[0mgm\u001b[0m\u001b[0;34m\u001b[0m\u001b[0;34m\u001b[0m\u001b[0m\n\u001b[0m\u001b[1;32m      3\u001b[0m \u001b[0;32mimport\u001b[0m \u001b[0mgeopandas\u001b[0m \u001b[0;32mas\u001b[0m \u001b[0mgpd\u001b[0m\u001b[0;34m\u001b[0m\u001b[0;34m\u001b[0m\u001b[0m\n\u001b[1;32m      4\u001b[0m \u001b[0;32mfrom\u001b[0m \u001b[0mIPython\u001b[0m \u001b[0;32mimport\u001b[0m \u001b[0mdisplay\u001b[0m\u001b[0;34m\u001b[0m\u001b[0;34m\u001b[0m\u001b[0m\n\u001b[1;32m      5\u001b[0m \u001b[0;32mfrom\u001b[0m \u001b[0mIPython\u001b[0m\u001b[0;34m.\u001b[0m\u001b[0mdisplay\u001b[0m \u001b[0;32mimport\u001b[0m \u001b[0mclear_output\u001b[0m\u001b[0;34m\u001b[0m\u001b[0;34m\u001b[0m\u001b[0m\n",
            "\u001b[0;31mModuleNotFoundError\u001b[0m: No module named 'dataplay'"
          ]
        }
      ],
      "source": [
        "#hide  \n",
        "import dataplay.geoms as gm\n",
        "import geopandas as gpd\n",
        "from IPython import display\n",
        "from IPython.display import clear_output\n",
        "csa_gdf = gpd.read_file(\"https://services1.arcgis.com/mVFRs7NF4iFitgbY/ArcGIS/rest/services/Hhchpov/FeatureServer/0/query?where=1%3D1&outFields=*&returnGeometry=true&f=pgeojson\");\n",
        "geoloom = gpd.read_file(\"https://services1.arcgis.com/mVFRs7NF4iFitgbY/ArcGIS/rest/services/Geoloom_Crowd/FeatureServer/0/query?where=1%3D1&outFields=*&returnGeometry=true&f=pgeojson\");\n",
        "geoloom['POINT_X'] = geoloom['geometry'].centroid.x\n",
        "geoloom['POINT_Y'] = geoloom['geometry'].centroid.y\n",
        "geoloom = geoloom.dropna(subset=['POINT_Y', 'POINT_X'])\n",
        "clear_output()"
      ]
    },
    {
      "cell_type": "markdown",
      "metadata": {},
      "source": [
        "Coming Soon! You will be able to view the CryptoVoxels map and click on a parcel and view some stats on it."
      ]
    },
    {
      "cell_type": "markdown",
      "metadata": {},
      "source": [
        "<details><summary>"
      ]
    },
    {
      "cell_type": "markdown",
      "metadata": {
        "id": "VbAjb6H9UaFC"
      },
      "source": [
        "### Other Ideas\n",
        "</summary> "
      ]
    },
    {
      "cell_type": "markdown",
      "metadata": {},
      "source": [
        "#### ObservableHQ Embed ->  Graphs"
      ]
    },
    {
      "cell_type": "markdown",
      "metadata": {},
      "source": [
        "This is how I made the website:"
      ]
    },
    {
      "cell_type": "code",
      "execution_count": null,
      "metadata": {
        "colab": {
          "base_uri": "https://localhost:8080/",
          "height": 695
        },
        "executionInfo": {
          "elapsed": 124,
          "status": "ok",
          "timestamp": 1626286591069,
          "user": {
            "displayName": "Baltimore Neighborhood Indicators Alliance",
            "photoUrl": "https://lh3.googleusercontent.com/a-/AOh14Gg-q3A7kTIHf7wESw989OAOaJeUYKXGEdoA4M3NTA=s64",
            "userId": "16379023391965073054"
          },
          "user_tz": 240
        },
        "id": "gdENeNzaNQD5",
        "outputId": "e86e3d68-73ae-4152-a06e-2838558e7cb0"
      },
      "outputs": [
        {
          "data": {
            "text/html": [
              "\n",
              "<div id=\"observablehq-vswp-e171ebc5\"></div>\n",
              "<div id=\"observablehq-colabShortcode-e171ebc5\"></div> \n",
              "<script type=\"module\">\n",
              "import {Runtime, Inspector} from \"https://cdn.jsdelivr.net/npm/@observablehq/runtime@4/dist/runtime.js\";\n",
              "import define from \"https://api.observablehq.com/@karpatic/colab-to-wordpress.js?v=3\";\n",
              "new Runtime().module(define, name => {\n",
              "  if (name === \"vswp\") return new Inspector(document.querySelector(\"#observablehq-vswp-e171ebc5\"));\n",
              "  if (name === \"colabShortcode\") return new Inspector(document.querySelector(\"#observablehq-colabShortcode-e171ebc5\"));\n",
              "});\n",
              "</script>\n"
            ],
            "text/plain": [
              "<IPython.core.display.HTML object>"
            ]
          },
          "metadata": {},
          "output_type": "display_data"
        }
      ],
      "source": [
        "#hide_input \n",
        "from IPython.core.display import display, HTML\n",
        "display(HTML(\"\"\"\n",
        "<div id=\"observablehq-vswp-e171ebc5\"></div>\n",
        "<div id=\"observablehq-colabShortcode-e171ebc5\"></div> \n",
        "<script type=\"module\">\n",
        "import {Runtime, Inspector} from \"https://cdn.jsdelivr.net/npm/@observablehq/runtime@4/dist/runtime.js\";\n",
        "import define from \"https://api.observablehq.com/@karpatic/colab-to-wordpress.js?v=3\";\n",
        "new Runtime().module(define, name => {\n",
        "  if (name === \"vswp\") return new Inspector(document.querySelector(\"#observablehq-vswp-e171ebc5\"));\n",
        "  if (name === \"colabShortcode\") return new Inspector(document.querySelector(\"#observablehq-colabShortcode-e171ebc5\"));\n",
        "});\n",
        "</script>\n",
        "\"\"\") )"
      ]
    },
    {
      "cell_type": "markdown",
      "metadata": {},
      "source": [
        "<br><br><br><br><br><br>"
      ]
    },
    {
      "cell_type": "markdown",
      "metadata": {},
      "source": [
        "#### ObservableHQ Embed ->  Dynamic Gallery"
      ]
    },
    {
      "cell_type": "markdown",
      "metadata": {},
      "source": [
        "And we can even host a gallery! \n",
        "\n",
        "This one is made by a program given a list of photos."
      ]
    },
    {
      "cell_type": "code",
      "execution_count": null,
      "metadata": {},
      "outputs": [
        {
          "data": {
            "text/html": [
              "<div id=\"observablehq-mainFrame-db6edd06\"></div>\n",
              "<script type=\"module\">\n",
              "import {Runtime, Inspector} from \"https://cdn.jsdelivr.net/npm/@observablehq/runtime@4/dist/runtime.js\";\n",
              "import define from \"https://api.observablehq.com/@karpatic/cool-3d-virtual-gallery.js?v=3\";\n",
              "new Runtime().module(define, name => {\n",
              "  if (name === \"mainFrame\") return new Inspector(document.querySelector(\"#observablehq-mainFrame-db6edd06\"));\n",
              "  return [\"interaction\"].includes(name);\n",
              "});\n",
              "</script>\n"
            ],
            "text/plain": [
              "<IPython.core.display.HTML object>"
            ]
          },
          "metadata": {},
          "output_type": "display_data"
        }
      ],
      "source": [
        "%%html\n",
        "<div id=\"observablehq-mainFrame-db6edd06\"></div>\n",
        "<script type=\"module\">\n",
        "import {Runtime, Inspector} from \"https://cdn.jsdelivr.net/npm/@observablehq/runtime@4/dist/runtime.js\";\n",
        "import define from \"https://api.observablehq.com/@karpatic/cool-3d-virtual-gallery.js?v=3\";\n",
        "new Runtime().module(define, name => {\n",
        "  if (name === \"mainFrame\") return new Inspector(document.querySelector(\"#observablehq-mainFrame-db6edd06\"));\n",
        "  return [\"interaction\"].includes(name);\n",
        "});\n",
        "</script>"
      ]
    },
    {
      "cell_type": "markdown",
      "metadata": {
        "id": "bIO9qslqItax"
      },
      "source": [
        "</details>"
      ]
    },
    {
      "cell_type": "code",
      "execution_count": null,
      "metadata": {},
      "outputs": [
        {
          "data": {
            "text/html": [
              "      </ion-content>\n",
              "    </ion-app>\n",
              "  </body>\n",
              "  </html>\n"
            ],
            "text/plain": [
              "<IPython.core.display.HTML object>"
            ]
          },
          "metadata": {},
          "output_type": "display_data"
        }
      ],
      "source": []
    },
    {
      "cell_type": "markdown",
      "metadata": {},
      "source": [
        "</details>"
      ]
    }
  ],
  "metadata": {
    "colab": {
      "collapsed_sections": [
        "UABwiLv8R3my",
        "x1_GAAzAItan",
        "58zc-rOJZzl9",
        "7WVfEFAPRZOh",
        "mQz3p1WlTPWg",
        "IpQdoqHWQeA1",
        "W-_naVoQ4Nok",
        "hnI2xCfXJXOf",
        "oFSO0FTlHZvp",
        "FHQYN1r4JRK9",
        "K4PCxMq3KVbi",
        "8VlhVnsL-eKX",
        "_0NybzfNK71c",
        "gZ1TGICzUVqB"
      ],
      "name": "07_nb_2_html_tests.ipynb",
      "provenance": []
    },
    "kernelspec": {
      "display_name": "Python 3",
      "name": "python3"
    },
    "language_info": {
      "codemirror_mode": {
        "name": "ipython",
        "version": 3
      },
      "file_extension": ".py",
      "mimetype": "text/x-python",
      "name": "python",
      "nbconvert_exporter": "python",
      "pygments_lexer": "ipython3",
      "version": "3.8.10"
    }
  },
  "nbformat": 4,
  "nbformat_minor": 0
}

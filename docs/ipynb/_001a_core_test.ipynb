{
  "cells": [
    {
      "attachments": {},
      "cell_type": "markdown",
      "metadata": {},
      "source": [
        "Does this force an update?"
      ]
    },
    {
      "cell_type": "code",
      "execution_count": 10,
      "metadata": {
        "colab": {
          "base_uri": "https://localhost:8080/",
          "height": 16
        },
        "executionInfo": {
          "elapsed": 146,
          "status": "ok",
          "timestamp": 1626286164521,
          "user": {
            "displayName": "Baltimore Neighborhood Indicators Alliance",
            "photoUrl": "https://lh3.googleusercontent.com/a-/AOh14Gg-q3A7kTIHf7wESw989OAOaJeUYKXGEdoA4M3NTA=s64",
            "userId": "16379023391965073054"
          },
          "user_tz": 240
        },
        "id": "Z-DhoT_8D0c7",
        "outputId": "55c8f96a-f7f7-47af-eafe-83af391079b9"
      },
      "outputs": [
        {
          "data": {
            "text/html": [
              "  <!DOCTYPE html>\n",
              "  <html lang=\"en\">\n",
              "  <head>\n",
              "    <meta charset=\"UTF-8\">\n",
              "    <meta name=\"viewport\" content=\"width=device-width, initial-scale=1.0\">\n",
              "    <title>Test</title>\n",
              "    <script type=\"module\" src=\"https://cdn.jsdelivr.net/npm/@ionic/core/dist/ionic/ionic.esm.js\"></script>\n",
              "    <script nomodule src=\"https://cdn.jsdelivr.net/npm/@ionic/core/dist/ionic/ionic.js\"></script>\n",
              "    <link rel=\"stylesheet\" href=\"https://cdn.jsdelivr.net/npm/@ionic/core/css/ionic.bundle.css\" />\n",
              "  </head>\n",
              "  <body>\n",
              "    <ion-app>\n",
              "      <ion-header translucent > <!-- class=\"ion-no-border\" -->\n",
              "        <ion-toolbar>\n",
              "          <ion-title>My Navigation Bar</ion-title>\n",
              "        </ion-toolbar> \n",
              "      </ion-header>,\n",
              "      <ion-content fullscreen class=\"ion-padding\"> \n",
              "        <!-- \n",
              "          # https://github.com/ionic-team/ionic-docs/blob/legacy/src/demos/api/content/index.html \n",
              "          # https://github.com/ionic-team/ionic-docs/blob/legacy/src/demos/api/infinite-scroll/index.html\n",
              "          # https://github.com/ionic-team/ionic-docs/blob/legacy/src/demos/api/back-button/index.html\n",
              "        -->\n"
            ],
            "text/plain": [
              "<IPython.core.display.HTML object>"
            ]
          },
          "metadata": {},
          "output_type": "display_data"
        }
      ],
      "source": [
        "%%html\n",
        "  <!DOCTYPE html>\n",
        "  <html lang=\"en\">\n",
        "  <head>\n",
        "    <meta charset=\"UTF-8\">\n",
        "    <meta name=\"viewport\" content=\"width=device-width, initial-scale=1.0\">\n",
        "    <title>Test</title>\n",
        "    <script type=\"module\" src=\"https://cdn.jsdelivr.net/npm/@ionic/core/dist/ionic/ionic.esm.js\"></script>\n",
        "    <script nomodule src=\"https://cdn.jsdelivr.net/npm/@ionic/core/dist/ionic/ionic.js\"></script>\n",
        "    <link rel=\"stylesheet\" href=\"https://cdn.jsdelivr.net/npm/@ionic/core/css/ionic.bundle.css\" />\n",
        "  </head>\n",
        "  <body>\n",
        "    <ion-app>\n",
        "      <ion-header translucent > <!-- class=\"ion-no-border\" -->\n",
        "        <ion-toolbar>\n",
        "          <ion-title>My Navigation Bar</ion-title>\n",
        "        </ion-toolbar> \n",
        "      </ion-header>,\n",
        "      <ion-content fullscreen class=\"ion-padding\"> \n",
        "        <!-- \n",
        "          # https://github.com/ionic-team/ionic-docs/blob/legacy/src/demos/api/content/index.html \n",
        "          # https://github.com/ionic-team/ionic-docs/blob/legacy/src/demos/api/infinite-scroll/index.html\n",
        "          # https://github.com/ionic-team/ionic-docs/blob/legacy/src/demos/api/back-button/index.html\n",
        "        -->"
      ]
    },
    {
      "cell_type": "code",
      "execution_count": null,
      "metadata": {
        "colab": {
          "base_uri": "https://localhost:8080/",
          "height": 386,
          "resources": {
            "http://localhost:8080/wp-content/uploads/2021/02/bnia_text.png": {
              "data": "CjwhRE9DVFlQRSBodG1sPgo8aHRtbCBsYW5nPWVuPgogIDxtZXRhIGNoYXJzZXQ9dXRmLTg+CiAgPG1ldGEgbmFtZT12aWV3cG9ydCBjb250ZW50PSJpbml0aWFsLXNjYWxlPTEsIG1pbmltdW0tc2NhbGU9MSwgd2lkdGg9ZGV2aWNlLXdpZHRoIj4KICA8dGl0bGU+RXJyb3IgNDA0IChOb3QgRm91bmQpISExPC90aXRsZT4KICA8c3R5bGU+CiAgICAqe21hcmdpbjowO3BhZGRpbmc6MH1odG1sLGNvZGV7Zm9udDoxNXB4LzIycHggYXJpYWwsc2Fucy1zZXJpZn1odG1se2JhY2tncm91bmQ6I2ZmZjtjb2xvcjojMjIyO3BhZGRpbmc6MTVweH1ib2R5e21hcmdpbjo3JSBhdXRvIDA7bWF4LXdpZHRoOjM5MHB4O21pbi1oZWlnaHQ6MTgwcHg7cGFkZGluZzozMHB4IDAgMTVweH0qID4gYm9keXtiYWNrZ3JvdW5kOnVybCgvL3d3dy5nb29nbGUuY29tL2ltYWdlcy9lcnJvcnMvcm9ib3QucG5nKSAxMDAlIDVweCBuby1yZXBlYXQ7cGFkZGluZy1yaWdodDoyMDVweH1we21hcmdpbjoxMXB4IDAgMjJweDtvdmVyZmxvdzpoaWRkZW59aW5ze2NvbG9yOiM3Nzc7dGV4dC1kZWNvcmF0aW9uOm5vbmV9YSBpbWd7Ym9yZGVyOjB9QG1lZGlhIHNjcmVlbiBhbmQgKG1heC13aWR0aDo3NzJweCl7Ym9keXtiYWNrZ3JvdW5kOm5vbmU7bWFyZ2luLXRvcDowO21heC13aWR0aDpub25lO3BhZGRpbmctcmlnaHQ6MH19I2xvZ297YmFja2dyb3VuZDp1cmwoLy93d3cuZ29vZ2xlLmNvbS9pbWFnZXMvbG9nb3MvZXJyb3JwYWdlL2Vycm9yX2xvZ28tMTUweDU0LnBuZykgbm8tcmVwZWF0O21hcmdpbi1sZWZ0Oi01cHh9QG1lZGlhIG9ubHkgc2NyZWVuIGFuZCAobWluLXJlc29sdXRpb246MTkyZHBpKXsjbG9nb3tiYWNrZ3JvdW5kOnVybCgvL3d3dy5nb29nbGUuY29tL2ltYWdlcy9sb2dvcy9lcnJvcnBhZ2UvZXJyb3JfbG9nby0xNTB4NTQtMngucG5nKSBuby1yZXBlYXQgMCUgMCUvMTAwJSAxMDAlOy1tb3otYm9yZGVyLWltYWdlOnVybCgvL3d3dy5nb29nbGUuY29tL2ltYWdlcy9sb2dvcy9lcnJvcnBhZ2UvZXJyb3JfbG9nby0xNTB4NTQtMngucG5nKSAwfX1AbWVkaWEgb25seSBzY3JlZW4gYW5kICgtd2Via2l0LW1pbi1kZXZpY2UtcGl4ZWwtcmF0aW86Mil7I2xvZ297YmFja2dyb3VuZDp1cmwoLy93d3cuZ29vZ2xlLmNvbS9pbWFnZXMvbG9nb3MvZXJyb3JwYWdlL2Vycm9yX2xvZ28tMTUweDU0LTJ4LnBuZykgbm8tcmVwZWF0Oy13ZWJraXQtYmFja2dyb3VuZC1zaXplOjEwMCUgMTAwJX19I2xvZ297ZGlzcGxheTppbmxpbmUtYmxvY2s7aGVpZ2h0OjU0cHg7d2lkdGg6MTUwcHh9CiAgPC9zdHlsZT4KICA8YSBocmVmPS8vd3d3Lmdvb2dsZS5jb20vPjxzcGFuIGlkPWxvZ28gYXJpYS1sYWJlbD1Hb29nbGU+PC9zcGFuPjwvYT4KICA8cD48Yj40MDQuPC9iPiA8aW5zPlRoYXTigJlzIGFuIGVycm9yLjwvaW5zPgogIDxwPiAgPGlucz5UaGF04oCZcyBhbGwgd2Uga25vdy48L2lucz4K",
              "headers": [
                [
                  "content-length",
                  "1449"
                ],
                [
                  "content-type",
                  "text/html; charset=utf-8"
                ]
              ],
              "ok": false,
              "status": 404,
              "status_text": ""
            }
          }
        },
        "executionInfo": {
          "elapsed": 2316,
          "status": "ok",
          "timestamp": 1626286167023,
          "user": {
            "displayName": "Baltimore Neighborhood Indicators Alliance",
            "photoUrl": "https://lh3.googleusercontent.com/a-/AOh14Gg-q3A7kTIHf7wESw989OAOaJeUYKXGEdoA4M3NTA=s64",
            "userId": "16379023391965073054"
          },
          "user_tz": 240
        },
        "id": "8CnCyyWMkMLh",
        "outputId": "6ec2eda1-c578-4664-9b87-3aebf4b196c5"
      },
      "outputs": [],
      "source": [
        "#hide_input \n",
        "# import requests \n",
        "# resp = requests.get('https://bniajfi.org/wp-json/wp/v2/header')\n",
        "# from IPython.core.display import display, HTML\n",
        "# display(HTML(resp.content.decode('utf-8')))"
      ]
    },
    {
      "cell_type": "code",
      "execution_count": 1,
      "metadata": {},
      "outputs": [
        {
          "data": {
            "text/html": [
              "<style>\n",
              "  /*\n",
              "  :root {\n",
              "    --ion-safe-area-top: 2px;\n",
              "    --ion-safe-area-bottom: 22px;\n",
              "  }\n",
              "  details{padding-bottom:8px}\n",
              "  summary>*{ display:inline-block }\n",
              "  h2, h3 {text-align: center; }\n",
              "  details > summary > h3 {display: inline;}\n",
              "  summary::marker { content: \"🧡 \"; }\n",
              "  */\n",
              "  h2, h3 {\n",
              "    display: inline-block;\n",
              "  } \n",
              "  ion-content > div { margin-left: 25%; }\n",
              "</style> \n"
            ],
            "text/plain": [
              "<IPython.core.display.HTML object>"
            ]
          },
          "metadata": {},
          "output_type": "display_data"
        }
      ],
      "source": [
        "%%html\n",
        "<style>\n",
        "  /*\n",
        "  :root {\n",
        "    --ion-safe-area-top: 2px;\n",
        "    --ion-safe-area-bottom: 22px;\n",
        "  }\n",
        "  details{padding-bottom:8px}\n",
        "  summary>*{ display:inline-block }\n",
        "  h2, h3 {text-align: center; }\n",
        "  details > summary > h3 {display: inline;}\n",
        "  summary::marker { content: \"🧡 \"; }\n",
        "  */\n",
        "  h2, h3 {\n",
        "    display: inline-block;\n",
        "  } \n",
        "</style> "
      ]
    },
    {
      "cell_type": "markdown",
      "metadata": {
        "id": "mjQRsWXX_iMf"
      },
      "source": [
        "# NB2HTML TEST\n",
        "> This publication inspired by [nbdev](http://nbdev.fast.ai/tutorial/) and [nbConvert](https://nbconvert.readthedocs.io/en/latest/).\n",
        "\n",
        "- toc: true\n",
        "- description: this isnt working\n",
        "- image: images/company_logo.png\n",
        "- keywords: thisworks\n",
        "- badges: true\n",
        "- comments: true\n",
        "- categories: [test]\n",
        "- hide: false\n",
        "- metadata_key1: metadata_value1\n",
        "- metadata_key2: metadata_value2"
      ]
    },
    {
      "cell_type": "markdown",
      "metadata": {
        "id": "14iqIm5w4Ff7"
      },
      "source": [
        "[![Binder](https://mybinder.org/badge_logo.svg)](https://mybinder.org/v2/gh/3Diot/3Diot.github.io/main?filepath=%2Fnotebooks%2F07_nb_2_html_tests.ipynb)\n",
        "[![Binder](https://pete88b.github.io/fastpages/assets/badges/colab.svg)](https://colab.research.google.com/github/3Diot/3Diot.github.io/blob/main/notebooks/07_nb_2_html_tests.ipynb)\n",
        "[![Binder](https://pete88b.github.io/fastpages/assets/badges/github.svg)](https://github.com/3Diot/3Diot.github.io/tree/main/notebooks/07_nb_2_html_tests.ipynb)\n",
        "[![Open Source Love svg3](https://badges.frapsoft.com/os/v3/open-source.svg?v=103)](https://github.com/ellerbrock/open-source-badges/)\n",
        "\n",
        "[![NPM License](https://img.shields.io/npm/l/all-contributors.svg?style=flat)](https://github.com/3Diot/3Diot.github.io/blob/main/LICENSE)\n",
        "[![Active](http://img.shields.io/badge/Status-Active-green.svg)](https://3Diot.github.io) \n",
        "[![GitHub last commit](https://img.shields.io/github/last-commit/3Diot/3Diot.github.io.svg?style=flat)]()  \n",
        "\n",
        "[![GitHub stars](https://img.shields.io/github/stars/3Diot/3Diot.github.io.svg?style=social&label=Star)](https://github.com/3Diot/3Diot.github.io) \n",
        "[![GitHub watchers](https://img.shields.io/github/watchers/3Diot/3Diot.github.io.svg?style=social&label=Watch)](https://github.com/3Diot/3Diot.github.io) \n",
        "[![GitHub forks](https://img.shields.io/github/forks/3Diot/3Diot.github.io.svg?style=social&label=Fork)](https://github.com/3Diot/3Diot.github.io) \n",
        "[![GitHub followers](https://img.shields.io/github/followers/3Diot.svg?style=social&label=Follow)](https://github.com/3Diot/3Diot.github.io) \n",
        "\n",
        "[![Tweet](https://img.shields.io/twitter/url/https/github.com/3Diot/3Diot.github.io.svg?style=social)](https://twitter.com/intent/tweet?text=Check%20out%20this%20%E2%9C%A8%20colab%20by%20@3Diot%20https://github.com/bnia/3Diot.github.io%20%F0%9F%A4%97) \n",
        "[![Twitter Follow](https://img.shields.io/twitter/follow/3Diot.svg?style=social)](https://twitter.com/3Diot)"
      ]
    },
    {
      "cell_type": "markdown",
      "metadata": {
        "id": "t0cxLfLyIUr1"
      },
      "source": [
        "## Welcome to my testing page! <i class=\"fas fa-adjust\"></i>"
      ]
    },
    {
      "cell_type": "markdown",
      "metadata": {
        "id": "FLL5U8M9YdaB"
      },
      "source": [
        "It was made with a colab .ipynb doc and a script I wrote to transform it into an html-page!"
      ]
    },
    {
      "cell_type": "markdown",
      "metadata": {
        "id": "BgzOg_LzJn5I"
      },
      "source": [
        "<div id='special_markdown_example'> \n",
        "\n",
        "It's really cool because I can write html in markdown without a hitch; and it transpiles to html just great. \n",
        "\n",
        "For example, I'm doing it right in the mid<style> #special_markdown_example{color:blue} .folium-map{ width:200px} </style><script>document.querySelectorAll('#special_markdown_example')[0].onclick = (function() { console.log('you clicked special_markdown_example!') } );</script>dle of this sentence within the .ipynb doc, and it renders exactly how i'd like it to within html doc. \n",
        "\n",
        "For proof, check the log on your browser console after clicking this blue text. Then go to my .ipynb and see how I did it! \n",
        "</div>"
      ]
    },
    {
      "cell_type": "markdown",
      "metadata": {},
      "source": [
        "<details><summary>"
      ]
    },
    {
      "cell_type": "markdown",
      "metadata": {
        "id": "IbPPw6SH7DXS"
      },
      "source": [
        "## TODOS\n",
        "</summary>"
      ]
    },
    {
      "cell_type": "markdown",
      "metadata": {},
      "source": [
        "</summary>"
      ]
    },
    {
      "attachments": {},
      "cell_type": "markdown",
      "metadata": {
        "id": "OAJP-IhWZ3m7"
      },
      "source": [
        "More Examples? :\n",
        "- pygal, holoviews, plotly, prophet, tensorflow"
      ]
    },
    {
      "cell_type": "markdown",
      "metadata": {},
      "source": [
        "</details>"
      ]
    },
    {
      "cell_type": "markdown",
      "metadata": {
        "id": "X57FCmKd9URo"
      },
      "source": [
        "## More Examples"
      ]
    },
    {
      "cell_type": "code",
      "execution_count": null,
      "metadata": {
        "id": "Y8UojQJD6rrJ"
      },
      "outputs": [],
      "source": [
        "#hide_input \n",
        "#open(\"MS-Visualization.html\", 'wb').write(html)\n",
        "#HTML(html)\n",
        "#from google.colab import files\n",
        "#files.download('MS-Visualization.html') "
      ]
    },
    {
      "cell_type": "code",
      "execution_count": null,
      "metadata": {
        "id": "Fk3YNqggPNIU"
      },
      "outputs": [],
      "source": [
        "%%capture\n",
        "!pip install observable_jupyter\n",
        "from observable_jupyter import embed"
      ]
    },
    {
      "cell_type": "code",
      "execution_count": null,
      "metadata": {
        "colab": {
          "base_uri": "https://localhost:8080/",
          "height": 33
        },
        "executionInfo": {
          "elapsed": 269,
          "status": "ok",
          "timestamp": 1626286656766,
          "user": {
            "displayName": "Baltimore Neighborhood Indicators Alliance",
            "photoUrl": "https://lh3.googleusercontent.com/a-/AOh14Gg-q3A7kTIHf7wESw989OAOaJeUYKXGEdoA4M3NTA=s64",
            "userId": "16379023391965073054"
          },
          "user_tz": 240
        },
        "id": "ETY2h0qK81yV",
        "outputId": "f4721288-fc40-4d3f-8c1a-494451095dca"
      },
      "outputs": [],
      "source": [
        "#hide_input \n",
        "# https://pypi.org/project/observable-jupyter/\n",
        "embed('@karpatic/cool-3d-virtual-gallery', cells=['mainFrame'])"
      ]
    },
    {
      "cell_type": "markdown",
      "metadata": {
        "id": "XhnYP4jYTql4"
      },
      "source": [
        "</details><details><summary>"
      ]
    },
    {
      "cell_type": "markdown",
      "metadata": {
        "id": "oYaTYUo-blsu"
      },
      "source": [
        "### MatPlotLib\n",
        "</summary>"
      ]
    },
    {
      "cell_type": "code",
      "execution_count": 2,
      "metadata": {
        "colab": {
          "base_uri": "https://localhost:8080/",
          "height": 308
        },
        "executionInfo": {
          "elapsed": 573,
          "status": "ok",
          "timestamp": 1626289919096,
          "user": {
            "displayName": "Baltimore Neighborhood Indicators Alliance",
            "photoUrl": "https://lh3.googleusercontent.com/a-/AOh14Gg-q3A7kTIHf7wESw989OAOaJeUYKXGEdoA4M3NTA=s64",
            "userId": "16379023391965073054"
          },
          "user_tz": 240
        },
        "id": "al2bAjH5bnPV",
        "outputId": "28bb5e0d-d164-45d8-bb07-f19113d52a3b"
      },
      "outputs": [
        {
          "data": {
            "image/png": "[encoded data removed]",
            "text/plain": [
              "<Figure size 432x288 with 1 Axes>"
            ]
          },
          "metadata": {
            "needs_background": "light"
          },
          "output_type": "display_data"
        }
      ],
      "source": [
        "#hide_input \n",
        "# https://pandas.pydata.org/pandas-docs/stable/user_guide/visualization.html#plotting-directly-with-matplotlib\n",
        "# Series and DataFrame objects behave like arrays and can therefore be passed directly to matplotlib functions without explicit casts.\n",
        "import pandas as pd\n",
        "import matplotlib.pyplot as plt\n",
        "import numpy as np\n",
        "price = pd.Series( np.random.randn(150).cumsum(), index=pd.date_range(\"2000-1-1\", periods=150, freq=\"B\") ) \n",
        "ma = price.rolling(20).mean()\n",
        "mstd = price.rolling(20).std()\n",
        "plt.figure();\n",
        "plt.plot(price.index, price, \"k\");\n",
        "plt.plot(ma.index, ma, \"b\");\n",
        "plt.fill_between(mstd.index, ma - 2 * mstd, ma + 2 * mstd, color=\"b\", alpha=0.2);"
      ]
    },
    {
      "cell_type": "code",
      "execution_count": 3,
      "metadata": {
        "colab": {
          "base_uri": "https://localhost:8080/",
          "height": 602
        },
        "executionInfo": {
          "elapsed": 1219,
          "status": "ok",
          "timestamp": 1626289952477,
          "user": {
            "displayName": "Baltimore Neighborhood Indicators Alliance",
            "photoUrl": "https://lh3.googleusercontent.com/a-/AOh14Gg-q3A7kTIHf7wESw989OAOaJeUYKXGEdoA4M3NTA=s64",
            "userId": "16379023391965073054"
          },
          "user_tz": 240
        },
        "id": "6rsxYd49sp4h",
        "outputId": "d6205bef-5beb-47e2-ab03-e9d936650f83"
      },
      "outputs": [
        {
          "data": {
            "text/plain": [
              "<Figure size 432x288 with 0 Axes>"
            ]
          },
          "metadata": {},
          "output_type": "display_data"
        },
        {
          "data": {
            "image/png": "[encoded data removed]",
            "text/plain": [
              "<Figure size 432x288 with 1 Axes>"
            ]
          },
          "metadata": {
            "needs_background": "light"
          },
          "output_type": "display_data"
        }
      ],
      "source": [
        "#hide_input \n",
        "df = pd.read_csv(\n",
        "    'https://raw.github.com/pandas-dev/'\n",
        "    'pandas/master/pandas/tests/io/data/csv/iris.csv'\n",
        ")\n",
        "dd = df.cumsum()\n",
        "plt.figure();\n",
        "dd.plot.bar(colormap=\"Greens\");"
      ]
    },
    {
      "cell_type": "code",
      "execution_count": 4,
      "metadata": {
        "id": "kqJ85f17r6ft"
      },
      "outputs": [
        {
          "data": {
            "image/png": "[encoded data removed]",
            "text/plain": [
              "<Figure size 432x288 with 1 Axes>"
            ]
          },
          "metadata": {
            "needs_background": "light"
          },
          "output_type": "display_data"
        }
      ],
      "source": [
        "#hide_input \n",
        "pd.plotting.andrews_curves(df, \"Name\", colormap=\"winter\");"
      ]
    },
    {
      "cell_type": "code",
      "execution_count": 5,
      "metadata": {
        "id": "kQCPfFcLsgLV"
      },
      "outputs": [
        {
          "data": {
            "image/png": "[encoded data removed]",
            "text/plain": [
              "<Figure size 432x288 with 1 Axes>"
            ]
          },
          "metadata": {
            "needs_background": "light"
          },
          "output_type": "display_data"
        }
      ],
      "source": [
        "#hide_input \n",
        "plt.figure();\n",
        "pd.plotting.parallel_coordinates(df, \"Name\", colormap=\"gist_rainbow\");\n",
        "plt.show()"
      ]
    },
    {
      "cell_type": "markdown",
      "metadata": {},
      "source": [
        "</details>\n",
        "<details><summary>"
      ]
    },
    {
      "cell_type": "markdown",
      "metadata": {
        "id": "UABwiLv8R3my"
      },
      "source": [
        "### Web Components\n",
        "</summary> "
      ]
    },
    {
      "cell_type": "code",
      "execution_count": 6,
      "metadata": {
        "colab": {
          "base_uri": "https://localhost:8080/"
        },
        "executionInfo": {
          "elapsed": 126,
          "status": "ok",
          "timestamp": 1626286739869,
          "user": {
            "displayName": "Baltimore Neighborhood Indicators Alliance",
            "photoUrl": "https://lh3.googleusercontent.com/a-/AOh14Gg-q3A7kTIHf7wESw989OAOaJeUYKXGEdoA4M3NTA=s64",
            "userId": "16379023391965073054"
          },
          "user_tz": 240
        },
        "id": "BhXQIiHNDzCZ",
        "outputId": "e2fe2e5f-58ec-4a7f-df23-09a605380cf3"
      },
      "outputs": [
        {
          "data": {
            "text/html": [
              "<script src=\"https://cdn.jsdelivr.net/npm/@honatas/multi-select-webcomponent/dist/multi-select-webcomponent.min.js\" crossorigin=\"anonymous\"></script>\n",
              "<multi-select id=\"planetId\">\n",
              "  <option id=\"1\">Mercury</option>\n",
              "  <option id=\"2\">Venus</option>\n",
              "  <option id=\"3\">Earth</option>\n",
              "</multi-select>\n",
              "<script>\n",
              "   window.customElements.define('multi-select', MultiselectWebcomponent);\n",
              "</script>\n"
            ],
            "text/plain": [
              "<IPython.core.display.HTML object>"
            ]
          },
          "metadata": {},
          "output_type": "display_data"
        }
      ],
      "source": [
        "%%html\n",
        "<script src=\"https://cdn.jsdelivr.net/npm/@honatas/multi-select-webcomponent/dist/multi-select-webcomponent.min.js\" crossorigin=\"anonymous\"></script>\n",
        "<multi-select id=\"planetId\">\n",
        "  <option id=\"1\">Mercury</option>\n",
        "  <option id=\"2\">Venus</option>\n",
        "  <option id=\"3\">Earth</option>\n",
        "</multi-select>\n",
        "<script>\n",
        "  window.customElements.define('multi-select', MultiselectWebcomponent);\n",
        "</script>"
      ]
    },
    {
      "cell_type": "markdown",
      "metadata": {
        "id": "2Cc8EPcbUaE5"
      },
      "source": [
        "</details>\n",
        "<details><summary>"
      ]
    },
    {
      "cell_type": "markdown",
      "metadata": {
        "id": "x1_GAAzAItan"
      },
      "source": [
        "### Dexplot\n",
        "</summary> "
      ]
    },
    {
      "cell_type": "markdown",
      "metadata": {
        "id": "FYZhYQRaItav"
      },
      "source": [
        "How will I save content from [dexplot](https://github.com/dexplo/dexplot) or pyplot etc?"
      ]
    },
    {
      "cell_type": "code",
      "execution_count": 7,
      "metadata": {
        "id": "f9LDU7ZlItav"
      },
      "outputs": [],
      "source": [
        "%%capture\n",
        "! pip install dexplot"
      ]
    },
    {
      "cell_type": "code",
      "execution_count": null,
      "metadata": {
        "id": "rRvBv2CNItaw"
      },
      "outputs": [],
      "source": [
        "#hide_input\n",
        "import dexplot as dxp\n",
        "import pandas as pd\n",
        "from IPython.display import display\n",
        "pd.options.display.float_format = '{:,.2f}'.format\n",
        "pd.set_option(\"max_colwidth\", 16)\n",
        "pd.options.display.width = 20"
      ]
    },
    {
      "cell_type": "code",
      "execution_count": null,
      "metadata": {
        "colab": {
          "base_uri": "https://localhost:8080/"
        },
        "executionInfo": {
          "elapsed": 603,
          "status": "ok",
          "timestamp": 1626286757967,
          "user": {
            "displayName": "Baltimore Neighborhood Indicators Alliance",
            "photoUrl": "https://lh3.googleusercontent.com/a-/AOh14Gg-q3A7kTIHf7wESw989OAOaJeUYKXGEdoA4M3NTA=s64",
            "userId": "16379023391965073054"
          },
          "user_tz": 240
        },
        "id": "1Km0KAapItaw",
        "outputId": "86628217-4e83-4d2f-c347-db73ab8c099d"
      },
      "outputs": [],
      "source": [
        "#hide_input\n",
        "airbnb = dxp.load_dataset('airbnb')\n",
        "html = dxp.bar(x='bedrooms', y='price', data=airbnb, aggfunc='median')\n",
        "display( airbnb.head() )\n",
        "html"
      ]
    },
    {
      "cell_type": "markdown",
      "metadata": {
        "id": "bIO9qslqItax"
      },
      "source": [
        "</details><details><summary>"
      ]
    },
    {
      "cell_type": "markdown",
      "metadata": {
        "id": "58zc-rOJZzl9"
      },
      "source": [
        "### MPLD3\n",
        "</summary> "
      ]
    },
    {
      "cell_type": "markdown",
      "metadata": {
        "id": "NMtzbiwNbQk9"
      },
      "source": [
        "The mpld3 project brings together Matplotlib, the popular Python-based graphing library, and D3js, the popular JavaScript library for creating interactive data visualizations for the web. The result is a simple API for exporting your matplotlib graphics to HTML code which can be used within the browser, within standard web pages, blogs, or tools such as the IPython notebook."
      ]
    },
    {
      "cell_type": "code",
      "execution_count": null,
      "metadata": {
        "id": "Uet6A7zibhqp"
      },
      "outputs": [],
      "source": [
        "%%capture\n",
        "!pip install mpld3"
      ]
    },
    {
      "cell_type": "code",
      "execution_count": null,
      "metadata": {
        "colab": {
          "base_uri": "https://localhost:8080/"
        },
        "executionInfo": {
          "elapsed": 723,
          "status": "ok",
          "timestamp": 1626286771162,
          "user": {
            "displayName": "Baltimore Neighborhood Indicators Alliance",
            "photoUrl": "https://lh3.googleusercontent.com/a-/AOh14Gg-q3A7kTIHf7wESw989OAOaJeUYKXGEdoA4M3NTA=s64",
            "userId": "16379023391965073054"
          },
          "user_tz": 240
        },
        "id": "54PqE05MbggH",
        "outputId": "6f67f7cd-511f-46d5-9af0-b10365a825c7"
      },
      "outputs": [],
      "source": [
        "#hide_input\n",
        "import mpld3 \n",
        "mpld3.enable_notebook()\n",
        "\n",
        "%matplotlib inline\n",
        "import matplotlib.pyplot as plt\n",
        "import numpy as np\n",
        "from mpld3 import plugins\n",
        "\n",
        "fig, ax = plt.subplots(3, 3, figsize=(6, 6))\n",
        "fig.subplots_adjust(hspace=0.1, wspace=0.1)\n",
        "ax = ax[::-1]\n",
        "\n",
        "X = np.random.normal(size=(3, 100))\n",
        "for i in range(3):\n",
        "    for j in range(3):\n",
        "        ax[i, j].xaxis.set_major_formatter(plt.NullFormatter())\n",
        "        ax[i, j].yaxis.set_major_formatter(plt.NullFormatter())\n",
        "        points = ax[i, j].scatter(X[j], X[i])\n",
        "        \n",
        "plugins.connect(fig, plugins.LinkedBrush(points))\n",
        "\n",
        "mpld3.display(fig)"
      ]
    },
    {
      "cell_type": "markdown",
      "metadata": {
        "id": "AcvBllklF-ak"
      },
      "source": [
        "</details><details><summary>"
      ]
    },
    {
      "cell_type": "markdown",
      "metadata": {
        "id": "7WVfEFAPRZOh"
      },
      "source": [
        "### networkx - Plotly\n",
        "</summary>"
      ]
    },
    {
      "cell_type": "code",
      "execution_count": null,
      "metadata": {},
      "outputs": [],
      "source": [
        "%%capture\n",
        "!pip install plotly networkx"
      ]
    },
    {
      "cell_type": "markdown",
      "metadata": {
        "id": "EJaV_SF8VNR_"
      },
      "source": [
        "[Network Graphs](https://plotly.com/python/network-graphs/)"
      ]
    },
    {
      "cell_type": "code",
      "execution_count": null,
      "metadata": {
        "id": "kQ3BwAS5VNv6"
      },
      "outputs": [],
      "source": [
        "#hide \n",
        "import plotly.graph_objects as go\n",
        "import networkx as nx\n",
        "G = nx.random_geometric_graph(200, 0.125)"
      ]
    },
    {
      "cell_type": "code",
      "execution_count": null,
      "metadata": {
        "id": "myWAznVUVUZj"
      },
      "outputs": [],
      "source": [
        "#hide \n",
        "edge_x = []\n",
        "edge_y = []\n",
        "for edge in G.edges():\n",
        "    x0, y0 = G.nodes[edge[0]]['pos']\n",
        "    x1, y1 = G.nodes[edge[1]]['pos']\n",
        "    edge_x.append(x0)\n",
        "    edge_x.append(x1)\n",
        "    edge_x.append(None)\n",
        "    edge_y.append(y0)\n",
        "    edge_y.append(y1)\n",
        "    edge_y.append(None)\n",
        "\n",
        "edge_trace = go.Scatter(\n",
        "    x=edge_x, y=edge_y,\n",
        "    line=dict(width=0.5, color='#888'),\n",
        "    hoverinfo='none',\n",
        "    mode='lines')\n",
        "\n",
        "node_x = []\n",
        "node_y = []\n",
        "for node in G.nodes():\n",
        "    x, y = G.nodes[node]['pos']\n",
        "    node_x.append(x)\n",
        "    node_y.append(y)\n",
        "\n",
        "node_trace = go.Scatter(\n",
        "    x=node_x, y=node_y,\n",
        "    mode='markers',\n",
        "    hoverinfo='text',\n",
        "    marker=dict(\n",
        "        showscale=True,\n",
        "        # colorscale options\n",
        "        #'Greys' | 'YlGnBu' | 'Greens' | 'YlOrRd' | 'Bluered' | 'RdBu' |\n",
        "        #'Reds' | 'Blues' | 'Picnic' | 'Rainbow' | 'Portland' | 'Jet' |\n",
        "        #'Hot' | 'Blackbody' | 'Earth' | 'Electric' | 'Viridis' |\n",
        "        colorscale='YlGnBu',\n",
        "        reversescale=True,\n",
        "        color=[],\n",
        "        size=10,\n",
        "        colorbar=dict(\n",
        "            thickness=15,\n",
        "            title='Node Connections',\n",
        "            xanchor='left',\n",
        "            titleside='right'\n",
        "        ),\n",
        "        line_width=2))"
      ]
    },
    {
      "cell_type": "code",
      "execution_count": null,
      "metadata": {
        "id": "Wkf34HUvVXVw"
      },
      "outputs": [],
      "source": [
        "#hide \n",
        "node_adjacencies = []\n",
        "node_text = []\n",
        "for node, adjacencies in enumerate(G.adjacency()):\n",
        "    node_adjacencies.append(len(adjacencies[1]))\n",
        "    node_text.append('# of connections: '+str(len(adjacencies[1])))\n",
        "\n",
        "node_trace.marker.color = node_adjacencies\n",
        "node_trace.text = node_text"
      ]
    },
    {
      "cell_type": "code",
      "execution_count": null,
      "metadata": {
        "colab": {
          "base_uri": "https://localhost:8080/",
          "height": 542
        },
        "executionInfo": {
          "elapsed": 1463,
          "status": "ok",
          "timestamp": 1626287016173,
          "user": {
            "displayName": "Baltimore Neighborhood Indicators Alliance",
            "photoUrl": "https://lh3.googleusercontent.com/a-/AOh14Gg-q3A7kTIHf7wESw989OAOaJeUYKXGEdoA4M3NTA=s64",
            "userId": "16379023391965073054"
          },
          "user_tz": 240
        },
        "id": "VH144BvhVZjc",
        "outputId": "25177701-d496-4a7b-d5ae-d104c3275a99"
      },
      "outputs": [],
      "source": [
        "#hide_input\n",
        "fig = go.Figure(data=[edge_trace, node_trace],\n",
        "             layout=go.Layout(\n",
        "                title='<br>Network graph made with Python',\n",
        "                titlefont_size=16,\n",
        "                showlegend=False,\n",
        "                hovermode='closest',\n",
        "                margin=dict(b=20,l=5,r=5,t=40),\n",
        "                annotations=[ dict(\n",
        "                    text=\"Python code: <a href='https://plotly.com/ipython-notebooks/network-graphs/'> https://plotly.com/ipython-notebooks/network-graphs/</a>\",\n",
        "                    showarrow=False,\n",
        "                    xref=\"paper\", yref=\"paper\",\n",
        "                    x=0.005, y=-0.002 ) ],\n",
        "                xaxis=dict(showgrid=False, zeroline=False, showticklabels=False),\n",
        "                yaxis=dict(showgrid=False, zeroline=False, showticklabels=False))\n",
        "                )\n",
        "fig.show()\n",
        "fig.write_html(\"./file.html\")"
      ]
    },
    {
      "cell_type": "markdown",
      "metadata": {
        "id": "rYBHkrR8GBi-"
      },
      "source": [
        "</details><details><summary>"
      ]
    },
    {
      "cell_type": "markdown",
      "metadata": {
        "id": "mQz3p1WlTPWg"
      },
      "source": [
        "### DC.js dcpy\n",
        "</summary>"
      ]
    },
    {
      "cell_type": "markdown",
      "metadata": {
        "id": "vxIHu2g3TVmp"
      },
      "source": [
        "dc.js is a javascript charting library with native crossfilter support, allowing highly efficient exploration on large multi-dimensional datasets (inspired by crossfilter's demo)\n",
        "\n",
        "It leverages d3 to render charts in CSS-friendly SVG format. Charts rendered using dc.js are data driven and reactive"
      ]
    },
    {
      "cell_type": "code",
      "execution_count": null,
      "metadata": {
        "id": "2rckpQkWRY_B"
      },
      "outputs": [],
      "source": [
        "%%capture\n",
        "! pip install dcpy"
      ]
    },
    {
      "cell_type": "markdown",
      "metadata": {
        "id": "SW_p3QEFUd5V"
      },
      "source": [
        "https://github.com/washim/dcpy/blob/master/dcpy/widget.py"
      ]
    },
    {
      "cell_type": "code",
      "execution_count": null,
      "metadata": {
        "id": "qZNo_ROUT2Ut"
      },
      "outputs": [],
      "source": [
        "#hide \n",
        "from dcpy import widget\n",
        "import pandas as pd"
      ]
    },
    {
      "cell_type": "code",
      "execution_count": null,
      "metadata": {
        "id": "35rZ1XgGT39t"
      },
      "outputs": [],
      "source": [
        "#hide \n",
        "df = pd.DataFrame({\"book\":[\"A\",\"B\",\"C\",\"D\",\"E\",\"F\",\"G\",\"H\",\"I\",\"J\",\"K\"],\"scores\":[45,34,54,27,70,25,92,22,40,10,40]})\n",
        "data = df.to_json(orient=\"records\")"
      ]
    },
    {
      "cell_type": "code",
      "execution_count": null,
      "metadata": {
        "id": "Qy3CSKEzT6XG"
      },
      "outputs": [],
      "source": [
        "#hide \n",
        "crossfilter = [\"var bookDimension=ndx.dimension(function(d){return d.book;});\",\n",
        "               \"var bookscoresGroup=bookDimension.group().reduceSum(function(d){return d.scores;});\",\n",
        "               \"var coreCount=ndx.dimension(function(d){\\\n",
        "                   if (d.scores > 80*0.5) {\\\n",
        "                       return 'High';\\\n",
        "                   }\\\n",
        "                   else{\\\n",
        "                       return 'Low';\\\n",
        "                   }\\\n",
        "               });\",\n",
        "               \"var coreCountGroup=coreCount.group();\",\n",
        "               \"var all = ndx.groupAll();\"]\n",
        "\n",
        "barchartoptions = [\"xAxisLabel('book_id')\",\n",
        "                   \"yAxisLabel('score')\",\n",
        "                   \"width(320)\",\n",
        "                   \"height(320)\",\n",
        "                   \"x(d3.scale.ordinal())\",\n",
        "                   \"xUnits(dc.units.ordinal)\",\n",
        "                   \"dimension(bookDimension)\",\n",
        "                   \"group(bookscoresGroup)\",\n",
        "                   \"colors(['orange'])\"]\n",
        "\n",
        "piechartoptions = [\"width(320)\",\n",
        "                   \"height(320)\",\n",
        "                   \"radius(120)\",\n",
        "                   \"innerRadius(40)\",\n",
        "                   \"dimension(coreCount)\",\n",
        "                   \"group(coreCountGroup)\",\n",
        "                   \"label(function(d){\\\n",
        "                       var label = d.key;\\\n",
        "                       if(all.value()){\\\n",
        "                           label += '(' + Math.floor(d.value/all.value()*100)+'%)';\\\n",
        "                       }\\\n",
        "                       return label;\\\n",
        "                   })\"]"
      ]
    },
    {
      "cell_type": "code",
      "execution_count": null,
      "metadata": {
        "colab": {
          "base_uri": "https://localhost:8080/",
          "height": 342
        },
        "executionInfo": {
          "elapsed": 429,
          "status": "ok",
          "timestamp": 1626287041488,
          "user": {
            "displayName": "Baltimore Neighborhood Indicators Alliance",
            "photoUrl": "https://lh3.googleusercontent.com/a-/AOh14Gg-q3A7kTIHf7wESw989OAOaJeUYKXGEdoA4M3NTA=s64",
            "userId": "16379023391965073054"
          },
          "user_tz": 240
        },
        "id": "rKvniUuhT8Vz",
        "outputId": "42a19de6-cddd-422f-fdf1-bba8c70aeeaa"
      },
      "outputs": [],
      "source": [
        "#hide_input\n",
        "from IPython.display import display, HTML\n",
        "chart = widget.initiate(data)\n",
        "chart.prepare([\"pie\",\"bar\"],crossfilter)\n",
        "chart.chart(\"pieChart\",\"pie\",piechartoptions)\n",
        "chart.chart(\"barChart\",\"bar\",barchartoptions)\n",
        "chart.save('test.html')\n",
        "f = open(\"test.html\", \"r\")\n",
        "display(HTML(f.read()))"
      ]
    },
    {
      "cell_type": "code",
      "execution_count": null,
      "metadata": {
        "colab": {
          "base_uri": "https://localhost:8080/",
          "height": 16
        },
        "executionInfo": {
          "elapsed": 126,
          "status": "ok",
          "timestamp": 1626287078021,
          "user": {
            "displayName": "Baltimore Neighborhood Indicators Alliance",
            "photoUrl": "https://lh3.googleusercontent.com/a-/AOh14Gg-q3A7kTIHf7wESw989OAOaJeUYKXGEdoA4M3NTA=s64",
            "userId": "16379023391965073054"
          },
          "user_tz": 240
        },
        "id": "WAK7p-YG0m7e",
        "outputId": "defa714c-cf8b-4de3-f246-14219e0ca0c0"
      },
      "outputs": [],
      "source": [
        "%%html\n",
        "<style>\n",
        "  div.dc-chart {\n",
        "    float: none !important;\n",
        "  }\n",
        "</style>"
      ]
    },
    {
      "cell_type": "markdown",
      "metadata": {
        "id": "oq5Ht_EiGDuo"
      },
      "source": [
        "</details><details><summary>"
      ]
    },
    {
      "cell_type": "markdown",
      "metadata": {
        "id": "hnI2xCfXJXOf"
      },
      "source": [
        "### Folium / Dataplay\n",
        "</summary>"
      ]
    },
    {
      "cell_type": "markdown",
      "metadata": {
        "id": "vXWG3rVG4Noj"
      },
      "source": [
        "1. Folium [JavascriptLink](https://github.com/python-visualization/folium/search?q=JavascriptLink&unscoped_q=JavascriptLink)\n",
        "\n",
        "2. Folium [Adding Javascript](https://stackoverflow.com/questions/60479995/adding-javascript-to-folium-map)\n",
        "\n",
        "3. Folium [How to Use Custom Javascript](https://github.com/python-visualization/folium/issues/765)\n",
        "\n",
        "4. Folium [Custom HTML JS](https://github.com/python-visualization/folium/issues/86)\n",
        "\n",
        "5. Folium [Click Event](https://gis.stackexchange.com/questions/313382/click-event-on-maps-with-folium-and-information-retrieval)\n"
      ]
    },
    {
      "cell_type": "code",
      "execution_count": null,
      "metadata": {
        "id": "qHjAnuZ16xqh"
      },
      "outputs": [],
      "source": [
        "#hide \n",
        "%%capture\n",
        "!pip install geopandas dataplay "
      ]
    },
    {
      "cell_type": "code",
      "execution_count": null,
      "metadata": {
        "colab": {
          "base_uri": "https://localhost:8080/",
          "height": 321
        },
        "executionInfo": {
          "elapsed": 124,
          "status": "ok",
          "timestamp": 1626287190654,
          "user": {
            "displayName": "Baltimore Neighborhood Indicators Alliance",
            "photoUrl": "https://lh3.googleusercontent.com/a-/AOh14Gg-q3A7kTIHf7wESw989OAOaJeUYKXGEdoA4M3NTA=s64",
            "userId": "16379023391965073054"
          },
          "user_tz": 240
        },
        "id": "b6q_GINYbVNN",
        "outputId": "185d3e2a-d6a0-4cc0-9059-1885ab3e0220"
      },
      "outputs": [],
      "source": [
        "#hide_input\n",
        "import folium\n",
        "from IPython.display import display, HTML\n",
        "start_coords = (39.2904, -76.6122)\n",
        "f = folium.Figure(width=800, height=300)\n",
        "m = folium.Map(start_coords, zoom_start=15).add_to(f)\n",
        "pp = folium.Html('<a href=\"'+ 'give your url here'+'\"target=\"_blank\">'+ 'popup text' + '</a>', script=True)\n",
        "popup = folium.Popup(pp, max_width=2650)\n",
        "folium.Marker(location=[46.9540700, 142.7360300], popup=popup).add_to(m)\n",
        "m=m._repr_html_()\n",
        "display(HTML( m ))"
      ]
    },
    {
      "cell_type": "code",
      "execution_count": null,
      "metadata": {
        "colab": {
          "base_uri": "https://localhost:8080/"
        },
        "executionInfo": {
          "elapsed": 159,
          "status": "ok",
          "timestamp": 1626287269773,
          "user": {
            "displayName": "Baltimore Neighborhood Indicators Alliance",
            "photoUrl": "https://lh3.googleusercontent.com/a-/AOh14Gg-q3A7kTIHf7wESw989OAOaJeUYKXGEdoA4M3NTA=s64",
            "userId": "16379023391965073054"
          },
          "user_tz": 240
        },
        "id": "W0q91AUbRiTI",
        "outputId": "e261b02a-5493-4a25-8ef1-77376bc13007"
      },
      "outputs": [],
      "source": [
        "#hide\n",
        "import dataplay\n",
        "help(dataplay)"
      ]
    },
    {
      "cell_type": "code",
      "execution_count": null,
      "metadata": {
        "id": "8ac5Hf3W1pDT"
      },
      "outputs": [],
      "source": [
        "#hide_input\n",
        "#collapse_output\n",
        "import geopandas as gpd\n",
        "import dataplay\n",
        "from IPython import display\n",
        "from IPython.display import clear_output\n",
        "csa_gdf = gpd.read_file(\"https://services1.arcgis.com/mVFRs7NF4iFitgbY/ArcGIS/rest/services/Hhchpov/FeatureServer/0/query?where=1%3D1&outFields=*&returnGeometry=true&f=pgeojson\");\n",
        "geoloom = gpd.read_file(\"https://services1.arcgis.com/mVFRs7NF4iFitgbY/ArcGIS/rest/services/Geoloom_Crowd/FeatureServer/0/query?where=1%3D1&outFields=*&returnGeometry=true&f=pgeojson\");\n",
        "geoloom['POINT_X'] = geoloom['geometry'].centroid.x\n",
        "geoloom['POINT_Y'] = geoloom['geometry'].centroid.y\n",
        "geoloom = geoloom.dropna(subset=['POINT_Y', 'POINT_X'])\n",
        "clear_output()\n",
        "help(dataplay.geoms)\n",
        "# .map_points(geoloom, lat_col='POINT_Y', lon_col='POINT_X', zoom_start=11, plot_points=True, pt_radius=15, draw_heatmap=True, heat_map_weights_col=None, heat_map_weights_normalize=True, heat_map_radius=15)"
      ]
    },
    {
      "cell_type": "markdown",
      "metadata": {
        "id": "iAejh0F9GLYA"
      },
      "source": [
        "</details><details><summary>"
      ]
    },
    {
      "cell_type": "markdown",
      "metadata": {
        "id": "oFSO0FTlHZvp"
      },
      "source": [
        "### Altair - Vega\n",
        "</summary>"
      ]
    },
    {
      "cell_type": "markdown",
      "metadata": {
        "id": "reD4eBMCGQfN"
      },
      "source": [
        "- Altair provides a Python API for generating validated Vega-Lite specifications\n",
        "\n",
        "- Altair is fundamentally about constructing chart specifications, the central functionality of any chart object are the to_dict() and to_json()\n",
        "\n",
        "[test123](https://altair-viz.github.io/user_guide/internals.html)"
      ]
    },
    {
      "cell_type": "code",
      "execution_count": null,
      "metadata": {
        "id": "qh-uMDOYG_aO"
      },
      "outputs": [],
      "source": [
        "#hide_input \n",
        "import altair as alt\n",
        "from vega_datasets import data\n",
        "\n",
        "\n",
        "chart = alt.Chart(data.cars.url).mark_point().encode(\n",
        "    x='Horsepower:Q',\n",
        "    y='Miles_per_Gallon:Q',\n",
        "    color='Origin:N',\n",
        ").configure_view(\n",
        "    continuousHeight=300,\n",
        "    continuousWidth=400,\n",
        ")"
      ]
    },
    {
      "cell_type": "code",
      "execution_count": null,
      "metadata": {
        "id": "Kg0f5n2CSCao"
      },
      "outputs": [],
      "source": [
        "This isn't interactive"
      ]
    },
    {
      "cell_type": "code",
      "execution_count": null,
      "metadata": {
        "colab": {
          "base_uri": "https://localhost:8080/",
          "height": 368
        },
        "executionInfo": {
          "elapsed": 4,
          "status": "ok",
          "timestamp": 1626287372889,
          "user": {
            "displayName": "Baltimore Neighborhood Indicators Alliance",
            "photoUrl": "https://lh3.googleusercontent.com/a-/AOh14Gg-q3A7kTIHf7wESw989OAOaJeUYKXGEdoA4M3NTA=s64",
            "userId": "16379023391965073054"
          },
          "user_tz": 240
        },
        "id": "BzVts3jmINw5",
        "outputId": "349b6171-1758-4ff9-aa79-9b9200156576"
      },
      "outputs": [],
      "source": [
        "#hide_input\n",
        "alt.Chart.from_json( chart.to_json(indent=2) )"
      ]
    },
    {
      "cell_type": "markdown",
      "metadata": {
        "id": "avgIZfdSGTRf"
      },
      "source": [
        "</details><details><summary>"
      ]
    },
    {
      "cell_type": "markdown",
      "metadata": {
        "id": "FHQYN1r4JRK9"
      },
      "source": [
        "### Vega-Embed\n",
        "</summary>"
      ]
    },
    {
      "cell_type": "markdown",
      "metadata": {
        "id": "A4D6GSpu10-D"
      },
      "source": [
        "[vega-embed](https://github.com/vega/vega-embed)\n",
        "\n",
        "[embed](https://vega.github.io/vega-lite/usage/embed.html)"
      ]
    },
    {
      "cell_type": "markdown",
      "metadata": {
        "id": "N1CGS9HXl5me"
      },
      "source": [
        "[hello-vega-embed](https://observablehq.com/@vega/hello-vega-embed)"
      ]
    },
    {
      "cell_type": "code",
      "execution_count": null,
      "metadata": {
        "colab": {
          "base_uri": "https://localhost:8080/",
          "height": 366
        },
        "executionInfo": {
          "elapsed": 132,
          "status": "ok",
          "timestamp": 1626287396572,
          "user": {
            "displayName": "Baltimore Neighborhood Indicators Alliance",
            "photoUrl": "https://lh3.googleusercontent.com/a-/AOh14Gg-q3A7kTIHf7wESw989OAOaJeUYKXGEdoA4M3NTA=s64",
            "userId": "16379023391965073054"
          },
          "user_tz": 240
        },
        "id": "iqZ0NNSkGzim",
        "outputId": "dd044bc8-b6c2-46d5-8f1d-b5750f1dadef"
      },
      "outputs": [],
      "source": [
        "%%html\n",
        "<!DOCTYPE html>\n",
        "<html>\n",
        "  <head>\n",
        "    <title>Embedding Vega-Lite</title>\n",
        "    <script src=\"https://cdn.jsdelivr.net/npm/vega@5.17.0\"></script>\n",
        "    <script src=\"https://cdn.jsdelivr.net/npm/vega-lite@4.17.0\"></script>\n",
        "    <script src=\"https://cdn.jsdelivr.net/npm/vega-embed@6.12.2\"></script>\n",
        "  </head>\n",
        "  <body>\n",
        "    <div id=\"vis\"></div>\n",
        "\n",
        "    <script type=\"text/javascript\">\n",
        "      var yourVlSpec = {\n",
        "  \"$schema\": \"https://vega.github.io/schema/vega-lite/v4.json\",\n",
        "  \"data\": {\"url\": \"https://vega.github.io/vega-datasets/data/sp500.csv\"},\n",
        "  \"vconcat\": [{\n",
        "    \"width\": 480,\n",
        "    \"mark\": \"area\",\n",
        "    \"encoding\": {\n",
        "      \"x\": {\n",
        "        \"field\": \"date\",\n",
        "        \"type\": \"temporal\",\n",
        "        \"scale\": {\"domain\": {\"selection\": \"brush\"}},\n",
        "        \"axis\": {\"title\": \"\"}\n",
        "      },\n",
        "      \"y\": {\"field\": \"price\",\"type\": \"quantitative\"}\n",
        "    }\n",
        "  }, {\n",
        "    \"width\": 480,\n",
        "    \"height\": 60,\n",
        "    \"mark\": \"area\",\n",
        "    \"selection\": {\n",
        "      \"brush\": {\"type\": \"interval\", \"encodings\": [\"x\"]}\n",
        "    },\n",
        "    \"encoding\": {\n",
        "      \"x\": {\n",
        "        \"field\": \"date\",\n",
        "        \"type\": \"temporal\",\n",
        "        \"axis\": {\"format\": \"%Y\"}\n",
        "      },\n",
        "      \"y\": {\n",
        "        \"field\": \"price\",\n",
        "        \"type\": \"quantitative\",\n",
        "        \"axis\": {\"tickCount\": 3, \"grid\": false}\n",
        "      }\n",
        "    }\n",
        "  }]\n",
        "};\n",
        "      vegaEmbed('#vis', yourVlSpec);\n",
        "    </script>\n",
        "  </body>\n",
        "</html>"
      ]
    },
    {
      "cell_type": "markdown",
      "metadata": {
        "id": "MJHu97YCGlKd"
      },
      "source": [
        "</details><details><summary>"
      ]
    },
    {
      "cell_type": "markdown",
      "metadata": {
        "id": "K4PCxMq3KVbi"
      },
      "source": [
        "### pivottablejs\n",
        "</summary>"
      ]
    },
    {
      "cell_type": "markdown",
      "metadata": {
        "id": "tjjCGSYG40hV"
      },
      "source": [
        "[pivottablejs](https://pypi.org/project/pivottablejs/)"
      ]
    },
    {
      "cell_type": "code",
      "execution_count": null,
      "metadata": {
        "id": "uoRfSZK84y9n"
      },
      "outputs": [],
      "source": [
        "%%capture\n",
        "!pip install pivottablejs"
      ]
    },
    {
      "cell_type": "code",
      "execution_count": null,
      "metadata": {
        "colab": {
          "base_uri": "https://localhost:8080/",
          "height": 543
        },
        "executionInfo": {
          "elapsed": 3686,
          "status": "ok",
          "timestamp": 1626287544526,
          "user": {
            "displayName": "Baltimore Neighborhood Indicators Alliance",
            "photoUrl": "https://lh3.googleusercontent.com/a-/AOh14Gg-q3A7kTIHf7wESw989OAOaJeUYKXGEdoA4M3NTA=s64",
            "userId": "16379023391965073054"
          },
          "user_tz": 240
        },
        "id": "u3XBivYK5Nyy",
        "outputId": "33a6424d-2f8f-4b9a-8028-89216f88e4ec"
      },
      "outputs": [],
      "source": [
        "#hide_input\n",
        "# https://github.com/JasonKessler/scattertext\n",
        "# https://colab.research.google.com/drive/1VIMd9jhpNgB9siYlTSFqjV62mMQQFx4K\n",
        "\n",
        "!pip install pivottablejs\n",
        "from pivottablejs import pivot_ui\n",
        "from IPython.display import HTML\n",
        "#if using locally you can just use the following to display the output: pivot_ui(df)\n",
        "# As we are using colab, we will just download the output - this can then be opened in a new tab in the browser\n",
        "\n",
        "import IPython\n",
        "\n",
        "pivot_ui( dxp.load_dataset('airbnb') ,outfile_path='pivottablejs.html')\n",
        "IPython.display.HTML(filename='pivottablejs.html')\n",
        "\n",
        "# if you want to download to open in a new tab in the browser - use the below:\n",
        "# from google.colab import files\n",
        "# files.download('pivottablejs.html') "
      ]
    },
    {
      "cell_type": "markdown",
      "metadata": {
        "id": "dhwkfquGGumt"
      },
      "source": [
        "</details><details><summary>"
      ]
    },
    {
      "cell_type": "markdown",
      "metadata": {
        "id": "_0NybzfNK71c"
      },
      "source": [
        "### Python [eval_js](https://colab.research.google.com/notebooks/snippets/advanced_outputs.ipynb)\n",
        "</summary>"
      ]
    },
    {
      "cell_type": "markdown",
      "metadata": {},
      "source": [
        "This will execute on start (converted HTML doc) and any time you run the cell : "
      ]
    },
    {
      "cell_type": "code",
      "execution_count": 14,
      "metadata": {},
      "outputs": [
        {
          "data": {
            "application/javascript": "console.log('Runs on browserstart')\n",
            "text/plain": [
              "<IPython.core.display.Javascript object>"
            ]
          },
          "metadata": {},
          "output_type": "display_data"
        }
      ],
      "source": [
        "%%javascript\n",
        "console.log('Runs on browserstart')"
      ]
    },
    {
      "cell_type": "code",
      "execution_count": 18,
      "metadata": {},
      "outputs": [
        {
          "data": {
            "application/javascript": " console.log('Runs onstart') ",
            "text/plain": [
              "<IPython.core.display.Javascript object>"
            ]
          },
          "execution_count": 18,
          "metadata": {},
          "output_type": "execute_result"
        }
      ],
      "source": [
        "#hide \n",
        "IPython.display.Javascript(''' console.log('Runs onstart') ''')"
      ]
    },
    {
      "cell_type": "code",
      "execution_count": 19,
      "metadata": {
        "colab": {
          "base_uri": "https://localhost:8080/",
          "height": 16
        },
        "executionInfo": {
          "elapsed": 139,
          "status": "ok",
          "timestamp": 1626289688176,
          "user": {
            "displayName": "Baltimore Neighborhood Indicators Alliance",
            "photoUrl": "https://lh3.googleusercontent.com/a-/AOh14Gg-q3A7kTIHf7wESw989OAOaJeUYKXGEdoA4M3NTA=s64",
            "userId": "16379023391965073054"
          },
          "user_tz": 240
        },
        "id": "D3xQ74xHTjFS",
        "outputId": "b374f2f5-e5f7-415e-f4cd-15e04215c13c"
      },
      "outputs": [
        {
          "data": {
            "application/javascript": " window.someValue = \"hi\" ",
            "text/plain": [
              "<IPython.core.display.Javascript object>"
            ]
          },
          "execution_count": 19,
          "metadata": {},
          "output_type": "execute_result"
        }
      ],
      "source": []
    },
    {
      "cell_type": "code",
      "execution_count": 56,
      "metadata": {
        "colab": {
          "base_uri": "https://localhost:8080/",
          "height": 33
        },
        "executionInfo": {
          "elapsed": 125,
          "status": "ok",
          "timestamp": 1626288497031,
          "user": {
            "displayName": "Baltimore Neighborhood Indicators Alliance",
            "photoUrl": "https://lh3.googleusercontent.com/a-/AOh14Gg-q3A7kTIHf7wESw989OAOaJeUYKXGEdoA4M3NTA=s64",
            "userId": "16379023391965073054"
          },
          "user_tz": 240
        },
        "id": "wvIW8OX7Jm20",
        "outputId": "1b03ab91-0424-42ab-deff-f89478ef7402"
      },
      "outputs": [
        {
          "data": {
            "application/javascript": "window.time1 = Date.now();",
            "text/plain": [
              "<IPython.core.display.Javascript object>"
            ]
          },
          "execution_count": 56,
          "metadata": {},
          "output_type": "execute_result"
        }
      ],
      "source": [
        "#hide_input\n",
        "import IPython \n",
        "IPython.display.Javascript('''window.time1 = Date.now();''')"
      ]
    },
    {
      "cell_type": "code",
      "execution_count": 53,
      "metadata": {},
      "outputs": [
        {
          "data": {
            "application/javascript": "window.time2 = Date.now();\n",
            "text/plain": [
              "<IPython.core.display.Javascript object>"
            ]
          },
          "metadata": {},
          "output_type": "display_data"
        }
      ],
      "source": [
        "%%javascript \n",
        "window.time2 = Date.now();"
      ]
    },
    {
      "cell_type": "markdown",
      "metadata": {
        "id": "fkV5Hm3R4FaZ"
      },
      "source": [
        "and then this"
      ]
    },
    {
      "cell_type": "markdown",
      "metadata": {
        "id": "CRxj1aH0ZYu3"
      },
      "source": [
        "Both testval and someValue are undefined in colabs using both `%%javascript` and IPython.display.Javascript"
      ]
    },
    {
      "cell_type": "code",
      "execution_count": 54,
      "metadata": {
        "colab": {
          "base_uri": "https://localhost:8080/",
          "height": 16
        },
        "executionInfo": {
          "elapsed": 168,
          "status": "ok",
          "timestamp": 1626289507456,
          "user": {
            "displayName": "Baltimore Neighborhood Indicators Alliance",
            "photoUrl": "https://lh3.googleusercontent.com/a-/AOh14Gg-q3A7kTIHf7wESw989OAOaJeUYKXGEdoA4M3NTA=s64",
            "userId": "16379023391965073054"
          },
          "user_tz": 240
        },
        "id": "NJELUlmc604T",
        "outputId": "cc683f09-3b65-4ac9-9eb2-36ec876859fe"
      },
      "outputs": [
        {
          "data": {
            "application/javascript": "console.log('Testing IpythonDisplay and %% from another cell: ', window.time1, window.time2);\n",
            "text/plain": [
              "<IPython.core.display.Javascript object>"
            ]
          },
          "metadata": {},
          "output_type": "display_data"
        }
      ],
      "source": [
        "%%javascript \n",
        "console.log('Testing IpythonDisplay and %% from another cell: ', window.time1, window.time2);"
      ]
    },
    {
      "cell_type": "code",
      "execution_count": 55,
      "metadata": {
        "colab": {
          "base_uri": "https://localhost:8080/",
          "height": 33
        },
        "executionInfo": {
          "elapsed": 118,
          "status": "ok",
          "timestamp": 1626289748072,
          "user": {
            "displayName": "Baltimore Neighborhood Indicators Alliance",
            "photoUrl": "https://lh3.googleusercontent.com/a-/AOh14Gg-q3A7kTIHf7wESw989OAOaJeUYKXGEdoA4M3NTA=s64",
            "userId": "16379023391965073054"
          },
          "user_tz": 240
        },
        "id": "6tM_XKADab-P",
        "outputId": "6d75d430-b389-477d-86de-e490eb9cfcba"
      },
      "outputs": [
        {
          "data": {
            "application/javascript": " \n  console.log('2Testing IpythonDisplay and %% from another cell: ', window.time1, window.time2);\n",
            "text/plain": [
              "<IPython.core.display.Javascript object>"
            ]
          },
          "execution_count": 55,
          "metadata": {},
          "output_type": "execute_result"
        }
      ],
      "source": [
        "#hide_input \n",
        "IPython.display.Javascript(''' \n",
        "  console.log('2Testing IpythonDisplay and %% from another cell: ', window.time1, window.time2);\n",
        "''')"
      ]
    },
    {
      "cell_type": "markdown",
      "metadata": {
        "id": "HZz6LenFG3yl"
      },
      "source": [
        "</details><details><summary>"
      ]
    },
    {
      "cell_type": "markdown",
      "metadata": {
        "id": "gZ1TGICzUVqB"
      },
      "source": [
        "### Templating\n",
        "</summary>"
      ]
    },
    {
      "cell_type": "markdown",
      "metadata": {
        "id": "29V8l7RDLe79"
      },
      "source": [
        "https://colab.research.google.com/notebooks/snippets/advanced_outputs"
      ]
    },
    {
      "cell_type": "code",
      "execution_count": null,
      "metadata": {
        "colab": {
          "base_uri": "https://localhost:8080/",
          "height": 38
        },
        "executionInfo": {
          "elapsed": 121,
          "status": "ok",
          "timestamp": 1626289770440,
          "user": {
            "displayName": "Baltimore Neighborhood Indicators Alliance",
            "photoUrl": "https://lh3.googleusercontent.com/a-/AOh14Gg-q3A7kTIHf7wESw989OAOaJeUYKXGEdoA4M3NTA=s64",
            "userId": "16379023391965073054"
          },
          "user_tz": 240
        },
        "id": "dJ_m6Zz4Rron",
        "outputId": "92d9e1b2-e188-4d8b-bba1-fce5cccfe3d0"
      },
      "outputs": [
        {
          "data": {
            "text/html": [
              "<button id=\"callthis\">Click me and check your console!</button>\n",
              "    <script>\n",
              "      document.querySelectorAll('#callthis')[0].onclick = (function(){ console.log('you clicked callthis!') } );\n",
              "    </script>"
            ],
            "text/plain": [
              "<IPython.core.display.HTML object>"
            ]
          },
          "metadata": {},
          "output_type": "display_data"
        }
      ],
      "source": [
        "#hide_input\n",
        "import IPython\n",
        "template = \"\"\"<button id=\"{callback_id}\">{title}</button>\n",
        "    <script>\n",
        "      document.querySelectorAll('#{callback_id}')[0].onclick = (function(){{ console.log('you clicked {callback_id}!') }} );\n",
        "    </script>\"\"\"\n",
        "html = template.format(title='Click me and check your console!', callback_id='callthis')\n",
        "IPython.display.HTML(html)"
      ]
    },
    {
      "cell_type": "markdown",
      "metadata": {
        "id": "NC79z0b-G62h"
      },
      "source": [
        "</details><details><summary>"
      ]
    },
    {
      "cell_type": "markdown",
      "metadata": {},
      "source": [
        "### Camera\n",
        "</summary>"
      ]
    },
    {
      "cell_type": "code",
      "execution_count": null,
      "metadata": {
        "id": "_KWUz80LhCIA"
      },
      "outputs": [],
      "source": [
        "#hide_input\n",
        "from PIL import Image, ImageDraw\n",
        "from IPython.display import HTML\n",
        "import base64\n",
        "import io\n",
        "im = Image.open('test.jpg')\n",
        "buffer = io.BytesIO()\n",
        "im.save(buffer, format='PNG')\n",
        "d = buffer.seek(0)\n",
        "data_uri = base64.b64encode(buffer.read()).decode('ascii')\n",
        "HTML( 'Andtthisworkstoo <img src=\"data:image/png;base64,{0}\">'.format(data_uri) )"
      ]
    },
    {
      "cell_type": "code",
      "execution_count": null,
      "metadata": {},
      "outputs": [],
      "source": [
        "#hide_input\n",
        "from IPython.display import display, Javascript\n",
        "from google.colab.output import eval_js\n",
        "from base64 import b64decode\n",
        "\n",
        "def take_photo(filename='photo.jpg', quality=0.8):\n",
        "  js = Javascript('''\n",
        "    async function takePhoto(quality) {\n",
        "      const div = document.createElement('div');\n",
        "      const capture = document.createElement('button');\n",
        "      capture.textContent = 'Capture';\n",
        "      div.appendChild(capture);\n",
        "\n",
        "      const video = document.createElement('video');\n",
        "      video.style.display = 'block';\n",
        "      const stream = await navigator.mediaDevices.getUserMedia({video: true});\n",
        "\n",
        "      document.body.appendChild(div);\n",
        "      div.appendChild(video);\n",
        "      video.srcObject = stream;\n",
        "      await video.play();\n",
        "\n",
        "      // Resize the output to fit the video element.\n",
        "      google.colab.output.setIframeHeight(document.documentElement.scrollHeight, true);\n",
        "\n",
        "      // Wait for Capture to be clicked.\n",
        "      await new Promise((resolve) => capture.onclick = resolve);\n",
        "\n",
        "      const canvas = document.createElement('canvas');\n",
        "      canvas.width = video.videoWidth;\n",
        "      canvas.height = video.videoHeight;\n",
        "      canvas.getContext('2d').drawImage(video, 0, 0);\n",
        "      stream.getVideoTracks()[0].stop();\n",
        "      div.remove();\n",
        "      return canvas.toDataURL('image/jpeg', quality);\n",
        "    }\n",
        "    ''')\n",
        "  display(js)\n",
        "  data = eval_js('takePhoto({})'.format(quality))\n",
        "  binary = b64decode(data.split(',')[1])\n",
        "  with open(filename, 'wb') as f:\n",
        "    f.write(binary)\n",
        "  return filename"
      ]
    },
    {
      "cell_type": "code",
      "execution_count": null,
      "metadata": {
        "id": "_KWUz80LhCIA"
      },
      "outputs": [],
      "source": [
        "#hide_input\n",
        "from PIL import Image, ImageDraw\n",
        "from IPython.display import HTML\n",
        "import base64\n",
        "import io\n",
        "im = Image.open('test.jpg')\n",
        "buffer = io.BytesIO()\n",
        "im.save(buffer, format='PNG')\n",
        "d = buffer.seek(0)\n",
        "data_uri = base64.b64encode(buffer.read()).decode('ascii')\n",
        "HTML( 'Andtthisworkstoo <img src=\"data:image/png;base64,{0}\">'.format(data_uri) )"
      ]
    },
    {
      "cell_type": "markdown",
      "metadata": {
        "id": "29V8l7RDLe79"
      },
      "source": [
        "https://colab.research.google.com/notebooks/snippets/advanced_outputs"
      ]
    },
    {
      "cell_type": "markdown",
      "metadata": {},
      "source": [
        "</details><details><summary>"
      ]
    },
    {
      "cell_type": "markdown",
      "metadata": {},
      "source": [
        "</details>"
      ]
    }
  ],
  "metadata": {
    "colab": {
      "collapsed_sections": [
        "UABwiLv8R3my",
        "x1_GAAzAItan",
        "58zc-rOJZzl9",
        "7WVfEFAPRZOh",
        "mQz3p1WlTPWg",
        "IpQdoqHWQeA1",
        "W-_naVoQ4Nok",
        "hnI2xCfXJXOf",
        "oFSO0FTlHZvp",
        "FHQYN1r4JRK9",
        "K4PCxMq3KVbi",
        "8VlhVnsL-eKX",
        "_0NybzfNK71c",
        "gZ1TGICzUVqB"
      ],
      "name": "07_nb_2_html_tests.ipynb",
      "provenance": []
    },
    "kernelspec": {
      "display_name": "Python 3",
      "language": "python",
      "name": "python3"
    },
    "language_info": {
      "codemirror_mode": {
        "name": "ipython",
        "version": 3
      },
      "file_extension": ".py",
      "mimetype": "text/x-python",
      "name": "python",
      "nbconvert_exporter": "python",
      "pygments_lexer": "ipython3",
      "version": "3.10.2"
    },
    "vscode": {
      "interpreter": {
        "hash": "046b844cfe77f56867adc884800e389906328c66f60829dd4497d230d7e2d321"
      }
    }
  },
  "nbformat": 4,
  "nbformat_minor": 0
}

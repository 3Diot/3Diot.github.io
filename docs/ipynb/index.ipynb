{
 "cells": [
  {
   "attachments": {},
   "cell_type": "markdown",
   "metadata": {},
   "source": [
    "# Homepage\n",
    "> This site is dedicated to voxels.com <br> Keep up to date, find resources, and more!\n",
    "\n",
    "- badges: false\n",
    "- comments: false\n",
    "- filename: index\n",
    "- hide: false\n",
    "- image: images/company_logo.png\n",
    "- keywords: ['voxels', 'metaverse', 'navigation']\n",
    "- tab: Home\n",
    "- template: template_article\n",
    "- sitemap: sitemap.json\n",
    "- toc: false\n",
    "- robots: index\n",
    "- ogtype: "
   ]
  },
  {
   "attachments": {},
   "cell_type": "markdown",
   "metadata": {},
   "source": [
    "<script>\n",
    "console.log(\"markdownscripttag\");\n",
    "</script>"
   ]
  },
  {
   "attachments": {},
   "cell_type": "markdown",
   "metadata": {},
   "source": [
    "<details open class='details'>\n",
    "<summary>"
   ]
  },
  {
   "attachments": {},
   "cell_type": "markdown",
   "metadata": {},
   "source": [
    "## Tools:"
   ]
  },
  {
   "cell_type": "markdown",
   "metadata": {},
   "source": [
    "</summary>"
   ]
  },
  {
   "attachments": {},
   "cell_type": "markdown",
   "metadata": {},
   "source": []
  },
  {
   "attachments": {},
   "cell_type": "markdown",
   "metadata": {},
   "source": [
    "- <a href='admin/index.html'>ADMIN PANEL</a>: Super charge your parcel with low & no-code tools\n",
    "-  Viewer: <a href='https://cvminigames.com/tables/parcels.html'>Parcels</a> Data\n",
    "- Map: <a href='https://cvminigames.com/maps/visitors.html'>Visitors</a>\n",
    "- 👷 Viewer: <a href='https://cvminigames.com/tables/lore.html'>Lore</a>-related Wearable's"
   ]
  },
  {
   "attachments": {},
   "cell_type": "markdown",
   "metadata": {},
   "source": [
    "</details>\n",
    "<details open>\n",
    "<summary>"
   ]
  },
  {
   "attachments": {},
   "cell_type": "markdown",
   "metadata": {},
   "source": [
    "## Articles:"
   ]
  },
  {
   "cell_type": "markdown",
   "metadata": {},
   "source": [
    "</summary>"
   ]
  },
  {
   "attachments": {},
   "cell_type": "markdown",
   "metadata": {},
   "source": [
    "- <a href='tutorials.html'>TUTORIALS</a>: Useful tips I've found:\n",
    "- <a href='lore.html'>Lore</a>: Stories made by and for Voxelians:\n",
    "- <a href='monetize.html'>Monetizing</a>:  People make money in the metaverse:\n",
    "- <a href='parcels.html'>Parcel</a>: Introducing Voxels' Parcel Data:\n",
    "- <a href='websites.html'>Websites</a>: Other voxel-related webistes and resources:"
   ]
  },
  {
   "attachments": {},
   "cell_type": "markdown",
   "metadata": {},
   "source": [
    "</details>"
   ]
  },
  {
   "cell_type": "code",
   "execution_count": null,
   "metadata": {},
   "outputs": [],
   "source": []
  }
 ],
 "metadata": {
  "kernelspec": {
   "display_name": "Python 3.10.2 64-bit",
   "language": "python",
   "name": "python3"
  },
  "language_info": {
   "codemirror_mode": {
    "name": "ipython",
    "version": 3
   },
   "file_extension": ".py",
   "mimetype": "text/x-python",
   "name": "python",
   "nbconvert_exporter": "python",
   "pygments_lexer": "ipython3",
   "version": "3.10.2"
  },
  "orig_nbformat": 4,
  "vscode": {
   "interpreter": {
    "hash": "046b844cfe77f56867adc884800e389906328c66f60829dd4497d230d7e2d321"
   }
  }
 },
 "nbformat": 4,
 "nbformat_minor": 2
}
